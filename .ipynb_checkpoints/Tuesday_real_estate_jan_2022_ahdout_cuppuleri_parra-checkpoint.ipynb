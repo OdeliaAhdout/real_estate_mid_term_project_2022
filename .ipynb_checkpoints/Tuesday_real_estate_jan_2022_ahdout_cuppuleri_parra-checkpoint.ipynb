{
 "cells": [
  {
   "cell_type": "markdown",
   "id": "8e561cdc",
   "metadata": {},
   "source": [
    "Goal of the study: Identify the variables with the highest impact on the final house price"
   ]
  },
  {
   "cell_type": "markdown",
   "id": "7c3ac6a1",
   "metadata": {},
   "source": [
    "## Exploratory Data Analysis"
   ]
  },
  {
   "cell_type": "markdown",
   "id": "d55a6fe8",
   "metadata": {},
   "source": [
    "### Importing the libraries"
   ]
  },
  {
   "cell_type": "code",
   "execution_count": 1,
   "id": "e24fa0a1",
   "metadata": {},
   "outputs": [],
   "source": [
    "import numpy as np\n",
    "import pandas as pd\n",
    "import matplotlib.pyplot as plt\n",
    "%matplotlib inline\n",
    "from matplotlib.colors import ListedColormap\n",
    "\n",
    "import seaborn as sns\n",
    "from sklearn.preprocessing import StandardScaler\n",
    "from sklearn.preprocessing import minmax_scale\n",
    "from sklearn.preprocessing import OneHotEncoder\n",
    "from sklearn.linear_model import LinearRegression\n",
    "from sklearn.model_selection import train_test_split\n",
    "from sklearn.preprocessing import PowerTransformer\n",
    "from sklearn.linear_model import LinearRegression\n",
    "from sklearn.preprocessing import OrdinalEncoder\n",
    "from sklearn.preprocessing import (StandardScaler, MinMaxScaler)\n",
    "from sklearn.preprocessing import QuantileTransformer\n",
    "\n",
    "import statsmodels.api as sm\n",
    "from scipy.stats import boxcox\n",
    "from sklearn.model_selection import train_test_split\n",
    "from sklearn.metrics import r2_score\n",
    "from sklearn.metrics import mean_squared_error as mse\n",
    "from sklearn.metrics import mean_absolute_error as mae\n",
    "pd.options.display.max_rows = 50\n",
    "pd.set_option('max_columns', None)\n",
    "\n",
    "pd.set_option('display.float_format', lambda x: '%0.4f' % x)"
   ]
  },
  {
   "cell_type": "markdown",
   "id": "416024a5",
   "metadata": {},
   "source": [
    "### Import dataset"
   ]
  },
  {
   "cell_type": "code",
   "execution_count": 2,
   "id": "07cbe1c2",
   "metadata": {},
   "outputs": [
    {
     "data": {
      "text/html": [
       "<div>\n",
       "<style scoped>\n",
       "    .dataframe tbody tr th:only-of-type {\n",
       "        vertical-align: middle;\n",
       "    }\n",
       "\n",
       "    .dataframe tbody tr th {\n",
       "        vertical-align: top;\n",
       "    }\n",
       "\n",
       "    .dataframe thead th {\n",
       "        text-align: right;\n",
       "    }\n",
       "</style>\n",
       "<table border=\"1\" class=\"dataframe\">\n",
       "  <thead>\n",
       "    <tr style=\"text-align: right;\">\n",
       "      <th></th>\n",
       "      <th>id</th>\n",
       "      <th>date</th>\n",
       "      <th>bedrooms</th>\n",
       "      <th>bathrooms</th>\n",
       "      <th>sqft_living</th>\n",
       "      <th>sqft_lot</th>\n",
       "      <th>floors</th>\n",
       "      <th>waterfront</th>\n",
       "      <th>view</th>\n",
       "      <th>condition</th>\n",
       "      <th>grade</th>\n",
       "      <th>sqft_above</th>\n",
       "      <th>sqft_basement</th>\n",
       "      <th>yr_built</th>\n",
       "      <th>yr_renovated</th>\n",
       "      <th>zipcode</th>\n",
       "      <th>lat</th>\n",
       "      <th>long</th>\n",
       "      <th>sqft_living15</th>\n",
       "      <th>sqft_lot15</th>\n",
       "      <th>price</th>\n",
       "    </tr>\n",
       "  </thead>\n",
       "  <tbody>\n",
       "    <tr>\n",
       "      <th>0</th>\n",
       "      <td>7129300520</td>\n",
       "      <td>2014-10-13</td>\n",
       "      <td>3</td>\n",
       "      <td>1.0000</td>\n",
       "      <td>1180</td>\n",
       "      <td>5650</td>\n",
       "      <td>1.0000</td>\n",
       "      <td>0</td>\n",
       "      <td>0</td>\n",
       "      <td>3</td>\n",
       "      <td>7</td>\n",
       "      <td>1180</td>\n",
       "      <td>0</td>\n",
       "      <td>1955</td>\n",
       "      <td>0</td>\n",
       "      <td>98178</td>\n",
       "      <td>47.5112</td>\n",
       "      <td>-122.2570</td>\n",
       "      <td>1340</td>\n",
       "      <td>5650</td>\n",
       "      <td>221900</td>\n",
       "    </tr>\n",
       "    <tr>\n",
       "      <th>1</th>\n",
       "      <td>6414100192</td>\n",
       "      <td>2014-12-09</td>\n",
       "      <td>3</td>\n",
       "      <td>2.2500</td>\n",
       "      <td>2570</td>\n",
       "      <td>7242</td>\n",
       "      <td>2.0000</td>\n",
       "      <td>0</td>\n",
       "      <td>0</td>\n",
       "      <td>3</td>\n",
       "      <td>7</td>\n",
       "      <td>2170</td>\n",
       "      <td>400</td>\n",
       "      <td>1951</td>\n",
       "      <td>1991</td>\n",
       "      <td>98125</td>\n",
       "      <td>47.7210</td>\n",
       "      <td>-122.3190</td>\n",
       "      <td>1690</td>\n",
       "      <td>7639</td>\n",
       "      <td>538000</td>\n",
       "    </tr>\n",
       "    <tr>\n",
       "      <th>2</th>\n",
       "      <td>5631500400</td>\n",
       "      <td>2015-02-25</td>\n",
       "      <td>2</td>\n",
       "      <td>1.0000</td>\n",
       "      <td>770</td>\n",
       "      <td>10000</td>\n",
       "      <td>1.0000</td>\n",
       "      <td>0</td>\n",
       "      <td>0</td>\n",
       "      <td>3</td>\n",
       "      <td>6</td>\n",
       "      <td>770</td>\n",
       "      <td>0</td>\n",
       "      <td>1933</td>\n",
       "      <td>0</td>\n",
       "      <td>98028</td>\n",
       "      <td>47.7379</td>\n",
       "      <td>-122.2330</td>\n",
       "      <td>2720</td>\n",
       "      <td>8062</td>\n",
       "      <td>180000</td>\n",
       "    </tr>\n",
       "    <tr>\n",
       "      <th>3</th>\n",
       "      <td>2487200875</td>\n",
       "      <td>2014-12-09</td>\n",
       "      <td>4</td>\n",
       "      <td>3.0000</td>\n",
       "      <td>1960</td>\n",
       "      <td>5000</td>\n",
       "      <td>1.0000</td>\n",
       "      <td>0</td>\n",
       "      <td>0</td>\n",
       "      <td>5</td>\n",
       "      <td>7</td>\n",
       "      <td>1050</td>\n",
       "      <td>910</td>\n",
       "      <td>1965</td>\n",
       "      <td>0</td>\n",
       "      <td>98136</td>\n",
       "      <td>47.5208</td>\n",
       "      <td>-122.3930</td>\n",
       "      <td>1360</td>\n",
       "      <td>5000</td>\n",
       "      <td>604000</td>\n",
       "    </tr>\n",
       "    <tr>\n",
       "      <th>4</th>\n",
       "      <td>1954400510</td>\n",
       "      <td>2015-02-18</td>\n",
       "      <td>3</td>\n",
       "      <td>2.0000</td>\n",
       "      <td>1680</td>\n",
       "      <td>8080</td>\n",
       "      <td>1.0000</td>\n",
       "      <td>0</td>\n",
       "      <td>0</td>\n",
       "      <td>3</td>\n",
       "      <td>8</td>\n",
       "      <td>1680</td>\n",
       "      <td>0</td>\n",
       "      <td>1987</td>\n",
       "      <td>0</td>\n",
       "      <td>98074</td>\n",
       "      <td>47.6168</td>\n",
       "      <td>-122.0450</td>\n",
       "      <td>1800</td>\n",
       "      <td>7503</td>\n",
       "      <td>510000</td>\n",
       "    </tr>\n",
       "    <tr>\n",
       "      <th>...</th>\n",
       "      <td>...</td>\n",
       "      <td>...</td>\n",
       "      <td>...</td>\n",
       "      <td>...</td>\n",
       "      <td>...</td>\n",
       "      <td>...</td>\n",
       "      <td>...</td>\n",
       "      <td>...</td>\n",
       "      <td>...</td>\n",
       "      <td>...</td>\n",
       "      <td>...</td>\n",
       "      <td>...</td>\n",
       "      <td>...</td>\n",
       "      <td>...</td>\n",
       "      <td>...</td>\n",
       "      <td>...</td>\n",
       "      <td>...</td>\n",
       "      <td>...</td>\n",
       "      <td>...</td>\n",
       "      <td>...</td>\n",
       "      <td>...</td>\n",
       "    </tr>\n",
       "    <tr>\n",
       "      <th>21592</th>\n",
       "      <td>263000018</td>\n",
       "      <td>2014-05-21</td>\n",
       "      <td>3</td>\n",
       "      <td>2.5000</td>\n",
       "      <td>1530</td>\n",
       "      <td>1131</td>\n",
       "      <td>3.0000</td>\n",
       "      <td>0</td>\n",
       "      <td>0</td>\n",
       "      <td>3</td>\n",
       "      <td>8</td>\n",
       "      <td>1530</td>\n",
       "      <td>0</td>\n",
       "      <td>2009</td>\n",
       "      <td>0</td>\n",
       "      <td>98103</td>\n",
       "      <td>47.6993</td>\n",
       "      <td>-122.3460</td>\n",
       "      <td>1530</td>\n",
       "      <td>1509</td>\n",
       "      <td>360000</td>\n",
       "    </tr>\n",
       "    <tr>\n",
       "      <th>21593</th>\n",
       "      <td>6600060120</td>\n",
       "      <td>2015-02-23</td>\n",
       "      <td>4</td>\n",
       "      <td>2.5000</td>\n",
       "      <td>2310</td>\n",
       "      <td>5813</td>\n",
       "      <td>2.0000</td>\n",
       "      <td>0</td>\n",
       "      <td>0</td>\n",
       "      <td>3</td>\n",
       "      <td>8</td>\n",
       "      <td>2310</td>\n",
       "      <td>0</td>\n",
       "      <td>2014</td>\n",
       "      <td>0</td>\n",
       "      <td>98146</td>\n",
       "      <td>47.5107</td>\n",
       "      <td>-122.3620</td>\n",
       "      <td>1830</td>\n",
       "      <td>7200</td>\n",
       "      <td>400000</td>\n",
       "    </tr>\n",
       "    <tr>\n",
       "      <th>21594</th>\n",
       "      <td>1523300141</td>\n",
       "      <td>2014-06-23</td>\n",
       "      <td>2</td>\n",
       "      <td>0.7500</td>\n",
       "      <td>1020</td>\n",
       "      <td>1350</td>\n",
       "      <td>2.0000</td>\n",
       "      <td>0</td>\n",
       "      <td>0</td>\n",
       "      <td>3</td>\n",
       "      <td>7</td>\n",
       "      <td>1020</td>\n",
       "      <td>0</td>\n",
       "      <td>2009</td>\n",
       "      <td>0</td>\n",
       "      <td>98144</td>\n",
       "      <td>47.5944</td>\n",
       "      <td>-122.2990</td>\n",
       "      <td>1020</td>\n",
       "      <td>2007</td>\n",
       "      <td>402101</td>\n",
       "    </tr>\n",
       "    <tr>\n",
       "      <th>21595</th>\n",
       "      <td>291310100</td>\n",
       "      <td>2015-01-16</td>\n",
       "      <td>3</td>\n",
       "      <td>2.5000</td>\n",
       "      <td>1600</td>\n",
       "      <td>2388</td>\n",
       "      <td>2.0000</td>\n",
       "      <td>0</td>\n",
       "      <td>0</td>\n",
       "      <td>3</td>\n",
       "      <td>8</td>\n",
       "      <td>1600</td>\n",
       "      <td>0</td>\n",
       "      <td>2004</td>\n",
       "      <td>0</td>\n",
       "      <td>98027</td>\n",
       "      <td>47.5345</td>\n",
       "      <td>-122.0690</td>\n",
       "      <td>1410</td>\n",
       "      <td>1287</td>\n",
       "      <td>400000</td>\n",
       "    </tr>\n",
       "    <tr>\n",
       "      <th>21596</th>\n",
       "      <td>1523300157</td>\n",
       "      <td>2014-10-15</td>\n",
       "      <td>2</td>\n",
       "      <td>0.7500</td>\n",
       "      <td>1020</td>\n",
       "      <td>1076</td>\n",
       "      <td>2.0000</td>\n",
       "      <td>0</td>\n",
       "      <td>0</td>\n",
       "      <td>3</td>\n",
       "      <td>7</td>\n",
       "      <td>1020</td>\n",
       "      <td>0</td>\n",
       "      <td>2008</td>\n",
       "      <td>0</td>\n",
       "      <td>98144</td>\n",
       "      <td>47.5941</td>\n",
       "      <td>-122.2990</td>\n",
       "      <td>1020</td>\n",
       "      <td>1357</td>\n",
       "      <td>325000</td>\n",
       "    </tr>\n",
       "  </tbody>\n",
       "</table>\n",
       "<p>21597 rows × 21 columns</p>\n",
       "</div>"
      ],
      "text/plain": [
       "               id       date  bedrooms  bathrooms  sqft_living  sqft_lot  \\\n",
       "0      7129300520 2014-10-13         3     1.0000         1180      5650   \n",
       "1      6414100192 2014-12-09         3     2.2500         2570      7242   \n",
       "2      5631500400 2015-02-25         2     1.0000          770     10000   \n",
       "3      2487200875 2014-12-09         4     3.0000         1960      5000   \n",
       "4      1954400510 2015-02-18         3     2.0000         1680      8080   \n",
       "...           ...        ...       ...        ...          ...       ...   \n",
       "21592   263000018 2014-05-21         3     2.5000         1530      1131   \n",
       "21593  6600060120 2015-02-23         4     2.5000         2310      5813   \n",
       "21594  1523300141 2014-06-23         2     0.7500         1020      1350   \n",
       "21595   291310100 2015-01-16         3     2.5000         1600      2388   \n",
       "21596  1523300157 2014-10-15         2     0.7500         1020      1076   \n",
       "\n",
       "       floors  waterfront  view  condition  grade  sqft_above  sqft_basement  \\\n",
       "0      1.0000           0     0          3      7        1180              0   \n",
       "1      2.0000           0     0          3      7        2170            400   \n",
       "2      1.0000           0     0          3      6         770              0   \n",
       "3      1.0000           0     0          5      7        1050            910   \n",
       "4      1.0000           0     0          3      8        1680              0   \n",
       "...       ...         ...   ...        ...    ...         ...            ...   \n",
       "21592  3.0000           0     0          3      8        1530              0   \n",
       "21593  2.0000           0     0          3      8        2310              0   \n",
       "21594  2.0000           0     0          3      7        1020              0   \n",
       "21595  2.0000           0     0          3      8        1600              0   \n",
       "21596  2.0000           0     0          3      7        1020              0   \n",
       "\n",
       "       yr_built  yr_renovated  zipcode     lat      long  sqft_living15  \\\n",
       "0          1955             0    98178 47.5112 -122.2570           1340   \n",
       "1          1951          1991    98125 47.7210 -122.3190           1690   \n",
       "2          1933             0    98028 47.7379 -122.2330           2720   \n",
       "3          1965             0    98136 47.5208 -122.3930           1360   \n",
       "4          1987             0    98074 47.6168 -122.0450           1800   \n",
       "...         ...           ...      ...     ...       ...            ...   \n",
       "21592      2009             0    98103 47.6993 -122.3460           1530   \n",
       "21593      2014             0    98146 47.5107 -122.3620           1830   \n",
       "21594      2009             0    98144 47.5944 -122.2990           1020   \n",
       "21595      2004             0    98027 47.5345 -122.0690           1410   \n",
       "21596      2008             0    98144 47.5941 -122.2990           1020   \n",
       "\n",
       "       sqft_lot15   price  \n",
       "0            5650  221900  \n",
       "1            7639  538000  \n",
       "2            8062  180000  \n",
       "3            5000  604000  \n",
       "4            7503  510000  \n",
       "...           ...     ...  \n",
       "21592        1509  360000  \n",
       "21593        7200  400000  \n",
       "21594        2007  402101  \n",
       "21595        1287  400000  \n",
       "21596        1357  325000  \n",
       "\n",
       "[21597 rows x 21 columns]"
      ]
     },
     "execution_count": 2,
     "metadata": {},
     "output_type": "execute_result"
    }
   ],
   "source": [
    "df = pd.read_excel('Data/Data_MidTerm_Project_Real_State_Regression.xls')\n",
    "df"
   ]
  },
  {
   "cell_type": "markdown",
   "id": "35547a47",
   "metadata": {},
   "source": [
    "### Columns type"
   ]
  },
  {
   "cell_type": "code",
   "execution_count": 3,
   "id": "e5df2aaf",
   "metadata": {},
   "outputs": [
    {
     "data": {
      "text/plain": [
       "id                        int64\n",
       "date             datetime64[ns]\n",
       "bedrooms                  int64\n",
       "bathrooms               float64\n",
       "sqft_living               int64\n",
       "sqft_lot                  int64\n",
       "floors                  float64\n",
       "waterfront                int64\n",
       "view                      int64\n",
       "condition                 int64\n",
       "grade                     int64\n",
       "sqft_above                int64\n",
       "sqft_basement             int64\n",
       "yr_built                  int64\n",
       "yr_renovated              int64\n",
       "zipcode                   int64\n",
       "lat                     float64\n",
       "long                    float64\n",
       "sqft_living15             int64\n",
       "sqft_lot15                int64\n",
       "price                     int64\n",
       "dtype: object"
      ]
     },
     "execution_count": 3,
     "metadata": {},
     "output_type": "execute_result"
    }
   ],
   "source": [
    "df.dtypes"
   ]
  },
  {
   "cell_type": "markdown",
   "id": "a7f62fac",
   "metadata": {},
   "source": [
    "### Checking NULL values"
   ]
  },
  {
   "cell_type": "code",
   "execution_count": 4,
   "id": "d133ccf2",
   "metadata": {},
   "outputs": [
    {
     "data": {
      "text/plain": [
       "id               0\n",
       "date             0\n",
       "bedrooms         0\n",
       "bathrooms        0\n",
       "sqft_living      0\n",
       "sqft_lot         0\n",
       "floors           0\n",
       "waterfront       0\n",
       "view             0\n",
       "condition        0\n",
       "grade            0\n",
       "sqft_above       0\n",
       "sqft_basement    0\n",
       "yr_built         0\n",
       "yr_renovated     0\n",
       "zipcode          0\n",
       "lat              0\n",
       "long             0\n",
       "sqft_living15    0\n",
       "sqft_lot15       0\n",
       "price            0\n",
       "dtype: int64"
      ]
     },
     "metadata": {},
     "output_type": "display_data"
    }
   ],
   "source": [
    "display(df.isnull().sum())"
   ]
  },
  {
   "cell_type": "markdown",
   "id": "555794ab",
   "metadata": {},
   "source": [
    "### Drop not relevant columns"
   ]
  },
  {
   "cell_type": "code",
   "execution_count": 5,
   "id": "61998fb1",
   "metadata": {},
   "outputs": [
    {
     "data": {
      "text/html": [
       "<div>\n",
       "<style scoped>\n",
       "    .dataframe tbody tr th:only-of-type {\n",
       "        vertical-align: middle;\n",
       "    }\n",
       "\n",
       "    .dataframe tbody tr th {\n",
       "        vertical-align: top;\n",
       "    }\n",
       "\n",
       "    .dataframe thead th {\n",
       "        text-align: right;\n",
       "    }\n",
       "</style>\n",
       "<table border=\"1\" class=\"dataframe\">\n",
       "  <thead>\n",
       "    <tr style=\"text-align: right;\">\n",
       "      <th></th>\n",
       "      <th>date</th>\n",
       "      <th>bedrooms</th>\n",
       "      <th>bathrooms</th>\n",
       "      <th>sqft_living</th>\n",
       "      <th>sqft_lot</th>\n",
       "      <th>floors</th>\n",
       "      <th>waterfront</th>\n",
       "      <th>view</th>\n",
       "      <th>condition</th>\n",
       "      <th>grade</th>\n",
       "      <th>sqft_above</th>\n",
       "      <th>sqft_basement</th>\n",
       "      <th>yr_built</th>\n",
       "      <th>yr_renovated</th>\n",
       "      <th>zipcode</th>\n",
       "      <th>sqft_living15</th>\n",
       "      <th>sqft_lot15</th>\n",
       "      <th>price</th>\n",
       "    </tr>\n",
       "  </thead>\n",
       "  <tbody>\n",
       "    <tr>\n",
       "      <th>0</th>\n",
       "      <td>2014-10-13</td>\n",
       "      <td>3</td>\n",
       "      <td>1.0000</td>\n",
       "      <td>1180</td>\n",
       "      <td>5650</td>\n",
       "      <td>1.0000</td>\n",
       "      <td>0</td>\n",
       "      <td>0</td>\n",
       "      <td>3</td>\n",
       "      <td>7</td>\n",
       "      <td>1180</td>\n",
       "      <td>0</td>\n",
       "      <td>1955</td>\n",
       "      <td>0</td>\n",
       "      <td>98178</td>\n",
       "      <td>1340</td>\n",
       "      <td>5650</td>\n",
       "      <td>221900</td>\n",
       "    </tr>\n",
       "    <tr>\n",
       "      <th>1</th>\n",
       "      <td>2014-12-09</td>\n",
       "      <td>3</td>\n",
       "      <td>2.2500</td>\n",
       "      <td>2570</td>\n",
       "      <td>7242</td>\n",
       "      <td>2.0000</td>\n",
       "      <td>0</td>\n",
       "      <td>0</td>\n",
       "      <td>3</td>\n",
       "      <td>7</td>\n",
       "      <td>2170</td>\n",
       "      <td>400</td>\n",
       "      <td>1951</td>\n",
       "      <td>1991</td>\n",
       "      <td>98125</td>\n",
       "      <td>1690</td>\n",
       "      <td>7639</td>\n",
       "      <td>538000</td>\n",
       "    </tr>\n",
       "    <tr>\n",
       "      <th>2</th>\n",
       "      <td>2015-02-25</td>\n",
       "      <td>2</td>\n",
       "      <td>1.0000</td>\n",
       "      <td>770</td>\n",
       "      <td>10000</td>\n",
       "      <td>1.0000</td>\n",
       "      <td>0</td>\n",
       "      <td>0</td>\n",
       "      <td>3</td>\n",
       "      <td>6</td>\n",
       "      <td>770</td>\n",
       "      <td>0</td>\n",
       "      <td>1933</td>\n",
       "      <td>0</td>\n",
       "      <td>98028</td>\n",
       "      <td>2720</td>\n",
       "      <td>8062</td>\n",
       "      <td>180000</td>\n",
       "    </tr>\n",
       "    <tr>\n",
       "      <th>3</th>\n",
       "      <td>2014-12-09</td>\n",
       "      <td>4</td>\n",
       "      <td>3.0000</td>\n",
       "      <td>1960</td>\n",
       "      <td>5000</td>\n",
       "      <td>1.0000</td>\n",
       "      <td>0</td>\n",
       "      <td>0</td>\n",
       "      <td>5</td>\n",
       "      <td>7</td>\n",
       "      <td>1050</td>\n",
       "      <td>910</td>\n",
       "      <td>1965</td>\n",
       "      <td>0</td>\n",
       "      <td>98136</td>\n",
       "      <td>1360</td>\n",
       "      <td>5000</td>\n",
       "      <td>604000</td>\n",
       "    </tr>\n",
       "    <tr>\n",
       "      <th>4</th>\n",
       "      <td>2015-02-18</td>\n",
       "      <td>3</td>\n",
       "      <td>2.0000</td>\n",
       "      <td>1680</td>\n",
       "      <td>8080</td>\n",
       "      <td>1.0000</td>\n",
       "      <td>0</td>\n",
       "      <td>0</td>\n",
       "      <td>3</td>\n",
       "      <td>8</td>\n",
       "      <td>1680</td>\n",
       "      <td>0</td>\n",
       "      <td>1987</td>\n",
       "      <td>0</td>\n",
       "      <td>98074</td>\n",
       "      <td>1800</td>\n",
       "      <td>7503</td>\n",
       "      <td>510000</td>\n",
       "    </tr>\n",
       "    <tr>\n",
       "      <th>...</th>\n",
       "      <td>...</td>\n",
       "      <td>...</td>\n",
       "      <td>...</td>\n",
       "      <td>...</td>\n",
       "      <td>...</td>\n",
       "      <td>...</td>\n",
       "      <td>...</td>\n",
       "      <td>...</td>\n",
       "      <td>...</td>\n",
       "      <td>...</td>\n",
       "      <td>...</td>\n",
       "      <td>...</td>\n",
       "      <td>...</td>\n",
       "      <td>...</td>\n",
       "      <td>...</td>\n",
       "      <td>...</td>\n",
       "      <td>...</td>\n",
       "      <td>...</td>\n",
       "    </tr>\n",
       "    <tr>\n",
       "      <th>21592</th>\n",
       "      <td>2014-05-21</td>\n",
       "      <td>3</td>\n",
       "      <td>2.5000</td>\n",
       "      <td>1530</td>\n",
       "      <td>1131</td>\n",
       "      <td>3.0000</td>\n",
       "      <td>0</td>\n",
       "      <td>0</td>\n",
       "      <td>3</td>\n",
       "      <td>8</td>\n",
       "      <td>1530</td>\n",
       "      <td>0</td>\n",
       "      <td>2009</td>\n",
       "      <td>0</td>\n",
       "      <td>98103</td>\n",
       "      <td>1530</td>\n",
       "      <td>1509</td>\n",
       "      <td>360000</td>\n",
       "    </tr>\n",
       "    <tr>\n",
       "      <th>21593</th>\n",
       "      <td>2015-02-23</td>\n",
       "      <td>4</td>\n",
       "      <td>2.5000</td>\n",
       "      <td>2310</td>\n",
       "      <td>5813</td>\n",
       "      <td>2.0000</td>\n",
       "      <td>0</td>\n",
       "      <td>0</td>\n",
       "      <td>3</td>\n",
       "      <td>8</td>\n",
       "      <td>2310</td>\n",
       "      <td>0</td>\n",
       "      <td>2014</td>\n",
       "      <td>0</td>\n",
       "      <td>98146</td>\n",
       "      <td>1830</td>\n",
       "      <td>7200</td>\n",
       "      <td>400000</td>\n",
       "    </tr>\n",
       "    <tr>\n",
       "      <th>21594</th>\n",
       "      <td>2014-06-23</td>\n",
       "      <td>2</td>\n",
       "      <td>0.7500</td>\n",
       "      <td>1020</td>\n",
       "      <td>1350</td>\n",
       "      <td>2.0000</td>\n",
       "      <td>0</td>\n",
       "      <td>0</td>\n",
       "      <td>3</td>\n",
       "      <td>7</td>\n",
       "      <td>1020</td>\n",
       "      <td>0</td>\n",
       "      <td>2009</td>\n",
       "      <td>0</td>\n",
       "      <td>98144</td>\n",
       "      <td>1020</td>\n",
       "      <td>2007</td>\n",
       "      <td>402101</td>\n",
       "    </tr>\n",
       "    <tr>\n",
       "      <th>21595</th>\n",
       "      <td>2015-01-16</td>\n",
       "      <td>3</td>\n",
       "      <td>2.5000</td>\n",
       "      <td>1600</td>\n",
       "      <td>2388</td>\n",
       "      <td>2.0000</td>\n",
       "      <td>0</td>\n",
       "      <td>0</td>\n",
       "      <td>3</td>\n",
       "      <td>8</td>\n",
       "      <td>1600</td>\n",
       "      <td>0</td>\n",
       "      <td>2004</td>\n",
       "      <td>0</td>\n",
       "      <td>98027</td>\n",
       "      <td>1410</td>\n",
       "      <td>1287</td>\n",
       "      <td>400000</td>\n",
       "    </tr>\n",
       "    <tr>\n",
       "      <th>21596</th>\n",
       "      <td>2014-10-15</td>\n",
       "      <td>2</td>\n",
       "      <td>0.7500</td>\n",
       "      <td>1020</td>\n",
       "      <td>1076</td>\n",
       "      <td>2.0000</td>\n",
       "      <td>0</td>\n",
       "      <td>0</td>\n",
       "      <td>3</td>\n",
       "      <td>7</td>\n",
       "      <td>1020</td>\n",
       "      <td>0</td>\n",
       "      <td>2008</td>\n",
       "      <td>0</td>\n",
       "      <td>98144</td>\n",
       "      <td>1020</td>\n",
       "      <td>1357</td>\n",
       "      <td>325000</td>\n",
       "    </tr>\n",
       "  </tbody>\n",
       "</table>\n",
       "<p>21597 rows × 18 columns</p>\n",
       "</div>"
      ],
      "text/plain": [
       "            date  bedrooms  bathrooms  sqft_living  sqft_lot  floors  \\\n",
       "0     2014-10-13         3     1.0000         1180      5650  1.0000   \n",
       "1     2014-12-09         3     2.2500         2570      7242  2.0000   \n",
       "2     2015-02-25         2     1.0000          770     10000  1.0000   \n",
       "3     2014-12-09         4     3.0000         1960      5000  1.0000   \n",
       "4     2015-02-18         3     2.0000         1680      8080  1.0000   \n",
       "...          ...       ...        ...          ...       ...     ...   \n",
       "21592 2014-05-21         3     2.5000         1530      1131  3.0000   \n",
       "21593 2015-02-23         4     2.5000         2310      5813  2.0000   \n",
       "21594 2014-06-23         2     0.7500         1020      1350  2.0000   \n",
       "21595 2015-01-16         3     2.5000         1600      2388  2.0000   \n",
       "21596 2014-10-15         2     0.7500         1020      1076  2.0000   \n",
       "\n",
       "       waterfront  view  condition  grade  sqft_above  sqft_basement  \\\n",
       "0               0     0          3      7        1180              0   \n",
       "1               0     0          3      7        2170            400   \n",
       "2               0     0          3      6         770              0   \n",
       "3               0     0          5      7        1050            910   \n",
       "4               0     0          3      8        1680              0   \n",
       "...           ...   ...        ...    ...         ...            ...   \n",
       "21592           0     0          3      8        1530              0   \n",
       "21593           0     0          3      8        2310              0   \n",
       "21594           0     0          3      7        1020              0   \n",
       "21595           0     0          3      8        1600              0   \n",
       "21596           0     0          3      7        1020              0   \n",
       "\n",
       "       yr_built  yr_renovated  zipcode  sqft_living15  sqft_lot15   price  \n",
       "0          1955             0    98178           1340        5650  221900  \n",
       "1          1951          1991    98125           1690        7639  538000  \n",
       "2          1933             0    98028           2720        8062  180000  \n",
       "3          1965             0    98136           1360        5000  604000  \n",
       "4          1987             0    98074           1800        7503  510000  \n",
       "...         ...           ...      ...            ...         ...     ...  \n",
       "21592      2009             0    98103           1530        1509  360000  \n",
       "21593      2014             0    98146           1830        7200  400000  \n",
       "21594      2009             0    98144           1020        2007  402101  \n",
       "21595      2004             0    98027           1410        1287  400000  \n",
       "21596      2008             0    98144           1020        1357  325000  \n",
       "\n",
       "[21597 rows x 18 columns]"
      ]
     },
     "execution_count": 5,
     "metadata": {},
     "output_type": "execute_result"
    }
   ],
   "source": [
    "df = df.drop(['id','lat', 'long'], axis=1)\n",
    "df"
   ]
  },
  {
   "cell_type": "markdown",
   "id": "c89a7f86",
   "metadata": {},
   "source": [
    "### Checking Columns"
   ]
  },
  {
   "cell_type": "code",
   "execution_count": 6,
   "id": "07e3e4a0",
   "metadata": {},
   "outputs": [
    {
     "data": {
      "text/plain": [
       "3     9824\n",
       "4     6882\n",
       "2     2760\n",
       "5     1601\n",
       "6      272\n",
       "1      196\n",
       "7       38\n",
       "8       13\n",
       "9        6\n",
       "10       3\n",
       "11       1\n",
       "33       1\n",
       "Name: bedrooms, dtype: int64"
      ]
     },
     "execution_count": 6,
     "metadata": {},
     "output_type": "execute_result"
    }
   ],
   "source": [
    "df['bedrooms'].value_counts()"
   ]
  },
  {
   "cell_type": "code",
   "execution_count": 7,
   "id": "15ee5a89",
   "metadata": {},
   "outputs": [
    {
     "data": {
      "text/html": [
       "<div>\n",
       "<style scoped>\n",
       "    .dataframe tbody tr th:only-of-type {\n",
       "        vertical-align: middle;\n",
       "    }\n",
       "\n",
       "    .dataframe tbody tr th {\n",
       "        vertical-align: top;\n",
       "    }\n",
       "\n",
       "    .dataframe thead th {\n",
       "        text-align: right;\n",
       "    }\n",
       "</style>\n",
       "<table border=\"1\" class=\"dataframe\">\n",
       "  <thead>\n",
       "    <tr style=\"text-align: right;\">\n",
       "      <th></th>\n",
       "      <th>date</th>\n",
       "      <th>bedrooms</th>\n",
       "      <th>bathrooms</th>\n",
       "      <th>sqft_living</th>\n",
       "      <th>sqft_lot</th>\n",
       "      <th>floors</th>\n",
       "      <th>waterfront</th>\n",
       "      <th>view</th>\n",
       "      <th>condition</th>\n",
       "      <th>grade</th>\n",
       "      <th>sqft_above</th>\n",
       "      <th>sqft_basement</th>\n",
       "      <th>yr_built</th>\n",
       "      <th>yr_renovated</th>\n",
       "      <th>zipcode</th>\n",
       "      <th>sqft_living15</th>\n",
       "      <th>sqft_lot15</th>\n",
       "      <th>price</th>\n",
       "    </tr>\n",
       "  </thead>\n",
       "  <tbody>\n",
       "    <tr>\n",
       "      <th>15856</th>\n",
       "      <td>2014-06-25</td>\n",
       "      <td>33</td>\n",
       "      <td>1.7500</td>\n",
       "      <td>1620</td>\n",
       "      <td>6000</td>\n",
       "      <td>1.0000</td>\n",
       "      <td>0</td>\n",
       "      <td>0</td>\n",
       "      <td>5</td>\n",
       "      <td>7</td>\n",
       "      <td>1040</td>\n",
       "      <td>580</td>\n",
       "      <td>1947</td>\n",
       "      <td>0</td>\n",
       "      <td>98103</td>\n",
       "      <td>1330</td>\n",
       "      <td>4700</td>\n",
       "      <td>640000</td>\n",
       "    </tr>\n",
       "  </tbody>\n",
       "</table>\n",
       "</div>"
      ],
      "text/plain": [
       "            date  bedrooms  bathrooms  sqft_living  sqft_lot  floors  \\\n",
       "15856 2014-06-25        33     1.7500         1620      6000  1.0000   \n",
       "\n",
       "       waterfront  view  condition  grade  sqft_above  sqft_basement  \\\n",
       "15856           0     0          5      7        1040            580   \n",
       "\n",
       "       yr_built  yr_renovated  zipcode  sqft_living15  sqft_lot15   price  \n",
       "15856      1947             0    98103           1330        4700  640000  "
      ]
     },
     "execution_count": 7,
     "metadata": {},
     "output_type": "execute_result"
    }
   ],
   "source": [
    "df.loc[df['bedrooms'] == 33]"
   ]
  },
  {
   "cell_type": "code",
   "execution_count": 8,
   "id": "cac69999",
   "metadata": {},
   "outputs": [],
   "source": [
    "df = df.drop(15856).reset_index(drop=True)"
   ]
  },
  {
   "cell_type": "code",
   "execution_count": 9,
   "id": "09cfeb52",
   "metadata": {},
   "outputs": [
    {
     "data": {
      "text/html": [
       "<div>\n",
       "<style scoped>\n",
       "    .dataframe tbody tr th:only-of-type {\n",
       "        vertical-align: middle;\n",
       "    }\n",
       "\n",
       "    .dataframe tbody tr th {\n",
       "        vertical-align: top;\n",
       "    }\n",
       "\n",
       "    .dataframe thead th {\n",
       "        text-align: right;\n",
       "    }\n",
       "</style>\n",
       "<table border=\"1\" class=\"dataframe\">\n",
       "  <thead>\n",
       "    <tr style=\"text-align: right;\">\n",
       "      <th></th>\n",
       "      <th>date</th>\n",
       "      <th>bedrooms</th>\n",
       "      <th>bathrooms</th>\n",
       "      <th>sqft_living</th>\n",
       "      <th>sqft_lot</th>\n",
       "      <th>floors</th>\n",
       "      <th>waterfront</th>\n",
       "      <th>view</th>\n",
       "      <th>condition</th>\n",
       "      <th>grade</th>\n",
       "      <th>sqft_above</th>\n",
       "      <th>sqft_basement</th>\n",
       "      <th>yr_built</th>\n",
       "      <th>yr_renovated</th>\n",
       "      <th>zipcode</th>\n",
       "      <th>sqft_living15</th>\n",
       "      <th>sqft_lot15</th>\n",
       "      <th>price</th>\n",
       "    </tr>\n",
       "  </thead>\n",
       "  <tbody>\n",
       "    <tr>\n",
       "      <th>0</th>\n",
       "      <td>2014-10-13</td>\n",
       "      <td>3</td>\n",
       "      <td>1.0000</td>\n",
       "      <td>1180</td>\n",
       "      <td>5650</td>\n",
       "      <td>1.0000</td>\n",
       "      <td>0</td>\n",
       "      <td>0</td>\n",
       "      <td>3</td>\n",
       "      <td>7</td>\n",
       "      <td>1180</td>\n",
       "      <td>0</td>\n",
       "      <td>1955</td>\n",
       "      <td>0</td>\n",
       "      <td>98178</td>\n",
       "      <td>1340</td>\n",
       "      <td>5650</td>\n",
       "      <td>221900</td>\n",
       "    </tr>\n",
       "    <tr>\n",
       "      <th>1</th>\n",
       "      <td>2014-12-09</td>\n",
       "      <td>3</td>\n",
       "      <td>2.2500</td>\n",
       "      <td>2570</td>\n",
       "      <td>7242</td>\n",
       "      <td>2.0000</td>\n",
       "      <td>0</td>\n",
       "      <td>0</td>\n",
       "      <td>3</td>\n",
       "      <td>7</td>\n",
       "      <td>2170</td>\n",
       "      <td>400</td>\n",
       "      <td>1951</td>\n",
       "      <td>1991</td>\n",
       "      <td>98125</td>\n",
       "      <td>1690</td>\n",
       "      <td>7639</td>\n",
       "      <td>538000</td>\n",
       "    </tr>\n",
       "    <tr>\n",
       "      <th>2</th>\n",
       "      <td>2015-02-25</td>\n",
       "      <td>2</td>\n",
       "      <td>1.0000</td>\n",
       "      <td>770</td>\n",
       "      <td>10000</td>\n",
       "      <td>1.0000</td>\n",
       "      <td>0</td>\n",
       "      <td>0</td>\n",
       "      <td>3</td>\n",
       "      <td>6</td>\n",
       "      <td>770</td>\n",
       "      <td>0</td>\n",
       "      <td>1933</td>\n",
       "      <td>0</td>\n",
       "      <td>98028</td>\n",
       "      <td>2720</td>\n",
       "      <td>8062</td>\n",
       "      <td>180000</td>\n",
       "    </tr>\n",
       "    <tr>\n",
       "      <th>3</th>\n",
       "      <td>2014-12-09</td>\n",
       "      <td>4</td>\n",
       "      <td>3.0000</td>\n",
       "      <td>1960</td>\n",
       "      <td>5000</td>\n",
       "      <td>1.0000</td>\n",
       "      <td>0</td>\n",
       "      <td>0</td>\n",
       "      <td>5</td>\n",
       "      <td>7</td>\n",
       "      <td>1050</td>\n",
       "      <td>910</td>\n",
       "      <td>1965</td>\n",
       "      <td>0</td>\n",
       "      <td>98136</td>\n",
       "      <td>1360</td>\n",
       "      <td>5000</td>\n",
       "      <td>604000</td>\n",
       "    </tr>\n",
       "    <tr>\n",
       "      <th>4</th>\n",
       "      <td>2015-02-18</td>\n",
       "      <td>3</td>\n",
       "      <td>2.0000</td>\n",
       "      <td>1680</td>\n",
       "      <td>8080</td>\n",
       "      <td>1.0000</td>\n",
       "      <td>0</td>\n",
       "      <td>0</td>\n",
       "      <td>3</td>\n",
       "      <td>8</td>\n",
       "      <td>1680</td>\n",
       "      <td>0</td>\n",
       "      <td>1987</td>\n",
       "      <td>0</td>\n",
       "      <td>98074</td>\n",
       "      <td>1800</td>\n",
       "      <td>7503</td>\n",
       "      <td>510000</td>\n",
       "    </tr>\n",
       "    <tr>\n",
       "      <th>...</th>\n",
       "      <td>...</td>\n",
       "      <td>...</td>\n",
       "      <td>...</td>\n",
       "      <td>...</td>\n",
       "      <td>...</td>\n",
       "      <td>...</td>\n",
       "      <td>...</td>\n",
       "      <td>...</td>\n",
       "      <td>...</td>\n",
       "      <td>...</td>\n",
       "      <td>...</td>\n",
       "      <td>...</td>\n",
       "      <td>...</td>\n",
       "      <td>...</td>\n",
       "      <td>...</td>\n",
       "      <td>...</td>\n",
       "      <td>...</td>\n",
       "      <td>...</td>\n",
       "    </tr>\n",
       "    <tr>\n",
       "      <th>21591</th>\n",
       "      <td>2014-05-21</td>\n",
       "      <td>3</td>\n",
       "      <td>2.5000</td>\n",
       "      <td>1530</td>\n",
       "      <td>1131</td>\n",
       "      <td>3.0000</td>\n",
       "      <td>0</td>\n",
       "      <td>0</td>\n",
       "      <td>3</td>\n",
       "      <td>8</td>\n",
       "      <td>1530</td>\n",
       "      <td>0</td>\n",
       "      <td>2009</td>\n",
       "      <td>0</td>\n",
       "      <td>98103</td>\n",
       "      <td>1530</td>\n",
       "      <td>1509</td>\n",
       "      <td>360000</td>\n",
       "    </tr>\n",
       "    <tr>\n",
       "      <th>21592</th>\n",
       "      <td>2015-02-23</td>\n",
       "      <td>4</td>\n",
       "      <td>2.5000</td>\n",
       "      <td>2310</td>\n",
       "      <td>5813</td>\n",
       "      <td>2.0000</td>\n",
       "      <td>0</td>\n",
       "      <td>0</td>\n",
       "      <td>3</td>\n",
       "      <td>8</td>\n",
       "      <td>2310</td>\n",
       "      <td>0</td>\n",
       "      <td>2014</td>\n",
       "      <td>0</td>\n",
       "      <td>98146</td>\n",
       "      <td>1830</td>\n",
       "      <td>7200</td>\n",
       "      <td>400000</td>\n",
       "    </tr>\n",
       "    <tr>\n",
       "      <th>21593</th>\n",
       "      <td>2014-06-23</td>\n",
       "      <td>2</td>\n",
       "      <td>0.7500</td>\n",
       "      <td>1020</td>\n",
       "      <td>1350</td>\n",
       "      <td>2.0000</td>\n",
       "      <td>0</td>\n",
       "      <td>0</td>\n",
       "      <td>3</td>\n",
       "      <td>7</td>\n",
       "      <td>1020</td>\n",
       "      <td>0</td>\n",
       "      <td>2009</td>\n",
       "      <td>0</td>\n",
       "      <td>98144</td>\n",
       "      <td>1020</td>\n",
       "      <td>2007</td>\n",
       "      <td>402101</td>\n",
       "    </tr>\n",
       "    <tr>\n",
       "      <th>21594</th>\n",
       "      <td>2015-01-16</td>\n",
       "      <td>3</td>\n",
       "      <td>2.5000</td>\n",
       "      <td>1600</td>\n",
       "      <td>2388</td>\n",
       "      <td>2.0000</td>\n",
       "      <td>0</td>\n",
       "      <td>0</td>\n",
       "      <td>3</td>\n",
       "      <td>8</td>\n",
       "      <td>1600</td>\n",
       "      <td>0</td>\n",
       "      <td>2004</td>\n",
       "      <td>0</td>\n",
       "      <td>98027</td>\n",
       "      <td>1410</td>\n",
       "      <td>1287</td>\n",
       "      <td>400000</td>\n",
       "    </tr>\n",
       "    <tr>\n",
       "      <th>21595</th>\n",
       "      <td>2014-10-15</td>\n",
       "      <td>2</td>\n",
       "      <td>0.7500</td>\n",
       "      <td>1020</td>\n",
       "      <td>1076</td>\n",
       "      <td>2.0000</td>\n",
       "      <td>0</td>\n",
       "      <td>0</td>\n",
       "      <td>3</td>\n",
       "      <td>7</td>\n",
       "      <td>1020</td>\n",
       "      <td>0</td>\n",
       "      <td>2008</td>\n",
       "      <td>0</td>\n",
       "      <td>98144</td>\n",
       "      <td>1020</td>\n",
       "      <td>1357</td>\n",
       "      <td>325000</td>\n",
       "    </tr>\n",
       "  </tbody>\n",
       "</table>\n",
       "<p>21596 rows × 18 columns</p>\n",
       "</div>"
      ],
      "text/plain": [
       "            date  bedrooms  bathrooms  sqft_living  sqft_lot  floors  \\\n",
       "0     2014-10-13         3     1.0000         1180      5650  1.0000   \n",
       "1     2014-12-09         3     2.2500         2570      7242  2.0000   \n",
       "2     2015-02-25         2     1.0000          770     10000  1.0000   \n",
       "3     2014-12-09         4     3.0000         1960      5000  1.0000   \n",
       "4     2015-02-18         3     2.0000         1680      8080  1.0000   \n",
       "...          ...       ...        ...          ...       ...     ...   \n",
       "21591 2014-05-21         3     2.5000         1530      1131  3.0000   \n",
       "21592 2015-02-23         4     2.5000         2310      5813  2.0000   \n",
       "21593 2014-06-23         2     0.7500         1020      1350  2.0000   \n",
       "21594 2015-01-16         3     2.5000         1600      2388  2.0000   \n",
       "21595 2014-10-15         2     0.7500         1020      1076  2.0000   \n",
       "\n",
       "       waterfront  view  condition  grade  sqft_above  sqft_basement  \\\n",
       "0               0     0          3      7        1180              0   \n",
       "1               0     0          3      7        2170            400   \n",
       "2               0     0          3      6         770              0   \n",
       "3               0     0          5      7        1050            910   \n",
       "4               0     0          3      8        1680              0   \n",
       "...           ...   ...        ...    ...         ...            ...   \n",
       "21591           0     0          3      8        1530              0   \n",
       "21592           0     0          3      8        2310              0   \n",
       "21593           0     0          3      7        1020              0   \n",
       "21594           0     0          3      8        1600              0   \n",
       "21595           0     0          3      7        1020              0   \n",
       "\n",
       "       yr_built  yr_renovated  zipcode  sqft_living15  sqft_lot15   price  \n",
       "0          1955             0    98178           1340        5650  221900  \n",
       "1          1951          1991    98125           1690        7639  538000  \n",
       "2          1933             0    98028           2720        8062  180000  \n",
       "3          1965             0    98136           1360        5000  604000  \n",
       "4          1987             0    98074           1800        7503  510000  \n",
       "...         ...           ...      ...            ...         ...     ...  \n",
       "21591      2009             0    98103           1530        1509  360000  \n",
       "21592      2014             0    98146           1830        7200  400000  \n",
       "21593      2009             0    98144           1020        2007  402101  \n",
       "21594      2004             0    98027           1410        1287  400000  \n",
       "21595      2008             0    98144           1020        1357  325000  \n",
       "\n",
       "[21596 rows x 18 columns]"
      ]
     },
     "execution_count": 9,
     "metadata": {},
     "output_type": "execute_result"
    }
   ],
   "source": [
    "df"
   ]
  },
  {
   "cell_type": "code",
   "execution_count": 10,
   "id": "480d6991",
   "metadata": {},
   "outputs": [
    {
     "data": {
      "text/plain": [
       "2.5000    5377\n",
       "1.0000    3851\n",
       "1.7500    3047\n",
       "2.2500    2047\n",
       "2.0000    1930\n",
       "1.5000    1445\n",
       "2.7500    1185\n",
       "3.0000     753\n",
       "3.5000     731\n",
       "3.2500     589\n",
       "3.7500     155\n",
       "4.0000     136\n",
       "4.5000     100\n",
       "4.2500      79\n",
       "0.7500      71\n",
       "4.7500      23\n",
       "5.0000      21\n",
       "5.2500      13\n",
       "5.5000      10\n",
       "1.2500       9\n",
       "6.0000       6\n",
       "0.5000       4\n",
       "5.7500       4\n",
       "6.7500       2\n",
       "8.0000       2\n",
       "6.2500       2\n",
       "6.5000       2\n",
       "7.5000       1\n",
       "7.7500       1\n",
       "Name: bathrooms, dtype: int64"
      ]
     },
     "execution_count": 10,
     "metadata": {},
     "output_type": "execute_result"
    }
   ],
   "source": [
    "df['bathrooms'].value_counts()\n",
    "#do we need to round the data?"
   ]
  },
  {
   "cell_type": "code",
   "execution_count": 11,
   "id": "da863caf",
   "metadata": {},
   "outputs": [
    {
     "data": {
      "text/plain": [
       "1.0000    10672\n",
       "2.0000     8235\n",
       "1.5000     1910\n",
       "3.0000      611\n",
       "2.5000      161\n",
       "3.5000        7\n",
       "Name: floors, dtype: int64"
      ]
     },
     "execution_count": 11,
     "metadata": {},
     "output_type": "execute_result"
    }
   ],
   "source": [
    "df['floors'].value_counts()\n",
    "#confirm the meaning no of floors per properties or location of flat"
   ]
  },
  {
   "cell_type": "code",
   "execution_count": 12,
   "id": "6c97c0a2",
   "metadata": {},
   "outputs": [
    {
     "data": {
      "text/plain": [
       "dtype('int64')"
      ]
     },
     "execution_count": 12,
     "metadata": {},
     "output_type": "execute_result"
    }
   ],
   "source": [
    "#df['waterfront'].np.astype= 'category'\n",
    "df['waterfront'].dtypes"
   ]
  },
  {
   "cell_type": "code",
   "execution_count": 13,
   "id": "b5487d86",
   "metadata": {},
   "outputs": [
    {
     "data": {
      "text/plain": [
       "0    19474\n",
       "2      961\n",
       "3      510\n",
       "1      332\n",
       "4      319\n",
       "Name: view, dtype: int64"
      ]
     },
     "execution_count": 13,
     "metadata": {},
     "output_type": "execute_result"
    }
   ],
   "source": [
    "#need to clarify the meaning\n",
    "df['view'].value_counts()"
   ]
  },
  {
   "cell_type": "code",
   "execution_count": 14,
   "id": "9e79129f",
   "metadata": {},
   "outputs": [
    {
     "data": {
      "text/plain": [
       "3    14020\n",
       "4     5677\n",
       "5     1700\n",
       "2      170\n",
       "1       29\n",
       "Name: condition, dtype: int64"
      ]
     },
     "execution_count": 14,
     "metadata": {},
     "output_type": "execute_result"
    }
   ],
   "source": [
    "df['condition'].value_counts()"
   ]
  },
  {
   "cell_type": "code",
   "execution_count": 15,
   "id": "3490f1df",
   "metadata": {},
   "outputs": [
    {
     "data": {
      "text/plain": [
       "7     8973\n",
       "8     6065\n",
       "9     2615\n",
       "6     2038\n",
       "10    1134\n",
       "11     399\n",
       "5      242\n",
       "12      89\n",
       "4       27\n",
       "13      13\n",
       "3        1\n",
       "Name: grade, dtype: int64"
      ]
     },
     "execution_count": 15,
     "metadata": {},
     "output_type": "execute_result"
    }
   ],
   "source": [
    "df['grade'].value_counts()"
   ]
  },
  {
   "cell_type": "code",
   "execution_count": 16,
   "id": "56bd754e",
   "metadata": {},
   "outputs": [
    {
     "data": {
      "text/plain": [
       "2014    559\n",
       "2006    453\n",
       "2005    450\n",
       "2004    433\n",
       "2003    420\n",
       "       ... \n",
       "1933     30\n",
       "1901     29\n",
       "1902     27\n",
       "1935     24\n",
       "1934     21\n",
       "Name: yr_built, Length: 116, dtype: int64"
      ]
     },
     "execution_count": 16,
     "metadata": {},
     "output_type": "execute_result"
    }
   ],
   "source": [
    "df['yr_built'].value_counts()"
   ]
  },
  {
   "cell_type": "code",
   "execution_count": 17,
   "id": "334087ba",
   "metadata": {},
   "outputs": [
    {
     "data": {
      "text/plain": [
       "0       20682\n",
       "2014       91\n",
       "2013       37\n",
       "2003       36\n",
       "2005       35\n",
       "        ...  \n",
       "1951        1\n",
       "1959        1\n",
       "1948        1\n",
       "1954        1\n",
       "1944        1\n",
       "Name: yr_renovated, Length: 70, dtype: int64"
      ]
     },
     "execution_count": 17,
     "metadata": {},
     "output_type": "execute_result"
    }
   ],
   "source": [
    "df['yr_renovated'].value_counts()"
   ]
  },
  {
   "cell_type": "code",
   "execution_count": 18,
   "id": "74aa6313",
   "metadata": {},
   "outputs": [
    {
     "data": {
      "text/plain": [
       "98103    601\n",
       "98038    589\n",
       "98115    583\n",
       "98052    574\n",
       "98117    553\n",
       "        ... \n",
       "98102    104\n",
       "98010    100\n",
       "98024     80\n",
       "98148     57\n",
       "98039     50\n",
       "Name: zipcode, Length: 70, dtype: int64"
      ]
     },
     "execution_count": 18,
     "metadata": {},
     "output_type": "execute_result"
    }
   ],
   "source": [
    "df['zipcode'].value_counts()"
   ]
  },
  {
   "cell_type": "code",
   "execution_count": 19,
   "id": "aa883e73",
   "metadata": {},
   "outputs": [
    {
     "data": {
      "text/plain": [
       "1540    197\n",
       "1440    195\n",
       "1560    192\n",
       "1500    180\n",
       "1460    169\n",
       "       ... \n",
       "3736      1\n",
       "4950      1\n",
       "2728      1\n",
       "4740      1\n",
       "2927      1\n",
       "Name: sqft_living15, Length: 777, dtype: int64"
      ]
     },
     "execution_count": 19,
     "metadata": {},
     "output_type": "execute_result"
    }
   ],
   "source": [
    "df['sqft_living15'].value_counts()"
   ]
  },
  {
   "cell_type": "code",
   "execution_count": 20,
   "id": "b29c5d50",
   "metadata": {},
   "outputs": [
    {
     "data": {
      "text/plain": [
       "5000     427\n",
       "4000     356\n",
       "6000     288\n",
       "7200     210\n",
       "4800     145\n",
       "        ... \n",
       "10170      1\n",
       "10573      1\n",
       "11477      1\n",
       "1449       1\n",
       "2007       1\n",
       "Name: sqft_lot15, Length: 8682, dtype: int64"
      ]
     },
     "execution_count": 20,
     "metadata": {},
     "output_type": "execute_result"
    }
   ],
   "source": [
    "df['sqft_lot15'].value_counts()"
   ]
  },
  {
   "cell_type": "code",
   "execution_count": 21,
   "id": "9933bca5",
   "metadata": {},
   "outputs": [
    {
     "data": {
      "text/plain": [
       "count     21596.0000\n",
       "mean     540291.9568\n",
       "std      367376.0193\n",
       "min       78000.0000\n",
       "25%      322000.0000\n",
       "50%      450000.0000\n",
       "75%      645000.0000\n",
       "max     7700000.0000\n",
       "Name: price, dtype: float64"
      ]
     },
     "execution_count": 21,
     "metadata": {},
     "output_type": "execute_result"
    }
   ],
   "source": [
    "df['price'].describe()"
   ]
  },
  {
   "cell_type": "markdown",
   "id": "96eae613",
   "metadata": {},
   "source": [
    "Understanding the difference between sqft_living' and 'sqft_living15.  \n",
    "sqft_living15 - The square footage of interior housing living space for the nearest 15 neighbors"
   ]
  },
  {
   "cell_type": "code",
   "execution_count": 22,
   "id": "b1fc83c2",
   "metadata": {},
   "outputs": [
    {
     "data": {
      "text/html": [
       "<div>\n",
       "<style scoped>\n",
       "    .dataframe tbody tr th:only-of-type {\n",
       "        vertical-align: middle;\n",
       "    }\n",
       "\n",
       "    .dataframe tbody tr th {\n",
       "        vertical-align: top;\n",
       "    }\n",
       "\n",
       "    .dataframe thead th {\n",
       "        text-align: right;\n",
       "    }\n",
       "</style>\n",
       "<table border=\"1\" class=\"dataframe\">\n",
       "  <thead>\n",
       "    <tr style=\"text-align: right;\">\n",
       "      <th></th>\n",
       "      <th>sqft_living</th>\n",
       "      <th>sqft_above</th>\n",
       "      <th>sqft_lot</th>\n",
       "      <th>sqft_living15</th>\n",
       "      <th>sqft_lot15</th>\n",
       "    </tr>\n",
       "  </thead>\n",
       "  <tbody>\n",
       "    <tr>\n",
       "      <th>0</th>\n",
       "      <td>1180</td>\n",
       "      <td>1180</td>\n",
       "      <td>5650</td>\n",
       "      <td>1340</td>\n",
       "      <td>5650</td>\n",
       "    </tr>\n",
       "    <tr>\n",
       "      <th>1</th>\n",
       "      <td>2570</td>\n",
       "      <td>2170</td>\n",
       "      <td>7242</td>\n",
       "      <td>1690</td>\n",
       "      <td>7639</td>\n",
       "    </tr>\n",
       "    <tr>\n",
       "      <th>2</th>\n",
       "      <td>770</td>\n",
       "      <td>770</td>\n",
       "      <td>10000</td>\n",
       "      <td>2720</td>\n",
       "      <td>8062</td>\n",
       "    </tr>\n",
       "    <tr>\n",
       "      <th>3</th>\n",
       "      <td>1960</td>\n",
       "      <td>1050</td>\n",
       "      <td>5000</td>\n",
       "      <td>1360</td>\n",
       "      <td>5000</td>\n",
       "    </tr>\n",
       "    <tr>\n",
       "      <th>4</th>\n",
       "      <td>1680</td>\n",
       "      <td>1680</td>\n",
       "      <td>8080</td>\n",
       "      <td>1800</td>\n",
       "      <td>7503</td>\n",
       "    </tr>\n",
       "    <tr>\n",
       "      <th>...</th>\n",
       "      <td>...</td>\n",
       "      <td>...</td>\n",
       "      <td>...</td>\n",
       "      <td>...</td>\n",
       "      <td>...</td>\n",
       "    </tr>\n",
       "    <tr>\n",
       "      <th>21591</th>\n",
       "      <td>1530</td>\n",
       "      <td>1530</td>\n",
       "      <td>1131</td>\n",
       "      <td>1530</td>\n",
       "      <td>1509</td>\n",
       "    </tr>\n",
       "    <tr>\n",
       "      <th>21592</th>\n",
       "      <td>2310</td>\n",
       "      <td>2310</td>\n",
       "      <td>5813</td>\n",
       "      <td>1830</td>\n",
       "      <td>7200</td>\n",
       "    </tr>\n",
       "    <tr>\n",
       "      <th>21593</th>\n",
       "      <td>1020</td>\n",
       "      <td>1020</td>\n",
       "      <td>1350</td>\n",
       "      <td>1020</td>\n",
       "      <td>2007</td>\n",
       "    </tr>\n",
       "    <tr>\n",
       "      <th>21594</th>\n",
       "      <td>1600</td>\n",
       "      <td>1600</td>\n",
       "      <td>2388</td>\n",
       "      <td>1410</td>\n",
       "      <td>1287</td>\n",
       "    </tr>\n",
       "    <tr>\n",
       "      <th>21595</th>\n",
       "      <td>1020</td>\n",
       "      <td>1020</td>\n",
       "      <td>1076</td>\n",
       "      <td>1020</td>\n",
       "      <td>1357</td>\n",
       "    </tr>\n",
       "  </tbody>\n",
       "</table>\n",
       "<p>21596 rows × 5 columns</p>\n",
       "</div>"
      ],
      "text/plain": [
       "       sqft_living  sqft_above  sqft_lot  sqft_living15  sqft_lot15\n",
       "0             1180        1180      5650           1340        5650\n",
       "1             2570        2170      7242           1690        7639\n",
       "2              770         770     10000           2720        8062\n",
       "3             1960        1050      5000           1360        5000\n",
       "4             1680        1680      8080           1800        7503\n",
       "...            ...         ...       ...            ...         ...\n",
       "21591         1530        1530      1131           1530        1509\n",
       "21592         2310        2310      5813           1830        7200\n",
       "21593         1020        1020      1350           1020        2007\n",
       "21594         1600        1600      2388           1410        1287\n",
       "21595         1020        1020      1076           1020        1357\n",
       "\n",
       "[21596 rows x 5 columns]"
      ]
     },
     "execution_count": 22,
     "metadata": {},
     "output_type": "execute_result"
    }
   ],
   "source": [
    "df_size = df.filter(['sqft_living', 'sqft_above', 'sqft_lot', 'sqft_living15', 'sqft_lot15'])\n",
    "df_size"
   ]
  },
  {
   "cell_type": "code",
   "execution_count": 23,
   "id": "721ebef7",
   "metadata": {},
   "outputs": [
    {
     "data": {
      "text/html": [
       "<div>\n",
       "<style scoped>\n",
       "    .dataframe tbody tr th:only-of-type {\n",
       "        vertical-align: middle;\n",
       "    }\n",
       "\n",
       "    .dataframe tbody tr th {\n",
       "        vertical-align: top;\n",
       "    }\n",
       "\n",
       "    .dataframe thead th {\n",
       "        text-align: right;\n",
       "    }\n",
       "</style>\n",
       "<table border=\"1\" class=\"dataframe\">\n",
       "  <thead>\n",
       "    <tr style=\"text-align: right;\">\n",
       "      <th></th>\n",
       "      <th>sqft_living</th>\n",
       "      <th>sqft_above</th>\n",
       "      <th>sqft_lot</th>\n",
       "      <th>sqft_living15</th>\n",
       "      <th>sqft_lot15</th>\n",
       "    </tr>\n",
       "  </thead>\n",
       "  <tbody>\n",
       "    <tr>\n",
       "      <th>count</th>\n",
       "      <td>21596.0000</td>\n",
       "      <td>21596.0000</td>\n",
       "      <td>21596.0000</td>\n",
       "      <td>21596.0000</td>\n",
       "      <td>21596.0000</td>\n",
       "    </tr>\n",
       "    <tr>\n",
       "      <th>mean</th>\n",
       "      <td>2080.3432</td>\n",
       "      <td>1788.6315</td>\n",
       "      <td>15099.8301</td>\n",
       "      <td>1986.6507</td>\n",
       "      <td>12758.6566</td>\n",
       "    </tr>\n",
       "    <tr>\n",
       "      <th>std</th>\n",
       "      <td>918.1220</td>\n",
       "      <td>827.7633</td>\n",
       "      <td>41413.5494</td>\n",
       "      <td>685.2318</td>\n",
       "      <td>27275.0183</td>\n",
       "    </tr>\n",
       "    <tr>\n",
       "      <th>min</th>\n",
       "      <td>370.0000</td>\n",
       "      <td>370.0000</td>\n",
       "      <td>520.0000</td>\n",
       "      <td>399.0000</td>\n",
       "      <td>651.0000</td>\n",
       "    </tr>\n",
       "    <tr>\n",
       "      <th>25%</th>\n",
       "      <td>1430.0000</td>\n",
       "      <td>1190.0000</td>\n",
       "      <td>5040.0000</td>\n",
       "      <td>1490.0000</td>\n",
       "      <td>5100.0000</td>\n",
       "    </tr>\n",
       "    <tr>\n",
       "      <th>50%</th>\n",
       "      <td>1910.0000</td>\n",
       "      <td>1560.0000</td>\n",
       "      <td>7619.0000</td>\n",
       "      <td>1840.0000</td>\n",
       "      <td>7620.0000</td>\n",
       "    </tr>\n",
       "    <tr>\n",
       "      <th>75%</th>\n",
       "      <td>2550.0000</td>\n",
       "      <td>2210.0000</td>\n",
       "      <td>10685.5000</td>\n",
       "      <td>2360.0000</td>\n",
       "      <td>10083.0000</td>\n",
       "    </tr>\n",
       "    <tr>\n",
       "      <th>max</th>\n",
       "      <td>13540.0000</td>\n",
       "      <td>9410.0000</td>\n",
       "      <td>1651359.0000</td>\n",
       "      <td>6210.0000</td>\n",
       "      <td>871200.0000</td>\n",
       "    </tr>\n",
       "  </tbody>\n",
       "</table>\n",
       "</div>"
      ],
      "text/plain": [
       "       sqft_living  sqft_above     sqft_lot  sqft_living15  sqft_lot15\n",
       "count   21596.0000  21596.0000   21596.0000     21596.0000  21596.0000\n",
       "mean     2080.3432   1788.6315   15099.8301      1986.6507  12758.6566\n",
       "std       918.1220    827.7633   41413.5494       685.2318  27275.0183\n",
       "min       370.0000    370.0000     520.0000       399.0000    651.0000\n",
       "25%      1430.0000   1190.0000    5040.0000      1490.0000   5100.0000\n",
       "50%      1910.0000   1560.0000    7619.0000      1840.0000   7620.0000\n",
       "75%      2550.0000   2210.0000   10685.5000      2360.0000  10083.0000\n",
       "max     13540.0000   9410.0000 1651359.0000      6210.0000 871200.0000"
      ]
     },
     "execution_count": 23,
     "metadata": {},
     "output_type": "execute_result"
    }
   ],
   "source": [
    "df_size.describe()"
   ]
  },
  {
   "cell_type": "markdown",
   "id": "32be00be",
   "metadata": {},
   "source": [
    "## Data Cleaning"
   ]
  },
  {
   "cell_type": "markdown",
   "id": "598ecf87",
   "metadata": {},
   "source": [
    "### Transform yr_built and yr_renovated"
   ]
  },
  {
   "cell_type": "code",
   "execution_count": 24,
   "id": "47bc25fc",
   "metadata": {},
   "outputs": [],
   "source": [
    "df[\"yr_renovated\"] = np.where (df[\"yr_renovated\"] != 0, 1, df[\"yr_renovated\"])"
   ]
  },
  {
   "cell_type": "code",
   "execution_count": 25,
   "id": "ed23614c",
   "metadata": {},
   "outputs": [
    {
     "data": {
      "text/plain": [
       "0    20682\n",
       "1      914\n",
       "Name: yr_renovated, dtype: int64"
      ]
     },
     "execution_count": 25,
     "metadata": {},
     "output_type": "execute_result"
    }
   ],
   "source": [
    "df[\"yr_renovated\"].value_counts()"
   ]
  },
  {
   "cell_type": "code",
   "execution_count": 26,
   "id": "d63f6f12",
   "metadata": {},
   "outputs": [],
   "source": [
    "df['yr_built']= list(map(lambda x: 2015-x, df['yr_built']))"
   ]
  },
  {
   "cell_type": "code",
   "execution_count": 27,
   "id": "db5baf0f",
   "metadata": {},
   "outputs": [
    {
     "data": {
      "text/plain": [
       "0        60\n",
       "1        64\n",
       "2        82\n",
       "3        50\n",
       "4        28\n",
       "         ..\n",
       "21591     6\n",
       "21592     1\n",
       "21593     6\n",
       "21594    11\n",
       "21595     7\n",
       "Name: yr_built, Length: 21596, dtype: int64"
      ]
     },
     "execution_count": 27,
     "metadata": {},
     "output_type": "execute_result"
    }
   ],
   "source": [
    "df['yr_built']"
   ]
  },
  {
   "cell_type": "code",
   "execution_count": 28,
   "id": "df672b85",
   "metadata": {},
   "outputs": [],
   "source": [
    "df.rename(columns = {'yr_built' : 'age_build'}, inplace=True)"
   ]
  },
  {
   "cell_type": "code",
   "execution_count": 29,
   "id": "faaa8087",
   "metadata": {},
   "outputs": [
    {
     "data": {
      "text/html": [
       "<div>\n",
       "<style scoped>\n",
       "    .dataframe tbody tr th:only-of-type {\n",
       "        vertical-align: middle;\n",
       "    }\n",
       "\n",
       "    .dataframe tbody tr th {\n",
       "        vertical-align: top;\n",
       "    }\n",
       "\n",
       "    .dataframe thead th {\n",
       "        text-align: right;\n",
       "    }\n",
       "</style>\n",
       "<table border=\"1\" class=\"dataframe\">\n",
       "  <thead>\n",
       "    <tr style=\"text-align: right;\">\n",
       "      <th></th>\n",
       "      <th>date</th>\n",
       "      <th>bedrooms</th>\n",
       "      <th>bathrooms</th>\n",
       "      <th>sqft_living</th>\n",
       "      <th>sqft_lot</th>\n",
       "      <th>floors</th>\n",
       "      <th>waterfront</th>\n",
       "      <th>view</th>\n",
       "      <th>condition</th>\n",
       "      <th>grade</th>\n",
       "      <th>sqft_above</th>\n",
       "      <th>sqft_basement</th>\n",
       "      <th>age_build</th>\n",
       "      <th>yr_renovated</th>\n",
       "      <th>zipcode</th>\n",
       "      <th>sqft_living15</th>\n",
       "      <th>sqft_lot15</th>\n",
       "      <th>price</th>\n",
       "    </tr>\n",
       "  </thead>\n",
       "  <tbody>\n",
       "    <tr>\n",
       "      <th>0</th>\n",
       "      <td>2014-10-13</td>\n",
       "      <td>3</td>\n",
       "      <td>1.0000</td>\n",
       "      <td>1180</td>\n",
       "      <td>5650</td>\n",
       "      <td>1.0000</td>\n",
       "      <td>0</td>\n",
       "      <td>0</td>\n",
       "      <td>3</td>\n",
       "      <td>7</td>\n",
       "      <td>1180</td>\n",
       "      <td>0</td>\n",
       "      <td>60</td>\n",
       "      <td>0</td>\n",
       "      <td>98178</td>\n",
       "      <td>1340</td>\n",
       "      <td>5650</td>\n",
       "      <td>221900</td>\n",
       "    </tr>\n",
       "    <tr>\n",
       "      <th>1</th>\n",
       "      <td>2014-12-09</td>\n",
       "      <td>3</td>\n",
       "      <td>2.2500</td>\n",
       "      <td>2570</td>\n",
       "      <td>7242</td>\n",
       "      <td>2.0000</td>\n",
       "      <td>0</td>\n",
       "      <td>0</td>\n",
       "      <td>3</td>\n",
       "      <td>7</td>\n",
       "      <td>2170</td>\n",
       "      <td>400</td>\n",
       "      <td>64</td>\n",
       "      <td>1</td>\n",
       "      <td>98125</td>\n",
       "      <td>1690</td>\n",
       "      <td>7639</td>\n",
       "      <td>538000</td>\n",
       "    </tr>\n",
       "    <tr>\n",
       "      <th>2</th>\n",
       "      <td>2015-02-25</td>\n",
       "      <td>2</td>\n",
       "      <td>1.0000</td>\n",
       "      <td>770</td>\n",
       "      <td>10000</td>\n",
       "      <td>1.0000</td>\n",
       "      <td>0</td>\n",
       "      <td>0</td>\n",
       "      <td>3</td>\n",
       "      <td>6</td>\n",
       "      <td>770</td>\n",
       "      <td>0</td>\n",
       "      <td>82</td>\n",
       "      <td>0</td>\n",
       "      <td>98028</td>\n",
       "      <td>2720</td>\n",
       "      <td>8062</td>\n",
       "      <td>180000</td>\n",
       "    </tr>\n",
       "    <tr>\n",
       "      <th>3</th>\n",
       "      <td>2014-12-09</td>\n",
       "      <td>4</td>\n",
       "      <td>3.0000</td>\n",
       "      <td>1960</td>\n",
       "      <td>5000</td>\n",
       "      <td>1.0000</td>\n",
       "      <td>0</td>\n",
       "      <td>0</td>\n",
       "      <td>5</td>\n",
       "      <td>7</td>\n",
       "      <td>1050</td>\n",
       "      <td>910</td>\n",
       "      <td>50</td>\n",
       "      <td>0</td>\n",
       "      <td>98136</td>\n",
       "      <td>1360</td>\n",
       "      <td>5000</td>\n",
       "      <td>604000</td>\n",
       "    </tr>\n",
       "    <tr>\n",
       "      <th>4</th>\n",
       "      <td>2015-02-18</td>\n",
       "      <td>3</td>\n",
       "      <td>2.0000</td>\n",
       "      <td>1680</td>\n",
       "      <td>8080</td>\n",
       "      <td>1.0000</td>\n",
       "      <td>0</td>\n",
       "      <td>0</td>\n",
       "      <td>3</td>\n",
       "      <td>8</td>\n",
       "      <td>1680</td>\n",
       "      <td>0</td>\n",
       "      <td>28</td>\n",
       "      <td>0</td>\n",
       "      <td>98074</td>\n",
       "      <td>1800</td>\n",
       "      <td>7503</td>\n",
       "      <td>510000</td>\n",
       "    </tr>\n",
       "    <tr>\n",
       "      <th>...</th>\n",
       "      <td>...</td>\n",
       "      <td>...</td>\n",
       "      <td>...</td>\n",
       "      <td>...</td>\n",
       "      <td>...</td>\n",
       "      <td>...</td>\n",
       "      <td>...</td>\n",
       "      <td>...</td>\n",
       "      <td>...</td>\n",
       "      <td>...</td>\n",
       "      <td>...</td>\n",
       "      <td>...</td>\n",
       "      <td>...</td>\n",
       "      <td>...</td>\n",
       "      <td>...</td>\n",
       "      <td>...</td>\n",
       "      <td>...</td>\n",
       "      <td>...</td>\n",
       "    </tr>\n",
       "    <tr>\n",
       "      <th>21591</th>\n",
       "      <td>2014-05-21</td>\n",
       "      <td>3</td>\n",
       "      <td>2.5000</td>\n",
       "      <td>1530</td>\n",
       "      <td>1131</td>\n",
       "      <td>3.0000</td>\n",
       "      <td>0</td>\n",
       "      <td>0</td>\n",
       "      <td>3</td>\n",
       "      <td>8</td>\n",
       "      <td>1530</td>\n",
       "      <td>0</td>\n",
       "      <td>6</td>\n",
       "      <td>0</td>\n",
       "      <td>98103</td>\n",
       "      <td>1530</td>\n",
       "      <td>1509</td>\n",
       "      <td>360000</td>\n",
       "    </tr>\n",
       "    <tr>\n",
       "      <th>21592</th>\n",
       "      <td>2015-02-23</td>\n",
       "      <td>4</td>\n",
       "      <td>2.5000</td>\n",
       "      <td>2310</td>\n",
       "      <td>5813</td>\n",
       "      <td>2.0000</td>\n",
       "      <td>0</td>\n",
       "      <td>0</td>\n",
       "      <td>3</td>\n",
       "      <td>8</td>\n",
       "      <td>2310</td>\n",
       "      <td>0</td>\n",
       "      <td>1</td>\n",
       "      <td>0</td>\n",
       "      <td>98146</td>\n",
       "      <td>1830</td>\n",
       "      <td>7200</td>\n",
       "      <td>400000</td>\n",
       "    </tr>\n",
       "    <tr>\n",
       "      <th>21593</th>\n",
       "      <td>2014-06-23</td>\n",
       "      <td>2</td>\n",
       "      <td>0.7500</td>\n",
       "      <td>1020</td>\n",
       "      <td>1350</td>\n",
       "      <td>2.0000</td>\n",
       "      <td>0</td>\n",
       "      <td>0</td>\n",
       "      <td>3</td>\n",
       "      <td>7</td>\n",
       "      <td>1020</td>\n",
       "      <td>0</td>\n",
       "      <td>6</td>\n",
       "      <td>0</td>\n",
       "      <td>98144</td>\n",
       "      <td>1020</td>\n",
       "      <td>2007</td>\n",
       "      <td>402101</td>\n",
       "    </tr>\n",
       "    <tr>\n",
       "      <th>21594</th>\n",
       "      <td>2015-01-16</td>\n",
       "      <td>3</td>\n",
       "      <td>2.5000</td>\n",
       "      <td>1600</td>\n",
       "      <td>2388</td>\n",
       "      <td>2.0000</td>\n",
       "      <td>0</td>\n",
       "      <td>0</td>\n",
       "      <td>3</td>\n",
       "      <td>8</td>\n",
       "      <td>1600</td>\n",
       "      <td>0</td>\n",
       "      <td>11</td>\n",
       "      <td>0</td>\n",
       "      <td>98027</td>\n",
       "      <td>1410</td>\n",
       "      <td>1287</td>\n",
       "      <td>400000</td>\n",
       "    </tr>\n",
       "    <tr>\n",
       "      <th>21595</th>\n",
       "      <td>2014-10-15</td>\n",
       "      <td>2</td>\n",
       "      <td>0.7500</td>\n",
       "      <td>1020</td>\n",
       "      <td>1076</td>\n",
       "      <td>2.0000</td>\n",
       "      <td>0</td>\n",
       "      <td>0</td>\n",
       "      <td>3</td>\n",
       "      <td>7</td>\n",
       "      <td>1020</td>\n",
       "      <td>0</td>\n",
       "      <td>7</td>\n",
       "      <td>0</td>\n",
       "      <td>98144</td>\n",
       "      <td>1020</td>\n",
       "      <td>1357</td>\n",
       "      <td>325000</td>\n",
       "    </tr>\n",
       "  </tbody>\n",
       "</table>\n",
       "<p>21596 rows × 18 columns</p>\n",
       "</div>"
      ],
      "text/plain": [
       "            date  bedrooms  bathrooms  sqft_living  sqft_lot  floors  \\\n",
       "0     2014-10-13         3     1.0000         1180      5650  1.0000   \n",
       "1     2014-12-09         3     2.2500         2570      7242  2.0000   \n",
       "2     2015-02-25         2     1.0000          770     10000  1.0000   \n",
       "3     2014-12-09         4     3.0000         1960      5000  1.0000   \n",
       "4     2015-02-18         3     2.0000         1680      8080  1.0000   \n",
       "...          ...       ...        ...          ...       ...     ...   \n",
       "21591 2014-05-21         3     2.5000         1530      1131  3.0000   \n",
       "21592 2015-02-23         4     2.5000         2310      5813  2.0000   \n",
       "21593 2014-06-23         2     0.7500         1020      1350  2.0000   \n",
       "21594 2015-01-16         3     2.5000         1600      2388  2.0000   \n",
       "21595 2014-10-15         2     0.7500         1020      1076  2.0000   \n",
       "\n",
       "       waterfront  view  condition  grade  sqft_above  sqft_basement  \\\n",
       "0               0     0          3      7        1180              0   \n",
       "1               0     0          3      7        2170            400   \n",
       "2               0     0          3      6         770              0   \n",
       "3               0     0          5      7        1050            910   \n",
       "4               0     0          3      8        1680              0   \n",
       "...           ...   ...        ...    ...         ...            ...   \n",
       "21591           0     0          3      8        1530              0   \n",
       "21592           0     0          3      8        2310              0   \n",
       "21593           0     0          3      7        1020              0   \n",
       "21594           0     0          3      8        1600              0   \n",
       "21595           0     0          3      7        1020              0   \n",
       "\n",
       "       age_build  yr_renovated  zipcode  sqft_living15  sqft_lot15   price  \n",
       "0             60             0    98178           1340        5650  221900  \n",
       "1             64             1    98125           1690        7639  538000  \n",
       "2             82             0    98028           2720        8062  180000  \n",
       "3             50             0    98136           1360        5000  604000  \n",
       "4             28             0    98074           1800        7503  510000  \n",
       "...          ...           ...      ...            ...         ...     ...  \n",
       "21591          6             0    98103           1530        1509  360000  \n",
       "21592          1             0    98146           1830        7200  400000  \n",
       "21593          6             0    98144           1020        2007  402101  \n",
       "21594         11             0    98027           1410        1287  400000  \n",
       "21595          7             0    98144           1020        1357  325000  \n",
       "\n",
       "[21596 rows x 18 columns]"
      ]
     },
     "execution_count": 29,
     "metadata": {},
     "output_type": "execute_result"
    }
   ],
   "source": [
    "df"
   ]
  },
  {
   "cell_type": "markdown",
   "id": "048f55cd",
   "metadata": {},
   "source": [
    "### Changing columns type into categorical variables"
   ]
  },
  {
   "cell_type": "code",
   "execution_count": 30,
   "id": "9f0b9ddd",
   "metadata": {},
   "outputs": [],
   "source": [
    "df['waterfront'] = pd.Categorical(df['waterfront'])\n",
    "df['view'] = pd.Categorical(df['view'])\n",
    "df['condition'] = pd.Categorical(df['condition'])\n",
    "df['grade'] = pd.Categorical(df['grade'])\n",
    "df['bathrooms'] = pd.Categorical(df['bathrooms'])\n",
    "df['bedrooms'] = pd.Categorical(df['bedrooms'])\n",
    "df['floors'] = pd.Categorical(df['floors'])\n",
    "df['yr_renovated'] = pd.Categorical(df['yr_renovated'])"
   ]
  },
  {
   "cell_type": "code",
   "execution_count": 31,
   "id": "36108e54",
   "metadata": {},
   "outputs": [
    {
     "data": {
      "text/plain": [
       "date             datetime64[ns]\n",
       "bedrooms               category\n",
       "bathrooms              category\n",
       "sqft_living               int64\n",
       "sqft_lot                  int64\n",
       "floors                 category\n",
       "waterfront             category\n",
       "view                   category\n",
       "condition              category\n",
       "grade                  category\n",
       "sqft_above                int64\n",
       "sqft_basement             int64\n",
       "age_build                 int64\n",
       "yr_renovated           category\n",
       "zipcode                   int64\n",
       "sqft_living15             int64\n",
       "sqft_lot15                int64\n",
       "price                     int64\n",
       "dtype: object"
      ]
     },
     "execution_count": 31,
     "metadata": {},
     "output_type": "execute_result"
    }
   ],
   "source": [
    "df.dtypes"
   ]
  },
  {
   "cell_type": "code",
   "execution_count": 32,
   "id": "1aba0ff6",
   "metadata": {},
   "outputs": [
    {
     "data": {
      "text/html": [
       "<div>\n",
       "<style scoped>\n",
       "    .dataframe tbody tr th:only-of-type {\n",
       "        vertical-align: middle;\n",
       "    }\n",
       "\n",
       "    .dataframe tbody tr th {\n",
       "        vertical-align: top;\n",
       "    }\n",
       "\n",
       "    .dataframe thead th {\n",
       "        text-align: right;\n",
       "    }\n",
       "</style>\n",
       "<table border=\"1\" class=\"dataframe\">\n",
       "  <thead>\n",
       "    <tr style=\"text-align: right;\">\n",
       "      <th></th>\n",
       "      <th>bedrooms</th>\n",
       "      <th>bathrooms</th>\n",
       "      <th>floors</th>\n",
       "      <th>waterfront</th>\n",
       "      <th>view</th>\n",
       "      <th>condition</th>\n",
       "      <th>grade</th>\n",
       "      <th>yr_renovated</th>\n",
       "    </tr>\n",
       "  </thead>\n",
       "  <tbody>\n",
       "    <tr>\n",
       "      <th>0</th>\n",
       "      <td>3</td>\n",
       "      <td>1.0000</td>\n",
       "      <td>1.0000</td>\n",
       "      <td>0</td>\n",
       "      <td>0</td>\n",
       "      <td>3</td>\n",
       "      <td>7</td>\n",
       "      <td>0</td>\n",
       "    </tr>\n",
       "    <tr>\n",
       "      <th>1</th>\n",
       "      <td>3</td>\n",
       "      <td>2.2500</td>\n",
       "      <td>2.0000</td>\n",
       "      <td>0</td>\n",
       "      <td>0</td>\n",
       "      <td>3</td>\n",
       "      <td>7</td>\n",
       "      <td>1</td>\n",
       "    </tr>\n",
       "    <tr>\n",
       "      <th>2</th>\n",
       "      <td>2</td>\n",
       "      <td>1.0000</td>\n",
       "      <td>1.0000</td>\n",
       "      <td>0</td>\n",
       "      <td>0</td>\n",
       "      <td>3</td>\n",
       "      <td>6</td>\n",
       "      <td>0</td>\n",
       "    </tr>\n",
       "    <tr>\n",
       "      <th>3</th>\n",
       "      <td>4</td>\n",
       "      <td>3.0000</td>\n",
       "      <td>1.0000</td>\n",
       "      <td>0</td>\n",
       "      <td>0</td>\n",
       "      <td>5</td>\n",
       "      <td>7</td>\n",
       "      <td>0</td>\n",
       "    </tr>\n",
       "    <tr>\n",
       "      <th>4</th>\n",
       "      <td>3</td>\n",
       "      <td>2.0000</td>\n",
       "      <td>1.0000</td>\n",
       "      <td>0</td>\n",
       "      <td>0</td>\n",
       "      <td>3</td>\n",
       "      <td>8</td>\n",
       "      <td>0</td>\n",
       "    </tr>\n",
       "    <tr>\n",
       "      <th>...</th>\n",
       "      <td>...</td>\n",
       "      <td>...</td>\n",
       "      <td>...</td>\n",
       "      <td>...</td>\n",
       "      <td>...</td>\n",
       "      <td>...</td>\n",
       "      <td>...</td>\n",
       "      <td>...</td>\n",
       "    </tr>\n",
       "    <tr>\n",
       "      <th>21591</th>\n",
       "      <td>3</td>\n",
       "      <td>2.5000</td>\n",
       "      <td>3.0000</td>\n",
       "      <td>0</td>\n",
       "      <td>0</td>\n",
       "      <td>3</td>\n",
       "      <td>8</td>\n",
       "      <td>0</td>\n",
       "    </tr>\n",
       "    <tr>\n",
       "      <th>21592</th>\n",
       "      <td>4</td>\n",
       "      <td>2.5000</td>\n",
       "      <td>2.0000</td>\n",
       "      <td>0</td>\n",
       "      <td>0</td>\n",
       "      <td>3</td>\n",
       "      <td>8</td>\n",
       "      <td>0</td>\n",
       "    </tr>\n",
       "    <tr>\n",
       "      <th>21593</th>\n",
       "      <td>2</td>\n",
       "      <td>0.7500</td>\n",
       "      <td>2.0000</td>\n",
       "      <td>0</td>\n",
       "      <td>0</td>\n",
       "      <td>3</td>\n",
       "      <td>7</td>\n",
       "      <td>0</td>\n",
       "    </tr>\n",
       "    <tr>\n",
       "      <th>21594</th>\n",
       "      <td>3</td>\n",
       "      <td>2.5000</td>\n",
       "      <td>2.0000</td>\n",
       "      <td>0</td>\n",
       "      <td>0</td>\n",
       "      <td>3</td>\n",
       "      <td>8</td>\n",
       "      <td>0</td>\n",
       "    </tr>\n",
       "    <tr>\n",
       "      <th>21595</th>\n",
       "      <td>2</td>\n",
       "      <td>0.7500</td>\n",
       "      <td>2.0000</td>\n",
       "      <td>0</td>\n",
       "      <td>0</td>\n",
       "      <td>3</td>\n",
       "      <td>7</td>\n",
       "      <td>0</td>\n",
       "    </tr>\n",
       "  </tbody>\n",
       "</table>\n",
       "<p>21596 rows × 8 columns</p>\n",
       "</div>"
      ],
      "text/plain": [
       "      bedrooms bathrooms floors waterfront view condition grade yr_renovated\n",
       "0            3    1.0000 1.0000          0    0         3     7            0\n",
       "1            3    2.2500 2.0000          0    0         3     7            1\n",
       "2            2    1.0000 1.0000          0    0         3     6            0\n",
       "3            4    3.0000 1.0000          0    0         5     7            0\n",
       "4            3    2.0000 1.0000          0    0         3     8            0\n",
       "...        ...       ...    ...        ...  ...       ...   ...          ...\n",
       "21591        3    2.5000 3.0000          0    0         3     8            0\n",
       "21592        4    2.5000 2.0000          0    0         3     8            0\n",
       "21593        2    0.7500 2.0000          0    0         3     7            0\n",
       "21594        3    2.5000 2.0000          0    0         3     8            0\n",
       "21595        2    0.7500 2.0000          0    0         3     7            0\n",
       "\n",
       "[21596 rows x 8 columns]"
      ]
     },
     "execution_count": 32,
     "metadata": {},
     "output_type": "execute_result"
    }
   ],
   "source": [
    "categorical = df.select_dtypes(include = ['category'])\n",
    "categorical"
   ]
  },
  {
   "cell_type": "markdown",
   "id": "56171e13",
   "metadata": {},
   "source": [
    "### Ordinal columns"
   ]
  },
  {
   "cell_type": "code",
   "execution_count": 33,
   "id": "983fa357",
   "metadata": {},
   "outputs": [],
   "source": [
    "#categorical['age_build'].apply(lambda x: x.toordinal())"
   ]
  },
  {
   "cell_type": "code",
   "execution_count": 34,
   "id": "b14d4f0d",
   "metadata": {},
   "outputs": [],
   "source": [
    "categorical_ord = categorical[[\"waterfront\", \"view\",\"condition\",\"grade\",'bathrooms','bedrooms','floors']]\n",
    "categories = [[\"0\",\"1\"], [\"0\", \"1\", \"2\",\"3\",\"4\"],[\"1\",\"2\",\"3\",\"4\",\"5\"],\n",
    "              [\"1\",\"2\",\"3\",\"4\",\"5\",\"6\",\"7\",\"8\",\"9\",\"10\",\"11\",\"12\",\"13\"], \n",
    "              ['0.5','0.75','1.0','1.25','1.5','1.75','2.0','2.25','2.5','2.75','3.0','3.25','3.5','3.75','4.0','4.25','4.5','4.75','5','5.25','5.5','5.75','6.0','6.25','6.5','6.75','7.0','7.5','7.75','8.0'],\n",
    "             ['1','2','3','4','5','6','7','8','9','10','11'],\n",
    "             ['1.0','1.5','2.0', '2.5','3.0','3.5']]"
   ]
  },
  {
   "cell_type": "code",
   "execution_count": 35,
   "id": "42c63f3a",
   "metadata": {},
   "outputs": [],
   "source": [
    "ordinal_encoder = OrdinalEncoder(categories=categories)\n",
    "categorical_ord_encoded = pd.DataFrame(ordinal_encoder.fit_transform(categorical_ord),columns=categorical_ord.columns)"
   ]
  },
  {
   "cell_type": "code",
   "execution_count": 36,
   "id": "d27a917a",
   "metadata": {},
   "outputs": [
    {
     "data": {
      "text/html": [
       "<div>\n",
       "<style scoped>\n",
       "    .dataframe tbody tr th:only-of-type {\n",
       "        vertical-align: middle;\n",
       "    }\n",
       "\n",
       "    .dataframe tbody tr th {\n",
       "        vertical-align: top;\n",
       "    }\n",
       "\n",
       "    .dataframe thead th {\n",
       "        text-align: right;\n",
       "    }\n",
       "</style>\n",
       "<table border=\"1\" class=\"dataframe\">\n",
       "  <thead>\n",
       "    <tr style=\"text-align: right;\">\n",
       "      <th></th>\n",
       "      <th>waterfront</th>\n",
       "      <th>view</th>\n",
       "      <th>condition</th>\n",
       "      <th>grade</th>\n",
       "      <th>bathrooms</th>\n",
       "      <th>bedrooms</th>\n",
       "      <th>floors</th>\n",
       "    </tr>\n",
       "  </thead>\n",
       "  <tbody>\n",
       "    <tr>\n",
       "      <th>0</th>\n",
       "      <td>0.0000</td>\n",
       "      <td>0.0000</td>\n",
       "      <td>2.0000</td>\n",
       "      <td>6.0000</td>\n",
       "      <td>2.0000</td>\n",
       "      <td>2.0000</td>\n",
       "      <td>0.0000</td>\n",
       "    </tr>\n",
       "    <tr>\n",
       "      <th>1</th>\n",
       "      <td>0.0000</td>\n",
       "      <td>0.0000</td>\n",
       "      <td>2.0000</td>\n",
       "      <td>6.0000</td>\n",
       "      <td>7.0000</td>\n",
       "      <td>2.0000</td>\n",
       "      <td>2.0000</td>\n",
       "    </tr>\n",
       "    <tr>\n",
       "      <th>2</th>\n",
       "      <td>0.0000</td>\n",
       "      <td>0.0000</td>\n",
       "      <td>2.0000</td>\n",
       "      <td>5.0000</td>\n",
       "      <td>2.0000</td>\n",
       "      <td>1.0000</td>\n",
       "      <td>0.0000</td>\n",
       "    </tr>\n",
       "    <tr>\n",
       "      <th>3</th>\n",
       "      <td>0.0000</td>\n",
       "      <td>0.0000</td>\n",
       "      <td>4.0000</td>\n",
       "      <td>6.0000</td>\n",
       "      <td>10.0000</td>\n",
       "      <td>3.0000</td>\n",
       "      <td>0.0000</td>\n",
       "    </tr>\n",
       "    <tr>\n",
       "      <th>4</th>\n",
       "      <td>0.0000</td>\n",
       "      <td>0.0000</td>\n",
       "      <td>2.0000</td>\n",
       "      <td>7.0000</td>\n",
       "      <td>6.0000</td>\n",
       "      <td>2.0000</td>\n",
       "      <td>0.0000</td>\n",
       "    </tr>\n",
       "    <tr>\n",
       "      <th>...</th>\n",
       "      <td>...</td>\n",
       "      <td>...</td>\n",
       "      <td>...</td>\n",
       "      <td>...</td>\n",
       "      <td>...</td>\n",
       "      <td>...</td>\n",
       "      <td>...</td>\n",
       "    </tr>\n",
       "    <tr>\n",
       "      <th>21591</th>\n",
       "      <td>0.0000</td>\n",
       "      <td>0.0000</td>\n",
       "      <td>2.0000</td>\n",
       "      <td>7.0000</td>\n",
       "      <td>8.0000</td>\n",
       "      <td>2.0000</td>\n",
       "      <td>4.0000</td>\n",
       "    </tr>\n",
       "    <tr>\n",
       "      <th>21592</th>\n",
       "      <td>0.0000</td>\n",
       "      <td>0.0000</td>\n",
       "      <td>2.0000</td>\n",
       "      <td>7.0000</td>\n",
       "      <td>8.0000</td>\n",
       "      <td>3.0000</td>\n",
       "      <td>2.0000</td>\n",
       "    </tr>\n",
       "    <tr>\n",
       "      <th>21593</th>\n",
       "      <td>0.0000</td>\n",
       "      <td>0.0000</td>\n",
       "      <td>2.0000</td>\n",
       "      <td>6.0000</td>\n",
       "      <td>1.0000</td>\n",
       "      <td>1.0000</td>\n",
       "      <td>2.0000</td>\n",
       "    </tr>\n",
       "    <tr>\n",
       "      <th>21594</th>\n",
       "      <td>0.0000</td>\n",
       "      <td>0.0000</td>\n",
       "      <td>2.0000</td>\n",
       "      <td>7.0000</td>\n",
       "      <td>8.0000</td>\n",
       "      <td>2.0000</td>\n",
       "      <td>2.0000</td>\n",
       "    </tr>\n",
       "    <tr>\n",
       "      <th>21595</th>\n",
       "      <td>0.0000</td>\n",
       "      <td>0.0000</td>\n",
       "      <td>2.0000</td>\n",
       "      <td>6.0000</td>\n",
       "      <td>1.0000</td>\n",
       "      <td>1.0000</td>\n",
       "      <td>2.0000</td>\n",
       "    </tr>\n",
       "  </tbody>\n",
       "</table>\n",
       "<p>21596 rows × 7 columns</p>\n",
       "</div>"
      ],
      "text/plain": [
       "       waterfront   view  condition  grade  bathrooms  bedrooms  floors\n",
       "0          0.0000 0.0000     2.0000 6.0000     2.0000    2.0000  0.0000\n",
       "1          0.0000 0.0000     2.0000 6.0000     7.0000    2.0000  2.0000\n",
       "2          0.0000 0.0000     2.0000 5.0000     2.0000    1.0000  0.0000\n",
       "3          0.0000 0.0000     4.0000 6.0000    10.0000    3.0000  0.0000\n",
       "4          0.0000 0.0000     2.0000 7.0000     6.0000    2.0000  0.0000\n",
       "...           ...    ...        ...    ...        ...       ...     ...\n",
       "21591      0.0000 0.0000     2.0000 7.0000     8.0000    2.0000  4.0000\n",
       "21592      0.0000 0.0000     2.0000 7.0000     8.0000    3.0000  2.0000\n",
       "21593      0.0000 0.0000     2.0000 6.0000     1.0000    1.0000  2.0000\n",
       "21594      0.0000 0.0000     2.0000 7.0000     8.0000    2.0000  2.0000\n",
       "21595      0.0000 0.0000     2.0000 6.0000     1.0000    1.0000  2.0000\n",
       "\n",
       "[21596 rows x 7 columns]"
      ]
     },
     "execution_count": 36,
     "metadata": {},
     "output_type": "execute_result"
    }
   ],
   "source": [
    "categorical_ord_encoded"
   ]
  },
  {
   "cell_type": "code",
   "execution_count": 37,
   "id": "c7a9871c",
   "metadata": {},
   "outputs": [
    {
     "name": "stdout",
     "output_type": "stream",
     "text": [
      "<class 'pandas.core.frame.DataFrame'>\n",
      "RangeIndex: 21596 entries, 0 to 21595\n",
      "Data columns (total 7 columns):\n",
      " #   Column      Non-Null Count  Dtype  \n",
      "---  ------      --------------  -----  \n",
      " 0   waterfront  21596 non-null  float64\n",
      " 1   view        21596 non-null  float64\n",
      " 2   condition   21596 non-null  float64\n",
      " 3   grade       21596 non-null  float64\n",
      " 4   bathrooms   21596 non-null  float64\n",
      " 5   bedrooms    21596 non-null  float64\n",
      " 6   floors      21596 non-null  float64\n",
      "dtypes: float64(7)\n",
      "memory usage: 1.2 MB\n"
     ]
    }
   ],
   "source": [
    "categorical_ord_encoded.info()"
   ]
  },
  {
   "cell_type": "code",
   "execution_count": 38,
   "id": "213ded17",
   "metadata": {},
   "outputs": [
    {
     "name": "stderr",
     "output_type": "stream",
     "text": [
      "/opt/anaconda3/lib/python3.9/site-packages/pandas/core/frame.py:4906: SettingWithCopyWarning: \n",
      "A value is trying to be set on a copy of a slice from a DataFrame\n",
      "\n",
      "See the caveats in the documentation: https://pandas.pydata.org/pandas-docs/stable/user_guide/indexing.html#returning-a-view-versus-a-copy\n",
      "  return super().drop(\n"
     ]
    }
   ],
   "source": [
    "categorical.drop([\"waterfront\", \"view\",\"condition\",\"grade\",'bathrooms','bedrooms', 'floors'],axis=1,inplace=True)"
   ]
  },
  {
   "cell_type": "code",
   "execution_count": 39,
   "id": "548fe7dc",
   "metadata": {},
   "outputs": [
    {
     "data": {
      "text/html": [
       "<div>\n",
       "<style scoped>\n",
       "    .dataframe tbody tr th:only-of-type {\n",
       "        vertical-align: middle;\n",
       "    }\n",
       "\n",
       "    .dataframe tbody tr th {\n",
       "        vertical-align: top;\n",
       "    }\n",
       "\n",
       "    .dataframe thead th {\n",
       "        text-align: right;\n",
       "    }\n",
       "</style>\n",
       "<table border=\"1\" class=\"dataframe\">\n",
       "  <thead>\n",
       "    <tr style=\"text-align: right;\">\n",
       "      <th></th>\n",
       "      <th>yr_renovated</th>\n",
       "    </tr>\n",
       "  </thead>\n",
       "  <tbody>\n",
       "    <tr>\n",
       "      <th>0</th>\n",
       "      <td>0</td>\n",
       "    </tr>\n",
       "    <tr>\n",
       "      <th>1</th>\n",
       "      <td>1</td>\n",
       "    </tr>\n",
       "    <tr>\n",
       "      <th>2</th>\n",
       "      <td>0</td>\n",
       "    </tr>\n",
       "    <tr>\n",
       "      <th>3</th>\n",
       "      <td>0</td>\n",
       "    </tr>\n",
       "    <tr>\n",
       "      <th>4</th>\n",
       "      <td>0</td>\n",
       "    </tr>\n",
       "    <tr>\n",
       "      <th>...</th>\n",
       "      <td>...</td>\n",
       "    </tr>\n",
       "    <tr>\n",
       "      <th>21591</th>\n",
       "      <td>0</td>\n",
       "    </tr>\n",
       "    <tr>\n",
       "      <th>21592</th>\n",
       "      <td>0</td>\n",
       "    </tr>\n",
       "    <tr>\n",
       "      <th>21593</th>\n",
       "      <td>0</td>\n",
       "    </tr>\n",
       "    <tr>\n",
       "      <th>21594</th>\n",
       "      <td>0</td>\n",
       "    </tr>\n",
       "    <tr>\n",
       "      <th>21595</th>\n",
       "      <td>0</td>\n",
       "    </tr>\n",
       "  </tbody>\n",
       "</table>\n",
       "<p>21596 rows × 1 columns</p>\n",
       "</div>"
      ],
      "text/plain": [
       "      yr_renovated\n",
       "0                0\n",
       "1                1\n",
       "2                0\n",
       "3                0\n",
       "4                0\n",
       "...            ...\n",
       "21591            0\n",
       "21592            0\n",
       "21593            0\n",
       "21594            0\n",
       "21595            0\n",
       "\n",
       "[21596 rows x 1 columns]"
      ]
     },
     "execution_count": 39,
     "metadata": {},
     "output_type": "execute_result"
    }
   ],
   "source": [
    "categorical"
   ]
  },
  {
   "cell_type": "markdown",
   "id": "9cf56afa",
   "metadata": {},
   "source": [
    "Concat ordinal and categorical"
   ]
  },
  {
   "cell_type": "code",
   "execution_count": 40,
   "id": "214e2e7f",
   "metadata": {},
   "outputs": [
    {
     "data": {
      "text/html": [
       "<div>\n",
       "<style scoped>\n",
       "    .dataframe tbody tr th:only-of-type {\n",
       "        vertical-align: middle;\n",
       "    }\n",
       "\n",
       "    .dataframe tbody tr th {\n",
       "        vertical-align: top;\n",
       "    }\n",
       "\n",
       "    .dataframe thead th {\n",
       "        text-align: right;\n",
       "    }\n",
       "</style>\n",
       "<table border=\"1\" class=\"dataframe\">\n",
       "  <thead>\n",
       "    <tr style=\"text-align: right;\">\n",
       "      <th></th>\n",
       "      <th>waterfront</th>\n",
       "      <th>view</th>\n",
       "      <th>condition</th>\n",
       "      <th>grade</th>\n",
       "      <th>bathrooms</th>\n",
       "      <th>bedrooms</th>\n",
       "      <th>floors</th>\n",
       "      <th>yr_renovated</th>\n",
       "    </tr>\n",
       "  </thead>\n",
       "  <tbody>\n",
       "    <tr>\n",
       "      <th>0</th>\n",
       "      <td>0.0000</td>\n",
       "      <td>0.0000</td>\n",
       "      <td>2.0000</td>\n",
       "      <td>6.0000</td>\n",
       "      <td>2.0000</td>\n",
       "      <td>2.0000</td>\n",
       "      <td>0.0000</td>\n",
       "      <td>0</td>\n",
       "    </tr>\n",
       "    <tr>\n",
       "      <th>1</th>\n",
       "      <td>0.0000</td>\n",
       "      <td>0.0000</td>\n",
       "      <td>2.0000</td>\n",
       "      <td>6.0000</td>\n",
       "      <td>7.0000</td>\n",
       "      <td>2.0000</td>\n",
       "      <td>2.0000</td>\n",
       "      <td>1</td>\n",
       "    </tr>\n",
       "    <tr>\n",
       "      <th>2</th>\n",
       "      <td>0.0000</td>\n",
       "      <td>0.0000</td>\n",
       "      <td>2.0000</td>\n",
       "      <td>5.0000</td>\n",
       "      <td>2.0000</td>\n",
       "      <td>1.0000</td>\n",
       "      <td>0.0000</td>\n",
       "      <td>0</td>\n",
       "    </tr>\n",
       "    <tr>\n",
       "      <th>3</th>\n",
       "      <td>0.0000</td>\n",
       "      <td>0.0000</td>\n",
       "      <td>4.0000</td>\n",
       "      <td>6.0000</td>\n",
       "      <td>10.0000</td>\n",
       "      <td>3.0000</td>\n",
       "      <td>0.0000</td>\n",
       "      <td>0</td>\n",
       "    </tr>\n",
       "    <tr>\n",
       "      <th>4</th>\n",
       "      <td>0.0000</td>\n",
       "      <td>0.0000</td>\n",
       "      <td>2.0000</td>\n",
       "      <td>7.0000</td>\n",
       "      <td>6.0000</td>\n",
       "      <td>2.0000</td>\n",
       "      <td>0.0000</td>\n",
       "      <td>0</td>\n",
       "    </tr>\n",
       "    <tr>\n",
       "      <th>...</th>\n",
       "      <td>...</td>\n",
       "      <td>...</td>\n",
       "      <td>...</td>\n",
       "      <td>...</td>\n",
       "      <td>...</td>\n",
       "      <td>...</td>\n",
       "      <td>...</td>\n",
       "      <td>...</td>\n",
       "    </tr>\n",
       "    <tr>\n",
       "      <th>21591</th>\n",
       "      <td>0.0000</td>\n",
       "      <td>0.0000</td>\n",
       "      <td>2.0000</td>\n",
       "      <td>7.0000</td>\n",
       "      <td>8.0000</td>\n",
       "      <td>2.0000</td>\n",
       "      <td>4.0000</td>\n",
       "      <td>0</td>\n",
       "    </tr>\n",
       "    <tr>\n",
       "      <th>21592</th>\n",
       "      <td>0.0000</td>\n",
       "      <td>0.0000</td>\n",
       "      <td>2.0000</td>\n",
       "      <td>7.0000</td>\n",
       "      <td>8.0000</td>\n",
       "      <td>3.0000</td>\n",
       "      <td>2.0000</td>\n",
       "      <td>0</td>\n",
       "    </tr>\n",
       "    <tr>\n",
       "      <th>21593</th>\n",
       "      <td>0.0000</td>\n",
       "      <td>0.0000</td>\n",
       "      <td>2.0000</td>\n",
       "      <td>6.0000</td>\n",
       "      <td>1.0000</td>\n",
       "      <td>1.0000</td>\n",
       "      <td>2.0000</td>\n",
       "      <td>0</td>\n",
       "    </tr>\n",
       "    <tr>\n",
       "      <th>21594</th>\n",
       "      <td>0.0000</td>\n",
       "      <td>0.0000</td>\n",
       "      <td>2.0000</td>\n",
       "      <td>7.0000</td>\n",
       "      <td>8.0000</td>\n",
       "      <td>2.0000</td>\n",
       "      <td>2.0000</td>\n",
       "      <td>0</td>\n",
       "    </tr>\n",
       "    <tr>\n",
       "      <th>21595</th>\n",
       "      <td>0.0000</td>\n",
       "      <td>0.0000</td>\n",
       "      <td>2.0000</td>\n",
       "      <td>6.0000</td>\n",
       "      <td>1.0000</td>\n",
       "      <td>1.0000</td>\n",
       "      <td>2.0000</td>\n",
       "      <td>0</td>\n",
       "    </tr>\n",
       "  </tbody>\n",
       "</table>\n",
       "<p>21596 rows × 8 columns</p>\n",
       "</div>"
      ],
      "text/plain": [
       "       waterfront   view  condition  grade  bathrooms  bedrooms  floors  \\\n",
       "0          0.0000 0.0000     2.0000 6.0000     2.0000    2.0000  0.0000   \n",
       "1          0.0000 0.0000     2.0000 6.0000     7.0000    2.0000  2.0000   \n",
       "2          0.0000 0.0000     2.0000 5.0000     2.0000    1.0000  0.0000   \n",
       "3          0.0000 0.0000     4.0000 6.0000    10.0000    3.0000  0.0000   \n",
       "4          0.0000 0.0000     2.0000 7.0000     6.0000    2.0000  0.0000   \n",
       "...           ...    ...        ...    ...        ...       ...     ...   \n",
       "21591      0.0000 0.0000     2.0000 7.0000     8.0000    2.0000  4.0000   \n",
       "21592      0.0000 0.0000     2.0000 7.0000     8.0000    3.0000  2.0000   \n",
       "21593      0.0000 0.0000     2.0000 6.0000     1.0000    1.0000  2.0000   \n",
       "21594      0.0000 0.0000     2.0000 7.0000     8.0000    2.0000  2.0000   \n",
       "21595      0.0000 0.0000     2.0000 6.0000     1.0000    1.0000  2.0000   \n",
       "\n",
       "      yr_renovated  \n",
       "0                0  \n",
       "1                1  \n",
       "2                0  \n",
       "3                0  \n",
       "4                0  \n",
       "...            ...  \n",
       "21591            0  \n",
       "21592            0  \n",
       "21593            0  \n",
       "21594            0  \n",
       "21595            0  \n",
       "\n",
       "[21596 rows x 8 columns]"
      ]
     },
     "execution_count": 40,
     "metadata": {},
     "output_type": "execute_result"
    }
   ],
   "source": [
    "categorical = pd.concat([categorical_ord_encoded,categorical],axis=1)\n",
    "categorical"
   ]
  },
  {
   "cell_type": "code",
   "execution_count": 41,
   "id": "f02f84f1",
   "metadata": {},
   "outputs": [
    {
     "data": {
      "text/plain": [
       "waterfront      0\n",
       "view            0\n",
       "condition       0\n",
       "grade           0\n",
       "bathrooms       0\n",
       "bedrooms        0\n",
       "floors          0\n",
       "yr_renovated    0\n",
       "dtype: int64"
      ]
     },
     "execution_count": 41,
     "metadata": {},
     "output_type": "execute_result"
    }
   ],
   "source": [
    "categorical.isnull().sum()"
   ]
  },
  {
   "cell_type": "markdown",
   "id": "e661aabf",
   "metadata": {},
   "source": [
    "### Transform Data into a numerical var"
   ]
  },
  {
   "cell_type": "code",
   "execution_count": 42,
   "id": "c206ae78",
   "metadata": {},
   "outputs": [
    {
     "data": {
      "text/html": [
       "<div>\n",
       "<style scoped>\n",
       "    .dataframe tbody tr th:only-of-type {\n",
       "        vertical-align: middle;\n",
       "    }\n",
       "\n",
       "    .dataframe tbody tr th {\n",
       "        vertical-align: top;\n",
       "    }\n",
       "\n",
       "    .dataframe thead th {\n",
       "        text-align: right;\n",
       "    }\n",
       "</style>\n",
       "<table border=\"1\" class=\"dataframe\">\n",
       "  <thead>\n",
       "    <tr style=\"text-align: right;\">\n",
       "      <th></th>\n",
       "      <th>date</th>\n",
       "      <th>bedrooms</th>\n",
       "      <th>bathrooms</th>\n",
       "      <th>sqft_living</th>\n",
       "      <th>sqft_lot</th>\n",
       "      <th>floors</th>\n",
       "      <th>waterfront</th>\n",
       "      <th>view</th>\n",
       "      <th>condition</th>\n",
       "      <th>grade</th>\n",
       "      <th>sqft_above</th>\n",
       "      <th>sqft_basement</th>\n",
       "      <th>age_build</th>\n",
       "      <th>yr_renovated</th>\n",
       "      <th>zipcode</th>\n",
       "      <th>sqft_living15</th>\n",
       "      <th>sqft_lot15</th>\n",
       "      <th>price</th>\n",
       "    </tr>\n",
       "  </thead>\n",
       "  <tbody>\n",
       "    <tr>\n",
       "      <th>0</th>\n",
       "      <td>735519</td>\n",
       "      <td>3</td>\n",
       "      <td>1.0000</td>\n",
       "      <td>1180</td>\n",
       "      <td>5650</td>\n",
       "      <td>1.0000</td>\n",
       "      <td>0</td>\n",
       "      <td>0</td>\n",
       "      <td>3</td>\n",
       "      <td>7</td>\n",
       "      <td>1180</td>\n",
       "      <td>0</td>\n",
       "      <td>60</td>\n",
       "      <td>0</td>\n",
       "      <td>98178</td>\n",
       "      <td>1340</td>\n",
       "      <td>5650</td>\n",
       "      <td>221900</td>\n",
       "    </tr>\n",
       "    <tr>\n",
       "      <th>1</th>\n",
       "      <td>735576</td>\n",
       "      <td>3</td>\n",
       "      <td>2.2500</td>\n",
       "      <td>2570</td>\n",
       "      <td>7242</td>\n",
       "      <td>2.0000</td>\n",
       "      <td>0</td>\n",
       "      <td>0</td>\n",
       "      <td>3</td>\n",
       "      <td>7</td>\n",
       "      <td>2170</td>\n",
       "      <td>400</td>\n",
       "      <td>64</td>\n",
       "      <td>1</td>\n",
       "      <td>98125</td>\n",
       "      <td>1690</td>\n",
       "      <td>7639</td>\n",
       "      <td>538000</td>\n",
       "    </tr>\n",
       "    <tr>\n",
       "      <th>2</th>\n",
       "      <td>735654</td>\n",
       "      <td>2</td>\n",
       "      <td>1.0000</td>\n",
       "      <td>770</td>\n",
       "      <td>10000</td>\n",
       "      <td>1.0000</td>\n",
       "      <td>0</td>\n",
       "      <td>0</td>\n",
       "      <td>3</td>\n",
       "      <td>6</td>\n",
       "      <td>770</td>\n",
       "      <td>0</td>\n",
       "      <td>82</td>\n",
       "      <td>0</td>\n",
       "      <td>98028</td>\n",
       "      <td>2720</td>\n",
       "      <td>8062</td>\n",
       "      <td>180000</td>\n",
       "    </tr>\n",
       "    <tr>\n",
       "      <th>3</th>\n",
       "      <td>735576</td>\n",
       "      <td>4</td>\n",
       "      <td>3.0000</td>\n",
       "      <td>1960</td>\n",
       "      <td>5000</td>\n",
       "      <td>1.0000</td>\n",
       "      <td>0</td>\n",
       "      <td>0</td>\n",
       "      <td>5</td>\n",
       "      <td>7</td>\n",
       "      <td>1050</td>\n",
       "      <td>910</td>\n",
       "      <td>50</td>\n",
       "      <td>0</td>\n",
       "      <td>98136</td>\n",
       "      <td>1360</td>\n",
       "      <td>5000</td>\n",
       "      <td>604000</td>\n",
       "    </tr>\n",
       "    <tr>\n",
       "      <th>4</th>\n",
       "      <td>735647</td>\n",
       "      <td>3</td>\n",
       "      <td>2.0000</td>\n",
       "      <td>1680</td>\n",
       "      <td>8080</td>\n",
       "      <td>1.0000</td>\n",
       "      <td>0</td>\n",
       "      <td>0</td>\n",
       "      <td>3</td>\n",
       "      <td>8</td>\n",
       "      <td>1680</td>\n",
       "      <td>0</td>\n",
       "      <td>28</td>\n",
       "      <td>0</td>\n",
       "      <td>98074</td>\n",
       "      <td>1800</td>\n",
       "      <td>7503</td>\n",
       "      <td>510000</td>\n",
       "    </tr>\n",
       "  </tbody>\n",
       "</table>\n",
       "</div>"
      ],
      "text/plain": [
       "     date bedrooms bathrooms  sqft_living  sqft_lot floors waterfront view  \\\n",
       "0  735519        3    1.0000         1180      5650 1.0000          0    0   \n",
       "1  735576        3    2.2500         2570      7242 2.0000          0    0   \n",
       "2  735654        2    1.0000          770     10000 1.0000          0    0   \n",
       "3  735576        4    3.0000         1960      5000 1.0000          0    0   \n",
       "4  735647        3    2.0000         1680      8080 1.0000          0    0   \n",
       "\n",
       "  condition grade  sqft_above  sqft_basement  age_build yr_renovated  zipcode  \\\n",
       "0         3     7        1180              0         60            0    98178   \n",
       "1         3     7        2170            400         64            1    98125   \n",
       "2         3     6         770              0         82            0    98028   \n",
       "3         5     7        1050            910         50            0    98136   \n",
       "4         3     8        1680              0         28            0    98074   \n",
       "\n",
       "   sqft_living15  sqft_lot15   price  \n",
       "0           1340        5650  221900  \n",
       "1           1690        7639  538000  \n",
       "2           2720        8062  180000  \n",
       "3           1360        5000  604000  \n",
       "4           1800        7503  510000  "
      ]
     },
     "execution_count": 42,
     "metadata": {},
     "output_type": "execute_result"
    }
   ],
   "source": [
    "df['date']=df['date'].apply(lambda x: x.toordinal())\n",
    "df.head()"
   ]
  },
  {
   "cell_type": "markdown",
   "id": "583fab5f",
   "metadata": {},
   "source": [
    "### Filtering the numerical variables"
   ]
  },
  {
   "cell_type": "code",
   "execution_count": 43,
   "id": "6618ad9e",
   "metadata": {},
   "outputs": [
    {
     "data": {
      "text/html": [
       "<div>\n",
       "<style scoped>\n",
       "    .dataframe tbody tr th:only-of-type {\n",
       "        vertical-align: middle;\n",
       "    }\n",
       "\n",
       "    .dataframe tbody tr th {\n",
       "        vertical-align: top;\n",
       "    }\n",
       "\n",
       "    .dataframe thead th {\n",
       "        text-align: right;\n",
       "    }\n",
       "</style>\n",
       "<table border=\"1\" class=\"dataframe\">\n",
       "  <thead>\n",
       "    <tr style=\"text-align: right;\">\n",
       "      <th></th>\n",
       "      <th>date</th>\n",
       "      <th>sqft_living</th>\n",
       "      <th>sqft_lot</th>\n",
       "      <th>sqft_above</th>\n",
       "      <th>sqft_basement</th>\n",
       "      <th>age_build</th>\n",
       "      <th>zipcode</th>\n",
       "      <th>sqft_living15</th>\n",
       "      <th>sqft_lot15</th>\n",
       "      <th>price</th>\n",
       "    </tr>\n",
       "  </thead>\n",
       "  <tbody>\n",
       "    <tr>\n",
       "      <th>0</th>\n",
       "      <td>735519</td>\n",
       "      <td>1180</td>\n",
       "      <td>5650</td>\n",
       "      <td>1180</td>\n",
       "      <td>0</td>\n",
       "      <td>60</td>\n",
       "      <td>98178</td>\n",
       "      <td>1340</td>\n",
       "      <td>5650</td>\n",
       "      <td>221900</td>\n",
       "    </tr>\n",
       "    <tr>\n",
       "      <th>1</th>\n",
       "      <td>735576</td>\n",
       "      <td>2570</td>\n",
       "      <td>7242</td>\n",
       "      <td>2170</td>\n",
       "      <td>400</td>\n",
       "      <td>64</td>\n",
       "      <td>98125</td>\n",
       "      <td>1690</td>\n",
       "      <td>7639</td>\n",
       "      <td>538000</td>\n",
       "    </tr>\n",
       "    <tr>\n",
       "      <th>2</th>\n",
       "      <td>735654</td>\n",
       "      <td>770</td>\n",
       "      <td>10000</td>\n",
       "      <td>770</td>\n",
       "      <td>0</td>\n",
       "      <td>82</td>\n",
       "      <td>98028</td>\n",
       "      <td>2720</td>\n",
       "      <td>8062</td>\n",
       "      <td>180000</td>\n",
       "    </tr>\n",
       "    <tr>\n",
       "      <th>3</th>\n",
       "      <td>735576</td>\n",
       "      <td>1960</td>\n",
       "      <td>5000</td>\n",
       "      <td>1050</td>\n",
       "      <td>910</td>\n",
       "      <td>50</td>\n",
       "      <td>98136</td>\n",
       "      <td>1360</td>\n",
       "      <td>5000</td>\n",
       "      <td>604000</td>\n",
       "    </tr>\n",
       "    <tr>\n",
       "      <th>4</th>\n",
       "      <td>735647</td>\n",
       "      <td>1680</td>\n",
       "      <td>8080</td>\n",
       "      <td>1680</td>\n",
       "      <td>0</td>\n",
       "      <td>28</td>\n",
       "      <td>98074</td>\n",
       "      <td>1800</td>\n",
       "      <td>7503</td>\n",
       "      <td>510000</td>\n",
       "    </tr>\n",
       "    <tr>\n",
       "      <th>...</th>\n",
       "      <td>...</td>\n",
       "      <td>...</td>\n",
       "      <td>...</td>\n",
       "      <td>...</td>\n",
       "      <td>...</td>\n",
       "      <td>...</td>\n",
       "      <td>...</td>\n",
       "      <td>...</td>\n",
       "      <td>...</td>\n",
       "      <td>...</td>\n",
       "    </tr>\n",
       "    <tr>\n",
       "      <th>21591</th>\n",
       "      <td>735374</td>\n",
       "      <td>1530</td>\n",
       "      <td>1131</td>\n",
       "      <td>1530</td>\n",
       "      <td>0</td>\n",
       "      <td>6</td>\n",
       "      <td>98103</td>\n",
       "      <td>1530</td>\n",
       "      <td>1509</td>\n",
       "      <td>360000</td>\n",
       "    </tr>\n",
       "    <tr>\n",
       "      <th>21592</th>\n",
       "      <td>735652</td>\n",
       "      <td>2310</td>\n",
       "      <td>5813</td>\n",
       "      <td>2310</td>\n",
       "      <td>0</td>\n",
       "      <td>1</td>\n",
       "      <td>98146</td>\n",
       "      <td>1830</td>\n",
       "      <td>7200</td>\n",
       "      <td>400000</td>\n",
       "    </tr>\n",
       "    <tr>\n",
       "      <th>21593</th>\n",
       "      <td>735407</td>\n",
       "      <td>1020</td>\n",
       "      <td>1350</td>\n",
       "      <td>1020</td>\n",
       "      <td>0</td>\n",
       "      <td>6</td>\n",
       "      <td>98144</td>\n",
       "      <td>1020</td>\n",
       "      <td>2007</td>\n",
       "      <td>402101</td>\n",
       "    </tr>\n",
       "    <tr>\n",
       "      <th>21594</th>\n",
       "      <td>735614</td>\n",
       "      <td>1600</td>\n",
       "      <td>2388</td>\n",
       "      <td>1600</td>\n",
       "      <td>0</td>\n",
       "      <td>11</td>\n",
       "      <td>98027</td>\n",
       "      <td>1410</td>\n",
       "      <td>1287</td>\n",
       "      <td>400000</td>\n",
       "    </tr>\n",
       "    <tr>\n",
       "      <th>21595</th>\n",
       "      <td>735521</td>\n",
       "      <td>1020</td>\n",
       "      <td>1076</td>\n",
       "      <td>1020</td>\n",
       "      <td>0</td>\n",
       "      <td>7</td>\n",
       "      <td>98144</td>\n",
       "      <td>1020</td>\n",
       "      <td>1357</td>\n",
       "      <td>325000</td>\n",
       "    </tr>\n",
       "  </tbody>\n",
       "</table>\n",
       "<p>21596 rows × 10 columns</p>\n",
       "</div>"
      ],
      "text/plain": [
       "         date  sqft_living  sqft_lot  sqft_above  sqft_basement  age_build  \\\n",
       "0      735519         1180      5650        1180              0         60   \n",
       "1      735576         2570      7242        2170            400         64   \n",
       "2      735654          770     10000         770              0         82   \n",
       "3      735576         1960      5000        1050            910         50   \n",
       "4      735647         1680      8080        1680              0         28   \n",
       "...       ...          ...       ...         ...            ...        ...   \n",
       "21591  735374         1530      1131        1530              0          6   \n",
       "21592  735652         2310      5813        2310              0          1   \n",
       "21593  735407         1020      1350        1020              0          6   \n",
       "21594  735614         1600      2388        1600              0         11   \n",
       "21595  735521         1020      1076        1020              0          7   \n",
       "\n",
       "       zipcode  sqft_living15  sqft_lot15   price  \n",
       "0        98178           1340        5650  221900  \n",
       "1        98125           1690        7639  538000  \n",
       "2        98028           2720        8062  180000  \n",
       "3        98136           1360        5000  604000  \n",
       "4        98074           1800        7503  510000  \n",
       "...        ...            ...         ...     ...  \n",
       "21591    98103           1530        1509  360000  \n",
       "21592    98146           1830        7200  400000  \n",
       "21593    98144           1020        2007  402101  \n",
       "21594    98027           1410        1287  400000  \n",
       "21595    98144           1020        1357  325000  \n",
       "\n",
       "[21596 rows x 10 columns]"
      ]
     },
     "execution_count": 43,
     "metadata": {},
     "output_type": "execute_result"
    }
   ],
   "source": [
    "numerical = df.select_dtypes(include = ['int64', 'float'])\n",
    "numerical"
   ]
  },
  {
   "cell_type": "markdown",
   "id": "005404a0",
   "metadata": {},
   "source": [
    "### Distributions of numeric features"
   ]
  },
  {
   "cell_type": "code",
   "execution_count": 44,
   "id": "c3b6f756",
   "metadata": {},
   "outputs": [
    {
     "data": {
      "image/png": "[encoded data removed]",
      "text/plain": [
       "<Figure size 1440x1440 with 12 Axes>"
      ]
     },
     "metadata": {
      "needs_background": "light"
     },
     "output_type": "display_data"
    }
   ],
   "source": [
    "# Plot histogram grid\n",
    "numerical.hist(figsize=(20,20), xrot=-45)\n",
    "plt.show()"
   ]
  },
  {
   "cell_type": "markdown",
   "id": "a4689492",
   "metadata": {},
   "source": [
    "**Observations**:\n",
    "- no Null value was detected"
   ]
  },
  {
   "cell_type": "markdown",
   "id": "33961786",
   "metadata": {},
   "source": [
    "### Distribution of categorical variables"
   ]
  },
  {
   "cell_type": "code",
   "execution_count": 45,
   "id": "33d1f934",
   "metadata": {},
   "outputs": [
    {
     "name": "stderr",
     "output_type": "stream",
     "text": [
      "/opt/anaconda3/lib/python3.9/site-packages/seaborn/_decorators.py:36: FutureWarning: Pass the following variable as a keyword arg: x. From version 0.12, the only valid positional argument will be `data`, and passing other arguments without an explicit keyword will result in an error or misinterpretation.\n",
      "  warnings.warn(\n",
      "/opt/anaconda3/lib/python3.9/site-packages/seaborn/_decorators.py:36: FutureWarning: Pass the following variable as a keyword arg: x. From version 0.12, the only valid positional argument will be `data`, and passing other arguments without an explicit keyword will result in an error or misinterpretation.\n",
      "  warnings.warn(\n",
      "/opt/anaconda3/lib/python3.9/site-packages/seaborn/_decorators.py:36: FutureWarning: Pass the following variable as a keyword arg: x. From version 0.12, the only valid positional argument will be `data`, and passing other arguments without an explicit keyword will result in an error or misinterpretation.\n",
      "  warnings.warn(\n",
      "/opt/anaconda3/lib/python3.9/site-packages/seaborn/_decorators.py:36: FutureWarning: Pass the following variable as a keyword arg: x. From version 0.12, the only valid positional argument will be `data`, and passing other arguments without an explicit keyword will result in an error or misinterpretation.\n",
      "  warnings.warn(\n",
      "/opt/anaconda3/lib/python3.9/site-packages/seaborn/_decorators.py:36: FutureWarning: Pass the following variable as a keyword arg: x. From version 0.12, the only valid positional argument will be `data`, and passing other arguments without an explicit keyword will result in an error or misinterpretation.\n",
      "  warnings.warn(\n",
      "/opt/anaconda3/lib/python3.9/site-packages/seaborn/_decorators.py:36: FutureWarning: Pass the following variable as a keyword arg: x. From version 0.12, the only valid positional argument will be `data`, and passing other arguments without an explicit keyword will result in an error or misinterpretation.\n",
      "  warnings.warn(\n",
      "/opt/anaconda3/lib/python3.9/site-packages/seaborn/_decorators.py:36: FutureWarning: Pass the following variable as a keyword arg: x. From version 0.12, the only valid positional argument will be `data`, and passing other arguments without an explicit keyword will result in an error or misinterpretation.\n",
      "  warnings.warn(\n",
      "/opt/anaconda3/lib/python3.9/site-packages/seaborn/_decorators.py:36: FutureWarning: Pass the following variable as a keyword arg: x. From version 0.12, the only valid positional argument will be `data`, and passing other arguments without an explicit keyword will result in an error or misinterpretation.\n",
      "  warnings.warn(\n"
     ]
    },
    {
     "data": {
      "image/png": "[encoded data removed]",
      "text/plain": [
       "<Figure size 1440x864 with 8 Axes>"
      ]
     },
     "metadata": {
      "needs_background": "light"
     },
     "output_type": "display_data"
    }
   ],
   "source": [
    "plt.figure(figsize=(20,12))\n",
    "for i, column in enumerate(categorical,1):\n",
    "    plt.subplot(3,3,i)\n",
    "    sns.countplot(categorical[column])"
   ]
  },
  {
   "cell_type": "markdown",
   "id": "7e6c647a",
   "metadata": {},
   "source": [
    "**Observations**\n",
    "- majority of properties has no view to waterfront\n",
    "- majority of properties has a very low score in 'view' \n",
    "- most of properties has an average condition\n",
    "- distribution of grade scoring of properties is near to normal"
   ]
  },
  {
   "cell_type": "markdown",
   "id": "4e17efb6",
   "metadata": {},
   "source": [
    "### Correlation of numerical variables (with price)"
   ]
  },
  {
   "cell_type": "code",
   "execution_count": 46,
   "id": "272c2b4b",
   "metadata": {},
   "outputs": [
    {
     "data": {
      "text/plain": [
       "<AxesSubplot:>"
      ]
     },
     "execution_count": 46,
     "metadata": {},
     "output_type": "execute_result"
    },
    {
     "data": {
      "image/png": "[encoded data removed]",
      "text/plain": [
       "<Figure size 1080x1080 with 2 Axes>"
      ]
     },
     "metadata": {
      "needs_background": "light"
     },
     "output_type": "display_data"
    }
   ],
   "source": [
    "corr = numerical.corr()\n",
    "fig, ax = plt.subplots(figsize=(15,15))\n",
    "mask=np.zeros_like(numerical.corr())\n",
    "mask[np.triu_indices_from(mask)]=True\n",
    "sns.heatmap(corr,\n",
    "            cmap='seismic',\n",
    "            mask=mask,\n",
    "            center=0,\n",
    "            annot=True,\n",
    "            ax=ax)"
   ]
  },
  {
   "cell_type": "markdown",
   "id": "64217fe6",
   "metadata": {},
   "source": [
    "**Observations**:\n",
    "- sqft_above > 0.80\n",
    "- (?) sqft_living15 and sqft_living = 0.76\n",
    "- (?) sqft_lot and sqft_lot15 = 0.72"
   ]
  },
  {
   "cell_type": "markdown",
   "id": "a967a6eb",
   "metadata": {},
   "source": [
    "### Correlation of numerical variables (no price)"
   ]
  },
  {
   "cell_type": "code",
   "execution_count": 47,
   "id": "d8b12a19",
   "metadata": {},
   "outputs": [
    {
     "data": {
      "text/html": [
       "<div>\n",
       "<style scoped>\n",
       "    .dataframe tbody tr th:only-of-type {\n",
       "        vertical-align: middle;\n",
       "    }\n",
       "\n",
       "    .dataframe tbody tr th {\n",
       "        vertical-align: top;\n",
       "    }\n",
       "\n",
       "    .dataframe thead th {\n",
       "        text-align: right;\n",
       "    }\n",
       "</style>\n",
       "<table border=\"1\" class=\"dataframe\">\n",
       "  <thead>\n",
       "    <tr style=\"text-align: right;\">\n",
       "      <th></th>\n",
       "      <th>date</th>\n",
       "      <th>sqft_living</th>\n",
       "      <th>sqft_lot</th>\n",
       "      <th>sqft_above</th>\n",
       "      <th>sqft_basement</th>\n",
       "      <th>age_build</th>\n",
       "      <th>zipcode</th>\n",
       "      <th>sqft_living15</th>\n",
       "      <th>sqft_lot15</th>\n",
       "    </tr>\n",
       "  </thead>\n",
       "  <tbody>\n",
       "    <tr>\n",
       "      <th>0</th>\n",
       "      <td>735519</td>\n",
       "      <td>1180</td>\n",
       "      <td>5650</td>\n",
       "      <td>1180</td>\n",
       "      <td>0</td>\n",
       "      <td>60</td>\n",
       "      <td>98178</td>\n",
       "      <td>1340</td>\n",
       "      <td>5650</td>\n",
       "    </tr>\n",
       "    <tr>\n",
       "      <th>1</th>\n",
       "      <td>735576</td>\n",
       "      <td>2570</td>\n",
       "      <td>7242</td>\n",
       "      <td>2170</td>\n",
       "      <td>400</td>\n",
       "      <td>64</td>\n",
       "      <td>98125</td>\n",
       "      <td>1690</td>\n",
       "      <td>7639</td>\n",
       "    </tr>\n",
       "    <tr>\n",
       "      <th>2</th>\n",
       "      <td>735654</td>\n",
       "      <td>770</td>\n",
       "      <td>10000</td>\n",
       "      <td>770</td>\n",
       "      <td>0</td>\n",
       "      <td>82</td>\n",
       "      <td>98028</td>\n",
       "      <td>2720</td>\n",
       "      <td>8062</td>\n",
       "    </tr>\n",
       "    <tr>\n",
       "      <th>3</th>\n",
       "      <td>735576</td>\n",
       "      <td>1960</td>\n",
       "      <td>5000</td>\n",
       "      <td>1050</td>\n",
       "      <td>910</td>\n",
       "      <td>50</td>\n",
       "      <td>98136</td>\n",
       "      <td>1360</td>\n",
       "      <td>5000</td>\n",
       "    </tr>\n",
       "    <tr>\n",
       "      <th>4</th>\n",
       "      <td>735647</td>\n",
       "      <td>1680</td>\n",
       "      <td>8080</td>\n",
       "      <td>1680</td>\n",
       "      <td>0</td>\n",
       "      <td>28</td>\n",
       "      <td>98074</td>\n",
       "      <td>1800</td>\n",
       "      <td>7503</td>\n",
       "    </tr>\n",
       "    <tr>\n",
       "      <th>...</th>\n",
       "      <td>...</td>\n",
       "      <td>...</td>\n",
       "      <td>...</td>\n",
       "      <td>...</td>\n",
       "      <td>...</td>\n",
       "      <td>...</td>\n",
       "      <td>...</td>\n",
       "      <td>...</td>\n",
       "      <td>...</td>\n",
       "    </tr>\n",
       "    <tr>\n",
       "      <th>21591</th>\n",
       "      <td>735374</td>\n",
       "      <td>1530</td>\n",
       "      <td>1131</td>\n",
       "      <td>1530</td>\n",
       "      <td>0</td>\n",
       "      <td>6</td>\n",
       "      <td>98103</td>\n",
       "      <td>1530</td>\n",
       "      <td>1509</td>\n",
       "    </tr>\n",
       "    <tr>\n",
       "      <th>21592</th>\n",
       "      <td>735652</td>\n",
       "      <td>2310</td>\n",
       "      <td>5813</td>\n",
       "      <td>2310</td>\n",
       "      <td>0</td>\n",
       "      <td>1</td>\n",
       "      <td>98146</td>\n",
       "      <td>1830</td>\n",
       "      <td>7200</td>\n",
       "    </tr>\n",
       "    <tr>\n",
       "      <th>21593</th>\n",
       "      <td>735407</td>\n",
       "      <td>1020</td>\n",
       "      <td>1350</td>\n",
       "      <td>1020</td>\n",
       "      <td>0</td>\n",
       "      <td>6</td>\n",
       "      <td>98144</td>\n",
       "      <td>1020</td>\n",
       "      <td>2007</td>\n",
       "    </tr>\n",
       "    <tr>\n",
       "      <th>21594</th>\n",
       "      <td>735614</td>\n",
       "      <td>1600</td>\n",
       "      <td>2388</td>\n",
       "      <td>1600</td>\n",
       "      <td>0</td>\n",
       "      <td>11</td>\n",
       "      <td>98027</td>\n",
       "      <td>1410</td>\n",
       "      <td>1287</td>\n",
       "    </tr>\n",
       "    <tr>\n",
       "      <th>21595</th>\n",
       "      <td>735521</td>\n",
       "      <td>1020</td>\n",
       "      <td>1076</td>\n",
       "      <td>1020</td>\n",
       "      <td>0</td>\n",
       "      <td>7</td>\n",
       "      <td>98144</td>\n",
       "      <td>1020</td>\n",
       "      <td>1357</td>\n",
       "    </tr>\n",
       "  </tbody>\n",
       "</table>\n",
       "<p>21596 rows × 9 columns</p>\n",
       "</div>"
      ],
      "text/plain": [
       "         date  sqft_living  sqft_lot  sqft_above  sqft_basement  age_build  \\\n",
       "0      735519         1180      5650        1180              0         60   \n",
       "1      735576         2570      7242        2170            400         64   \n",
       "2      735654          770     10000         770              0         82   \n",
       "3      735576         1960      5000        1050            910         50   \n",
       "4      735647         1680      8080        1680              0         28   \n",
       "...       ...          ...       ...         ...            ...        ...   \n",
       "21591  735374         1530      1131        1530              0          6   \n",
       "21592  735652         2310      5813        2310              0          1   \n",
       "21593  735407         1020      1350        1020              0          6   \n",
       "21594  735614         1600      2388        1600              0         11   \n",
       "21595  735521         1020      1076        1020              0          7   \n",
       "\n",
       "       zipcode  sqft_living15  sqft_lot15  \n",
       "0        98178           1340        5650  \n",
       "1        98125           1690        7639  \n",
       "2        98028           2720        8062  \n",
       "3        98136           1360        5000  \n",
       "4        98074           1800        7503  \n",
       "...        ...            ...         ...  \n",
       "21591    98103           1530        1509  \n",
       "21592    98146           1830        7200  \n",
       "21593    98144           1020        2007  \n",
       "21594    98027           1410        1287  \n",
       "21595    98144           1020        1357  \n",
       "\n",
       "[21596 rows x 9 columns]"
      ]
     },
     "execution_count": 47,
     "metadata": {},
     "output_type": "execute_result"
    }
   ],
   "source": [
    "numerical_2 = numerical.iloc[:, :-1]\n",
    "numerical_2"
   ]
  },
  {
   "cell_type": "code",
   "execution_count": 48,
   "id": "bc098be4",
   "metadata": {},
   "outputs": [
    {
     "data": {
      "text/plain": [
       "<AxesSubplot:>"
      ]
     },
     "execution_count": 48,
     "metadata": {},
     "output_type": "execute_result"
    },
    {
     "data": {
      "image/png": "[encoded data removed]",
      "text/plain": [
       "<Figure size 1080x1080 with 2 Axes>"
      ]
     },
     "metadata": {
      "needs_background": "light"
     },
     "output_type": "display_data"
    }
   ],
   "source": [
    "corr_2 = numerical_2.corr()\n",
    "fig, ax = plt.subplots(figsize=(15,15))\n",
    "mask = np.zeros_like(numerical_2.corr())\n",
    "mask[np.triu_indices_from(mask)]=True\n",
    "sns.heatmap(corr_2,\n",
    "            cmap='seismic',\n",
    "            mask=mask,\n",
    "            center=0,\n",
    "            annot=True,\n",
    "            ax=ax)"
   ]
  },
  {
   "cell_type": "markdown",
   "id": "85dcb4cb",
   "metadata": {},
   "source": [
    "### Highly Correlated Columns"
   ]
  },
  {
   "cell_type": "code",
   "execution_count": 49,
   "id": "37b137af",
   "metadata": {},
   "outputs": [
    {
     "data": {
      "text/plain": [
       "['sqft_above']"
      ]
     },
     "execution_count": 49,
     "metadata": {},
     "output_type": "execute_result"
    }
   ],
   "source": [
    "corr_matrix = numerical_2.corr().abs()\n",
    "upper_triangle = corr_matrix.where(np.triu(np.ones(corr_matrix.shape),k=1).astype(bool))\n",
    "[column for column in upper_triangle.columns if any(upper_triangle[column] > 0.80)]"
   ]
  },
  {
   "cell_type": "markdown",
   "id": "2be77870",
   "metadata": {},
   "source": [
    "### Drop the highly correlated variables  "
   ]
  },
  {
   "cell_type": "markdown",
   "id": "0d45ed88",
   "metadata": {},
   "source": [
    " sqft_above and sqft_living > 0.80"
   ]
  },
  {
   "cell_type": "code",
   "execution_count": null,
   "id": "7371fd93",
   "metadata": {},
   "outputs": [],
   "source": [
    "#numerical_2.drop(['sqft_above'],axis=1,inplace=True)"
   ]
  },
  {
   "cell_type": "code",
   "execution_count": 51,
   "id": "e378b152",
   "metadata": {},
   "outputs": [
    {
     "data": {
      "text/html": [
       "<div>\n",
       "<style scoped>\n",
       "    .dataframe tbody tr th:only-of-type {\n",
       "        vertical-align: middle;\n",
       "    }\n",
       "\n",
       "    .dataframe tbody tr th {\n",
       "        vertical-align: top;\n",
       "    }\n",
       "\n",
       "    .dataframe thead th {\n",
       "        text-align: right;\n",
       "    }\n",
       "</style>\n",
       "<table border=\"1\" class=\"dataframe\">\n",
       "  <thead>\n",
       "    <tr style=\"text-align: right;\">\n",
       "      <th></th>\n",
       "      <th>date</th>\n",
       "      <th>sqft_living</th>\n",
       "      <th>sqft_lot</th>\n",
       "      <th>sqft_above</th>\n",
       "      <th>sqft_basement</th>\n",
       "      <th>age_build</th>\n",
       "      <th>zipcode</th>\n",
       "      <th>sqft_living15</th>\n",
       "      <th>sqft_lot15</th>\n",
       "    </tr>\n",
       "  </thead>\n",
       "  <tbody>\n",
       "    <tr>\n",
       "      <th>0</th>\n",
       "      <td>735519</td>\n",
       "      <td>1180</td>\n",
       "      <td>5650</td>\n",
       "      <td>1180</td>\n",
       "      <td>0</td>\n",
       "      <td>60</td>\n",
       "      <td>98178</td>\n",
       "      <td>1340</td>\n",
       "      <td>5650</td>\n",
       "    </tr>\n",
       "    <tr>\n",
       "      <th>1</th>\n",
       "      <td>735576</td>\n",
       "      <td>2570</td>\n",
       "      <td>7242</td>\n",
       "      <td>2170</td>\n",
       "      <td>400</td>\n",
       "      <td>64</td>\n",
       "      <td>98125</td>\n",
       "      <td>1690</td>\n",
       "      <td>7639</td>\n",
       "    </tr>\n",
       "    <tr>\n",
       "      <th>2</th>\n",
       "      <td>735654</td>\n",
       "      <td>770</td>\n",
       "      <td>10000</td>\n",
       "      <td>770</td>\n",
       "      <td>0</td>\n",
       "      <td>82</td>\n",
       "      <td>98028</td>\n",
       "      <td>2720</td>\n",
       "      <td>8062</td>\n",
       "    </tr>\n",
       "    <tr>\n",
       "      <th>3</th>\n",
       "      <td>735576</td>\n",
       "      <td>1960</td>\n",
       "      <td>5000</td>\n",
       "      <td>1050</td>\n",
       "      <td>910</td>\n",
       "      <td>50</td>\n",
       "      <td>98136</td>\n",
       "      <td>1360</td>\n",
       "      <td>5000</td>\n",
       "    </tr>\n",
       "    <tr>\n",
       "      <th>4</th>\n",
       "      <td>735647</td>\n",
       "      <td>1680</td>\n",
       "      <td>8080</td>\n",
       "      <td>1680</td>\n",
       "      <td>0</td>\n",
       "      <td>28</td>\n",
       "      <td>98074</td>\n",
       "      <td>1800</td>\n",
       "      <td>7503</td>\n",
       "    </tr>\n",
       "    <tr>\n",
       "      <th>...</th>\n",
       "      <td>...</td>\n",
       "      <td>...</td>\n",
       "      <td>...</td>\n",
       "      <td>...</td>\n",
       "      <td>...</td>\n",
       "      <td>...</td>\n",
       "      <td>...</td>\n",
       "      <td>...</td>\n",
       "      <td>...</td>\n",
       "    </tr>\n",
       "    <tr>\n",
       "      <th>21591</th>\n",
       "      <td>735374</td>\n",
       "      <td>1530</td>\n",
       "      <td>1131</td>\n",
       "      <td>1530</td>\n",
       "      <td>0</td>\n",
       "      <td>6</td>\n",
       "      <td>98103</td>\n",
       "      <td>1530</td>\n",
       "      <td>1509</td>\n",
       "    </tr>\n",
       "    <tr>\n",
       "      <th>21592</th>\n",
       "      <td>735652</td>\n",
       "      <td>2310</td>\n",
       "      <td>5813</td>\n",
       "      <td>2310</td>\n",
       "      <td>0</td>\n",
       "      <td>1</td>\n",
       "      <td>98146</td>\n",
       "      <td>1830</td>\n",
       "      <td>7200</td>\n",
       "    </tr>\n",
       "    <tr>\n",
       "      <th>21593</th>\n",
       "      <td>735407</td>\n",
       "      <td>1020</td>\n",
       "      <td>1350</td>\n",
       "      <td>1020</td>\n",
       "      <td>0</td>\n",
       "      <td>6</td>\n",
       "      <td>98144</td>\n",
       "      <td>1020</td>\n",
       "      <td>2007</td>\n",
       "    </tr>\n",
       "    <tr>\n",
       "      <th>21594</th>\n",
       "      <td>735614</td>\n",
       "      <td>1600</td>\n",
       "      <td>2388</td>\n",
       "      <td>1600</td>\n",
       "      <td>0</td>\n",
       "      <td>11</td>\n",
       "      <td>98027</td>\n",
       "      <td>1410</td>\n",
       "      <td>1287</td>\n",
       "    </tr>\n",
       "    <tr>\n",
       "      <th>21595</th>\n",
       "      <td>735521</td>\n",
       "      <td>1020</td>\n",
       "      <td>1076</td>\n",
       "      <td>1020</td>\n",
       "      <td>0</td>\n",
       "      <td>7</td>\n",
       "      <td>98144</td>\n",
       "      <td>1020</td>\n",
       "      <td>1357</td>\n",
       "    </tr>\n",
       "  </tbody>\n",
       "</table>\n",
       "<p>21596 rows × 9 columns</p>\n",
       "</div>"
      ],
      "text/plain": [
       "         date  sqft_living  sqft_lot  sqft_above  sqft_basement  age_build  \\\n",
       "0      735519         1180      5650        1180              0         60   \n",
       "1      735576         2570      7242        2170            400         64   \n",
       "2      735654          770     10000         770              0         82   \n",
       "3      735576         1960      5000        1050            910         50   \n",
       "4      735647         1680      8080        1680              0         28   \n",
       "...       ...          ...       ...         ...            ...        ...   \n",
       "21591  735374         1530      1131        1530              0          6   \n",
       "21592  735652         2310      5813        2310              0          1   \n",
       "21593  735407         1020      1350        1020              0          6   \n",
       "21594  735614         1600      2388        1600              0         11   \n",
       "21595  735521         1020      1076        1020              0          7   \n",
       "\n",
       "       zipcode  sqft_living15  sqft_lot15  \n",
       "0        98178           1340        5650  \n",
       "1        98125           1690        7639  \n",
       "2        98028           2720        8062  \n",
       "3        98136           1360        5000  \n",
       "4        98074           1800        7503  \n",
       "...        ...            ...         ...  \n",
       "21591    98103           1530        1509  \n",
       "21592    98146           1830        7200  \n",
       "21593    98144           1020        2007  \n",
       "21594    98027           1410        1287  \n",
       "21595    98144           1020        1357  \n",
       "\n",
       "[21596 rows x 9 columns]"
      ]
     },
     "execution_count": 51,
     "metadata": {},
     "output_type": "execute_result"
    }
   ],
   "source": [
    "numerical_2"
   ]
  },
  {
   "cell_type": "markdown",
   "id": "3f6c5856",
   "metadata": {},
   "source": [
    "### Correlation of categorical variables"
   ]
  },
  {
   "cell_type": "code",
   "execution_count": 52,
   "id": "0d5807fa",
   "metadata": {},
   "outputs": [
    {
     "data": {
      "text/plain": [
       "<AxesSubplot:xlabel='waterfront', ylabel='price'>"
      ]
     },
     "execution_count": 52,
     "metadata": {},
     "output_type": "execute_result"
    },
    {
     "data": {
      "image/png": "[encoded data removed]",
      "text/plain": [
       "<Figure size 432x288 with 1 Axes>"
      ]
     },
     "metadata": {
      "needs_background": "light"
     },
     "output_type": "display_data"
    }
   ],
   "source": [
    "sns.barplot(x = df['waterfront'],y = df['price'])"
   ]
  },
  {
   "cell_type": "code",
   "execution_count": 53,
   "id": "e45e1efd",
   "metadata": {},
   "outputs": [
    {
     "data": {
      "text/plain": [
       "<AxesSubplot:xlabel='view', ylabel='price'>"
      ]
     },
     "execution_count": 53,
     "metadata": {},
     "output_type": "execute_result"
    },
    {
     "data": {
      "image/png": "[encoded data removed]",
      "text/plain": [
       "<Figure size 432x288 with 1 Axes>"
      ]
     },
     "metadata": {
      "needs_background": "light"
     },
     "output_type": "display_data"
    }
   ],
   "source": [
    "sns.barplot(x = df['view'],y = df['price'])"
   ]
  },
  {
   "cell_type": "code",
   "execution_count": 54,
   "id": "b25b0684",
   "metadata": {},
   "outputs": [
    {
     "data": {
      "text/plain": [
       "<AxesSubplot:xlabel='condition', ylabel='price'>"
      ]
     },
     "execution_count": 54,
     "metadata": {},
     "output_type": "execute_result"
    },
    {
     "data": {
      "image/png": "[encoded data removed]",
      "text/plain": [
       "<Figure size 432x288 with 1 Axes>"
      ]
     },
     "metadata": {
      "needs_background": "light"
     },
     "output_type": "display_data"
    }
   ],
   "source": [
    "sns.barplot(x = df['condition'],y = df['price'])"
   ]
  },
  {
   "cell_type": "code",
   "execution_count": 55,
   "id": "35680c34",
   "metadata": {},
   "outputs": [
    {
     "data": {
      "text/plain": [
       "<AxesSubplot:xlabel='grade', ylabel='price'>"
      ]
     },
     "execution_count": 55,
     "metadata": {},
     "output_type": "execute_result"
    },
    {
     "data": {
      "image/png": "[encoded data removed]",
      "text/plain": [
       "<Figure size 432x288 with 1 Axes>"
      ]
     },
     "metadata": {
      "needs_background": "light"
     },
     "output_type": "display_data"
    }
   ],
   "source": [
    "sns.barplot(x = df['grade'],y = df['price'])"
   ]
  },
  {
   "cell_type": "code",
   "execution_count": 56,
   "id": "8aae382f",
   "metadata": {},
   "outputs": [
    {
     "data": {
      "text/plain": [
       "<AxesSubplot:xlabel='bedrooms', ylabel='price'>"
      ]
     },
     "execution_count": 56,
     "metadata": {},
     "output_type": "execute_result"
    },
    {
     "data": {
      "image/png": "[encoded data removed]",
      "text/plain": [
       "<Figure size 432x288 with 1 Axes>"
      ]
     },
     "metadata": {
      "needs_background": "light"
     },
     "output_type": "display_data"
    }
   ],
   "source": [
    "sns.barplot(x = df['bedrooms'],y = df['price'])"
   ]
  },
  {
   "cell_type": "code",
   "execution_count": 57,
   "id": "2a4b3c93",
   "metadata": {},
   "outputs": [
    {
     "data": {
      "image/png": "[encoded data removed]",
      "text/plain": [
       "<Figure size 3600x2160 with 1 Axes>"
      ]
     },
     "metadata": {
      "needs_background": "light"
     },
     "output_type": "display_data"
    }
   ],
   "source": [
    "sns.barplot(x = df['bathrooms'],y = df['price'])\n",
    "plt.gcf().set_size_inches(50,30)"
   ]
  },
  {
   "cell_type": "code",
   "execution_count": 58,
   "id": "68df0454",
   "metadata": {},
   "outputs": [
    {
     "data": {
      "image/png": "[encoded data removed]",
      "text/plain": [
       "<Figure size 3600x2160 with 1 Axes>"
      ]
     },
     "metadata": {
      "needs_background": "light"
     },
     "output_type": "display_data"
    }
   ],
   "source": [
    "sns.barplot(x = df['yr_renovated'],y = df['price'])\n",
    "plt.gcf().set_size_inches(50,30)"
   ]
  },
  {
   "cell_type": "code",
   "execution_count": 59,
   "id": "54d6d88e",
   "metadata": {},
   "outputs": [
    {
     "data": {
      "image/png": "[encoded data removed]",
      "text/plain": [
       "<Figure size 3600x2160 with 1 Axes>"
      ]
     },
     "metadata": {
      "needs_background": "light"
     },
     "output_type": "display_data"
    }
   ],
   "source": [
    "sns.barplot(x = df['age_build'],y = df['price'])\n",
    "plt.gcf().set_size_inches(50,30)"
   ]
  },
  {
   "cell_type": "markdown",
   "id": "dd516edc",
   "metadata": {},
   "source": [
    "#### Bedrooms"
   ]
  },
  {
   "cell_type": "markdown",
   "id": "472355d6",
   "metadata": {},
   "source": [
    "instead of losing data because of outliers, we set the no bedrooms >8 == 9"
   ]
  },
  {
   "cell_type": "code",
   "execution_count": 60,
   "id": "e1694225",
   "metadata": {},
   "outputs": [
    {
     "data": {
      "text/plain": [
       "array([2., 1., 3., 4., 0., 5., 6., 7., 8., 9.])"
      ]
     },
     "execution_count": 60,
     "metadata": {},
     "output_type": "execute_result"
    }
   ],
   "source": [
    "categorical['bedrooms'] = categorical['bedrooms'].replace([11,10],9)\n",
    "categorical['bedrooms'].unique()"
   ]
  },
  {
   "cell_type": "code",
   "execution_count": 61,
   "id": "2676baf8",
   "metadata": {},
   "outputs": [
    {
     "data": {
      "text/plain": [
       "<AxesSubplot:xlabel='bedrooms', ylabel='price'>"
      ]
     },
     "execution_count": 61,
     "metadata": {},
     "output_type": "execute_result"
    },
    {
     "data": {
      "image/png": "[encoded data removed]",
      "text/plain": [
       "<Figure size 432x288 with 1 Axes>"
      ]
     },
     "metadata": {
      "needs_background": "light"
     },
     "output_type": "display_data"
    }
   ],
   "source": [
    "sns.barplot(x = categorical['bedrooms'],y = df['price'])"
   ]
  },
  {
   "cell_type": "code",
   "execution_count": null,
   "id": "da2061de",
   "metadata": {},
   "outputs": [],
   "source": []
  },
  {
   "cell_type": "markdown",
   "id": "8a443704",
   "metadata": {},
   "source": [
    "### Normalize numerical"
   ]
  },
  {
   "cell_type": "markdown",
   "id": "6d5529d1",
   "metadata": {},
   "source": [
    "sqft_living"
   ]
  },
  {
   "cell_type": "code",
   "execution_count": 62,
   "id": "b25b2524",
   "metadata": {},
   "outputs": [
    {
     "name": "stderr",
     "output_type": "stream",
     "text": [
      "/var/folders/mm/gw92vpys6rggjz_4z42s244w0000gn/T/ipykernel_3286/1664979473.py:2: SettingWithCopyWarning: \n",
      "A value is trying to be set on a copy of a slice from a DataFrame.\n",
      "Try using .loc[row_indexer,col_indexer] = value instead\n",
      "\n",
      "See the caveats in the documentation: https://pandas.pydata.org/pandas-docs/stable/user_guide/indexing.html#returning-a-view-versus-a-copy\n",
      "  numerical_2['sqft_living'] = qt.fit_transform(numerical_2['sqft_living'].to_numpy().reshape(-1,1))\n"
     ]
    },
    {
     "data": {
      "text/plain": [
       "<seaborn.axisgrid.FacetGrid at 0x7fcbae35c1f0>"
      ]
     },
     "execution_count": 62,
     "metadata": {},
     "output_type": "execute_result"
    },
    {
     "data": {
      "image/png": "[encoded data removed]",
      "text/plain": [
       "<Figure size 360x360 with 1 Axes>"
      ]
     },
     "metadata": {
      "needs_background": "light"
     },
     "output_type": "display_data"
    }
   ],
   "source": [
    "qt = QuantileTransformer(output_distribution = 'normal')\n",
    "numerical_2['sqft_living'] = qt.fit_transform(numerical_2['sqft_living'].to_numpy().reshape(-1,1))\n",
    "sns.displot(numerical_2['sqft_living'])"
   ]
  },
  {
   "cell_type": "markdown",
   "id": "7a31722f",
   "metadata": {},
   "source": [
    "sqft_living15"
   ]
  },
  {
   "cell_type": "code",
   "execution_count": 63,
   "id": "b95a7840",
   "metadata": {},
   "outputs": [
    {
     "name": "stderr",
     "output_type": "stream",
     "text": [
      "/var/folders/mm/gw92vpys6rggjz_4z42s244w0000gn/T/ipykernel_3286/1975453770.py:2: SettingWithCopyWarning: \n",
      "A value is trying to be set on a copy of a slice from a DataFrame.\n",
      "Try using .loc[row_indexer,col_indexer] = value instead\n",
      "\n",
      "See the caveats in the documentation: https://pandas.pydata.org/pandas-docs/stable/user_guide/indexing.html#returning-a-view-versus-a-copy\n",
      "  numerical_2['sqft_living15'] = qt.fit_transform(numerical_2['sqft_living15'].to_numpy().reshape(-1,1))\n"
     ]
    },
    {
     "data": {
      "text/plain": [
       "<seaborn.axisgrid.FacetGrid at 0x7fcbae1b2f10>"
      ]
     },
     "execution_count": 63,
     "metadata": {},
     "output_type": "execute_result"
    },
    {
     "data": {
      "image/png": "[encoded data removed]",
      "text/plain": [
       "<Figure size 360x360 with 1 Axes>"
      ]
     },
     "metadata": {
      "needs_background": "light"
     },
     "output_type": "display_data"
    }
   ],
   "source": [
    "qt = QuantileTransformer(output_distribution = 'normal')\n",
    "numerical_2['sqft_living15'] = qt.fit_transform(numerical_2['sqft_living15'].to_numpy().reshape(-1,1))\n",
    "sns.displot(numerical_2['sqft_living15'])"
   ]
  },
  {
   "cell_type": "markdown",
   "id": "8c1ae2ec",
   "metadata": {},
   "source": [
    "sqft_lot"
   ]
  },
  {
   "cell_type": "code",
   "execution_count": 64,
   "id": "488323d3",
   "metadata": {},
   "outputs": [
    {
     "name": "stderr",
     "output_type": "stream",
     "text": [
      "/var/folders/mm/gw92vpys6rggjz_4z42s244w0000gn/T/ipykernel_3286/2662698753.py:2: SettingWithCopyWarning: \n",
      "A value is trying to be set on a copy of a slice from a DataFrame.\n",
      "Try using .loc[row_indexer,col_indexer] = value instead\n",
      "\n",
      "See the caveats in the documentation: https://pandas.pydata.org/pandas-docs/stable/user_guide/indexing.html#returning-a-view-versus-a-copy\n",
      "  numerical_2['sqft_lot'] = qt.fit_transform(numerical_2['sqft_lot'].to_numpy().reshape(-1,1))\n"
     ]
    },
    {
     "data": {
      "text/plain": [
       "<seaborn.axisgrid.FacetGrid at 0x7fcbadb0f8e0>"
      ]
     },
     "execution_count": 64,
     "metadata": {},
     "output_type": "execute_result"
    },
    {
     "data": {
      "image/png": "[encoded data removed]",
      "text/plain": [
       "<Figure size 360x360 with 1 Axes>"
      ]
     },
     "metadata": {
      "needs_background": "light"
     },
     "output_type": "display_data"
    }
   ],
   "source": [
    "qt = QuantileTransformer(output_distribution = 'normal')\n",
    "numerical_2['sqft_lot'] = qt.fit_transform(numerical_2['sqft_lot'].to_numpy().reshape(-1,1))\n",
    "sns.displot(numerical_2['sqft_lot'])"
   ]
  },
  {
   "cell_type": "markdown",
   "id": "5600efbc",
   "metadata": {},
   "source": [
    "sqft_lot15"
   ]
  },
  {
   "cell_type": "code",
   "execution_count": 65,
   "id": "09f61d41",
   "metadata": {},
   "outputs": [
    {
     "name": "stderr",
     "output_type": "stream",
     "text": [
      "/var/folders/mm/gw92vpys6rggjz_4z42s244w0000gn/T/ipykernel_3286/4243214181.py:2: SettingWithCopyWarning: \n",
      "A value is trying to be set on a copy of a slice from a DataFrame.\n",
      "Try using .loc[row_indexer,col_indexer] = value instead\n",
      "\n",
      "See the caveats in the documentation: https://pandas.pydata.org/pandas-docs/stable/user_guide/indexing.html#returning-a-view-versus-a-copy\n",
      "  numerical_2['sqft_lot15'] = qt.fit_transform(numerical_2['sqft_lot15'].to_numpy().reshape(-1,1))\n"
     ]
    },
    {
     "data": {
      "text/plain": [
       "<seaborn.axisgrid.FacetGrid at 0x7fcb93343a60>"
      ]
     },
     "execution_count": 65,
     "metadata": {},
     "output_type": "execute_result"
    },
    {
     "data": {
      "image/png": "[encoded data removed]",
      "text/plain": [
       "<Figure size 360x360 with 1 Axes>"
      ]
     },
     "metadata": {
      "needs_background": "light"
     },
     "output_type": "display_data"
    }
   ],
   "source": [
    "qt = QuantileTransformer(output_distribution = 'normal')\n",
    "numerical_2['sqft_lot15'] = qt.fit_transform(numerical_2['sqft_lot15'].to_numpy().reshape(-1,1))\n",
    "sns.displot(numerical_2['sqft_lot15'])"
   ]
  },
  {
   "cell_type": "markdown",
   "id": "58a207db",
   "metadata": {},
   "source": [
    "sqft_basement"
   ]
  },
  {
   "cell_type": "code",
   "execution_count": 66,
   "id": "90daf7e1",
   "metadata": {},
   "outputs": [
    {
     "name": "stderr",
     "output_type": "stream",
     "text": [
      "/var/folders/mm/gw92vpys6rggjz_4z42s244w0000gn/T/ipykernel_3286/1424423749.py:2: SettingWithCopyWarning: \n",
      "A value is trying to be set on a copy of a slice from a DataFrame.\n",
      "Try using .loc[row_indexer,col_indexer] = value instead\n",
      "\n",
      "See the caveats in the documentation: https://pandas.pydata.org/pandas-docs/stable/user_guide/indexing.html#returning-a-view-versus-a-copy\n",
      "  numerical_2['sqft_basement'] = qt.fit_transform(numerical_2['sqft_basement'].to_numpy().reshape(-1,1))\n"
     ]
    },
    {
     "data": {
      "text/plain": [
       "<seaborn.axisgrid.FacetGrid at 0x7fcbae16fc40>"
      ]
     },
     "execution_count": 66,
     "metadata": {},
     "output_type": "execute_result"
    },
    {
     "data": {
      "image/png": "[encoded data removed]",
      "text/plain": [
       "<Figure size 360x360 with 1 Axes>"
      ]
     },
     "metadata": {
      "needs_background": "light"
     },
     "output_type": "display_data"
    }
   ],
   "source": [
    "#qt = QuantileTransformer(output_distribution = 'normal')\n",
    "#numerical_2['sqft_basement'] = qt.fit_transform(numerical_2['sqft_basement'].to_numpy().reshape(-1,1))\n",
    "#sns.displot(numerical_2['sqft_basement'])"
   ]
  },
  {
   "cell_type": "code",
   "execution_count": 67,
   "id": "e6bb0acd",
   "metadata": {},
   "outputs": [
    {
     "name": "stderr",
     "output_type": "stream",
     "text": [
      "/var/folders/mm/gw92vpys6rggjz_4z42s244w0000gn/T/ipykernel_3286/244092561.py:2: SettingWithCopyWarning: \n",
      "A value is trying to be set on a copy of a slice from a DataFrame.\n",
      "Try using .loc[row_indexer,col_indexer] = value instead\n",
      "\n",
      "See the caveats in the documentation: https://pandas.pydata.org/pandas-docs/stable/user_guide/indexing.html#returning-a-view-versus-a-copy\n",
      "  numerical_2['age_build'] = qt.fit_transform(numerical_2['age_build'].to_numpy().reshape(-1,1))\n"
     ]
    },
    {
     "data": {
      "text/plain": [
       "<seaborn.axisgrid.FacetGrid at 0x7fcbae17d1c0>"
      ]
     },
     "execution_count": 67,
     "metadata": {},
     "output_type": "execute_result"
    },
    {
     "data": {
      "image/png": "[encoded data removed]",
      "text/plain": [
       "<Figure size 360x360 with 1 Axes>"
      ]
     },
     "metadata": {
      "needs_background": "light"
     },
     "output_type": "display_data"
    }
   ],
   "source": [
    "#qt = QuantileTransformer(output_distribution = 'normal')\n",
    "#numerical_2['age_build'] = qt.fit_transform(numerical_2['age_build'].to_numpy().reshape(-1,1))\n",
    "#sns.displot(numerical_2['age_build'])"
   ]
  },
  {
   "cell_type": "code",
   "execution_count": 68,
   "id": "26fba5b7",
   "metadata": {},
   "outputs": [
    {
     "data": {
      "text/html": [
       "<div>\n",
       "<style scoped>\n",
       "    .dataframe tbody tr th:only-of-type {\n",
       "        vertical-align: middle;\n",
       "    }\n",
       "\n",
       "    .dataframe tbody tr th {\n",
       "        vertical-align: top;\n",
       "    }\n",
       "\n",
       "    .dataframe thead th {\n",
       "        text-align: right;\n",
       "    }\n",
       "</style>\n",
       "<table border=\"1\" class=\"dataframe\">\n",
       "  <thead>\n",
       "    <tr style=\"text-align: right;\">\n",
       "      <th></th>\n",
       "      <th>date</th>\n",
       "      <th>sqft_living</th>\n",
       "      <th>sqft_lot</th>\n",
       "      <th>sqft_above</th>\n",
       "      <th>sqft_basement</th>\n",
       "      <th>age_build</th>\n",
       "      <th>zipcode</th>\n",
       "      <th>sqft_living15</th>\n",
       "      <th>sqft_lot15</th>\n",
       "    </tr>\n",
       "  </thead>\n",
       "  <tbody>\n",
       "    <tr>\n",
       "      <th>0</th>\n",
       "      <td>735519</td>\n",
       "      <td>-1.1094</td>\n",
       "      <td>-0.5178</td>\n",
       "      <td>1180</td>\n",
       "      <td>-5.1993</td>\n",
       "      <td>0.5496</td>\n",
       "      <td>98178</td>\n",
       "      <td>-1.0379</td>\n",
       "      <td>-0.5181</td>\n",
       "    </tr>\n",
       "    <tr>\n",
       "      <th>1</th>\n",
       "      <td>735576</td>\n",
       "      <td>0.6943</td>\n",
       "      <td>-0.1155</td>\n",
       "      <td>2170</td>\n",
       "      <td>0.4921</td>\n",
       "      <td>0.6895</td>\n",
       "      <td>98125</td>\n",
       "      <td>-0.2471</td>\n",
       "      <td>0.0075</td>\n",
       "    </tr>\n",
       "    <tr>\n",
       "      <th>2</th>\n",
       "      <td>735654</td>\n",
       "      <td>-2.1317</td>\n",
       "      <td>0.5628</td>\n",
       "      <td>770</td>\n",
       "      <td>-5.1993</td>\n",
       "      <td>1.1187</td>\n",
       "      <td>98028</td>\n",
       "      <td>1.0641</td>\n",
       "      <td>0.1541</td>\n",
       "    </tr>\n",
       "    <tr>\n",
       "      <th>3</th>\n",
       "      <td>735576</td>\n",
       "      <td>0.0515</td>\n",
       "      <td>-0.7185</td>\n",
       "      <td>1050</td>\n",
       "      <td>1.1895</td>\n",
       "      <td>0.2471</td>\n",
       "      <td>98136</td>\n",
       "      <td>-0.9856</td>\n",
       "      <td>-0.7447</td>\n",
       "    </tr>\n",
       "    <tr>\n",
       "      <th>4</th>\n",
       "      <td>735647</td>\n",
       "      <td>-0.2940</td>\n",
       "      <td>0.1280</td>\n",
       "      <td>1680</td>\n",
       "      <td>-5.1993</td>\n",
       "      <td>-0.3682</td>\n",
       "      <td>98074</td>\n",
       "      <td>-0.0628</td>\n",
       "      <td>-0.0404</td>\n",
       "    </tr>\n",
       "    <tr>\n",
       "      <th>...</th>\n",
       "      <td>...</td>\n",
       "      <td>...</td>\n",
       "      <td>...</td>\n",
       "      <td>...</td>\n",
       "      <td>...</td>\n",
       "      <td>...</td>\n",
       "      <td>...</td>\n",
       "      <td>...</td>\n",
       "      <td>...</td>\n",
       "    </tr>\n",
       "    <tr>\n",
       "      <th>21591</th>\n",
       "      <td>735374</td>\n",
       "      <td>-0.5092</td>\n",
       "      <td>-2.1322</td>\n",
       "      <td>1530</td>\n",
       "      <td>-5.1993</td>\n",
       "      <td>-1.5296</td>\n",
       "      <td>98103</td>\n",
       "      <td>-0.5731</td>\n",
       "      <td>-1.8316</td>\n",
       "    </tr>\n",
       "    <tr>\n",
       "      <th>21592</th>\n",
       "      <td>735652</td>\n",
       "      <td>0.4362</td>\n",
       "      <td>-0.4751</td>\n",
       "      <td>2310</td>\n",
       "      <td>-5.1993</td>\n",
       "      <td>-2.1831</td>\n",
       "      <td>98146</td>\n",
       "      <td>-0.0125</td>\n",
       "      <td>-0.1664</td>\n",
       "    </tr>\n",
       "    <tr>\n",
       "      <th>21593</th>\n",
       "      <td>735407</td>\n",
       "      <td>-1.4285</td>\n",
       "      <td>-1.8373</td>\n",
       "      <td>1020</td>\n",
       "      <td>-5.1993</td>\n",
       "      <td>-1.5296</td>\n",
       "      <td>98144</td>\n",
       "      <td>-2.0431</td>\n",
       "      <td>-1.6441</td>\n",
       "    </tr>\n",
       "    <tr>\n",
       "      <th>21594</th>\n",
       "      <td>735614</td>\n",
       "      <td>-0.4061</td>\n",
       "      <td>-1.5155</td>\n",
       "      <td>1600</td>\n",
       "      <td>-5.1993</td>\n",
       "      <td>-1.0083</td>\n",
       "      <td>98027</td>\n",
       "      <td>-0.8625</td>\n",
       "      <td>-2.0680</td>\n",
       "    </tr>\n",
       "    <tr>\n",
       "      <th>21595</th>\n",
       "      <td>735521</td>\n",
       "      <td>-1.4285</td>\n",
       "      <td>-2.2208</td>\n",
       "      <td>1020</td>\n",
       "      <td>-5.1993</td>\n",
       "      <td>-1.4285</td>\n",
       "      <td>98144</td>\n",
       "      <td>-2.0431</td>\n",
       "      <td>-1.9548</td>\n",
       "    </tr>\n",
       "  </tbody>\n",
       "</table>\n",
       "<p>21596 rows × 9 columns</p>\n",
       "</div>"
      ],
      "text/plain": [
       "         date  sqft_living  sqft_lot  sqft_above  sqft_basement  age_build  \\\n",
       "0      735519      -1.1094   -0.5178        1180        -5.1993     0.5496   \n",
       "1      735576       0.6943   -0.1155        2170         0.4921     0.6895   \n",
       "2      735654      -2.1317    0.5628         770        -5.1993     1.1187   \n",
       "3      735576       0.0515   -0.7185        1050         1.1895     0.2471   \n",
       "4      735647      -0.2940    0.1280        1680        -5.1993    -0.3682   \n",
       "...       ...          ...       ...         ...            ...        ...   \n",
       "21591  735374      -0.5092   -2.1322        1530        -5.1993    -1.5296   \n",
       "21592  735652       0.4362   -0.4751        2310        -5.1993    -2.1831   \n",
       "21593  735407      -1.4285   -1.8373        1020        -5.1993    -1.5296   \n",
       "21594  735614      -0.4061   -1.5155        1600        -5.1993    -1.0083   \n",
       "21595  735521      -1.4285   -2.2208        1020        -5.1993    -1.4285   \n",
       "\n",
       "       zipcode  sqft_living15  sqft_lot15  \n",
       "0        98178        -1.0379     -0.5181  \n",
       "1        98125        -0.2471      0.0075  \n",
       "2        98028         1.0641      0.1541  \n",
       "3        98136        -0.9856     -0.7447  \n",
       "4        98074        -0.0628     -0.0404  \n",
       "...        ...            ...         ...  \n",
       "21591    98103        -0.5731     -1.8316  \n",
       "21592    98146        -0.0125     -0.1664  \n",
       "21593    98144        -2.0431     -1.6441  \n",
       "21594    98027        -0.8625     -2.0680  \n",
       "21595    98144        -2.0431     -1.9548  \n",
       "\n",
       "[21596 rows x 9 columns]"
      ]
     },
     "execution_count": 68,
     "metadata": {},
     "output_type": "execute_result"
    }
   ],
   "source": [
    "numerical_2"
   ]
  },
  {
   "cell_type": "markdown",
   "id": "621018de",
   "metadata": {},
   "source": [
    "## Trial 1: only numerical varaibles"
   ]
  },
  {
   "cell_type": "markdown",
   "id": "008158a6",
   "metadata": {},
   "source": [
    "#### XY Split"
   ]
  },
  {
   "cell_type": "code",
   "execution_count": 69,
   "id": "ed3ae69a",
   "metadata": {},
   "outputs": [
    {
     "data": {
      "text/plain": [
       "0        221900\n",
       "1        538000\n",
       "2        180000\n",
       "3        604000\n",
       "4        510000\n",
       "          ...  \n",
       "21591    360000\n",
       "21592    400000\n",
       "21593    402101\n",
       "21594    400000\n",
       "21595    325000\n",
       "Name: price, Length: 21596, dtype: int64"
      ]
     },
     "execution_count": 69,
     "metadata": {},
     "output_type": "execute_result"
    }
   ],
   "source": [
    "X=numerical_2\n",
    "X\n",
    "y=numerical.price\n",
    "y"
   ]
  },
  {
   "cell_type": "code",
   "execution_count": 70,
   "id": "9801093c",
   "metadata": {},
   "outputs": [
    {
     "data": {
      "text/html": [
       "<div>\n",
       "<style scoped>\n",
       "    .dataframe tbody tr th:only-of-type {\n",
       "        vertical-align: middle;\n",
       "    }\n",
       "\n",
       "    .dataframe tbody tr th {\n",
       "        vertical-align: top;\n",
       "    }\n",
       "\n",
       "    .dataframe thead th {\n",
       "        text-align: right;\n",
       "    }\n",
       "</style>\n",
       "<table border=\"1\" class=\"dataframe\">\n",
       "  <thead>\n",
       "    <tr style=\"text-align: right;\">\n",
       "      <th></th>\n",
       "      <th>date</th>\n",
       "      <th>sqft_living</th>\n",
       "      <th>sqft_lot</th>\n",
       "      <th>sqft_above</th>\n",
       "      <th>sqft_basement</th>\n",
       "      <th>age_build</th>\n",
       "      <th>zipcode</th>\n",
       "      <th>sqft_living15</th>\n",
       "      <th>sqft_lot15</th>\n",
       "    </tr>\n",
       "  </thead>\n",
       "  <tbody>\n",
       "    <tr>\n",
       "      <th>0</th>\n",
       "      <td>735519</td>\n",
       "      <td>-1.1094</td>\n",
       "      <td>-0.5178</td>\n",
       "      <td>1180</td>\n",
       "      <td>-5.1993</td>\n",
       "      <td>0.5496</td>\n",
       "      <td>98178</td>\n",
       "      <td>-1.0379</td>\n",
       "      <td>-0.5181</td>\n",
       "    </tr>\n",
       "    <tr>\n",
       "      <th>1</th>\n",
       "      <td>735576</td>\n",
       "      <td>0.6943</td>\n",
       "      <td>-0.1155</td>\n",
       "      <td>2170</td>\n",
       "      <td>0.4921</td>\n",
       "      <td>0.6895</td>\n",
       "      <td>98125</td>\n",
       "      <td>-0.2471</td>\n",
       "      <td>0.0075</td>\n",
       "    </tr>\n",
       "    <tr>\n",
       "      <th>2</th>\n",
       "      <td>735654</td>\n",
       "      <td>-2.1317</td>\n",
       "      <td>0.5628</td>\n",
       "      <td>770</td>\n",
       "      <td>-5.1993</td>\n",
       "      <td>1.1187</td>\n",
       "      <td>98028</td>\n",
       "      <td>1.0641</td>\n",
       "      <td>0.1541</td>\n",
       "    </tr>\n",
       "    <tr>\n",
       "      <th>3</th>\n",
       "      <td>735576</td>\n",
       "      <td>0.0515</td>\n",
       "      <td>-0.7185</td>\n",
       "      <td>1050</td>\n",
       "      <td>1.1895</td>\n",
       "      <td>0.2471</td>\n",
       "      <td>98136</td>\n",
       "      <td>-0.9856</td>\n",
       "      <td>-0.7447</td>\n",
       "    </tr>\n",
       "    <tr>\n",
       "      <th>4</th>\n",
       "      <td>735647</td>\n",
       "      <td>-0.2940</td>\n",
       "      <td>0.1280</td>\n",
       "      <td>1680</td>\n",
       "      <td>-5.1993</td>\n",
       "      <td>-0.3682</td>\n",
       "      <td>98074</td>\n",
       "      <td>-0.0628</td>\n",
       "      <td>-0.0404</td>\n",
       "    </tr>\n",
       "    <tr>\n",
       "      <th>...</th>\n",
       "      <td>...</td>\n",
       "      <td>...</td>\n",
       "      <td>...</td>\n",
       "      <td>...</td>\n",
       "      <td>...</td>\n",
       "      <td>...</td>\n",
       "      <td>...</td>\n",
       "      <td>...</td>\n",
       "      <td>...</td>\n",
       "    </tr>\n",
       "    <tr>\n",
       "      <th>21591</th>\n",
       "      <td>735374</td>\n",
       "      <td>-0.5092</td>\n",
       "      <td>-2.1322</td>\n",
       "      <td>1530</td>\n",
       "      <td>-5.1993</td>\n",
       "      <td>-1.5296</td>\n",
       "      <td>98103</td>\n",
       "      <td>-0.5731</td>\n",
       "      <td>-1.8316</td>\n",
       "    </tr>\n",
       "    <tr>\n",
       "      <th>21592</th>\n",
       "      <td>735652</td>\n",
       "      <td>0.4362</td>\n",
       "      <td>-0.4751</td>\n",
       "      <td>2310</td>\n",
       "      <td>-5.1993</td>\n",
       "      <td>-2.1831</td>\n",
       "      <td>98146</td>\n",
       "      <td>-0.0125</td>\n",
       "      <td>-0.1664</td>\n",
       "    </tr>\n",
       "    <tr>\n",
       "      <th>21593</th>\n",
       "      <td>735407</td>\n",
       "      <td>-1.4285</td>\n",
       "      <td>-1.8373</td>\n",
       "      <td>1020</td>\n",
       "      <td>-5.1993</td>\n",
       "      <td>-1.5296</td>\n",
       "      <td>98144</td>\n",
       "      <td>-2.0431</td>\n",
       "      <td>-1.6441</td>\n",
       "    </tr>\n",
       "    <tr>\n",
       "      <th>21594</th>\n",
       "      <td>735614</td>\n",
       "      <td>-0.4061</td>\n",
       "      <td>-1.5155</td>\n",
       "      <td>1600</td>\n",
       "      <td>-5.1993</td>\n",
       "      <td>-1.0083</td>\n",
       "      <td>98027</td>\n",
       "      <td>-0.8625</td>\n",
       "      <td>-2.0680</td>\n",
       "    </tr>\n",
       "    <tr>\n",
       "      <th>21595</th>\n",
       "      <td>735521</td>\n",
       "      <td>-1.4285</td>\n",
       "      <td>-2.2208</td>\n",
       "      <td>1020</td>\n",
       "      <td>-5.1993</td>\n",
       "      <td>-1.4285</td>\n",
       "      <td>98144</td>\n",
       "      <td>-2.0431</td>\n",
       "      <td>-1.9548</td>\n",
       "    </tr>\n",
       "  </tbody>\n",
       "</table>\n",
       "<p>21596 rows × 9 columns</p>\n",
       "</div>"
      ],
      "text/plain": [
       "         date  sqft_living  sqft_lot  sqft_above  sqft_basement  age_build  \\\n",
       "0      735519      -1.1094   -0.5178        1180        -5.1993     0.5496   \n",
       "1      735576       0.6943   -0.1155        2170         0.4921     0.6895   \n",
       "2      735654      -2.1317    0.5628         770        -5.1993     1.1187   \n",
       "3      735576       0.0515   -0.7185        1050         1.1895     0.2471   \n",
       "4      735647      -0.2940    0.1280        1680        -5.1993    -0.3682   \n",
       "...       ...          ...       ...         ...            ...        ...   \n",
       "21591  735374      -0.5092   -2.1322        1530        -5.1993    -1.5296   \n",
       "21592  735652       0.4362   -0.4751        2310        -5.1993    -2.1831   \n",
       "21593  735407      -1.4285   -1.8373        1020        -5.1993    -1.5296   \n",
       "21594  735614      -0.4061   -1.5155        1600        -5.1993    -1.0083   \n",
       "21595  735521      -1.4285   -2.2208        1020        -5.1993    -1.4285   \n",
       "\n",
       "       zipcode  sqft_living15  sqft_lot15  \n",
       "0        98178        -1.0379     -0.5181  \n",
       "1        98125        -0.2471      0.0075  \n",
       "2        98028         1.0641      0.1541  \n",
       "3        98136        -0.9856     -0.7447  \n",
       "4        98074        -0.0628     -0.0404  \n",
       "...        ...            ...         ...  \n",
       "21591    98103        -0.5731     -1.8316  \n",
       "21592    98146        -0.0125     -0.1664  \n",
       "21593    98144        -2.0431     -1.6441  \n",
       "21594    98027        -0.8625     -2.0680  \n",
       "21595    98144        -2.0431     -1.9548  \n",
       "\n",
       "[21596 rows x 9 columns]"
      ]
     },
     "execution_count": 70,
     "metadata": {},
     "output_type": "execute_result"
    }
   ],
   "source": [
    "X"
   ]
  },
  {
   "cell_type": "code",
   "execution_count": 71,
   "id": "35688df6",
   "metadata": {},
   "outputs": [],
   "source": [
    "# X=X._get_numeric_data()\n",
    "# X"
   ]
  },
  {
   "cell_type": "markdown",
   "id": "d45e6a03",
   "metadata": {},
   "source": [
    "#### Data Splitting"
   ]
  },
  {
   "cell_type": "code",
   "execution_count": 72,
   "id": "ce28fc50",
   "metadata": {},
   "outputs": [],
   "source": [
    "X_train, X_test, y_train, y_test=train_test_split(X, y, test_size=.30,random_state=123)"
   ]
  },
  {
   "cell_type": "markdown",
   "id": "ceccae8c",
   "metadata": {},
   "source": [
    "#### Standardize"
   ]
  },
  {
   "cell_type": "code",
   "execution_count": 73,
   "id": "25c0f764",
   "metadata": {},
   "outputs": [],
   "source": [
    "std_scaler = StandardScaler().fit(X_train) \n",
    "\n",
    "X_train_scaled = std_scaler.transform(X_train)"
   ]
  },
  {
   "cell_type": "code",
   "execution_count": 74,
   "id": "7f0104b2",
   "metadata": {},
   "outputs": [],
   "source": [
    "X_test_scaled=std_scaler.transform(X_test)"
   ]
  },
  {
   "cell_type": "code",
   "execution_count": 75,
   "id": "6cf85e7e",
   "metadata": {},
   "outputs": [
    {
     "name": "stdout",
     "output_type": "stream",
     "text": [
      "[[-0.49324435 -0.71707153  0.41865299 ...  0.52695717 -0.41855798\n",
      "   0.27814248]\n",
      " [-0.01627548  0.54640315  0.37730395 ... -1.39808504 -0.88431417\n",
      "  -0.16690314]\n",
      " [-1.42951657  0.1867116   0.81873396 ... -0.07111419  0.37987618\n",
      "   0.9915377 ]\n",
      " ...\n",
      " [-0.00744272 -0.16726225 -0.08728358 ... -0.74394448 -0.6149564\n",
      "   0.0020762 ]\n",
      " [-1.06737354  0.00642335  0.49158368 ... -0.8747726  -0.64090562\n",
      "   0.51783934]\n",
      " [ 0.18687793 -0.82856292 -1.80782357 ...  0.71385448 -0.45577345\n",
      "  -0.81851476]]\n",
      "--------\n",
      "[[ 0.30170376  0.71975034  0.3302575  ... -0.37014988  0.88311427\n",
      "   0.34810092]\n",
      " [ 1.60011902 -0.58388885 -1.82944958 ...  1.08764908 -0.52357866\n",
      "  -1.96006164]\n",
      " [ 0.01022279 -0.50968445 -2.37422485 ...  0.47088798 -0.57161943\n",
      "  -2.07731091]\n",
      " ...\n",
      " [-0.36958575 -1.4278584   0.08286582 ...  0.52695717 -2.11501665\n",
      "  -0.18381468]\n",
      " [-1.42068381 -0.21703882 -0.09885053 ...  1.68572045 -0.16316295\n",
      "  -0.01723105]\n",
      " [-0.06927202  1.42220091 -0.30117319 ...  1.08764908 -0.14795428\n",
      "  -0.29942452]]\n"
     ]
    }
   ],
   "source": [
    "print(X_train_scaled)\n",
    "print(\"--------\")\n",
    "print(X_test_scaled)"
   ]
  },
  {
   "cell_type": "code",
   "execution_count": 76,
   "id": "fee240a6",
   "metadata": {},
   "outputs": [
    {
     "name": "stdout",
     "output_type": "stream",
     "text": [
      "                            OLS Regression Results                            \n",
      "==============================================================================\n",
      "Dep. Variable:                  price   R-squared:                       0.533\n",
      "Model:                            OLS   Adj. R-squared:                  0.533\n",
      "Method:                 Least Squares   F-statistic:                     1916.\n",
      "Date:                Wed, 09 Feb 2022   Prob (F-statistic):               0.00\n",
      "Time:                        11:30:31   Log-Likelihood:            -2.0931e+05\n",
      "No. Observations:               15117   AIC:                         4.186e+05\n",
      "Df Residuals:                   15107   BIC:                         4.187e+05\n",
      "Df Model:                           9                                         \n",
      "Covariance Type:            nonrobust                                         \n",
      "==============================================================================\n",
      "                 coef    std err          t      P>|t|      [0.025      0.975]\n",
      "------------------------------------------------------------------------------\n",
      "const       5.391e+05   2029.739    265.599      0.000    5.35e+05    5.43e+05\n",
      "x1          6912.8885   2031.322      3.403      0.001    2931.253    1.09e+04\n",
      "x2         -1.226e+05   6510.743    -18.837      0.000   -1.35e+05    -1.1e+05\n",
      "x3          -3.22e+04   5477.648     -5.878      0.000   -4.29e+04   -2.15e+04\n",
      "x4          3.488e+05   6108.110     57.099      0.000    3.37e+05    3.61e+05\n",
      "x5          1.594e+05   3545.395     44.951      0.000    1.52e+05    1.66e+05\n",
      "x6          7.473e+04   2383.095     31.360      0.000    7.01e+04    7.94e+04\n",
      "x7          3113.9796   2296.776      1.356      0.175   -1387.978    7615.938\n",
      "x8          6.915e+04   3208.833     21.549      0.000    6.29e+04    7.54e+04\n",
      "x9         -1.022e+04   5411.699     -1.888      0.059   -2.08e+04     391.721\n",
      "==============================================================================\n",
      "Omnibus:                    10664.351   Durbin-Watson:                   1.997\n",
      "Prob(Omnibus):                  0.000   Jarque-Bera (JB):           398151.872\n",
      "Skew:                           2.937   Prob(JB):                         0.00\n",
      "Kurtosis:                      27.446   Cond. No.                         8.25\n",
      "==============================================================================\n",
      "\n",
      "Notes:\n",
      "[1] Standard Errors assume that the covariance matrix of the errors is correctly specified.\n"
     ]
    }
   ],
   "source": [
    "X_train_const_scaled = sm.add_constant(X_train_scaled) # adding a constant\n",
    "\n",
    "model = sm.OLS(y_train, X_train_const_scaled).fit()\n",
    "predictions_train = model.predict(X_train_const_scaled) \n",
    "\n",
    "X_test_const_scaled = sm.add_constant(X_test_scaled) # adding a constant\n",
    "predictions_test = model.predict(X_test_const_scaled) \n",
    "print_model = model.summary()\n",
    "print(print_model)"
   ]
  },
  {
   "cell_type": "markdown",
   "id": "194981a9",
   "metadata": {},
   "source": [
    "#### Model validation"
   ]
  },
  {
   "cell_type": "code",
   "execution_count": 77,
   "id": "12de5b3a",
   "metadata": {},
   "outputs": [
    {
     "data": {
      "text/plain": [
       "LinearRegression()"
      ]
     },
     "execution_count": 77,
     "metadata": {},
     "output_type": "execute_result"
    }
   ],
   "source": [
    "#using sklearn\n",
    "model=LinearRegression()    # model\n",
    "model.fit(X_train_scaled, y_train)   # model train"
   ]
  },
  {
   "cell_type": "code",
   "execution_count": 78,
   "id": "7be95e26",
   "metadata": {},
   "outputs": [
    {
     "data": {
      "text/plain": [
       "array([   6912.88852255, -122641.86695535,  -32198.79712324,\n",
       "        348768.89526896,  159369.97766797,   74733.36855853,\n",
       "          3113.97960287,   69145.65777134,  -10215.86400441])"
      ]
     },
     "execution_count": 78,
     "metadata": {},
     "output_type": "execute_result"
    }
   ],
   "source": [
    "model.coef_ #gives you per column the slope (alpha)"
   ]
  },
  {
   "cell_type": "code",
   "execution_count": 79,
   "id": "a7bc4bb0",
   "metadata": {},
   "outputs": [
    {
     "data": {
      "text/plain": [
       "539096.328041276"
      ]
     },
     "execution_count": 79,
     "metadata": {},
     "output_type": "execute_result"
    }
   ],
   "source": [
    "model.intercept_ #gives the optimal slope"
   ]
  },
  {
   "cell_type": "code",
   "execution_count": 80,
   "id": "b67e9558",
   "metadata": {},
   "outputs": [
    {
     "data": {
      "text/plain": [
       "0.544135603642514"
      ]
     },
     "execution_count": 80,
     "metadata": {},
     "output_type": "execute_result"
    }
   ],
   "source": [
    "R2_test = model.score(X_test_scaled,y_test) # measure R2\n",
    "R2_test"
   ]
  },
  {
   "cell_type": "code",
   "execution_count": 81,
   "id": "fc15a807",
   "metadata": {},
   "outputs": [
    {
     "data": {
      "text/plain": [
       "array([674033.24575562, 505750.86573498, 603575.11856333, ...,\n",
       "       174540.49376766, 444264.24734495, 819051.46339383])"
      ]
     },
     "execution_count": 81,
     "metadata": {},
     "output_type": "execute_result"
    }
   ],
   "source": [
    "# Making prediction\n",
    "y_pred = model.predict(X_test_scaled)\n",
    "y_pred"
   ]
  },
  {
   "cell_type": "code",
   "execution_count": 82,
   "id": "ebab9167",
   "metadata": {},
   "outputs": [
    {
     "data": {
      "text/plain": [
       "14863     392000\n",
       "2277      418000\n",
       "21578     520000\n",
       "18669    1050000\n",
       "21453     249000\n",
       "          ...   \n",
       "12811     291970\n",
       "12288     741000\n",
       "6556      269000\n",
       "16310     180000\n",
       "1050      850000\n",
       "Name: price, Length: 6479, dtype: int64"
      ]
     },
     "execution_count": 82,
     "metadata": {},
     "output_type": "execute_result"
    }
   ],
   "source": [
    "y_test"
   ]
  },
  {
   "cell_type": "code",
   "execution_count": 83,
   "id": "d19b1e97",
   "metadata": {},
   "outputs": [],
   "source": [
    "result=pd.DataFrame({\"y_test\":y_test,\"y_pred\":y_pred})"
   ]
  },
  {
   "cell_type": "code",
   "execution_count": 84,
   "id": "56a47e10",
   "metadata": {},
   "outputs": [
    {
     "data": {
      "text/plain": [
       "[<matplotlib.lines.Line2D at 0x7fcb952ea910>]"
      ]
     },
     "execution_count": 84,
     "metadata": {},
     "output_type": "execute_result"
    },
    {
     "data": {
      "image/png": "[encoded data removed]",
      "text/plain": [
       "<Figure size 1008x288 with 3 Axes>"
      ]
     },
     "metadata": {
      "needs_background": "light"
     },
     "output_type": "display_data"
    }
   ],
   "source": [
    "# Make an scatter plot y_pred vs y\n",
    "# What kind of plot you will get if all the all the predictions are ok?\n",
    "# A stright line\n",
    "\n",
    "fig, ax = plt.subplots(1,3,figsize=(14,4))\n",
    "ax[0].plot(y_pred, y_test, 'o')\n",
    "ax[0].set_xlabel(\"y_test\")\n",
    "ax[0].set_ylabel(\"y_pred\")\n",
    "ax[0].set_title(\"Test Set -Predicted vs real\")\n",
    "\n",
    "# Get a histogram of the residuals ie: y - y_pred.  Homoscdasticity\n",
    "# It resembles a normal distribution?\n",
    "ax[1].hist(y_test - y_pred)\n",
    "ax[1].set_xlabel(\"Test y-y_pred\")\n",
    "ax[1].set_title(\"Test Set Residual histogram\")\n",
    "\n",
    "ax[2].plot(y_pred,y_test - y_pred,\"o\")\n",
    "ax[2].set_xlabel(\"predited\")\n",
    "ax[2].set_ylabel(\"residuals\")\n",
    "ax[2].set_title(\"Residuals by Predicted\")\n",
    "ax[2].plot(y_pred,np.zeros(len(y_pred)),linestyle='dashed')"
   ]
  },
  {
   "cell_type": "code",
   "execution_count": 85,
   "id": "e3109aee",
   "metadata": {},
   "outputs": [
    {
     "data": {
      "text/plain": [
       "<AxesSubplot:xlabel='y_pred', ylabel='y_test'>"
      ]
     },
     "execution_count": 85,
     "metadata": {},
     "output_type": "execute_result"
    },
    {
     "data": {
      "image/png": "[encoded data removed]",
      "text/plain": [
       "<Figure size 432x288 with 1 Axes>"
      ]
     },
     "metadata": {
      "needs_background": "light"
     },
     "output_type": "display_data"
    }
   ],
   "source": [
    "sns.regplot(x='y_pred',y='y_test', data=result, scatter_kws={\"color\": \"red\"}, line_kws={\"color\": \"black\"})"
   ]
  },
  {
   "cell_type": "markdown",
   "id": "662da136",
   "metadata": {},
   "source": [
    "#### Error metrics"
   ]
  },
  {
   "cell_type": "code",
   "execution_count": 86,
   "id": "4f21d209",
   "metadata": {},
   "outputs": [
    {
     "name": "stdout",
     "output_type": "stream",
     "text": [
      "63313324002.27866\n",
      "161305.87288212223\n"
     ]
    }
   ],
   "source": [
    "print(mse(y_test,y_pred))\n",
    "print(mae(y_test,y_pred))"
   ]
  },
  {
   "cell_type": "markdown",
   "id": "6fb1364a",
   "metadata": {},
   "source": [
    "#### Features Importance"
   ]
  },
  {
   "cell_type": "code",
   "execution_count": 87,
   "id": "0f999929",
   "metadata": {},
   "outputs": [
    {
     "data": {
      "text/html": [
       "<div>\n",
       "<style scoped>\n",
       "    .dataframe tbody tr th:only-of-type {\n",
       "        vertical-align: middle;\n",
       "    }\n",
       "\n",
       "    .dataframe tbody tr th {\n",
       "        vertical-align: top;\n",
       "    }\n",
       "\n",
       "    .dataframe thead th {\n",
       "        text-align: right;\n",
       "    }\n",
       "</style>\n",
       "<table border=\"1\" class=\"dataframe\">\n",
       "  <thead>\n",
       "    <tr style=\"text-align: right;\">\n",
       "      <th></th>\n",
       "      <th>Attribute</th>\n",
       "      <th>Importance</th>\n",
       "    </tr>\n",
       "  </thead>\n",
       "  <tbody>\n",
       "    <tr>\n",
       "      <th>3</th>\n",
       "      <td>sqft_above</td>\n",
       "      <td>348768.8953</td>\n",
       "    </tr>\n",
       "    <tr>\n",
       "      <th>4</th>\n",
       "      <td>sqft_basement</td>\n",
       "      <td>159369.9777</td>\n",
       "    </tr>\n",
       "    <tr>\n",
       "      <th>1</th>\n",
       "      <td>sqft_living</td>\n",
       "      <td>122641.8670</td>\n",
       "    </tr>\n",
       "    <tr>\n",
       "      <th>5</th>\n",
       "      <td>age_build</td>\n",
       "      <td>74733.3686</td>\n",
       "    </tr>\n",
       "    <tr>\n",
       "      <th>7</th>\n",
       "      <td>sqft_living15</td>\n",
       "      <td>69145.6578</td>\n",
       "    </tr>\n",
       "    <tr>\n",
       "      <th>2</th>\n",
       "      <td>sqft_lot</td>\n",
       "      <td>32198.7971</td>\n",
       "    </tr>\n",
       "    <tr>\n",
       "      <th>8</th>\n",
       "      <td>sqft_lot15</td>\n",
       "      <td>10215.8640</td>\n",
       "    </tr>\n",
       "    <tr>\n",
       "      <th>0</th>\n",
       "      <td>date</td>\n",
       "      <td>6912.8885</td>\n",
       "    </tr>\n",
       "    <tr>\n",
       "      <th>6</th>\n",
       "      <td>zipcode</td>\n",
       "      <td>3113.9796</td>\n",
       "    </tr>\n",
       "  </tbody>\n",
       "</table>\n",
       "</div>"
      ],
      "text/plain": [
       "       Attribute  Importance\n",
       "3     sqft_above 348768.8953\n",
       "4  sqft_basement 159369.9777\n",
       "1    sqft_living 122641.8670\n",
       "5      age_build  74733.3686\n",
       "7  sqft_living15  69145.6578\n",
       "2       sqft_lot  32198.7971\n",
       "8     sqft_lot15  10215.8640\n",
       "0           date   6912.8885\n",
       "6        zipcode   3113.9796"
      ]
     },
     "execution_count": 87,
     "metadata": {},
     "output_type": "execute_result"
    }
   ],
   "source": [
    "features_importances = pd.DataFrame(data={\n",
    "    'Attribute': X_train.columns,\n",
    "    'Importance': abs(model.coef_)\n",
    "})\n",
    "features_importances = features_importances.sort_values(by='Importance', ascending=False)\n",
    "features_importances"
   ]
  },
  {
   "cell_type": "markdown",
   "id": "394840f2",
   "metadata": {},
   "source": [
    "we can notice that the sqft_living and living 15 are the most relevant together with zipcode"
   ]
  },
  {
   "cell_type": "code",
   "execution_count": 88,
   "id": "7b3ac61c",
   "metadata": {},
   "outputs": [
    {
     "data": {
      "text/html": [
       "<div>\n",
       "<style scoped>\n",
       "    .dataframe tbody tr th:only-of-type {\n",
       "        vertical-align: middle;\n",
       "    }\n",
       "\n",
       "    .dataframe tbody tr th {\n",
       "        vertical-align: top;\n",
       "    }\n",
       "\n",
       "    .dataframe thead th {\n",
       "        text-align: right;\n",
       "    }\n",
       "</style>\n",
       "<table border=\"1\" class=\"dataframe\">\n",
       "  <thead>\n",
       "    <tr style=\"text-align: right;\">\n",
       "      <th></th>\n",
       "      <th>date</th>\n",
       "      <th>bedrooms</th>\n",
       "      <th>bathrooms</th>\n",
       "      <th>sqft_living</th>\n",
       "      <th>sqft_lot</th>\n",
       "      <th>floors</th>\n",
       "      <th>waterfront</th>\n",
       "      <th>view</th>\n",
       "      <th>condition</th>\n",
       "      <th>grade</th>\n",
       "      <th>sqft_above</th>\n",
       "      <th>sqft_basement</th>\n",
       "      <th>age_build</th>\n",
       "      <th>yr_renovated</th>\n",
       "      <th>zipcode</th>\n",
       "      <th>sqft_living15</th>\n",
       "      <th>sqft_lot15</th>\n",
       "      <th>price</th>\n",
       "    </tr>\n",
       "  </thead>\n",
       "  <tbody>\n",
       "    <tr>\n",
       "      <th>0</th>\n",
       "      <td>735519</td>\n",
       "      <td>3</td>\n",
       "      <td>1.0000</td>\n",
       "      <td>1180</td>\n",
       "      <td>5650</td>\n",
       "      <td>1.0000</td>\n",
       "      <td>0</td>\n",
       "      <td>0</td>\n",
       "      <td>3</td>\n",
       "      <td>7</td>\n",
       "      <td>1180</td>\n",
       "      <td>0</td>\n",
       "      <td>60</td>\n",
       "      <td>0</td>\n",
       "      <td>98178</td>\n",
       "      <td>1340</td>\n",
       "      <td>5650</td>\n",
       "      <td>221900</td>\n",
       "    </tr>\n",
       "    <tr>\n",
       "      <th>1</th>\n",
       "      <td>735576</td>\n",
       "      <td>3</td>\n",
       "      <td>2.2500</td>\n",
       "      <td>2570</td>\n",
       "      <td>7242</td>\n",
       "      <td>2.0000</td>\n",
       "      <td>0</td>\n",
       "      <td>0</td>\n",
       "      <td>3</td>\n",
       "      <td>7</td>\n",
       "      <td>2170</td>\n",
       "      <td>400</td>\n",
       "      <td>64</td>\n",
       "      <td>1</td>\n",
       "      <td>98125</td>\n",
       "      <td>1690</td>\n",
       "      <td>7639</td>\n",
       "      <td>538000</td>\n",
       "    </tr>\n",
       "    <tr>\n",
       "      <th>2</th>\n",
       "      <td>735654</td>\n",
       "      <td>2</td>\n",
       "      <td>1.0000</td>\n",
       "      <td>770</td>\n",
       "      <td>10000</td>\n",
       "      <td>1.0000</td>\n",
       "      <td>0</td>\n",
       "      <td>0</td>\n",
       "      <td>3</td>\n",
       "      <td>6</td>\n",
       "      <td>770</td>\n",
       "      <td>0</td>\n",
       "      <td>82</td>\n",
       "      <td>0</td>\n",
       "      <td>98028</td>\n",
       "      <td>2720</td>\n",
       "      <td>8062</td>\n",
       "      <td>180000</td>\n",
       "    </tr>\n",
       "    <tr>\n",
       "      <th>3</th>\n",
       "      <td>735576</td>\n",
       "      <td>4</td>\n",
       "      <td>3.0000</td>\n",
       "      <td>1960</td>\n",
       "      <td>5000</td>\n",
       "      <td>1.0000</td>\n",
       "      <td>0</td>\n",
       "      <td>0</td>\n",
       "      <td>5</td>\n",
       "      <td>7</td>\n",
       "      <td>1050</td>\n",
       "      <td>910</td>\n",
       "      <td>50</td>\n",
       "      <td>0</td>\n",
       "      <td>98136</td>\n",
       "      <td>1360</td>\n",
       "      <td>5000</td>\n",
       "      <td>604000</td>\n",
       "    </tr>\n",
       "    <tr>\n",
       "      <th>4</th>\n",
       "      <td>735647</td>\n",
       "      <td>3</td>\n",
       "      <td>2.0000</td>\n",
       "      <td>1680</td>\n",
       "      <td>8080</td>\n",
       "      <td>1.0000</td>\n",
       "      <td>0</td>\n",
       "      <td>0</td>\n",
       "      <td>3</td>\n",
       "      <td>8</td>\n",
       "      <td>1680</td>\n",
       "      <td>0</td>\n",
       "      <td>28</td>\n",
       "      <td>0</td>\n",
       "      <td>98074</td>\n",
       "      <td>1800</td>\n",
       "      <td>7503</td>\n",
       "      <td>510000</td>\n",
       "    </tr>\n",
       "    <tr>\n",
       "      <th>...</th>\n",
       "      <td>...</td>\n",
       "      <td>...</td>\n",
       "      <td>...</td>\n",
       "      <td>...</td>\n",
       "      <td>...</td>\n",
       "      <td>...</td>\n",
       "      <td>...</td>\n",
       "      <td>...</td>\n",
       "      <td>...</td>\n",
       "      <td>...</td>\n",
       "      <td>...</td>\n",
       "      <td>...</td>\n",
       "      <td>...</td>\n",
       "      <td>...</td>\n",
       "      <td>...</td>\n",
       "      <td>...</td>\n",
       "      <td>...</td>\n",
       "      <td>...</td>\n",
       "    </tr>\n",
       "    <tr>\n",
       "      <th>21591</th>\n",
       "      <td>735374</td>\n",
       "      <td>3</td>\n",
       "      <td>2.5000</td>\n",
       "      <td>1530</td>\n",
       "      <td>1131</td>\n",
       "      <td>3.0000</td>\n",
       "      <td>0</td>\n",
       "      <td>0</td>\n",
       "      <td>3</td>\n",
       "      <td>8</td>\n",
       "      <td>1530</td>\n",
       "      <td>0</td>\n",
       "      <td>6</td>\n",
       "      <td>0</td>\n",
       "      <td>98103</td>\n",
       "      <td>1530</td>\n",
       "      <td>1509</td>\n",
       "      <td>360000</td>\n",
       "    </tr>\n",
       "    <tr>\n",
       "      <th>21592</th>\n",
       "      <td>735652</td>\n",
       "      <td>4</td>\n",
       "      <td>2.5000</td>\n",
       "      <td>2310</td>\n",
       "      <td>5813</td>\n",
       "      <td>2.0000</td>\n",
       "      <td>0</td>\n",
       "      <td>0</td>\n",
       "      <td>3</td>\n",
       "      <td>8</td>\n",
       "      <td>2310</td>\n",
       "      <td>0</td>\n",
       "      <td>1</td>\n",
       "      <td>0</td>\n",
       "      <td>98146</td>\n",
       "      <td>1830</td>\n",
       "      <td>7200</td>\n",
       "      <td>400000</td>\n",
       "    </tr>\n",
       "    <tr>\n",
       "      <th>21593</th>\n",
       "      <td>735407</td>\n",
       "      <td>2</td>\n",
       "      <td>0.7500</td>\n",
       "      <td>1020</td>\n",
       "      <td>1350</td>\n",
       "      <td>2.0000</td>\n",
       "      <td>0</td>\n",
       "      <td>0</td>\n",
       "      <td>3</td>\n",
       "      <td>7</td>\n",
       "      <td>1020</td>\n",
       "      <td>0</td>\n",
       "      <td>6</td>\n",
       "      <td>0</td>\n",
       "      <td>98144</td>\n",
       "      <td>1020</td>\n",
       "      <td>2007</td>\n",
       "      <td>402101</td>\n",
       "    </tr>\n",
       "    <tr>\n",
       "      <th>21594</th>\n",
       "      <td>735614</td>\n",
       "      <td>3</td>\n",
       "      <td>2.5000</td>\n",
       "      <td>1600</td>\n",
       "      <td>2388</td>\n",
       "      <td>2.0000</td>\n",
       "      <td>0</td>\n",
       "      <td>0</td>\n",
       "      <td>3</td>\n",
       "      <td>8</td>\n",
       "      <td>1600</td>\n",
       "      <td>0</td>\n",
       "      <td>11</td>\n",
       "      <td>0</td>\n",
       "      <td>98027</td>\n",
       "      <td>1410</td>\n",
       "      <td>1287</td>\n",
       "      <td>400000</td>\n",
       "    </tr>\n",
       "    <tr>\n",
       "      <th>21595</th>\n",
       "      <td>735521</td>\n",
       "      <td>2</td>\n",
       "      <td>0.7500</td>\n",
       "      <td>1020</td>\n",
       "      <td>1076</td>\n",
       "      <td>2.0000</td>\n",
       "      <td>0</td>\n",
       "      <td>0</td>\n",
       "      <td>3</td>\n",
       "      <td>7</td>\n",
       "      <td>1020</td>\n",
       "      <td>0</td>\n",
       "      <td>7</td>\n",
       "      <td>0</td>\n",
       "      <td>98144</td>\n",
       "      <td>1020</td>\n",
       "      <td>1357</td>\n",
       "      <td>325000</td>\n",
       "    </tr>\n",
       "  </tbody>\n",
       "</table>\n",
       "<p>21596 rows × 18 columns</p>\n",
       "</div>"
      ],
      "text/plain": [
       "         date bedrooms bathrooms  sqft_living  sqft_lot floors waterfront  \\\n",
       "0      735519        3    1.0000         1180      5650 1.0000          0   \n",
       "1      735576        3    2.2500         2570      7242 2.0000          0   \n",
       "2      735654        2    1.0000          770     10000 1.0000          0   \n",
       "3      735576        4    3.0000         1960      5000 1.0000          0   \n",
       "4      735647        3    2.0000         1680      8080 1.0000          0   \n",
       "...       ...      ...       ...          ...       ...    ...        ...   \n",
       "21591  735374        3    2.5000         1530      1131 3.0000          0   \n",
       "21592  735652        4    2.5000         2310      5813 2.0000          0   \n",
       "21593  735407        2    0.7500         1020      1350 2.0000          0   \n",
       "21594  735614        3    2.5000         1600      2388 2.0000          0   \n",
       "21595  735521        2    0.7500         1020      1076 2.0000          0   \n",
       "\n",
       "      view condition grade  sqft_above  sqft_basement  age_build yr_renovated  \\\n",
       "0        0         3     7        1180              0         60            0   \n",
       "1        0         3     7        2170            400         64            1   \n",
       "2        0         3     6         770              0         82            0   \n",
       "3        0         5     7        1050            910         50            0   \n",
       "4        0         3     8        1680              0         28            0   \n",
       "...    ...       ...   ...         ...            ...        ...          ...   \n",
       "21591    0         3     8        1530              0          6            0   \n",
       "21592    0         3     8        2310              0          1            0   \n",
       "21593    0         3     7        1020              0          6            0   \n",
       "21594    0         3     8        1600              0         11            0   \n",
       "21595    0         3     7        1020              0          7            0   \n",
       "\n",
       "       zipcode  sqft_living15  sqft_lot15   price  \n",
       "0        98178           1340        5650  221900  \n",
       "1        98125           1690        7639  538000  \n",
       "2        98028           2720        8062  180000  \n",
       "3        98136           1360        5000  604000  \n",
       "4        98074           1800        7503  510000  \n",
       "...        ...            ...         ...     ...  \n",
       "21591    98103           1530        1509  360000  \n",
       "21592    98146           1830        7200  400000  \n",
       "21593    98144           1020        2007  402101  \n",
       "21594    98027           1410        1287  400000  \n",
       "21595    98144           1020        1357  325000  \n",
       "\n",
       "[21596 rows x 18 columns]"
      ]
     },
     "execution_count": 88,
     "metadata": {},
     "output_type": "execute_result"
    }
   ],
   "source": [
    "df"
   ]
  },
  {
   "cell_type": "markdown",
   "id": "6a94d88d",
   "metadata": {},
   "source": [
    "## Trial 2: Numerical and categorical (with transformed zipcode) "
   ]
  },
  {
   "cell_type": "markdown",
   "id": "2d17ebfa",
   "metadata": {},
   "source": [
    "### Transform zipcode"
   ]
  },
  {
   "cell_type": "code",
   "execution_count": 89,
   "id": "5e04941a",
   "metadata": {},
   "outputs": [
    {
     "data": {
      "text/plain": [
       "zipcode\n",
       "98039   2161300.0000\n",
       "98004   1356523.9905\n",
       "98040   1194873.6383\n",
       "98112   1096239.0074\n",
       "98102    899607.6731\n",
       "            ...     \n",
       "98148    284908.5965\n",
       "98001    281194.8698\n",
       "98032    251296.2400\n",
       "98168    240328.3717\n",
       "98002    234284.0352\n",
       "Name: price, Length: 70, dtype: float64"
      ]
     },
     "execution_count": 89,
     "metadata": {},
     "output_type": "execute_result"
    }
   ],
   "source": [
    "price_zip_mean = df.groupby(['zipcode'])['price'].mean()\n",
    "price_zip_mean.sort_values(ascending=False)"
   ]
  },
  {
   "cell_type": "code",
   "execution_count": 90,
   "id": "c64a8c60",
   "metadata": {},
   "outputs": [
    {
     "data": {
      "text/html": [
       "<div>\n",
       "<style scoped>\n",
       "    .dataframe tbody tr th:only-of-type {\n",
       "        vertical-align: middle;\n",
       "    }\n",
       "\n",
       "    .dataframe tbody tr th {\n",
       "        vertical-align: top;\n",
       "    }\n",
       "\n",
       "    .dataframe thead th {\n",
       "        text-align: right;\n",
       "    }\n",
       "</style>\n",
       "<table border=\"1\" class=\"dataframe\">\n",
       "  <thead>\n",
       "    <tr style=\"text-align: right;\">\n",
       "      <th></th>\n",
       "      <th>zipcode</th>\n",
       "      <th>price</th>\n",
       "    </tr>\n",
       "  </thead>\n",
       "  <tbody>\n",
       "    <tr>\n",
       "      <th>0</th>\n",
       "      <td>98039</td>\n",
       "      <td>2161300.0000</td>\n",
       "    </tr>\n",
       "    <tr>\n",
       "      <th>1</th>\n",
       "      <td>98004</td>\n",
       "      <td>1356523.9905</td>\n",
       "    </tr>\n",
       "    <tr>\n",
       "      <th>2</th>\n",
       "      <td>98040</td>\n",
       "      <td>1194873.6383</td>\n",
       "    </tr>\n",
       "    <tr>\n",
       "      <th>3</th>\n",
       "      <td>98112</td>\n",
       "      <td>1096239.0074</td>\n",
       "    </tr>\n",
       "    <tr>\n",
       "      <th>4</th>\n",
       "      <td>98102</td>\n",
       "      <td>899607.6731</td>\n",
       "    </tr>\n",
       "    <tr>\n",
       "      <th>...</th>\n",
       "      <td>...</td>\n",
       "      <td>...</td>\n",
       "    </tr>\n",
       "    <tr>\n",
       "      <th>65</th>\n",
       "      <td>98148</td>\n",
       "      <td>284908.5965</td>\n",
       "    </tr>\n",
       "    <tr>\n",
       "      <th>66</th>\n",
       "      <td>98001</td>\n",
       "      <td>281194.8698</td>\n",
       "    </tr>\n",
       "    <tr>\n",
       "      <th>67</th>\n",
       "      <td>98032</td>\n",
       "      <td>251296.2400</td>\n",
       "    </tr>\n",
       "    <tr>\n",
       "      <th>68</th>\n",
       "      <td>98168</td>\n",
       "      <td>240328.3717</td>\n",
       "    </tr>\n",
       "    <tr>\n",
       "      <th>69</th>\n",
       "      <td>98002</td>\n",
       "      <td>234284.0352</td>\n",
       "    </tr>\n",
       "  </tbody>\n",
       "</table>\n",
       "<p>70 rows × 2 columns</p>\n",
       "</div>"
      ],
      "text/plain": [
       "    zipcode        price\n",
       "0     98039 2161300.0000\n",
       "1     98004 1356523.9905\n",
       "2     98040 1194873.6383\n",
       "3     98112 1096239.0074\n",
       "4     98102  899607.6731\n",
       "..      ...          ...\n",
       "65    98148  284908.5965\n",
       "66    98001  281194.8698\n",
       "67    98032  251296.2400\n",
       "68    98168  240328.3717\n",
       "69    98002  234284.0352\n",
       "\n",
       "[70 rows x 2 columns]"
      ]
     },
     "execution_count": 90,
     "metadata": {},
     "output_type": "execute_result"
    }
   ],
   "source": [
    "price_zip = df.groupby(['zipcode'])['price'].mean()\n",
    "pz = price_zip.sort_values(ascending=False).reset_index()\n",
    "pz"
   ]
  },
  {
   "cell_type": "code",
   "execution_count": 91,
   "id": "c60f15a8",
   "metadata": {},
   "outputs": [],
   "source": [
    "Q1 = np.percentile(pz['price'], 25)\n",
    "Q2 = np.percentile(pz['price'], 50)\n",
    "Q3 = np.percentile(pz['price'], 75)\n",
    "Q4 = np.percentile(pz['price'], 100)"
   ]
  },
  {
   "cell_type": "code",
   "execution_count": 92,
   "id": "875f789f",
   "metadata": {},
   "outputs": [],
   "source": [
    "pz['quantile_zip'] = \"1\"\n",
    "pz['quantile_zip'] = np.where(pz['price'] >= Q1, \"2\", pz['quantile_zip'])\n",
    "pz['quantile_zip'] = np.where(pz['price'] >= Q2, \"3\", pz['quantile_zip'])\n",
    "pz['quantile_zip'] = np.where(pz['price'] >= Q3, \"4\", pz['quantile_zip'])"
   ]
  },
  {
   "cell_type": "code",
   "execution_count": 93,
   "id": "fe655024",
   "metadata": {},
   "outputs": [],
   "source": [
    "df = pd.merge(df, pz[['zipcode', 'quantile_zip']], on='zipcode', how='left', sort=False)b"
   ]
  },
  {
   "cell_type": "code",
   "execution_count": 113,
   "id": "2b8e2d66",
   "metadata": {},
   "outputs": [
    {
     "data": {
      "text/plain": [
       "0    13110\n",
       "1     8486\n",
       "Name: sqft_basement, dtype: int64"
      ]
     },
     "execution_count": 113,
     "metadata": {},
     "output_type": "execute_result"
    }
   ],
   "source": [
    "df[\"sqft_basement\"] = np.where (df[\"sqft_basement\"] != 0, 1, df[\"sqft_basement\"])\n",
    "df.sqft_basement.value_counts()"
   ]
  },
  {
   "cell_type": "code",
   "execution_count": 114,
   "id": "4bb13656",
   "metadata": {},
   "outputs": [],
   "source": [
    "df.drop(['zipcode'], axis=1, inplace=True)"
   ]
  },
  {
   "cell_type": "code",
   "execution_count": 115,
   "id": "80500952",
   "metadata": {
    "scrolled": true
   },
   "outputs": [
    {
     "data": {
      "text/html": [
       "<div>\n",
       "<style scoped>\n",
       "    .dataframe tbody tr th:only-of-type {\n",
       "        vertical-align: middle;\n",
       "    }\n",
       "\n",
       "    .dataframe tbody tr th {\n",
       "        vertical-align: top;\n",
       "    }\n",
       "\n",
       "    .dataframe thead th {\n",
       "        text-align: right;\n",
       "    }\n",
       "</style>\n",
       "<table border=\"1\" class=\"dataframe\">\n",
       "  <thead>\n",
       "    <tr style=\"text-align: right;\">\n",
       "      <th></th>\n",
       "      <th>date</th>\n",
       "      <th>bedrooms</th>\n",
       "      <th>bathrooms</th>\n",
       "      <th>sqft_living</th>\n",
       "      <th>sqft_lot</th>\n",
       "      <th>floors</th>\n",
       "      <th>waterfront</th>\n",
       "      <th>view</th>\n",
       "      <th>condition</th>\n",
       "      <th>grade</th>\n",
       "      <th>sqft_above</th>\n",
       "      <th>sqft_basement</th>\n",
       "      <th>age_build</th>\n",
       "      <th>yr_renovated</th>\n",
       "      <th>sqft_living15</th>\n",
       "      <th>sqft_lot15</th>\n",
       "      <th>price</th>\n",
       "      <th>quantile_zip</th>\n",
       "    </tr>\n",
       "  </thead>\n",
       "  <tbody>\n",
       "    <tr>\n",
       "      <th>0</th>\n",
       "      <td>735519</td>\n",
       "      <td>3</td>\n",
       "      <td>1.0000</td>\n",
       "      <td>1180</td>\n",
       "      <td>5650</td>\n",
       "      <td>1.0000</td>\n",
       "      <td>0</td>\n",
       "      <td>0</td>\n",
       "      <td>3</td>\n",
       "      <td>7</td>\n",
       "      <td>1180</td>\n",
       "      <td>0</td>\n",
       "      <td>60</td>\n",
       "      <td>0</td>\n",
       "      <td>1340</td>\n",
       "      <td>5650</td>\n",
       "      <td>-1.5247</td>\n",
       "      <td>1</td>\n",
       "    </tr>\n",
       "    <tr>\n",
       "      <th>1</th>\n",
       "      <td>735407</td>\n",
       "      <td>2</td>\n",
       "      <td>1.0000</td>\n",
       "      <td>880</td>\n",
       "      <td>6780</td>\n",
       "      <td>1.0000</td>\n",
       "      <td>0</td>\n",
       "      <td>0</td>\n",
       "      <td>4</td>\n",
       "      <td>6</td>\n",
       "      <td>880</td>\n",
       "      <td>0</td>\n",
       "      <td>70</td>\n",
       "      <td>0</td>\n",
       "      <td>1190</td>\n",
       "      <td>6780</td>\n",
       "      <td>-1.7118</td>\n",
       "      <td>1</td>\n",
       "    </tr>\n",
       "    <tr>\n",
       "      <th>2</th>\n",
       "      <td>735431</td>\n",
       "      <td>3</td>\n",
       "      <td>2.2500</td>\n",
       "      <td>2100</td>\n",
       "      <td>8201</td>\n",
       "      <td>1.0000</td>\n",
       "      <td>0</td>\n",
       "      <td>2</td>\n",
       "      <td>3</td>\n",
       "      <td>8</td>\n",
       "      <td>1620</td>\n",
       "      <td>1</td>\n",
       "      <td>48</td>\n",
       "      <td>0</td>\n",
       "      <td>2660</td>\n",
       "      <td>8712</td>\n",
       "      <td>-0.0314</td>\n",
       "      <td>1</td>\n",
       "    </tr>\n",
       "    <tr>\n",
       "      <th>3</th>\n",
       "      <td>735501</td>\n",
       "      <td>3</td>\n",
       "      <td>1.0000</td>\n",
       "      <td>1300</td>\n",
       "      <td>5898</td>\n",
       "      <td>1.0000</td>\n",
       "      <td>0</td>\n",
       "      <td>0</td>\n",
       "      <td>3</td>\n",
       "      <td>7</td>\n",
       "      <td>1300</td>\n",
       "      <td>0</td>\n",
       "      <td>54</td>\n",
       "      <td>0</td>\n",
       "      <td>1320</td>\n",
       "      <td>7619</td>\n",
       "      <td>-1.3717</td>\n",
       "      <td>1</td>\n",
       "    </tr>\n",
       "    <tr>\n",
       "      <th>4</th>\n",
       "      <td>735656</td>\n",
       "      <td>2</td>\n",
       "      <td>1.0000</td>\n",
       "      <td>860</td>\n",
       "      <td>5265</td>\n",
       "      <td>1.0000</td>\n",
       "      <td>0</td>\n",
       "      <td>0</td>\n",
       "      <td>3</td>\n",
       "      <td>6</td>\n",
       "      <td>860</td>\n",
       "      <td>0</td>\n",
       "      <td>84</td>\n",
       "      <td>0</td>\n",
       "      <td>1650</td>\n",
       "      <td>8775</td>\n",
       "      <td>-2.1197</td>\n",
       "      <td>1</td>\n",
       "    </tr>\n",
       "    <tr>\n",
       "      <th>...</th>\n",
       "      <td>...</td>\n",
       "      <td>...</td>\n",
       "      <td>...</td>\n",
       "      <td>...</td>\n",
       "      <td>...</td>\n",
       "      <td>...</td>\n",
       "      <td>...</td>\n",
       "      <td>...</td>\n",
       "      <td>...</td>\n",
       "      <td>...</td>\n",
       "      <td>...</td>\n",
       "      <td>...</td>\n",
       "      <td>...</td>\n",
       "      <td>...</td>\n",
       "      <td>...</td>\n",
       "      <td>...</td>\n",
       "      <td>...</td>\n",
       "      <td>...</td>\n",
       "    </tr>\n",
       "    <tr>\n",
       "      <th>21591</th>\n",
       "      <td>735509</td>\n",
       "      <td>4</td>\n",
       "      <td>3.2500</td>\n",
       "      <td>3990</td>\n",
       "      <td>18115</td>\n",
       "      <td>2.0000</td>\n",
       "      <td>0</td>\n",
       "      <td>0</td>\n",
       "      <td>4</td>\n",
       "      <td>11</td>\n",
       "      <td>3990</td>\n",
       "      <td>0</td>\n",
       "      <td>26</td>\n",
       "      <td>0</td>\n",
       "      <td>3450</td>\n",
       "      <td>16087</td>\n",
       "      <td>2.6939</td>\n",
       "      <td>4</td>\n",
       "    </tr>\n",
       "    <tr>\n",
       "      <th>21592</th>\n",
       "      <td>735439</td>\n",
       "      <td>4</td>\n",
       "      <td>3.5000</td>\n",
       "      <td>4065</td>\n",
       "      <td>18713</td>\n",
       "      <td>2.0000</td>\n",
       "      <td>0</td>\n",
       "      <td>0</td>\n",
       "      <td>4</td>\n",
       "      <td>10</td>\n",
       "      <td>4065</td>\n",
       "      <td>0</td>\n",
       "      <td>28</td>\n",
       "      <td>0</td>\n",
       "      <td>3070</td>\n",
       "      <td>18713</td>\n",
       "      <td>2.3139</td>\n",
       "      <td>4</td>\n",
       "    </tr>\n",
       "    <tr>\n",
       "      <th>21593</th>\n",
       "      <td>735709</td>\n",
       "      <td>5</td>\n",
       "      <td>5.2500</td>\n",
       "      <td>3410</td>\n",
       "      <td>8118</td>\n",
       "      <td>2.0000</td>\n",
       "      <td>0</td>\n",
       "      <td>0</td>\n",
       "      <td>3</td>\n",
       "      <td>11</td>\n",
       "      <td>3410</td>\n",
       "      <td>0</td>\n",
       "      <td>9</td>\n",
       "      <td>0</td>\n",
       "      <td>3410</td>\n",
       "      <td>16236</td>\n",
       "      <td>2.4569</td>\n",
       "      <td>4</td>\n",
       "    </tr>\n",
       "    <tr>\n",
       "      <th>21594</th>\n",
       "      <td>735550</td>\n",
       "      <td>5</td>\n",
       "      <td>4.0000</td>\n",
       "      <td>5190</td>\n",
       "      <td>14600</td>\n",
       "      <td>2.0000</td>\n",
       "      <td>0</td>\n",
       "      <td>1</td>\n",
       "      <td>3</td>\n",
       "      <td>11</td>\n",
       "      <td>5190</td>\n",
       "      <td>0</td>\n",
       "      <td>2</td>\n",
       "      <td>0</td>\n",
       "      <td>3840</td>\n",
       "      <td>19250</td>\n",
       "      <td>2.7583</td>\n",
       "      <td>4</td>\n",
       "    </tr>\n",
       "    <tr>\n",
       "      <th>21595</th>\n",
       "      <td>735656</td>\n",
       "      <td>4</td>\n",
       "      <td>3.7500</td>\n",
       "      <td>3790</td>\n",
       "      <td>8797</td>\n",
       "      <td>2.0000</td>\n",
       "      <td>0</td>\n",
       "      <td>0</td>\n",
       "      <td>3</td>\n",
       "      <td>11</td>\n",
       "      <td>3290</td>\n",
       "      <td>1</td>\n",
       "      <td>9</td>\n",
       "      <td>0</td>\n",
       "      <td>2660</td>\n",
       "      <td>12150</td>\n",
       "      <td>2.2504</td>\n",
       "      <td>4</td>\n",
       "    </tr>\n",
       "  </tbody>\n",
       "</table>\n",
       "<p>21596 rows × 18 columns</p>\n",
       "</div>"
      ],
      "text/plain": [
       "         date bedrooms bathrooms  sqft_living  sqft_lot floors waterfront  \\\n",
       "0      735519        3    1.0000         1180      5650 1.0000          0   \n",
       "1      735407        2    1.0000          880      6780 1.0000          0   \n",
       "2      735431        3    2.2500         2100      8201 1.0000          0   \n",
       "3      735501        3    1.0000         1300      5898 1.0000          0   \n",
       "4      735656        2    1.0000          860      5265 1.0000          0   \n",
       "...       ...      ...       ...          ...       ...    ...        ...   \n",
       "21591  735509        4    3.2500         3990     18115 2.0000          0   \n",
       "21592  735439        4    3.5000         4065     18713 2.0000          0   \n",
       "21593  735709        5    5.2500         3410      8118 2.0000          0   \n",
       "21594  735550        5    4.0000         5190     14600 2.0000          0   \n",
       "21595  735656        4    3.7500         3790      8797 2.0000          0   \n",
       "\n",
       "      view condition grade  sqft_above  sqft_basement  age_build yr_renovated  \\\n",
       "0        0         3     7        1180              0         60            0   \n",
       "1        0         4     6         880              0         70            0   \n",
       "2        2         3     8        1620              1         48            0   \n",
       "3        0         3     7        1300              0         54            0   \n",
       "4        0         3     6         860              0         84            0   \n",
       "...    ...       ...   ...         ...            ...        ...          ...   \n",
       "21591    0         4    11        3990              0         26            0   \n",
       "21592    0         4    10        4065              0         28            0   \n",
       "21593    0         3    11        3410              0          9            0   \n",
       "21594    1         3    11        5190              0          2            0   \n",
       "21595    0         3    11        3290              1          9            0   \n",
       "\n",
       "       sqft_living15  sqft_lot15   price quantile_zip  \n",
       "0               1340        5650 -1.5247            1  \n",
       "1               1190        6780 -1.7118            1  \n",
       "2               2660        8712 -0.0314            1  \n",
       "3               1320        7619 -1.3717            1  \n",
       "4               1650        8775 -2.1197            1  \n",
       "...              ...         ...     ...          ...  \n",
       "21591           3450       16087  2.6939            4  \n",
       "21592           3070       18713  2.3139            4  \n",
       "21593           3410       16236  2.4569            4  \n",
       "21594           3840       19250  2.7583            4  \n",
       "21595           2660       12150  2.2504            4  \n",
       "\n",
       "[21596 rows x 18 columns]"
      ]
     },
     "execution_count": 115,
     "metadata": {},
     "output_type": "execute_result"
    }
   ],
   "source": [
    "df"
   ]
  },
  {
   "cell_type": "markdown",
   "id": "7d1cb71a",
   "metadata": {},
   "source": [
    "### Normalize "
   ]
  },
  {
   "cell_type": "code",
   "execution_count": 116,
   "id": "c9ece11f",
   "metadata": {},
   "outputs": [
    {
     "data": {
      "text/plain": [
       "<seaborn.axisgrid.FacetGrid at 0x7fcb939a4b20>"
      ]
     },
     "execution_count": 116,
     "metadata": {},
     "output_type": "execute_result"
    },
    {
     "data": {
      "image/png": "[encoded data removed]",
      "text/plain": [
       "<Figure size 360x360 with 1 Axes>"
      ]
     },
     "metadata": {
      "needs_background": "light"
     },
     "output_type": "display_data"
    }
   ],
   "source": [
    "qt = QuantileTransformer(output_distribution = 'normal')\n",
    "df['sqft_living'] = qt.fit_transform(df['sqft_living'].to_numpy().reshape(-1,1))\n",
    "sns.displot(df['sqft_living'])"
   ]
  },
  {
   "cell_type": "code",
   "execution_count": 117,
   "id": "df69a491",
   "metadata": {},
   "outputs": [
    {
     "data": {
      "text/plain": [
       "<seaborn.axisgrid.FacetGrid at 0x7fcbae137760>"
      ]
     },
     "execution_count": 117,
     "metadata": {},
     "output_type": "execute_result"
    },
    {
     "data": {
      "image/png": "[encoded data removed]",
      "text/plain": [
       "<Figure size 360x360 with 1 Axes>"
      ]
     },
     "metadata": {
      "needs_background": "light"
     },
     "output_type": "display_data"
    }
   ],
   "source": [
    "qt = QuantileTransformer(output_distribution = 'normal')\n",
    "df['sqft_lot'] = qt.fit_transform(df['sqft_lot'].to_numpy().reshape(-1,1))\n",
    "sns.displot(df['sqft_lot'])"
   ]
  },
  {
   "cell_type": "code",
   "execution_count": 118,
   "id": "aa35a293",
   "metadata": {},
   "outputs": [
    {
     "data": {
      "text/plain": [
       "<seaborn.axisgrid.FacetGrid at 0x7fcbae35cf70>"
      ]
     },
     "execution_count": 118,
     "metadata": {},
     "output_type": "execute_result"
    },
    {
     "data": {
      "image/png": "[encoded data removed]",
      "text/plain": [
       "<Figure size 360x360 with 1 Axes>"
      ]
     },
     "metadata": {
      "needs_background": "light"
     },
     "output_type": "display_data"
    }
   ],
   "source": [
    "qt = QuantileTransformer(output_distribution = 'normal')\n",
    "df['sqft_above'] = qt.fit_transform(df['sqft_above'].to_numpy().reshape(-1,1))\n",
    "sns.displot(df['sqft_above'])"
   ]
  },
  {
   "cell_type": "code",
   "execution_count": 119,
   "id": "1429e2b0",
   "metadata": {},
   "outputs": [
    {
     "data": {
      "text/plain": [
       "<seaborn.axisgrid.FacetGrid at 0x7fcb93372670>"
      ]
     },
     "execution_count": 119,
     "metadata": {},
     "output_type": "execute_result"
    },
    {
     "data": {
      "image/png": "[encoded data removed]",
      "text/plain": [
       "<Figure size 360x360 with 1 Axes>"
      ]
     },
     "metadata": {
      "needs_background": "light"
     },
     "output_type": "display_data"
    }
   ],
   "source": [
    "qt = QuantileTransformer(output_distribution = 'normal')\n",
    "df['sqft_living15'] = qt.fit_transform(df['sqft_living15'].to_numpy().reshape(-1,1))\n",
    "sns.displot(df['sqft_living15'])"
   ]
  },
  {
   "cell_type": "code",
   "execution_count": 120,
   "id": "0074ca5a",
   "metadata": {},
   "outputs": [
    {
     "data": {
      "text/plain": [
       "<seaborn.axisgrid.FacetGrid at 0x7fcb97051190>"
      ]
     },
     "execution_count": 120,
     "metadata": {},
     "output_type": "execute_result"
    },
    {
     "data": {
      "image/png": "[encoded data removed]",
      "text/plain": [
       "<Figure size 360x360 with 1 Axes>"
      ]
     },
     "metadata": {
      "needs_background": "light"
     },
     "output_type": "display_data"
    }
   ],
   "source": [
    "qt = QuantileTransformer(output_distribution = 'normal')\n",
    "df['sqft_lot15'] = qt.fit_transform(df['sqft_lot15'].to_numpy().reshape(-1,1))\n",
    "sns.displot(df['sqft_lot15'])"
   ]
  },
  {
   "cell_type": "code",
   "execution_count": 121,
   "id": "7365bba3",
   "metadata": {},
   "outputs": [
    {
     "data": {
      "text/html": [
       "<div>\n",
       "<style scoped>\n",
       "    .dataframe tbody tr th:only-of-type {\n",
       "        vertical-align: middle;\n",
       "    }\n",
       "\n",
       "    .dataframe tbody tr th {\n",
       "        vertical-align: top;\n",
       "    }\n",
       "\n",
       "    .dataframe thead th {\n",
       "        text-align: right;\n",
       "    }\n",
       "</style>\n",
       "<table border=\"1\" class=\"dataframe\">\n",
       "  <thead>\n",
       "    <tr style=\"text-align: right;\">\n",
       "      <th></th>\n",
       "      <th>date</th>\n",
       "      <th>bedrooms</th>\n",
       "      <th>bathrooms</th>\n",
       "      <th>sqft_living</th>\n",
       "      <th>sqft_lot</th>\n",
       "      <th>floors</th>\n",
       "      <th>waterfront</th>\n",
       "      <th>view</th>\n",
       "      <th>condition</th>\n",
       "      <th>grade</th>\n",
       "      <th>sqft_above</th>\n",
       "      <th>sqft_basement</th>\n",
       "      <th>age_build</th>\n",
       "      <th>yr_renovated</th>\n",
       "      <th>sqft_living15</th>\n",
       "      <th>sqft_lot15</th>\n",
       "      <th>price</th>\n",
       "      <th>quantile_zip</th>\n",
       "    </tr>\n",
       "  </thead>\n",
       "  <tbody>\n",
       "    <tr>\n",
       "      <th>0</th>\n",
       "      <td>735519</td>\n",
       "      <td>3</td>\n",
       "      <td>1.0000</td>\n",
       "      <td>-1.1094</td>\n",
       "      <td>-0.5178</td>\n",
       "      <td>1.0000</td>\n",
       "      <td>0</td>\n",
       "      <td>0</td>\n",
       "      <td>3</td>\n",
       "      <td>7</td>\n",
       "      <td>-0.7039</td>\n",
       "      <td>0</td>\n",
       "      <td>60</td>\n",
       "      <td>0</td>\n",
       "      <td>-1.0379</td>\n",
       "      <td>-0.5181</td>\n",
       "      <td>-1.5247</td>\n",
       "      <td>1</td>\n",
       "    </tr>\n",
       "    <tr>\n",
       "      <th>1</th>\n",
       "      <td>735407</td>\n",
       "      <td>2</td>\n",
       "      <td>1.0000</td>\n",
       "      <td>-1.7924</td>\n",
       "      <td>-0.2444</td>\n",
       "      <td>1.0000</td>\n",
       "      <td>0</td>\n",
       "      <td>0</td>\n",
       "      <td>4</td>\n",
       "      <td>6</td>\n",
       "      <td>-1.5377</td>\n",
       "      <td>0</td>\n",
       "      <td>70</td>\n",
       "      <td>0</td>\n",
       "      <td>-1.4828</td>\n",
       "      <td>-0.2473</td>\n",
       "      <td>-1.7118</td>\n",
       "      <td>1</td>\n",
       "    </tr>\n",
       "    <tr>\n",
       "      <th>2</th>\n",
       "      <td>735431</td>\n",
       "      <td>3</td>\n",
       "      <td>2.2500</td>\n",
       "      <td>0.2136</td>\n",
       "      <td>0.1678</td>\n",
       "      <td>1.0000</td>\n",
       "      <td>0</td>\n",
       "      <td>2</td>\n",
       "      <td>3</td>\n",
       "      <td>8</td>\n",
       "      <td>0.0791</td>\n",
       "      <td>1</td>\n",
       "      <td>48</td>\n",
       "      <td>0</td>\n",
       "      <td>1.0104</td>\n",
       "      <td>0.3575</td>\n",
       "      <td>-0.0314</td>\n",
       "      <td>1</td>\n",
       "    </tr>\n",
       "    <tr>\n",
       "      <th>3</th>\n",
       "      <td>735501</td>\n",
       "      <td>3</td>\n",
       "      <td>1.0000</td>\n",
       "      <td>-0.8827</td>\n",
       "      <td>-0.4625</td>\n",
       "      <td>1.0000</td>\n",
       "      <td>0</td>\n",
       "      <td>0</td>\n",
       "      <td>3</td>\n",
       "      <td>7</td>\n",
       "      <td>-0.4376</td>\n",
       "      <td>0</td>\n",
       "      <td>54</td>\n",
       "      <td>0</td>\n",
       "      <td>-1.0887</td>\n",
       "      <td>-0.0038</td>\n",
       "      <td>-1.3717</td>\n",
       "      <td>1</td>\n",
       "    </tr>\n",
       "    <tr>\n",
       "      <th>4</th>\n",
       "      <td>735656</td>\n",
       "      <td>2</td>\n",
       "      <td>1.0000</td>\n",
       "      <td>-1.8448</td>\n",
       "      <td>-0.6017</td>\n",
       "      <td>1.0000</td>\n",
       "      <td>0</td>\n",
       "      <td>0</td>\n",
       "      <td>3</td>\n",
       "      <td>6</td>\n",
       "      <td>-1.6068</td>\n",
       "      <td>0</td>\n",
       "      <td>84</td>\n",
       "      <td>0</td>\n",
       "      <td>-0.3229</td>\n",
       "      <td>0.3709</td>\n",
       "      <td>-2.1197</td>\n",
       "      <td>1</td>\n",
       "    </tr>\n",
       "    <tr>\n",
       "      <th>...</th>\n",
       "      <td>...</td>\n",
       "      <td>...</td>\n",
       "      <td>...</td>\n",
       "      <td>...</td>\n",
       "      <td>...</td>\n",
       "      <td>...</td>\n",
       "      <td>...</td>\n",
       "      <td>...</td>\n",
       "      <td>...</td>\n",
       "      <td>...</td>\n",
       "      <td>...</td>\n",
       "      <td>...</td>\n",
       "      <td>...</td>\n",
       "      <td>...</td>\n",
       "      <td>...</td>\n",
       "      <td>...</td>\n",
       "      <td>...</td>\n",
       "      <td>...</td>\n",
       "    </tr>\n",
       "    <tr>\n",
       "      <th>21591</th>\n",
       "      <td>735509</td>\n",
       "      <td>4</td>\n",
       "      <td>3.2500</td>\n",
       "      <td>1.7862</td>\n",
       "      <td>1.1815</td>\n",
       "      <td>2.0000</td>\n",
       "      <td>0</td>\n",
       "      <td>0</td>\n",
       "      <td>4</td>\n",
       "      <td>11</td>\n",
       "      <td>2.0661</td>\n",
       "      <td>0</td>\n",
       "      <td>26</td>\n",
       "      <td>0</td>\n",
       "      <td>1.7739</td>\n",
       "      <td>1.2220</td>\n",
       "      <td>2.6939</td>\n",
       "      <td>4</td>\n",
       "    </tr>\n",
       "    <tr>\n",
       "      <th>21592</th>\n",
       "      <td>735439</td>\n",
       "      <td>4</td>\n",
       "      <td>3.5000</td>\n",
       "      <td>1.8356</td>\n",
       "      <td>1.2024</td>\n",
       "      <td>2.0000</td>\n",
       "      <td>0</td>\n",
       "      <td>0</td>\n",
       "      <td>4</td>\n",
       "      <td>10</td>\n",
       "      <td>2.1167</td>\n",
       "      <td>0</td>\n",
       "      <td>28</td>\n",
       "      <td>0</td>\n",
       "      <td>1.4250</td>\n",
       "      <td>1.3089</td>\n",
       "      <td>2.3139</td>\n",
       "      <td>4</td>\n",
       "    </tr>\n",
       "    <tr>\n",
       "      <th>21593</th>\n",
       "      <td>735709</td>\n",
       "      <td>5</td>\n",
       "      <td>5.2500</td>\n",
       "      <td>1.3978</td>\n",
       "      <td>0.1441</td>\n",
       "      <td>2.0000</td>\n",
       "      <td>0</td>\n",
       "      <td>0</td>\n",
       "      <td>3</td>\n",
       "      <td>11</td>\n",
       "      <td>1.6591</td>\n",
       "      <td>0</td>\n",
       "      <td>9</td>\n",
       "      <td>0</td>\n",
       "      <td>1.7387</td>\n",
       "      <td>1.2284</td>\n",
       "      <td>2.4569</td>\n",
       "      <td>4</td>\n",
       "    </tr>\n",
       "    <tr>\n",
       "      <th>21594</th>\n",
       "      <td>735550</td>\n",
       "      <td>5</td>\n",
       "      <td>4.0000</td>\n",
       "      <td>2.4086</td>\n",
       "      <td>1.0135</td>\n",
       "      <td>2.0000</td>\n",
       "      <td>0</td>\n",
       "      <td>1</td>\n",
       "      <td>3</td>\n",
       "      <td>11</td>\n",
       "      <td>2.7449</td>\n",
       "      <td>0</td>\n",
       "      <td>2</td>\n",
       "      <td>0</td>\n",
       "      <td>2.1118</td>\n",
       "      <td>1.3220</td>\n",
       "      <td>2.7583</td>\n",
       "      <td>4</td>\n",
       "    </tr>\n",
       "    <tr>\n",
       "      <th>21595</th>\n",
       "      <td>735656</td>\n",
       "      <td>4</td>\n",
       "      <td>3.7500</td>\n",
       "      <td>1.6591</td>\n",
       "      <td>0.3093</td>\n",
       "      <td>2.0000</td>\n",
       "      <td>0</td>\n",
       "      <td>0</td>\n",
       "      <td>3</td>\n",
       "      <td>11</td>\n",
       "      <td>1.5713</td>\n",
       "      <td>1</td>\n",
       "      <td>9</td>\n",
       "      <td>0</td>\n",
       "      <td>1.0104</td>\n",
       "      <td>0.9643</td>\n",
       "      <td>2.2504</td>\n",
       "      <td>4</td>\n",
       "    </tr>\n",
       "  </tbody>\n",
       "</table>\n",
       "<p>21596 rows × 18 columns</p>\n",
       "</div>"
      ],
      "text/plain": [
       "         date bedrooms bathrooms  sqft_living  sqft_lot floors waterfront  \\\n",
       "0      735519        3    1.0000      -1.1094   -0.5178 1.0000          0   \n",
       "1      735407        2    1.0000      -1.7924   -0.2444 1.0000          0   \n",
       "2      735431        3    2.2500       0.2136    0.1678 1.0000          0   \n",
       "3      735501        3    1.0000      -0.8827   -0.4625 1.0000          0   \n",
       "4      735656        2    1.0000      -1.8448   -0.6017 1.0000          0   \n",
       "...       ...      ...       ...          ...       ...    ...        ...   \n",
       "21591  735509        4    3.2500       1.7862    1.1815 2.0000          0   \n",
       "21592  735439        4    3.5000       1.8356    1.2024 2.0000          0   \n",
       "21593  735709        5    5.2500       1.3978    0.1441 2.0000          0   \n",
       "21594  735550        5    4.0000       2.4086    1.0135 2.0000          0   \n",
       "21595  735656        4    3.7500       1.6591    0.3093 2.0000          0   \n",
       "\n",
       "      view condition grade  sqft_above  sqft_basement  age_build yr_renovated  \\\n",
       "0        0         3     7     -0.7039              0         60            0   \n",
       "1        0         4     6     -1.5377              0         70            0   \n",
       "2        2         3     8      0.0791              1         48            0   \n",
       "3        0         3     7     -0.4376              0         54            0   \n",
       "4        0         3     6     -1.6068              0         84            0   \n",
       "...    ...       ...   ...         ...            ...        ...          ...   \n",
       "21591    0         4    11      2.0661              0         26            0   \n",
       "21592    0         4    10      2.1167              0         28            0   \n",
       "21593    0         3    11      1.6591              0          9            0   \n",
       "21594    1         3    11      2.7449              0          2            0   \n",
       "21595    0         3    11      1.5713              1          9            0   \n",
       "\n",
       "       sqft_living15  sqft_lot15   price quantile_zip  \n",
       "0            -1.0379     -0.5181 -1.5247            1  \n",
       "1            -1.4828     -0.2473 -1.7118            1  \n",
       "2             1.0104      0.3575 -0.0314            1  \n",
       "3            -1.0887     -0.0038 -1.3717            1  \n",
       "4            -0.3229      0.3709 -2.1197            1  \n",
       "...              ...         ...     ...          ...  \n",
       "21591         1.7739      1.2220  2.6939            4  \n",
       "21592         1.4250      1.3089  2.3139            4  \n",
       "21593         1.7387      1.2284  2.4569            4  \n",
       "21594         2.1118      1.3220  2.7583            4  \n",
       "21595         1.0104      0.9643  2.2504            4  \n",
       "\n",
       "[21596 rows x 18 columns]"
      ]
     },
     "execution_count": 121,
     "metadata": {},
     "output_type": "execute_result"
    }
   ],
   "source": [
    "df"
   ]
  },
  {
   "cell_type": "markdown",
   "id": "a9a7be1d",
   "metadata": {},
   "source": [
    "### x/y Splitting"
   ]
  },
  {
   "cell_type": "code",
   "execution_count": 124,
   "id": "d474ffdd",
   "metadata": {},
   "outputs": [
    {
     "data": {
      "text/plain": [
       "0       -1.5247\n",
       "1       -1.7118\n",
       "2       -0.0314\n",
       "3       -1.3717\n",
       "4       -2.1197\n",
       "          ...  \n",
       "21591    2.6939\n",
       "21592    2.3139\n",
       "21593    2.4569\n",
       "21594    2.7583\n",
       "21595    2.2504\n",
       "Name: price, Length: 21596, dtype: float64"
      ]
     },
     "execution_count": 124,
     "metadata": {},
     "output_type": "execute_result"
    }
   ],
   "source": [
    "X2=df.drop('price', axis=1)\n",
    "X2\n",
    "y2=df.price\n",
    "y2"
   ]
  },
  {
   "cell_type": "code",
   "execution_count": 125,
   "id": "7f3fb97d",
   "metadata": {},
   "outputs": [
    {
     "data": {
      "text/html": [
       "<div>\n",
       "<style scoped>\n",
       "    .dataframe tbody tr th:only-of-type {\n",
       "        vertical-align: middle;\n",
       "    }\n",
       "\n",
       "    .dataframe tbody tr th {\n",
       "        vertical-align: top;\n",
       "    }\n",
       "\n",
       "    .dataframe thead th {\n",
       "        text-align: right;\n",
       "    }\n",
       "</style>\n",
       "<table border=\"1\" class=\"dataframe\">\n",
       "  <thead>\n",
       "    <tr style=\"text-align: right;\">\n",
       "      <th></th>\n",
       "      <th>date</th>\n",
       "      <th>bedrooms</th>\n",
       "      <th>bathrooms</th>\n",
       "      <th>sqft_living</th>\n",
       "      <th>sqft_lot</th>\n",
       "      <th>floors</th>\n",
       "      <th>waterfront</th>\n",
       "      <th>view</th>\n",
       "      <th>condition</th>\n",
       "      <th>grade</th>\n",
       "      <th>sqft_above</th>\n",
       "      <th>sqft_basement</th>\n",
       "      <th>age_build</th>\n",
       "      <th>yr_renovated</th>\n",
       "      <th>sqft_living15</th>\n",
       "      <th>sqft_lot15</th>\n",
       "      <th>quantile_zip</th>\n",
       "    </tr>\n",
       "  </thead>\n",
       "  <tbody>\n",
       "    <tr>\n",
       "      <th>0</th>\n",
       "      <td>735519</td>\n",
       "      <td>3</td>\n",
       "      <td>1.0000</td>\n",
       "      <td>-1.1094</td>\n",
       "      <td>-0.5178</td>\n",
       "      <td>1.0000</td>\n",
       "      <td>0</td>\n",
       "      <td>0</td>\n",
       "      <td>3</td>\n",
       "      <td>7</td>\n",
       "      <td>-0.7039</td>\n",
       "      <td>0</td>\n",
       "      <td>60</td>\n",
       "      <td>0</td>\n",
       "      <td>-1.0379</td>\n",
       "      <td>-0.5181</td>\n",
       "      <td>1</td>\n",
       "    </tr>\n",
       "    <tr>\n",
       "      <th>1</th>\n",
       "      <td>735407</td>\n",
       "      <td>2</td>\n",
       "      <td>1.0000</td>\n",
       "      <td>-1.7924</td>\n",
       "      <td>-0.2444</td>\n",
       "      <td>1.0000</td>\n",
       "      <td>0</td>\n",
       "      <td>0</td>\n",
       "      <td>4</td>\n",
       "      <td>6</td>\n",
       "      <td>-1.5377</td>\n",
       "      <td>0</td>\n",
       "      <td>70</td>\n",
       "      <td>0</td>\n",
       "      <td>-1.4828</td>\n",
       "      <td>-0.2473</td>\n",
       "      <td>1</td>\n",
       "    </tr>\n",
       "    <tr>\n",
       "      <th>2</th>\n",
       "      <td>735431</td>\n",
       "      <td>3</td>\n",
       "      <td>2.2500</td>\n",
       "      <td>0.2136</td>\n",
       "      <td>0.1678</td>\n",
       "      <td>1.0000</td>\n",
       "      <td>0</td>\n",
       "      <td>2</td>\n",
       "      <td>3</td>\n",
       "      <td>8</td>\n",
       "      <td>0.0791</td>\n",
       "      <td>1</td>\n",
       "      <td>48</td>\n",
       "      <td>0</td>\n",
       "      <td>1.0104</td>\n",
       "      <td>0.3575</td>\n",
       "      <td>1</td>\n",
       "    </tr>\n",
       "    <tr>\n",
       "      <th>3</th>\n",
       "      <td>735501</td>\n",
       "      <td>3</td>\n",
       "      <td>1.0000</td>\n",
       "      <td>-0.8827</td>\n",
       "      <td>-0.4625</td>\n",
       "      <td>1.0000</td>\n",
       "      <td>0</td>\n",
       "      <td>0</td>\n",
       "      <td>3</td>\n",
       "      <td>7</td>\n",
       "      <td>-0.4376</td>\n",
       "      <td>0</td>\n",
       "      <td>54</td>\n",
       "      <td>0</td>\n",
       "      <td>-1.0887</td>\n",
       "      <td>-0.0038</td>\n",
       "      <td>1</td>\n",
       "    </tr>\n",
       "    <tr>\n",
       "      <th>4</th>\n",
       "      <td>735656</td>\n",
       "      <td>2</td>\n",
       "      <td>1.0000</td>\n",
       "      <td>-1.8448</td>\n",
       "      <td>-0.6017</td>\n",
       "      <td>1.0000</td>\n",
       "      <td>0</td>\n",
       "      <td>0</td>\n",
       "      <td>3</td>\n",
       "      <td>6</td>\n",
       "      <td>-1.6068</td>\n",
       "      <td>0</td>\n",
       "      <td>84</td>\n",
       "      <td>0</td>\n",
       "      <td>-0.3229</td>\n",
       "      <td>0.3709</td>\n",
       "      <td>1</td>\n",
       "    </tr>\n",
       "    <tr>\n",
       "      <th>...</th>\n",
       "      <td>...</td>\n",
       "      <td>...</td>\n",
       "      <td>...</td>\n",
       "      <td>...</td>\n",
       "      <td>...</td>\n",
       "      <td>...</td>\n",
       "      <td>...</td>\n",
       "      <td>...</td>\n",
       "      <td>...</td>\n",
       "      <td>...</td>\n",
       "      <td>...</td>\n",
       "      <td>...</td>\n",
       "      <td>...</td>\n",
       "      <td>...</td>\n",
       "      <td>...</td>\n",
       "      <td>...</td>\n",
       "      <td>...</td>\n",
       "    </tr>\n",
       "    <tr>\n",
       "      <th>21591</th>\n",
       "      <td>735509</td>\n",
       "      <td>4</td>\n",
       "      <td>3.2500</td>\n",
       "      <td>1.7862</td>\n",
       "      <td>1.1815</td>\n",
       "      <td>2.0000</td>\n",
       "      <td>0</td>\n",
       "      <td>0</td>\n",
       "      <td>4</td>\n",
       "      <td>11</td>\n",
       "      <td>2.0661</td>\n",
       "      <td>0</td>\n",
       "      <td>26</td>\n",
       "      <td>0</td>\n",
       "      <td>1.7739</td>\n",
       "      <td>1.2220</td>\n",
       "      <td>4</td>\n",
       "    </tr>\n",
       "    <tr>\n",
       "      <th>21592</th>\n",
       "      <td>735439</td>\n",
       "      <td>4</td>\n",
       "      <td>3.5000</td>\n",
       "      <td>1.8356</td>\n",
       "      <td>1.2024</td>\n",
       "      <td>2.0000</td>\n",
       "      <td>0</td>\n",
       "      <td>0</td>\n",
       "      <td>4</td>\n",
       "      <td>10</td>\n",
       "      <td>2.1167</td>\n",
       "      <td>0</td>\n",
       "      <td>28</td>\n",
       "      <td>0</td>\n",
       "      <td>1.4250</td>\n",
       "      <td>1.3089</td>\n",
       "      <td>4</td>\n",
       "    </tr>\n",
       "    <tr>\n",
       "      <th>21593</th>\n",
       "      <td>735709</td>\n",
       "      <td>5</td>\n",
       "      <td>5.2500</td>\n",
       "      <td>1.3978</td>\n",
       "      <td>0.1441</td>\n",
       "      <td>2.0000</td>\n",
       "      <td>0</td>\n",
       "      <td>0</td>\n",
       "      <td>3</td>\n",
       "      <td>11</td>\n",
       "      <td>1.6591</td>\n",
       "      <td>0</td>\n",
       "      <td>9</td>\n",
       "      <td>0</td>\n",
       "      <td>1.7387</td>\n",
       "      <td>1.2284</td>\n",
       "      <td>4</td>\n",
       "    </tr>\n",
       "    <tr>\n",
       "      <th>21594</th>\n",
       "      <td>735550</td>\n",
       "      <td>5</td>\n",
       "      <td>4.0000</td>\n",
       "      <td>2.4086</td>\n",
       "      <td>1.0135</td>\n",
       "      <td>2.0000</td>\n",
       "      <td>0</td>\n",
       "      <td>1</td>\n",
       "      <td>3</td>\n",
       "      <td>11</td>\n",
       "      <td>2.7449</td>\n",
       "      <td>0</td>\n",
       "      <td>2</td>\n",
       "      <td>0</td>\n",
       "      <td>2.1118</td>\n",
       "      <td>1.3220</td>\n",
       "      <td>4</td>\n",
       "    </tr>\n",
       "    <tr>\n",
       "      <th>21595</th>\n",
       "      <td>735656</td>\n",
       "      <td>4</td>\n",
       "      <td>3.7500</td>\n",
       "      <td>1.6591</td>\n",
       "      <td>0.3093</td>\n",
       "      <td>2.0000</td>\n",
       "      <td>0</td>\n",
       "      <td>0</td>\n",
       "      <td>3</td>\n",
       "      <td>11</td>\n",
       "      <td>1.5713</td>\n",
       "      <td>1</td>\n",
       "      <td>9</td>\n",
       "      <td>0</td>\n",
       "      <td>1.0104</td>\n",
       "      <td>0.9643</td>\n",
       "      <td>4</td>\n",
       "    </tr>\n",
       "  </tbody>\n",
       "</table>\n",
       "<p>21596 rows × 17 columns</p>\n",
       "</div>"
      ],
      "text/plain": [
       "         date bedrooms bathrooms  sqft_living  sqft_lot floors waterfront  \\\n",
       "0      735519        3    1.0000      -1.1094   -0.5178 1.0000          0   \n",
       "1      735407        2    1.0000      -1.7924   -0.2444 1.0000          0   \n",
       "2      735431        3    2.2500       0.2136    0.1678 1.0000          0   \n",
       "3      735501        3    1.0000      -0.8827   -0.4625 1.0000          0   \n",
       "4      735656        2    1.0000      -1.8448   -0.6017 1.0000          0   \n",
       "...       ...      ...       ...          ...       ...    ...        ...   \n",
       "21591  735509        4    3.2500       1.7862    1.1815 2.0000          0   \n",
       "21592  735439        4    3.5000       1.8356    1.2024 2.0000          0   \n",
       "21593  735709        5    5.2500       1.3978    0.1441 2.0000          0   \n",
       "21594  735550        5    4.0000       2.4086    1.0135 2.0000          0   \n",
       "21595  735656        4    3.7500       1.6591    0.3093 2.0000          0   \n",
       "\n",
       "      view condition grade  sqft_above  sqft_basement  age_build yr_renovated  \\\n",
       "0        0         3     7     -0.7039              0         60            0   \n",
       "1        0         4     6     -1.5377              0         70            0   \n",
       "2        2         3     8      0.0791              1         48            0   \n",
       "3        0         3     7     -0.4376              0         54            0   \n",
       "4        0         3     6     -1.6068              0         84            0   \n",
       "...    ...       ...   ...         ...            ...        ...          ...   \n",
       "21591    0         4    11      2.0661              0         26            0   \n",
       "21592    0         4    10      2.1167              0         28            0   \n",
       "21593    0         3    11      1.6591              0          9            0   \n",
       "21594    1         3    11      2.7449              0          2            0   \n",
       "21595    0         3    11      1.5713              1          9            0   \n",
       "\n",
       "       sqft_living15  sqft_lot15 quantile_zip  \n",
       "0            -1.0379     -0.5181            1  \n",
       "1            -1.4828     -0.2473            1  \n",
       "2             1.0104      0.3575            1  \n",
       "3            -1.0887     -0.0038            1  \n",
       "4            -0.3229      0.3709            1  \n",
       "...              ...         ...          ...  \n",
       "21591         1.7739      1.2220            4  \n",
       "21592         1.4250      1.3089            4  \n",
       "21593         1.7387      1.2284            4  \n",
       "21594         2.1118      1.3220            4  \n",
       "21595         1.0104      0.9643            4  \n",
       "\n",
       "[21596 rows x 17 columns]"
      ]
     },
     "execution_count": 125,
     "metadata": {},
     "output_type": "execute_result"
    }
   ],
   "source": [
    "X2 "
   ]
  },
  {
   "cell_type": "code",
   "execution_count": 126,
   "id": "559692f4",
   "metadata": {},
   "outputs": [],
   "source": [
    "X_train2, X_test2, y_train2, y_test2 = train_test_split(X2, y2, test_size=.30,random_state=123)"
   ]
  },
  {
   "cell_type": "code",
   "execution_count": 127,
   "id": "e33c756d",
   "metadata": {},
   "outputs": [
    {
     "data": {
      "text/plain": [
       "11950    0.4402\n",
       "17781   -0.0314\n",
       "3405    -1.2286\n",
       "740     -0.0872\n",
       "848      0.5467\n",
       "          ...  \n",
       "7763     0.9775\n",
       "15377    0.0506\n",
       "17730    0.1957\n",
       "15725   -1.1676\n",
       "19966    0.2047\n",
       "Name: price, Length: 15117, dtype: float64"
      ]
     },
     "execution_count": 127,
     "metadata": {},
     "output_type": "execute_result"
    }
   ],
   "source": [
    "y_train2"
   ]
  },
  {
   "cell_type": "markdown",
   "id": "c6185d42",
   "metadata": {},
   "source": [
    "### Standardize"
   ]
  },
  {
   "cell_type": "code",
   "execution_count": 128,
   "id": "73dfb8ee",
   "metadata": {},
   "outputs": [],
   "source": [
    "std_scaler2 = StandardScaler().fit(X_train2) \n",
    "\n",
    "X_train_scaled2 = std_scaler2.transform(X_train2)"
   ]
  },
  {
   "cell_type": "code",
   "execution_count": 129,
   "id": "d30b7e1b",
   "metadata": {},
   "outputs": [],
   "source": [
    "X_test_scaled2 = std_scaler2.transform(X_test2)"
   ]
  },
  {
   "cell_type": "markdown",
   "id": "a7d92dd4",
   "metadata": {},
   "source": [
    "### Running Linear Regression"
   ]
  },
  {
   "cell_type": "code",
   "execution_count": 130,
   "id": "fbd309ad",
   "metadata": {},
   "outputs": [
    {
     "name": "stdout",
     "output_type": "stream",
     "text": [
      "                            OLS Regression Results                            \n",
      "==============================================================================\n",
      "Dep. Variable:                  price   R-squared:                       0.814\n",
      "Model:                            OLS   Adj. R-squared:                  0.814\n",
      "Method:                 Least Squares   F-statistic:                     3895.\n",
      "Date:                Wed, 09 Feb 2022   Prob (F-statistic):               0.00\n",
      "Time:                        11:45:57   Log-Likelihood:                -8709.7\n",
      "No. Observations:               15117   AIC:                         1.746e+04\n",
      "Df Residuals:                   15099   BIC:                         1.759e+04\n",
      "Df Model:                          17                                         \n",
      "Covariance Type:            nonrobust                                         \n",
      "==============================================================================\n",
      "                 coef    std err          t      P>|t|      [0.025      0.975]\n",
      "------------------------------------------------------------------------------\n",
      "const         -0.0085      0.004     -2.439      0.015      -0.015      -0.002\n",
      "x1             0.0433      0.004     12.316      0.000       0.036       0.050\n",
      "x2            -0.0391      0.005     -8.217      0.000      -0.048      -0.030\n",
      "x3             0.0671      0.006     10.440      0.000       0.055       0.080\n",
      "x4             0.2894      0.015     19.635      0.000       0.260       0.318\n",
      "x5             0.0239      0.010      2.492      0.013       0.005       0.043\n",
      "x6             0.0375      0.006      6.814      0.000       0.027       0.048\n",
      "x7             0.0546      0.004     14.293      0.000       0.047       0.062\n",
      "x8             0.0784      0.004     19.301      0.000       0.070       0.086\n",
      "x9             0.0475      0.004     12.186      0.000       0.040       0.055\n",
      "x10            0.2621      0.006     41.893      0.000       0.250       0.274\n",
      "x11            0.0261      0.014      1.859      0.063      -0.001       0.054\n",
      "x12            0.0300      0.007      4.293      0.000       0.016       0.044\n",
      "x13            0.1656      0.005     32.336      0.000       0.156       0.176\n",
      "x14            0.0153      0.004      4.064      0.000       0.008       0.023\n",
      "x15            0.0671      0.006     11.573      0.000       0.056       0.078\n",
      "x16           -0.0740      0.009     -7.873      0.000      -0.092      -0.056\n",
      "x17            0.4705      0.004    117.841      0.000       0.463       0.478\n",
      "==============================================================================\n",
      "Omnibus:                      613.324   Durbin-Watson:                   1.992\n",
      "Prob(Omnibus):                  0.000   Jarque-Bera (JB):             1401.395\n",
      "Skew:                          -0.249   Prob(JB):                    4.91e-305\n",
      "Kurtosis:                       4.406   Cond. No.                         13.1\n",
      "==============================================================================\n",
      "\n",
      "Notes:\n",
      "[1] Standard Errors assume that the covariance matrix of the errors is correctly specified.\n"
     ]
    }
   ],
   "source": [
    "X_train_const_scaled2 = sm.add_constant(X_train_scaled2) # adding a constant\n",
    "\n",
    "model2 = sm.OLS(y_train2, X_train_const_scaled2).fit()\n",
    "predictions_train2 = model2.predict(X_train_const_scaled2) \n",
    "\n",
    "X_test_const_scaled2 = sm.add_constant(X_test_scaled2) # adding a constant\n",
    "predictions_test2 = model2.predict(X_test_const_scaled2) \n",
    "print_model2 = model2.summary()\n",
    "print(print_model2)"
   ]
  },
  {
   "cell_type": "code",
   "execution_count": 131,
   "id": "9e676f97",
   "metadata": {},
   "outputs": [
    {
     "data": {
      "text/plain": [
       "LinearRegression()"
      ]
     },
     "execution_count": 131,
     "metadata": {},
     "output_type": "execute_result"
    }
   ],
   "source": [
    "#using sklearn\n",
    "model2=LinearRegression()    # model\n",
    "model2.fit(X_train_scaled2, y_train2)   # model train"
   ]
  },
  {
   "cell_type": "code",
   "execution_count": 132,
   "id": "dd809244",
   "metadata": {},
   "outputs": [
    {
     "data": {
      "text/plain": [
       "array([ 0.04329889, -0.03912981,  0.06714431,  0.28937324,  0.0238754 ,\n",
       "        0.03753744,  0.0545729 ,  0.07844919,  0.04745917,  0.26211768,\n",
       "        0.02607608,  0.0299959 ,  0.16557037,  0.01526354,  0.06711665,\n",
       "       -0.07398153,  0.47048432])"
      ]
     },
     "execution_count": 132,
     "metadata": {},
     "output_type": "execute_result"
    }
   ],
   "source": [
    "model2.coef_"
   ]
  },
  {
   "cell_type": "code",
   "execution_count": 133,
   "id": "f10b88c5",
   "metadata": {},
   "outputs": [
    {
     "data": {
      "text/html": [
       "<div>\n",
       "<style scoped>\n",
       "    .dataframe tbody tr th:only-of-type {\n",
       "        vertical-align: middle;\n",
       "    }\n",
       "\n",
       "    .dataframe tbody tr th {\n",
       "        vertical-align: top;\n",
       "    }\n",
       "\n",
       "    .dataframe thead th {\n",
       "        text-align: right;\n",
       "    }\n",
       "</style>\n",
       "<table border=\"1\" class=\"dataframe\">\n",
       "  <thead>\n",
       "    <tr style=\"text-align: right;\">\n",
       "      <th></th>\n",
       "      <th>Attribute</th>\n",
       "      <th>Importance</th>\n",
       "    </tr>\n",
       "  </thead>\n",
       "  <tbody>\n",
       "    <tr>\n",
       "      <th>16</th>\n",
       "      <td>quantile_zip</td>\n",
       "      <td>0.4705</td>\n",
       "    </tr>\n",
       "    <tr>\n",
       "      <th>3</th>\n",
       "      <td>sqft_living</td>\n",
       "      <td>0.2894</td>\n",
       "    </tr>\n",
       "    <tr>\n",
       "      <th>9</th>\n",
       "      <td>grade</td>\n",
       "      <td>0.2621</td>\n",
       "    </tr>\n",
       "    <tr>\n",
       "      <th>12</th>\n",
       "      <td>age_build</td>\n",
       "      <td>0.1656</td>\n",
       "    </tr>\n",
       "    <tr>\n",
       "      <th>7</th>\n",
       "      <td>view</td>\n",
       "      <td>0.0784</td>\n",
       "    </tr>\n",
       "    <tr>\n",
       "      <th>15</th>\n",
       "      <td>sqft_lot15</td>\n",
       "      <td>0.0740</td>\n",
       "    </tr>\n",
       "    <tr>\n",
       "      <th>2</th>\n",
       "      <td>bathrooms</td>\n",
       "      <td>0.0671</td>\n",
       "    </tr>\n",
       "    <tr>\n",
       "      <th>14</th>\n",
       "      <td>sqft_living15</td>\n",
       "      <td>0.0671</td>\n",
       "    </tr>\n",
       "    <tr>\n",
       "      <th>6</th>\n",
       "      <td>waterfront</td>\n",
       "      <td>0.0546</td>\n",
       "    </tr>\n",
       "    <tr>\n",
       "      <th>8</th>\n",
       "      <td>condition</td>\n",
       "      <td>0.0475</td>\n",
       "    </tr>\n",
       "    <tr>\n",
       "      <th>0</th>\n",
       "      <td>date</td>\n",
       "      <td>0.0433</td>\n",
       "    </tr>\n",
       "    <tr>\n",
       "      <th>1</th>\n",
       "      <td>bedrooms</td>\n",
       "      <td>0.0391</td>\n",
       "    </tr>\n",
       "    <tr>\n",
       "      <th>5</th>\n",
       "      <td>floors</td>\n",
       "      <td>0.0375</td>\n",
       "    </tr>\n",
       "    <tr>\n",
       "      <th>11</th>\n",
       "      <td>sqft_basement</td>\n",
       "      <td>0.0300</td>\n",
       "    </tr>\n",
       "    <tr>\n",
       "      <th>10</th>\n",
       "      <td>sqft_above</td>\n",
       "      <td>0.0261</td>\n",
       "    </tr>\n",
       "    <tr>\n",
       "      <th>4</th>\n",
       "      <td>sqft_lot</td>\n",
       "      <td>0.0239</td>\n",
       "    </tr>\n",
       "    <tr>\n",
       "      <th>13</th>\n",
       "      <td>yr_renovated</td>\n",
       "      <td>0.0153</td>\n",
       "    </tr>\n",
       "  </tbody>\n",
       "</table>\n",
       "</div>"
      ],
      "text/plain": [
       "        Attribute  Importance\n",
       "16   quantile_zip      0.4705\n",
       "3     sqft_living      0.2894\n",
       "9           grade      0.2621\n",
       "12      age_build      0.1656\n",
       "7            view      0.0784\n",
       "15     sqft_lot15      0.0740\n",
       "2       bathrooms      0.0671\n",
       "14  sqft_living15      0.0671\n",
       "6      waterfront      0.0546\n",
       "8       condition      0.0475\n",
       "0            date      0.0433\n",
       "1        bedrooms      0.0391\n",
       "5          floors      0.0375\n",
       "11  sqft_basement      0.0300\n",
       "10     sqft_above      0.0261\n",
       "4        sqft_lot      0.0239\n",
       "13   yr_renovated      0.0153"
      ]
     },
     "execution_count": 133,
     "metadata": {},
     "output_type": "execute_result"
    }
   ],
   "source": [
    "features_importances2 = pd.DataFrame(data={\n",
    "    'Attribute': X_train2.columns,\n",
    "    'Importance': abs(model2.coef_)\n",
    "})\n",
    "features_importances2 = features_importances2.sort_values(by='Importance', ascending=False)\n",
    "features_importances2"
   ]
  },
  {
   "cell_type": "code",
   "execution_count": 134,
   "id": "83ab6c2a",
   "metadata": {},
   "outputs": [
    {
     "data": {
      "text/plain": [
       "LinearRegression()"
      ]
     },
     "execution_count": 134,
     "metadata": {},
     "output_type": "execute_result"
    }
   ],
   "source": [
    "#using sklearn\n",
    "model2=LinearRegression()    # model\n",
    "model2.fit(X_train_scaled2, y_train2)   # model train"
   ]
  },
  {
   "cell_type": "code",
   "execution_count": 135,
   "id": "993723c4",
   "metadata": {},
   "outputs": [
    {
     "data": {
      "text/plain": [
       "0.8135770287967135"
      ]
     },
     "execution_count": 135,
     "metadata": {},
     "output_type": "execute_result"
    }
   ],
   "source": [
    "R2_test2 = model2.score(X_test_scaled2,y_test2) # measure R2\n",
    "R2_test2"
   ]
  },
  {
   "cell_type": "code",
   "execution_count": 136,
   "id": "6d67baa7",
   "metadata": {},
   "outputs": [
    {
     "data": {
      "text/plain": [
       "array([674033.24575562, 505750.86573498, 603575.11856333, ...,\n",
       "       174540.49376766, 444264.24734495, 819051.46339383])"
      ]
     },
     "execution_count": 136,
     "metadata": {},
     "output_type": "execute_result"
    }
   ],
   "source": [
    "# Making prediction\n",
    "y_pred = model.predict(X_test_scaled)\n",
    "y_pred"
   ]
  },
  {
   "cell_type": "code",
   "execution_count": 137,
   "id": "45771c0e",
   "metadata": {},
   "outputs": [
    {
     "data": {
      "text/plain": [
       "14863     392000\n",
       "2277      418000\n",
       "21578     520000\n",
       "18669    1050000\n",
       "21453     249000\n",
       "          ...   \n",
       "12811     291970\n",
       "12288     741000\n",
       "6556      269000\n",
       "16310     180000\n",
       "1050      850000\n",
       "Name: price, Length: 6479, dtype: int64"
      ]
     },
     "execution_count": 137,
     "metadata": {},
     "output_type": "execute_result"
    }
   ],
   "source": [
    "y_test\n"
   ]
  },
  {
   "cell_type": "code",
   "execution_count": 138,
   "id": "3c3d19a5",
   "metadata": {},
   "outputs": [
    {
     "data": {
      "text/plain": [
       "[<matplotlib.lines.Line2D at 0x7fcb997f36a0>]"
      ]
     },
     "execution_count": 138,
     "metadata": {},
     "output_type": "execute_result"
    },
    {
     "data": {
      "image/png": "[encoded data removed]",
      "text/plain": [
       "<Figure size 1008x288 with 3 Axes>"
      ]
     },
     "metadata": {
      "needs_background": "light"
     },
     "output_type": "display_data"
    }
   ],
   "source": [
    "# Make an scatter plot y_pred vs y\n",
    "# What kind of plot you will get if all the all the predictions are ok?\n",
    "# A stright line\n",
    "\n",
    "fig, ax = plt.subplots(1,3,figsize=(14,4))\n",
    "ax[0].plot(y_pred, y_test, 'o')\n",
    "ax[0].set_xlabel(\"y_test\")\n",
    "ax[0].set_ylabel(\"y_pred\")\n",
    "ax[0].set_title(\"Test Set -Predicted vs real\")\n",
    "\n",
    "# Get a histogram of the residuals ie: y - y_pred.  Homoscdasticity\n",
    "# It resembles a normal distribution?\n",
    "ax[1].hist(y_test - y_pred)\n",
    "ax[1].set_xlabel(\"Test y-y_pred\")\n",
    "ax[1].set_title(\"Test Set Residual histogram\")\n",
    "\n",
    "ax[2].plot(y_pred,y_test - y_pred,\"o\")\n",
    "ax[2].set_xlabel(\"predited\")\n",
    "ax[2].set_ylabel(\"residuals\")\n",
    "ax[2].set_title(\"Residuals by Predicted\")\n",
    "ax[2].plot(y_pred,np.zeros(len(y_pred)),linestyle='dashed')"
   ]
  },
  {
   "cell_type": "code",
   "execution_count": 139,
   "id": "194b7c77",
   "metadata": {},
   "outputs": [
    {
     "data": {
      "text/plain": [
       "<AxesSubplot:xlabel='y_pred', ylabel='y_test'>"
      ]
     },
     "execution_count": 139,
     "metadata": {},
     "output_type": "execute_result"
    },
    {
     "data": {
      "image/png": "[encoded data removed]",
      "text/plain": [
       "<Figure size 432x288 with 1 Axes>"
      ]
     },
     "metadata": {
      "needs_background": "light"
     },
     "output_type": "display_data"
    }
   ],
   "source": [
    "sns.regplot(x='y_pred',y='y_test', data=result, scatter_kws={\"color\": \"red\"}, line_kws={\"color\": \"black\"})"
   ]
  }
 ],
 "metadata": {
  "kernelspec": {
   "display_name": "Python 3 (ipykernel)",
   "language": "python",
   "name": "python3"
  },
  "language_info": {
   "codemirror_mode": {
    "name": "ipython",
    "version": 3
   },
   "file_extension": ".py",
   "mimetype": "text/x-python",
   "name": "python",
   "nbconvert_exporter": "python",
   "pygments_lexer": "ipython3",
   "version": "3.9.7"
  },
  "toc": {
   "base_numbering": 1,
   "nav_menu": {},
   "number_sections": true,
   "sideBar": true,
   "skip_h1_title": false,
   "title_cell": "Table of Contents",
   "title_sidebar": "Contents",
   "toc_cell": false,
   "toc_position": {
    "height": "calc(100% - 180px)",
    "left": "10px",
    "top": "150px",
    "width": "165px"
   },
   "toc_section_display": true,
   "toc_window_display": true
  }
 },
 "nbformat": 4,
 "nbformat_minor": 5
}
