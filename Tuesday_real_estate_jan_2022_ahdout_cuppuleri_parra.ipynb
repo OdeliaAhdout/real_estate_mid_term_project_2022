{
 "cells": [
  {
   "cell_type": "markdown",
   "id": "8e561cdc",
   "metadata": {},
   "source": [
    "Goal of the study: Identify the variables with the highest impact on the final house price"
   ]
  },
  {
   "cell_type": "markdown",
   "id": "7c3ac6a1",
   "metadata": {},
   "source": [
    "## Exploratory Data Analysis"
   ]
  },
  {
   "cell_type": "markdown",
   "id": "d55a6fe8",
   "metadata": {},
   "source": [
    "### Importing the libraries"
   ]
  },
  {
   "cell_type": "code",
   "execution_count": 1,
   "id": "e24fa0a1",
   "metadata": {},
   "outputs": [],
   "source": [
    "import numpy as np\n",
    "import pandas as pd\n",
    "import matplotlib.pyplot as plt\n",
    "%matplotlib inline\n",
    "from matplotlib.colors import ListedColormap\n",
    "\n",
    "import seaborn as sns\n",
    "from sklearn.preprocessing import StandardScaler\n",
    "from sklearn.preprocessing import minmax_scale\n",
    "from sklearn.preprocessing import OneHotEncoder\n",
    "from sklearn.linear_model import LinearRegression\n",
    "from sklearn.model_selection import train_test_split\n",
    "from sklearn.preprocessing import PowerTransformer\n",
    "from sklearn.linear_model import LinearRegression\n",
    "from sklearn.preprocessing import OrdinalEncoder\n",
    "from sklearn.preprocessing import (StandardScaler, MinMaxScaler)\n",
    "from sklearn.preprocessing import QuantileTransformer\n",
    "\n",
    "import statsmodels.api as sm\n",
    "from scipy.stats import boxcox\n",
    "from sklearn.model_selection import train_test_split\n",
    "from sklearn.metrics import r2_score\n",
    "from sklearn.metrics import mean_squared_error as mse\n",
    "from sklearn.metrics import mean_absolute_error as mae\n",
    "pd.options.display.max_rows = 50\n",
    "pd.set_option('max_columns', None)\n",
    "\n",
    "pd.set_option('display.float_format', lambda x: '%0.4f' % x)"
   ]
  },
  {
   "cell_type": "markdown",
   "id": "416024a5",
   "metadata": {},
   "source": [
    "### Import dataset"
   ]
  },
  {
   "cell_type": "code",
   "execution_count": 2,
   "id": "07cbe1c2",
   "metadata": {},
   "outputs": [
    {
     "data": {
      "text/html": [
       "<div>\n",
       "<style scoped>\n",
       "    .dataframe tbody tr th:only-of-type {\n",
       "        vertical-align: middle;\n",
       "    }\n",
       "\n",
       "    .dataframe tbody tr th {\n",
       "        vertical-align: top;\n",
       "    }\n",
       "\n",
       "    .dataframe thead th {\n",
       "        text-align: right;\n",
       "    }\n",
       "</style>\n",
       "<table border=\"1\" class=\"dataframe\">\n",
       "  <thead>\n",
       "    <tr style=\"text-align: right;\">\n",
       "      <th></th>\n",
       "      <th>id</th>\n",
       "      <th>date</th>\n",
       "      <th>bedrooms</th>\n",
       "      <th>bathrooms</th>\n",
       "      <th>sqft_living</th>\n",
       "      <th>sqft_lot</th>\n",
       "      <th>floors</th>\n",
       "      <th>waterfront</th>\n",
       "      <th>view</th>\n",
       "      <th>condition</th>\n",
       "      <th>grade</th>\n",
       "      <th>sqft_above</th>\n",
       "      <th>sqft_basement</th>\n",
       "      <th>yr_built</th>\n",
       "      <th>yr_renovated</th>\n",
       "      <th>zipcode</th>\n",
       "      <th>lat</th>\n",
       "      <th>long</th>\n",
       "      <th>sqft_living15</th>\n",
       "      <th>sqft_lot15</th>\n",
       "      <th>price</th>\n",
       "    </tr>\n",
       "  </thead>\n",
       "  <tbody>\n",
       "    <tr>\n",
       "      <th>0</th>\n",
       "      <td>7129300520</td>\n",
       "      <td>2014-10-13</td>\n",
       "      <td>3</td>\n",
       "      <td>1.0000</td>\n",
       "      <td>1180</td>\n",
       "      <td>5650</td>\n",
       "      <td>1.0000</td>\n",
       "      <td>0</td>\n",
       "      <td>0</td>\n",
       "      <td>3</td>\n",
       "      <td>7</td>\n",
       "      <td>1180</td>\n",
       "      <td>0</td>\n",
       "      <td>1955</td>\n",
       "      <td>0</td>\n",
       "      <td>98178</td>\n",
       "      <td>47.5112</td>\n",
       "      <td>-122.2570</td>\n",
       "      <td>1340</td>\n",
       "      <td>5650</td>\n",
       "      <td>221900</td>\n",
       "    </tr>\n",
       "    <tr>\n",
       "      <th>1</th>\n",
       "      <td>6414100192</td>\n",
       "      <td>2014-12-09</td>\n",
       "      <td>3</td>\n",
       "      <td>2.2500</td>\n",
       "      <td>2570</td>\n",
       "      <td>7242</td>\n",
       "      <td>2.0000</td>\n",
       "      <td>0</td>\n",
       "      <td>0</td>\n",
       "      <td>3</td>\n",
       "      <td>7</td>\n",
       "      <td>2170</td>\n",
       "      <td>400</td>\n",
       "      <td>1951</td>\n",
       "      <td>1991</td>\n",
       "      <td>98125</td>\n",
       "      <td>47.7210</td>\n",
       "      <td>-122.3190</td>\n",
       "      <td>1690</td>\n",
       "      <td>7639</td>\n",
       "      <td>538000</td>\n",
       "    </tr>\n",
       "    <tr>\n",
       "      <th>2</th>\n",
       "      <td>5631500400</td>\n",
       "      <td>2015-02-25</td>\n",
       "      <td>2</td>\n",
       "      <td>1.0000</td>\n",
       "      <td>770</td>\n",
       "      <td>10000</td>\n",
       "      <td>1.0000</td>\n",
       "      <td>0</td>\n",
       "      <td>0</td>\n",
       "      <td>3</td>\n",
       "      <td>6</td>\n",
       "      <td>770</td>\n",
       "      <td>0</td>\n",
       "      <td>1933</td>\n",
       "      <td>0</td>\n",
       "      <td>98028</td>\n",
       "      <td>47.7379</td>\n",
       "      <td>-122.2330</td>\n",
       "      <td>2720</td>\n",
       "      <td>8062</td>\n",
       "      <td>180000</td>\n",
       "    </tr>\n",
       "    <tr>\n",
       "      <th>3</th>\n",
       "      <td>2487200875</td>\n",
       "      <td>2014-12-09</td>\n",
       "      <td>4</td>\n",
       "      <td>3.0000</td>\n",
       "      <td>1960</td>\n",
       "      <td>5000</td>\n",
       "      <td>1.0000</td>\n",
       "      <td>0</td>\n",
       "      <td>0</td>\n",
       "      <td>5</td>\n",
       "      <td>7</td>\n",
       "      <td>1050</td>\n",
       "      <td>910</td>\n",
       "      <td>1965</td>\n",
       "      <td>0</td>\n",
       "      <td>98136</td>\n",
       "      <td>47.5208</td>\n",
       "      <td>-122.3930</td>\n",
       "      <td>1360</td>\n",
       "      <td>5000</td>\n",
       "      <td>604000</td>\n",
       "    </tr>\n",
       "    <tr>\n",
       "      <th>4</th>\n",
       "      <td>1954400510</td>\n",
       "      <td>2015-02-18</td>\n",
       "      <td>3</td>\n",
       "      <td>2.0000</td>\n",
       "      <td>1680</td>\n",
       "      <td>8080</td>\n",
       "      <td>1.0000</td>\n",
       "      <td>0</td>\n",
       "      <td>0</td>\n",
       "      <td>3</td>\n",
       "      <td>8</td>\n",
       "      <td>1680</td>\n",
       "      <td>0</td>\n",
       "      <td>1987</td>\n",
       "      <td>0</td>\n",
       "      <td>98074</td>\n",
       "      <td>47.6168</td>\n",
       "      <td>-122.0450</td>\n",
       "      <td>1800</td>\n",
       "      <td>7503</td>\n",
       "      <td>510000</td>\n",
       "    </tr>\n",
       "    <tr>\n",
       "      <th>...</th>\n",
       "      <td>...</td>\n",
       "      <td>...</td>\n",
       "      <td>...</td>\n",
       "      <td>...</td>\n",
       "      <td>...</td>\n",
       "      <td>...</td>\n",
       "      <td>...</td>\n",
       "      <td>...</td>\n",
       "      <td>...</td>\n",
       "      <td>...</td>\n",
       "      <td>...</td>\n",
       "      <td>...</td>\n",
       "      <td>...</td>\n",
       "      <td>...</td>\n",
       "      <td>...</td>\n",
       "      <td>...</td>\n",
       "      <td>...</td>\n",
       "      <td>...</td>\n",
       "      <td>...</td>\n",
       "      <td>...</td>\n",
       "      <td>...</td>\n",
       "    </tr>\n",
       "    <tr>\n",
       "      <th>21592</th>\n",
       "      <td>263000018</td>\n",
       "      <td>2014-05-21</td>\n",
       "      <td>3</td>\n",
       "      <td>2.5000</td>\n",
       "      <td>1530</td>\n",
       "      <td>1131</td>\n",
       "      <td>3.0000</td>\n",
       "      <td>0</td>\n",
       "      <td>0</td>\n",
       "      <td>3</td>\n",
       "      <td>8</td>\n",
       "      <td>1530</td>\n",
       "      <td>0</td>\n",
       "      <td>2009</td>\n",
       "      <td>0</td>\n",
       "      <td>98103</td>\n",
       "      <td>47.6993</td>\n",
       "      <td>-122.3460</td>\n",
       "      <td>1530</td>\n",
       "      <td>1509</td>\n",
       "      <td>360000</td>\n",
       "    </tr>\n",
       "    <tr>\n",
       "      <th>21593</th>\n",
       "      <td>6600060120</td>\n",
       "      <td>2015-02-23</td>\n",
       "      <td>4</td>\n",
       "      <td>2.5000</td>\n",
       "      <td>2310</td>\n",
       "      <td>5813</td>\n",
       "      <td>2.0000</td>\n",
       "      <td>0</td>\n",
       "      <td>0</td>\n",
       "      <td>3</td>\n",
       "      <td>8</td>\n",
       "      <td>2310</td>\n",
       "      <td>0</td>\n",
       "      <td>2014</td>\n",
       "      <td>0</td>\n",
       "      <td>98146</td>\n",
       "      <td>47.5107</td>\n",
       "      <td>-122.3620</td>\n",
       "      <td>1830</td>\n",
       "      <td>7200</td>\n",
       "      <td>400000</td>\n",
       "    </tr>\n",
       "    <tr>\n",
       "      <th>21594</th>\n",
       "      <td>1523300141</td>\n",
       "      <td>2014-06-23</td>\n",
       "      <td>2</td>\n",
       "      <td>0.7500</td>\n",
       "      <td>1020</td>\n",
       "      <td>1350</td>\n",
       "      <td>2.0000</td>\n",
       "      <td>0</td>\n",
       "      <td>0</td>\n",
       "      <td>3</td>\n",
       "      <td>7</td>\n",
       "      <td>1020</td>\n",
       "      <td>0</td>\n",
       "      <td>2009</td>\n",
       "      <td>0</td>\n",
       "      <td>98144</td>\n",
       "      <td>47.5944</td>\n",
       "      <td>-122.2990</td>\n",
       "      <td>1020</td>\n",
       "      <td>2007</td>\n",
       "      <td>402101</td>\n",
       "    </tr>\n",
       "    <tr>\n",
       "      <th>21595</th>\n",
       "      <td>291310100</td>\n",
       "      <td>2015-01-16</td>\n",
       "      <td>3</td>\n",
       "      <td>2.5000</td>\n",
       "      <td>1600</td>\n",
       "      <td>2388</td>\n",
       "      <td>2.0000</td>\n",
       "      <td>0</td>\n",
       "      <td>0</td>\n",
       "      <td>3</td>\n",
       "      <td>8</td>\n",
       "      <td>1600</td>\n",
       "      <td>0</td>\n",
       "      <td>2004</td>\n",
       "      <td>0</td>\n",
       "      <td>98027</td>\n",
       "      <td>47.5345</td>\n",
       "      <td>-122.0690</td>\n",
       "      <td>1410</td>\n",
       "      <td>1287</td>\n",
       "      <td>400000</td>\n",
       "    </tr>\n",
       "    <tr>\n",
       "      <th>21596</th>\n",
       "      <td>1523300157</td>\n",
       "      <td>2014-10-15</td>\n",
       "      <td>2</td>\n",
       "      <td>0.7500</td>\n",
       "      <td>1020</td>\n",
       "      <td>1076</td>\n",
       "      <td>2.0000</td>\n",
       "      <td>0</td>\n",
       "      <td>0</td>\n",
       "      <td>3</td>\n",
       "      <td>7</td>\n",
       "      <td>1020</td>\n",
       "      <td>0</td>\n",
       "      <td>2008</td>\n",
       "      <td>0</td>\n",
       "      <td>98144</td>\n",
       "      <td>47.5941</td>\n",
       "      <td>-122.2990</td>\n",
       "      <td>1020</td>\n",
       "      <td>1357</td>\n",
       "      <td>325000</td>\n",
       "    </tr>\n",
       "  </tbody>\n",
       "</table>\n",
       "<p>21597 rows × 21 columns</p>\n",
       "</div>"
      ],
      "text/plain": [
       "               id       date  bedrooms  bathrooms  sqft_living  sqft_lot  \\\n",
       "0      7129300520 2014-10-13         3     1.0000         1180      5650   \n",
       "1      6414100192 2014-12-09         3     2.2500         2570      7242   \n",
       "2      5631500400 2015-02-25         2     1.0000          770     10000   \n",
       "3      2487200875 2014-12-09         4     3.0000         1960      5000   \n",
       "4      1954400510 2015-02-18         3     2.0000         1680      8080   \n",
       "...           ...        ...       ...        ...          ...       ...   \n",
       "21592   263000018 2014-05-21         3     2.5000         1530      1131   \n",
       "21593  6600060120 2015-02-23         4     2.5000         2310      5813   \n",
       "21594  1523300141 2014-06-23         2     0.7500         1020      1350   \n",
       "21595   291310100 2015-01-16         3     2.5000         1600      2388   \n",
       "21596  1523300157 2014-10-15         2     0.7500         1020      1076   \n",
       "\n",
       "       floors  waterfront  view  condition  grade  sqft_above  sqft_basement  \\\n",
       "0      1.0000           0     0          3      7        1180              0   \n",
       "1      2.0000           0     0          3      7        2170            400   \n",
       "2      1.0000           0     0          3      6         770              0   \n",
       "3      1.0000           0     0          5      7        1050            910   \n",
       "4      1.0000           0     0          3      8        1680              0   \n",
       "...       ...         ...   ...        ...    ...         ...            ...   \n",
       "21592  3.0000           0     0          3      8        1530              0   \n",
       "21593  2.0000           0     0          3      8        2310              0   \n",
       "21594  2.0000           0     0          3      7        1020              0   \n",
       "21595  2.0000           0     0          3      8        1600              0   \n",
       "21596  2.0000           0     0          3      7        1020              0   \n",
       "\n",
       "       yr_built  yr_renovated  zipcode     lat      long  sqft_living15  \\\n",
       "0          1955             0    98178 47.5112 -122.2570           1340   \n",
       "1          1951          1991    98125 47.7210 -122.3190           1690   \n",
       "2          1933             0    98028 47.7379 -122.2330           2720   \n",
       "3          1965             0    98136 47.5208 -122.3930           1360   \n",
       "4          1987             0    98074 47.6168 -122.0450           1800   \n",
       "...         ...           ...      ...     ...       ...            ...   \n",
       "21592      2009             0    98103 47.6993 -122.3460           1530   \n",
       "21593      2014             0    98146 47.5107 -122.3620           1830   \n",
       "21594      2009             0    98144 47.5944 -122.2990           1020   \n",
       "21595      2004             0    98027 47.5345 -122.0690           1410   \n",
       "21596      2008             0    98144 47.5941 -122.2990           1020   \n",
       "\n",
       "       sqft_lot15   price  \n",
       "0            5650  221900  \n",
       "1            7639  538000  \n",
       "2            8062  180000  \n",
       "3            5000  604000  \n",
       "4            7503  510000  \n",
       "...           ...     ...  \n",
       "21592        1509  360000  \n",
       "21593        7200  400000  \n",
       "21594        2007  402101  \n",
       "21595        1287  400000  \n",
       "21596        1357  325000  \n",
       "\n",
       "[21597 rows x 21 columns]"
      ]
     },
     "execution_count": 2,
     "metadata": {},
     "output_type": "execute_result"
    }
   ],
   "source": [
    "df = pd.read_excel('Data/Data_MidTerm_Project_Real_State_Regression.xls')\n",
    "df"
   ]
  },
  {
   "cell_type": "markdown",
   "id": "35547a47",
   "metadata": {},
   "source": [
    "### Columns type"
   ]
  },
  {
   "cell_type": "code",
   "execution_count": 3,
   "id": "e5df2aaf",
   "metadata": {},
   "outputs": [
    {
     "data": {
      "text/plain": [
       "id                        int64\n",
       "date             datetime64[ns]\n",
       "bedrooms                  int64\n",
       "bathrooms               float64\n",
       "sqft_living               int64\n",
       "sqft_lot                  int64\n",
       "floors                  float64\n",
       "waterfront                int64\n",
       "view                      int64\n",
       "condition                 int64\n",
       "grade                     int64\n",
       "sqft_above                int64\n",
       "sqft_basement             int64\n",
       "yr_built                  int64\n",
       "yr_renovated              int64\n",
       "zipcode                   int64\n",
       "lat                     float64\n",
       "long                    float64\n",
       "sqft_living15             int64\n",
       "sqft_lot15                int64\n",
       "price                     int64\n",
       "dtype: object"
      ]
     },
     "execution_count": 3,
     "metadata": {},
     "output_type": "execute_result"
    }
   ],
   "source": [
    "df.dtypes"
   ]
  },
  {
   "cell_type": "markdown",
   "id": "a7f62fac",
   "metadata": {},
   "source": [
    "### Checking NULL values"
   ]
  },
  {
   "cell_type": "code",
   "execution_count": 4,
   "id": "d133ccf2",
   "metadata": {},
   "outputs": [
    {
     "data": {
      "text/plain": [
       "id               0\n",
       "date             0\n",
       "bedrooms         0\n",
       "bathrooms        0\n",
       "sqft_living      0\n",
       "sqft_lot         0\n",
       "floors           0\n",
       "waterfront       0\n",
       "view             0\n",
       "condition        0\n",
       "grade            0\n",
       "sqft_above       0\n",
       "sqft_basement    0\n",
       "yr_built         0\n",
       "yr_renovated     0\n",
       "zipcode          0\n",
       "lat              0\n",
       "long             0\n",
       "sqft_living15    0\n",
       "sqft_lot15       0\n",
       "price            0\n",
       "dtype: int64"
      ]
     },
     "metadata": {},
     "output_type": "display_data"
    }
   ],
   "source": [
    "display(df.isnull().sum())"
   ]
  },
  {
   "cell_type": "markdown",
   "id": "555794ab",
   "metadata": {},
   "source": [
    "**drop not relevant columns**"
   ]
  },
  {
   "cell_type": "code",
   "execution_count": 5,
   "id": "61998fb1",
   "metadata": {},
   "outputs": [
    {
     "data": {
      "text/html": [
       "<div>\n",
       "<style scoped>\n",
       "    .dataframe tbody tr th:only-of-type {\n",
       "        vertical-align: middle;\n",
       "    }\n",
       "\n",
       "    .dataframe tbody tr th {\n",
       "        vertical-align: top;\n",
       "    }\n",
       "\n",
       "    .dataframe thead th {\n",
       "        text-align: right;\n",
       "    }\n",
       "</style>\n",
       "<table border=\"1\" class=\"dataframe\">\n",
       "  <thead>\n",
       "    <tr style=\"text-align: right;\">\n",
       "      <th></th>\n",
       "      <th>date</th>\n",
       "      <th>bedrooms</th>\n",
       "      <th>bathrooms</th>\n",
       "      <th>sqft_living</th>\n",
       "      <th>sqft_lot</th>\n",
       "      <th>floors</th>\n",
       "      <th>waterfront</th>\n",
       "      <th>view</th>\n",
       "      <th>condition</th>\n",
       "      <th>grade</th>\n",
       "      <th>sqft_above</th>\n",
       "      <th>sqft_basement</th>\n",
       "      <th>yr_built</th>\n",
       "      <th>yr_renovated</th>\n",
       "      <th>zipcode</th>\n",
       "      <th>sqft_living15</th>\n",
       "      <th>sqft_lot15</th>\n",
       "      <th>price</th>\n",
       "    </tr>\n",
       "  </thead>\n",
       "  <tbody>\n",
       "    <tr>\n",
       "      <th>0</th>\n",
       "      <td>2014-10-13</td>\n",
       "      <td>3</td>\n",
       "      <td>1.0000</td>\n",
       "      <td>1180</td>\n",
       "      <td>5650</td>\n",
       "      <td>1.0000</td>\n",
       "      <td>0</td>\n",
       "      <td>0</td>\n",
       "      <td>3</td>\n",
       "      <td>7</td>\n",
       "      <td>1180</td>\n",
       "      <td>0</td>\n",
       "      <td>1955</td>\n",
       "      <td>0</td>\n",
       "      <td>98178</td>\n",
       "      <td>1340</td>\n",
       "      <td>5650</td>\n",
       "      <td>221900</td>\n",
       "    </tr>\n",
       "    <tr>\n",
       "      <th>1</th>\n",
       "      <td>2014-12-09</td>\n",
       "      <td>3</td>\n",
       "      <td>2.2500</td>\n",
       "      <td>2570</td>\n",
       "      <td>7242</td>\n",
       "      <td>2.0000</td>\n",
       "      <td>0</td>\n",
       "      <td>0</td>\n",
       "      <td>3</td>\n",
       "      <td>7</td>\n",
       "      <td>2170</td>\n",
       "      <td>400</td>\n",
       "      <td>1951</td>\n",
       "      <td>1991</td>\n",
       "      <td>98125</td>\n",
       "      <td>1690</td>\n",
       "      <td>7639</td>\n",
       "      <td>538000</td>\n",
       "    </tr>\n",
       "    <tr>\n",
       "      <th>2</th>\n",
       "      <td>2015-02-25</td>\n",
       "      <td>2</td>\n",
       "      <td>1.0000</td>\n",
       "      <td>770</td>\n",
       "      <td>10000</td>\n",
       "      <td>1.0000</td>\n",
       "      <td>0</td>\n",
       "      <td>0</td>\n",
       "      <td>3</td>\n",
       "      <td>6</td>\n",
       "      <td>770</td>\n",
       "      <td>0</td>\n",
       "      <td>1933</td>\n",
       "      <td>0</td>\n",
       "      <td>98028</td>\n",
       "      <td>2720</td>\n",
       "      <td>8062</td>\n",
       "      <td>180000</td>\n",
       "    </tr>\n",
       "    <tr>\n",
       "      <th>3</th>\n",
       "      <td>2014-12-09</td>\n",
       "      <td>4</td>\n",
       "      <td>3.0000</td>\n",
       "      <td>1960</td>\n",
       "      <td>5000</td>\n",
       "      <td>1.0000</td>\n",
       "      <td>0</td>\n",
       "      <td>0</td>\n",
       "      <td>5</td>\n",
       "      <td>7</td>\n",
       "      <td>1050</td>\n",
       "      <td>910</td>\n",
       "      <td>1965</td>\n",
       "      <td>0</td>\n",
       "      <td>98136</td>\n",
       "      <td>1360</td>\n",
       "      <td>5000</td>\n",
       "      <td>604000</td>\n",
       "    </tr>\n",
       "    <tr>\n",
       "      <th>4</th>\n",
       "      <td>2015-02-18</td>\n",
       "      <td>3</td>\n",
       "      <td>2.0000</td>\n",
       "      <td>1680</td>\n",
       "      <td>8080</td>\n",
       "      <td>1.0000</td>\n",
       "      <td>0</td>\n",
       "      <td>0</td>\n",
       "      <td>3</td>\n",
       "      <td>8</td>\n",
       "      <td>1680</td>\n",
       "      <td>0</td>\n",
       "      <td>1987</td>\n",
       "      <td>0</td>\n",
       "      <td>98074</td>\n",
       "      <td>1800</td>\n",
       "      <td>7503</td>\n",
       "      <td>510000</td>\n",
       "    </tr>\n",
       "    <tr>\n",
       "      <th>...</th>\n",
       "      <td>...</td>\n",
       "      <td>...</td>\n",
       "      <td>...</td>\n",
       "      <td>...</td>\n",
       "      <td>...</td>\n",
       "      <td>...</td>\n",
       "      <td>...</td>\n",
       "      <td>...</td>\n",
       "      <td>...</td>\n",
       "      <td>...</td>\n",
       "      <td>...</td>\n",
       "      <td>...</td>\n",
       "      <td>...</td>\n",
       "      <td>...</td>\n",
       "      <td>...</td>\n",
       "      <td>...</td>\n",
       "      <td>...</td>\n",
       "      <td>...</td>\n",
       "    </tr>\n",
       "    <tr>\n",
       "      <th>21592</th>\n",
       "      <td>2014-05-21</td>\n",
       "      <td>3</td>\n",
       "      <td>2.5000</td>\n",
       "      <td>1530</td>\n",
       "      <td>1131</td>\n",
       "      <td>3.0000</td>\n",
       "      <td>0</td>\n",
       "      <td>0</td>\n",
       "      <td>3</td>\n",
       "      <td>8</td>\n",
       "      <td>1530</td>\n",
       "      <td>0</td>\n",
       "      <td>2009</td>\n",
       "      <td>0</td>\n",
       "      <td>98103</td>\n",
       "      <td>1530</td>\n",
       "      <td>1509</td>\n",
       "      <td>360000</td>\n",
       "    </tr>\n",
       "    <tr>\n",
       "      <th>21593</th>\n",
       "      <td>2015-02-23</td>\n",
       "      <td>4</td>\n",
       "      <td>2.5000</td>\n",
       "      <td>2310</td>\n",
       "      <td>5813</td>\n",
       "      <td>2.0000</td>\n",
       "      <td>0</td>\n",
       "      <td>0</td>\n",
       "      <td>3</td>\n",
       "      <td>8</td>\n",
       "      <td>2310</td>\n",
       "      <td>0</td>\n",
       "      <td>2014</td>\n",
       "      <td>0</td>\n",
       "      <td>98146</td>\n",
       "      <td>1830</td>\n",
       "      <td>7200</td>\n",
       "      <td>400000</td>\n",
       "    </tr>\n",
       "    <tr>\n",
       "      <th>21594</th>\n",
       "      <td>2014-06-23</td>\n",
       "      <td>2</td>\n",
       "      <td>0.7500</td>\n",
       "      <td>1020</td>\n",
       "      <td>1350</td>\n",
       "      <td>2.0000</td>\n",
       "      <td>0</td>\n",
       "      <td>0</td>\n",
       "      <td>3</td>\n",
       "      <td>7</td>\n",
       "      <td>1020</td>\n",
       "      <td>0</td>\n",
       "      <td>2009</td>\n",
       "      <td>0</td>\n",
       "      <td>98144</td>\n",
       "      <td>1020</td>\n",
       "      <td>2007</td>\n",
       "      <td>402101</td>\n",
       "    </tr>\n",
       "    <tr>\n",
       "      <th>21595</th>\n",
       "      <td>2015-01-16</td>\n",
       "      <td>3</td>\n",
       "      <td>2.5000</td>\n",
       "      <td>1600</td>\n",
       "      <td>2388</td>\n",
       "      <td>2.0000</td>\n",
       "      <td>0</td>\n",
       "      <td>0</td>\n",
       "      <td>3</td>\n",
       "      <td>8</td>\n",
       "      <td>1600</td>\n",
       "      <td>0</td>\n",
       "      <td>2004</td>\n",
       "      <td>0</td>\n",
       "      <td>98027</td>\n",
       "      <td>1410</td>\n",
       "      <td>1287</td>\n",
       "      <td>400000</td>\n",
       "    </tr>\n",
       "    <tr>\n",
       "      <th>21596</th>\n",
       "      <td>2014-10-15</td>\n",
       "      <td>2</td>\n",
       "      <td>0.7500</td>\n",
       "      <td>1020</td>\n",
       "      <td>1076</td>\n",
       "      <td>2.0000</td>\n",
       "      <td>0</td>\n",
       "      <td>0</td>\n",
       "      <td>3</td>\n",
       "      <td>7</td>\n",
       "      <td>1020</td>\n",
       "      <td>0</td>\n",
       "      <td>2008</td>\n",
       "      <td>0</td>\n",
       "      <td>98144</td>\n",
       "      <td>1020</td>\n",
       "      <td>1357</td>\n",
       "      <td>325000</td>\n",
       "    </tr>\n",
       "  </tbody>\n",
       "</table>\n",
       "<p>21597 rows × 18 columns</p>\n",
       "</div>"
      ],
      "text/plain": [
       "            date  bedrooms  bathrooms  sqft_living  sqft_lot  floors  \\\n",
       "0     2014-10-13         3     1.0000         1180      5650  1.0000   \n",
       "1     2014-12-09         3     2.2500         2570      7242  2.0000   \n",
       "2     2015-02-25         2     1.0000          770     10000  1.0000   \n",
       "3     2014-12-09         4     3.0000         1960      5000  1.0000   \n",
       "4     2015-02-18         3     2.0000         1680      8080  1.0000   \n",
       "...          ...       ...        ...          ...       ...     ...   \n",
       "21592 2014-05-21         3     2.5000         1530      1131  3.0000   \n",
       "21593 2015-02-23         4     2.5000         2310      5813  2.0000   \n",
       "21594 2014-06-23         2     0.7500         1020      1350  2.0000   \n",
       "21595 2015-01-16         3     2.5000         1600      2388  2.0000   \n",
       "21596 2014-10-15         2     0.7500         1020      1076  2.0000   \n",
       "\n",
       "       waterfront  view  condition  grade  sqft_above  sqft_basement  \\\n",
       "0               0     0          3      7        1180              0   \n",
       "1               0     0          3      7        2170            400   \n",
       "2               0     0          3      6         770              0   \n",
       "3               0     0          5      7        1050            910   \n",
       "4               0     0          3      8        1680              0   \n",
       "...           ...   ...        ...    ...         ...            ...   \n",
       "21592           0     0          3      8        1530              0   \n",
       "21593           0     0          3      8        2310              0   \n",
       "21594           0     0          3      7        1020              0   \n",
       "21595           0     0          3      8        1600              0   \n",
       "21596           0     0          3      7        1020              0   \n",
       "\n",
       "       yr_built  yr_renovated  zipcode  sqft_living15  sqft_lot15   price  \n",
       "0          1955             0    98178           1340        5650  221900  \n",
       "1          1951          1991    98125           1690        7639  538000  \n",
       "2          1933             0    98028           2720        8062  180000  \n",
       "3          1965             0    98136           1360        5000  604000  \n",
       "4          1987             0    98074           1800        7503  510000  \n",
       "...         ...           ...      ...            ...         ...     ...  \n",
       "21592      2009             0    98103           1530        1509  360000  \n",
       "21593      2014             0    98146           1830        7200  400000  \n",
       "21594      2009             0    98144           1020        2007  402101  \n",
       "21595      2004             0    98027           1410        1287  400000  \n",
       "21596      2008             0    98144           1020        1357  325000  \n",
       "\n",
       "[21597 rows x 18 columns]"
      ]
     },
     "execution_count": 5,
     "metadata": {},
     "output_type": "execute_result"
    }
   ],
   "source": [
    "df = df.drop(['id','lat', 'long'], axis=1)\n",
    "df"
   ]
  },
  {
   "cell_type": "markdown",
   "id": "c89a7f86",
   "metadata": {},
   "source": [
    "### Checking Columns"
   ]
  },
  {
   "cell_type": "code",
   "execution_count": 6,
   "id": "07e3e4a0",
   "metadata": {},
   "outputs": [
    {
     "data": {
      "text/plain": [
       "3     9824\n",
       "4     6882\n",
       "2     2760\n",
       "5     1601\n",
       "6      272\n",
       "1      196\n",
       "7       38\n",
       "8       13\n",
       "9        6\n",
       "10       3\n",
       "11       1\n",
       "33       1\n",
       "Name: bedrooms, dtype: int64"
      ]
     },
     "execution_count": 6,
     "metadata": {},
     "output_type": "execute_result"
    }
   ],
   "source": [
    "df['bedrooms'].value_counts()"
   ]
  },
  {
   "cell_type": "code",
   "execution_count": 7,
   "id": "15ee5a89",
   "metadata": {},
   "outputs": [
    {
     "data": {
      "text/html": [
       "<div>\n",
       "<style scoped>\n",
       "    .dataframe tbody tr th:only-of-type {\n",
       "        vertical-align: middle;\n",
       "    }\n",
       "\n",
       "    .dataframe tbody tr th {\n",
       "        vertical-align: top;\n",
       "    }\n",
       "\n",
       "    .dataframe thead th {\n",
       "        text-align: right;\n",
       "    }\n",
       "</style>\n",
       "<table border=\"1\" class=\"dataframe\">\n",
       "  <thead>\n",
       "    <tr style=\"text-align: right;\">\n",
       "      <th></th>\n",
       "      <th>date</th>\n",
       "      <th>bedrooms</th>\n",
       "      <th>bathrooms</th>\n",
       "      <th>sqft_living</th>\n",
       "      <th>sqft_lot</th>\n",
       "      <th>floors</th>\n",
       "      <th>waterfront</th>\n",
       "      <th>view</th>\n",
       "      <th>condition</th>\n",
       "      <th>grade</th>\n",
       "      <th>sqft_above</th>\n",
       "      <th>sqft_basement</th>\n",
       "      <th>yr_built</th>\n",
       "      <th>yr_renovated</th>\n",
       "      <th>zipcode</th>\n",
       "      <th>sqft_living15</th>\n",
       "      <th>sqft_lot15</th>\n",
       "      <th>price</th>\n",
       "    </tr>\n",
       "  </thead>\n",
       "  <tbody>\n",
       "    <tr>\n",
       "      <th>15856</th>\n",
       "      <td>2014-06-25</td>\n",
       "      <td>33</td>\n",
       "      <td>1.7500</td>\n",
       "      <td>1620</td>\n",
       "      <td>6000</td>\n",
       "      <td>1.0000</td>\n",
       "      <td>0</td>\n",
       "      <td>0</td>\n",
       "      <td>5</td>\n",
       "      <td>7</td>\n",
       "      <td>1040</td>\n",
       "      <td>580</td>\n",
       "      <td>1947</td>\n",
       "      <td>0</td>\n",
       "      <td>98103</td>\n",
       "      <td>1330</td>\n",
       "      <td>4700</td>\n",
       "      <td>640000</td>\n",
       "    </tr>\n",
       "  </tbody>\n",
       "</table>\n",
       "</div>"
      ],
      "text/plain": [
       "            date  bedrooms  bathrooms  sqft_living  sqft_lot  floors  \\\n",
       "15856 2014-06-25        33     1.7500         1620      6000  1.0000   \n",
       "\n",
       "       waterfront  view  condition  grade  sqft_above  sqft_basement  \\\n",
       "15856           0     0          5      7        1040            580   \n",
       "\n",
       "       yr_built  yr_renovated  zipcode  sqft_living15  sqft_lot15   price  \n",
       "15856      1947             0    98103           1330        4700  640000  "
      ]
     },
     "execution_count": 7,
     "metadata": {},
     "output_type": "execute_result"
    }
   ],
   "source": [
    "df.loc[df['bedrooms'] == 33]"
   ]
  },
  {
   "cell_type": "code",
   "execution_count": 8,
   "id": "cac69999",
   "metadata": {},
   "outputs": [],
   "source": [
    "df = df.drop(15856).reset_index(drop=True)"
   ]
  },
  {
   "cell_type": "code",
   "execution_count": 9,
   "id": "09cfeb52",
   "metadata": {},
   "outputs": [
    {
     "data": {
      "text/html": [
       "<div>\n",
       "<style scoped>\n",
       "    .dataframe tbody tr th:only-of-type {\n",
       "        vertical-align: middle;\n",
       "    }\n",
       "\n",
       "    .dataframe tbody tr th {\n",
       "        vertical-align: top;\n",
       "    }\n",
       "\n",
       "    .dataframe thead th {\n",
       "        text-align: right;\n",
       "    }\n",
       "</style>\n",
       "<table border=\"1\" class=\"dataframe\">\n",
       "  <thead>\n",
       "    <tr style=\"text-align: right;\">\n",
       "      <th></th>\n",
       "      <th>date</th>\n",
       "      <th>bedrooms</th>\n",
       "      <th>bathrooms</th>\n",
       "      <th>sqft_living</th>\n",
       "      <th>sqft_lot</th>\n",
       "      <th>floors</th>\n",
       "      <th>waterfront</th>\n",
       "      <th>view</th>\n",
       "      <th>condition</th>\n",
       "      <th>grade</th>\n",
       "      <th>sqft_above</th>\n",
       "      <th>sqft_basement</th>\n",
       "      <th>yr_built</th>\n",
       "      <th>yr_renovated</th>\n",
       "      <th>zipcode</th>\n",
       "      <th>sqft_living15</th>\n",
       "      <th>sqft_lot15</th>\n",
       "      <th>price</th>\n",
       "    </tr>\n",
       "  </thead>\n",
       "  <tbody>\n",
       "    <tr>\n",
       "      <th>0</th>\n",
       "      <td>2014-10-13</td>\n",
       "      <td>3</td>\n",
       "      <td>1.0000</td>\n",
       "      <td>1180</td>\n",
       "      <td>5650</td>\n",
       "      <td>1.0000</td>\n",
       "      <td>0</td>\n",
       "      <td>0</td>\n",
       "      <td>3</td>\n",
       "      <td>7</td>\n",
       "      <td>1180</td>\n",
       "      <td>0</td>\n",
       "      <td>1955</td>\n",
       "      <td>0</td>\n",
       "      <td>98178</td>\n",
       "      <td>1340</td>\n",
       "      <td>5650</td>\n",
       "      <td>221900</td>\n",
       "    </tr>\n",
       "    <tr>\n",
       "      <th>1</th>\n",
       "      <td>2014-12-09</td>\n",
       "      <td>3</td>\n",
       "      <td>2.2500</td>\n",
       "      <td>2570</td>\n",
       "      <td>7242</td>\n",
       "      <td>2.0000</td>\n",
       "      <td>0</td>\n",
       "      <td>0</td>\n",
       "      <td>3</td>\n",
       "      <td>7</td>\n",
       "      <td>2170</td>\n",
       "      <td>400</td>\n",
       "      <td>1951</td>\n",
       "      <td>1991</td>\n",
       "      <td>98125</td>\n",
       "      <td>1690</td>\n",
       "      <td>7639</td>\n",
       "      <td>538000</td>\n",
       "    </tr>\n",
       "    <tr>\n",
       "      <th>2</th>\n",
       "      <td>2015-02-25</td>\n",
       "      <td>2</td>\n",
       "      <td>1.0000</td>\n",
       "      <td>770</td>\n",
       "      <td>10000</td>\n",
       "      <td>1.0000</td>\n",
       "      <td>0</td>\n",
       "      <td>0</td>\n",
       "      <td>3</td>\n",
       "      <td>6</td>\n",
       "      <td>770</td>\n",
       "      <td>0</td>\n",
       "      <td>1933</td>\n",
       "      <td>0</td>\n",
       "      <td>98028</td>\n",
       "      <td>2720</td>\n",
       "      <td>8062</td>\n",
       "      <td>180000</td>\n",
       "    </tr>\n",
       "    <tr>\n",
       "      <th>3</th>\n",
       "      <td>2014-12-09</td>\n",
       "      <td>4</td>\n",
       "      <td>3.0000</td>\n",
       "      <td>1960</td>\n",
       "      <td>5000</td>\n",
       "      <td>1.0000</td>\n",
       "      <td>0</td>\n",
       "      <td>0</td>\n",
       "      <td>5</td>\n",
       "      <td>7</td>\n",
       "      <td>1050</td>\n",
       "      <td>910</td>\n",
       "      <td>1965</td>\n",
       "      <td>0</td>\n",
       "      <td>98136</td>\n",
       "      <td>1360</td>\n",
       "      <td>5000</td>\n",
       "      <td>604000</td>\n",
       "    </tr>\n",
       "    <tr>\n",
       "      <th>4</th>\n",
       "      <td>2015-02-18</td>\n",
       "      <td>3</td>\n",
       "      <td>2.0000</td>\n",
       "      <td>1680</td>\n",
       "      <td>8080</td>\n",
       "      <td>1.0000</td>\n",
       "      <td>0</td>\n",
       "      <td>0</td>\n",
       "      <td>3</td>\n",
       "      <td>8</td>\n",
       "      <td>1680</td>\n",
       "      <td>0</td>\n",
       "      <td>1987</td>\n",
       "      <td>0</td>\n",
       "      <td>98074</td>\n",
       "      <td>1800</td>\n",
       "      <td>7503</td>\n",
       "      <td>510000</td>\n",
       "    </tr>\n",
       "    <tr>\n",
       "      <th>...</th>\n",
       "      <td>...</td>\n",
       "      <td>...</td>\n",
       "      <td>...</td>\n",
       "      <td>...</td>\n",
       "      <td>...</td>\n",
       "      <td>...</td>\n",
       "      <td>...</td>\n",
       "      <td>...</td>\n",
       "      <td>...</td>\n",
       "      <td>...</td>\n",
       "      <td>...</td>\n",
       "      <td>...</td>\n",
       "      <td>...</td>\n",
       "      <td>...</td>\n",
       "      <td>...</td>\n",
       "      <td>...</td>\n",
       "      <td>...</td>\n",
       "      <td>...</td>\n",
       "    </tr>\n",
       "    <tr>\n",
       "      <th>21591</th>\n",
       "      <td>2014-05-21</td>\n",
       "      <td>3</td>\n",
       "      <td>2.5000</td>\n",
       "      <td>1530</td>\n",
       "      <td>1131</td>\n",
       "      <td>3.0000</td>\n",
       "      <td>0</td>\n",
       "      <td>0</td>\n",
       "      <td>3</td>\n",
       "      <td>8</td>\n",
       "      <td>1530</td>\n",
       "      <td>0</td>\n",
       "      <td>2009</td>\n",
       "      <td>0</td>\n",
       "      <td>98103</td>\n",
       "      <td>1530</td>\n",
       "      <td>1509</td>\n",
       "      <td>360000</td>\n",
       "    </tr>\n",
       "    <tr>\n",
       "      <th>21592</th>\n",
       "      <td>2015-02-23</td>\n",
       "      <td>4</td>\n",
       "      <td>2.5000</td>\n",
       "      <td>2310</td>\n",
       "      <td>5813</td>\n",
       "      <td>2.0000</td>\n",
       "      <td>0</td>\n",
       "      <td>0</td>\n",
       "      <td>3</td>\n",
       "      <td>8</td>\n",
       "      <td>2310</td>\n",
       "      <td>0</td>\n",
       "      <td>2014</td>\n",
       "      <td>0</td>\n",
       "      <td>98146</td>\n",
       "      <td>1830</td>\n",
       "      <td>7200</td>\n",
       "      <td>400000</td>\n",
       "    </tr>\n",
       "    <tr>\n",
       "      <th>21593</th>\n",
       "      <td>2014-06-23</td>\n",
       "      <td>2</td>\n",
       "      <td>0.7500</td>\n",
       "      <td>1020</td>\n",
       "      <td>1350</td>\n",
       "      <td>2.0000</td>\n",
       "      <td>0</td>\n",
       "      <td>0</td>\n",
       "      <td>3</td>\n",
       "      <td>7</td>\n",
       "      <td>1020</td>\n",
       "      <td>0</td>\n",
       "      <td>2009</td>\n",
       "      <td>0</td>\n",
       "      <td>98144</td>\n",
       "      <td>1020</td>\n",
       "      <td>2007</td>\n",
       "      <td>402101</td>\n",
       "    </tr>\n",
       "    <tr>\n",
       "      <th>21594</th>\n",
       "      <td>2015-01-16</td>\n",
       "      <td>3</td>\n",
       "      <td>2.5000</td>\n",
       "      <td>1600</td>\n",
       "      <td>2388</td>\n",
       "      <td>2.0000</td>\n",
       "      <td>0</td>\n",
       "      <td>0</td>\n",
       "      <td>3</td>\n",
       "      <td>8</td>\n",
       "      <td>1600</td>\n",
       "      <td>0</td>\n",
       "      <td>2004</td>\n",
       "      <td>0</td>\n",
       "      <td>98027</td>\n",
       "      <td>1410</td>\n",
       "      <td>1287</td>\n",
       "      <td>400000</td>\n",
       "    </tr>\n",
       "    <tr>\n",
       "      <th>21595</th>\n",
       "      <td>2014-10-15</td>\n",
       "      <td>2</td>\n",
       "      <td>0.7500</td>\n",
       "      <td>1020</td>\n",
       "      <td>1076</td>\n",
       "      <td>2.0000</td>\n",
       "      <td>0</td>\n",
       "      <td>0</td>\n",
       "      <td>3</td>\n",
       "      <td>7</td>\n",
       "      <td>1020</td>\n",
       "      <td>0</td>\n",
       "      <td>2008</td>\n",
       "      <td>0</td>\n",
       "      <td>98144</td>\n",
       "      <td>1020</td>\n",
       "      <td>1357</td>\n",
       "      <td>325000</td>\n",
       "    </tr>\n",
       "  </tbody>\n",
       "</table>\n",
       "<p>21596 rows × 18 columns</p>\n",
       "</div>"
      ],
      "text/plain": [
       "            date  bedrooms  bathrooms  sqft_living  sqft_lot  floors  \\\n",
       "0     2014-10-13         3     1.0000         1180      5650  1.0000   \n",
       "1     2014-12-09         3     2.2500         2570      7242  2.0000   \n",
       "2     2015-02-25         2     1.0000          770     10000  1.0000   \n",
       "3     2014-12-09         4     3.0000         1960      5000  1.0000   \n",
       "4     2015-02-18         3     2.0000         1680      8080  1.0000   \n",
       "...          ...       ...        ...          ...       ...     ...   \n",
       "21591 2014-05-21         3     2.5000         1530      1131  3.0000   \n",
       "21592 2015-02-23         4     2.5000         2310      5813  2.0000   \n",
       "21593 2014-06-23         2     0.7500         1020      1350  2.0000   \n",
       "21594 2015-01-16         3     2.5000         1600      2388  2.0000   \n",
       "21595 2014-10-15         2     0.7500         1020      1076  2.0000   \n",
       "\n",
       "       waterfront  view  condition  grade  sqft_above  sqft_basement  \\\n",
       "0               0     0          3      7        1180              0   \n",
       "1               0     0          3      7        2170            400   \n",
       "2               0     0          3      6         770              0   \n",
       "3               0     0          5      7        1050            910   \n",
       "4               0     0          3      8        1680              0   \n",
       "...           ...   ...        ...    ...         ...            ...   \n",
       "21591           0     0          3      8        1530              0   \n",
       "21592           0     0          3      8        2310              0   \n",
       "21593           0     0          3      7        1020              0   \n",
       "21594           0     0          3      8        1600              0   \n",
       "21595           0     0          3      7        1020              0   \n",
       "\n",
       "       yr_built  yr_renovated  zipcode  sqft_living15  sqft_lot15   price  \n",
       "0          1955             0    98178           1340        5650  221900  \n",
       "1          1951          1991    98125           1690        7639  538000  \n",
       "2          1933             0    98028           2720        8062  180000  \n",
       "3          1965             0    98136           1360        5000  604000  \n",
       "4          1987             0    98074           1800        7503  510000  \n",
       "...         ...           ...      ...            ...         ...     ...  \n",
       "21591      2009             0    98103           1530        1509  360000  \n",
       "21592      2014             0    98146           1830        7200  400000  \n",
       "21593      2009             0    98144           1020        2007  402101  \n",
       "21594      2004             0    98027           1410        1287  400000  \n",
       "21595      2008             0    98144           1020        1357  325000  \n",
       "\n",
       "[21596 rows x 18 columns]"
      ]
     },
     "execution_count": 9,
     "metadata": {},
     "output_type": "execute_result"
    }
   ],
   "source": [
    "df"
   ]
  },
  {
   "cell_type": "code",
   "execution_count": 10,
   "id": "480d6991",
   "metadata": {},
   "outputs": [
    {
     "data": {
      "text/plain": [
       "2.5000    5377\n",
       "1.0000    3851\n",
       "1.7500    3047\n",
       "2.2500    2047\n",
       "2.0000    1930\n",
       "1.5000    1445\n",
       "2.7500    1185\n",
       "3.0000     753\n",
       "3.5000     731\n",
       "3.2500     589\n",
       "3.7500     155\n",
       "4.0000     136\n",
       "4.5000     100\n",
       "4.2500      79\n",
       "0.7500      71\n",
       "4.7500      23\n",
       "5.0000      21\n",
       "5.2500      13\n",
       "5.5000      10\n",
       "1.2500       9\n",
       "6.0000       6\n",
       "0.5000       4\n",
       "5.7500       4\n",
       "6.7500       2\n",
       "8.0000       2\n",
       "6.2500       2\n",
       "6.5000       2\n",
       "7.5000       1\n",
       "7.7500       1\n",
       "Name: bathrooms, dtype: int64"
      ]
     },
     "execution_count": 10,
     "metadata": {},
     "output_type": "execute_result"
    }
   ],
   "source": [
    "df['bathrooms'].value_counts()\n",
    "#do we need to round the data?"
   ]
  },
  {
   "cell_type": "code",
   "execution_count": 11,
   "id": "da863caf",
   "metadata": {},
   "outputs": [
    {
     "data": {
      "text/plain": [
       "1.0000    10672\n",
       "2.0000     8235\n",
       "1.5000     1910\n",
       "3.0000      611\n",
       "2.5000      161\n",
       "3.5000        7\n",
       "Name: floors, dtype: int64"
      ]
     },
     "execution_count": 11,
     "metadata": {},
     "output_type": "execute_result"
    }
   ],
   "source": [
    "df['floors'].value_counts()\n",
    "#confirm the meaning no of floors per properties or location of flat"
   ]
  },
  {
   "cell_type": "code",
   "execution_count": 12,
   "id": "6c97c0a2",
   "metadata": {},
   "outputs": [
    {
     "data": {
      "text/plain": [
       "dtype('int64')"
      ]
     },
     "execution_count": 12,
     "metadata": {},
     "output_type": "execute_result"
    }
   ],
   "source": [
    "#df['waterfront'].np.astype= 'category'\n",
    "df['waterfront'].dtypes"
   ]
  },
  {
   "cell_type": "code",
   "execution_count": 13,
   "id": "b5487d86",
   "metadata": {},
   "outputs": [
    {
     "data": {
      "text/plain": [
       "0    19474\n",
       "2      961\n",
       "3      510\n",
       "1      332\n",
       "4      319\n",
       "Name: view, dtype: int64"
      ]
     },
     "execution_count": 13,
     "metadata": {},
     "output_type": "execute_result"
    }
   ],
   "source": [
    "#need to clarify the meaning\n",
    "df['view'].value_counts()"
   ]
  },
  {
   "cell_type": "code",
   "execution_count": 14,
   "id": "9e79129f",
   "metadata": {},
   "outputs": [
    {
     "data": {
      "text/plain": [
       "3    14020\n",
       "4     5677\n",
       "5     1700\n",
       "2      170\n",
       "1       29\n",
       "Name: condition, dtype: int64"
      ]
     },
     "execution_count": 14,
     "metadata": {},
     "output_type": "execute_result"
    }
   ],
   "source": [
    "df['condition'].value_counts()"
   ]
  },
  {
   "cell_type": "code",
   "execution_count": 15,
   "id": "3490f1df",
   "metadata": {},
   "outputs": [
    {
     "data": {
      "text/plain": [
       "7     8973\n",
       "8     6065\n",
       "9     2615\n",
       "6     2038\n",
       "10    1134\n",
       "11     399\n",
       "5      242\n",
       "12      89\n",
       "4       27\n",
       "13      13\n",
       "3        1\n",
       "Name: grade, dtype: int64"
      ]
     },
     "execution_count": 15,
     "metadata": {},
     "output_type": "execute_result"
    }
   ],
   "source": [
    "df['grade'].value_counts()"
   ]
  },
  {
   "cell_type": "code",
   "execution_count": 16,
   "id": "56bd754e",
   "metadata": {},
   "outputs": [
    {
     "data": {
      "text/plain": [
       "2014    559\n",
       "2006    453\n",
       "2005    450\n",
       "2004    433\n",
       "2003    420\n",
       "       ... \n",
       "1933     30\n",
       "1901     29\n",
       "1902     27\n",
       "1935     24\n",
       "1934     21\n",
       "Name: yr_built, Length: 116, dtype: int64"
      ]
     },
     "execution_count": 16,
     "metadata": {},
     "output_type": "execute_result"
    }
   ],
   "source": [
    "df['yr_built'].value_counts()"
   ]
  },
  {
   "cell_type": "code",
   "execution_count": 17,
   "id": "334087ba",
   "metadata": {},
   "outputs": [
    {
     "data": {
      "text/plain": [
       "0       20682\n",
       "2014       91\n",
       "2013       37\n",
       "2003       36\n",
       "2005       35\n",
       "        ...  \n",
       "1951        1\n",
       "1959        1\n",
       "1948        1\n",
       "1954        1\n",
       "1944        1\n",
       "Name: yr_renovated, Length: 70, dtype: int64"
      ]
     },
     "execution_count": 17,
     "metadata": {},
     "output_type": "execute_result"
    }
   ],
   "source": [
    "df['yr_renovated'].value_counts()"
   ]
  },
  {
   "cell_type": "code",
   "execution_count": 18,
   "id": "74aa6313",
   "metadata": {},
   "outputs": [
    {
     "data": {
      "text/plain": [
       "98103    601\n",
       "98038    589\n",
       "98115    583\n",
       "98052    574\n",
       "98117    553\n",
       "        ... \n",
       "98102    104\n",
       "98010    100\n",
       "98024     80\n",
       "98148     57\n",
       "98039     50\n",
       "Name: zipcode, Length: 70, dtype: int64"
      ]
     },
     "execution_count": 18,
     "metadata": {},
     "output_type": "execute_result"
    }
   ],
   "source": [
    "df['zipcode'].value_counts()"
   ]
  },
  {
   "cell_type": "code",
   "execution_count": 19,
   "id": "aa883e73",
   "metadata": {},
   "outputs": [
    {
     "data": {
      "text/plain": [
       "1540    197\n",
       "1440    195\n",
       "1560    192\n",
       "1500    180\n",
       "1460    169\n",
       "       ... \n",
       "3736      1\n",
       "4950      1\n",
       "2728      1\n",
       "4740      1\n",
       "2927      1\n",
       "Name: sqft_living15, Length: 777, dtype: int64"
      ]
     },
     "execution_count": 19,
     "metadata": {},
     "output_type": "execute_result"
    }
   ],
   "source": [
    "df['sqft_living15'].value_counts()"
   ]
  },
  {
   "cell_type": "code",
   "execution_count": 20,
   "id": "b29c5d50",
   "metadata": {},
   "outputs": [
    {
     "data": {
      "text/plain": [
       "5000     427\n",
       "4000     356\n",
       "6000     288\n",
       "7200     210\n",
       "4800     145\n",
       "        ... \n",
       "10170      1\n",
       "10573      1\n",
       "11477      1\n",
       "1449       1\n",
       "2007       1\n",
       "Name: sqft_lot15, Length: 8682, dtype: int64"
      ]
     },
     "execution_count": 20,
     "metadata": {},
     "output_type": "execute_result"
    }
   ],
   "source": [
    "df['sqft_lot15'].value_counts()"
   ]
  },
  {
   "cell_type": "code",
   "execution_count": 21,
   "id": "9933bca5",
   "metadata": {},
   "outputs": [
    {
     "data": {
      "text/plain": [
       "count     21596.0000\n",
       "mean     540291.9568\n",
       "std      367376.0193\n",
       "min       78000.0000\n",
       "25%      322000.0000\n",
       "50%      450000.0000\n",
       "75%      645000.0000\n",
       "max     7700000.0000\n",
       "Name: price, dtype: float64"
      ]
     },
     "execution_count": 21,
     "metadata": {},
     "output_type": "execute_result"
    }
   ],
   "source": [
    "df['price'].describe()"
   ]
  },
  {
   "cell_type": "markdown",
   "id": "96eae613",
   "metadata": {},
   "source": [
    "Understanding the difference between sqft_living' and 'sqft_living15.  \n",
    "sqft_living15 - The square footage of interior housing living space for the nearest 15 neighbors"
   ]
  },
  {
   "cell_type": "code",
   "execution_count": 22,
   "id": "b1fc83c2",
   "metadata": {},
   "outputs": [
    {
     "data": {
      "text/html": [
       "<div>\n",
       "<style scoped>\n",
       "    .dataframe tbody tr th:only-of-type {\n",
       "        vertical-align: middle;\n",
       "    }\n",
       "\n",
       "    .dataframe tbody tr th {\n",
       "        vertical-align: top;\n",
       "    }\n",
       "\n",
       "    .dataframe thead th {\n",
       "        text-align: right;\n",
       "    }\n",
       "</style>\n",
       "<table border=\"1\" class=\"dataframe\">\n",
       "  <thead>\n",
       "    <tr style=\"text-align: right;\">\n",
       "      <th></th>\n",
       "      <th>sqft_living</th>\n",
       "      <th>sqft_above</th>\n",
       "      <th>sqft_lot</th>\n",
       "      <th>sqft_living15</th>\n",
       "      <th>sqft_lot15</th>\n",
       "    </tr>\n",
       "  </thead>\n",
       "  <tbody>\n",
       "    <tr>\n",
       "      <th>0</th>\n",
       "      <td>1180</td>\n",
       "      <td>1180</td>\n",
       "      <td>5650</td>\n",
       "      <td>1340</td>\n",
       "      <td>5650</td>\n",
       "    </tr>\n",
       "    <tr>\n",
       "      <th>1</th>\n",
       "      <td>2570</td>\n",
       "      <td>2170</td>\n",
       "      <td>7242</td>\n",
       "      <td>1690</td>\n",
       "      <td>7639</td>\n",
       "    </tr>\n",
       "    <tr>\n",
       "      <th>2</th>\n",
       "      <td>770</td>\n",
       "      <td>770</td>\n",
       "      <td>10000</td>\n",
       "      <td>2720</td>\n",
       "      <td>8062</td>\n",
       "    </tr>\n",
       "    <tr>\n",
       "      <th>3</th>\n",
       "      <td>1960</td>\n",
       "      <td>1050</td>\n",
       "      <td>5000</td>\n",
       "      <td>1360</td>\n",
       "      <td>5000</td>\n",
       "    </tr>\n",
       "    <tr>\n",
       "      <th>4</th>\n",
       "      <td>1680</td>\n",
       "      <td>1680</td>\n",
       "      <td>8080</td>\n",
       "      <td>1800</td>\n",
       "      <td>7503</td>\n",
       "    </tr>\n",
       "    <tr>\n",
       "      <th>...</th>\n",
       "      <td>...</td>\n",
       "      <td>...</td>\n",
       "      <td>...</td>\n",
       "      <td>...</td>\n",
       "      <td>...</td>\n",
       "    </tr>\n",
       "    <tr>\n",
       "      <th>21591</th>\n",
       "      <td>1530</td>\n",
       "      <td>1530</td>\n",
       "      <td>1131</td>\n",
       "      <td>1530</td>\n",
       "      <td>1509</td>\n",
       "    </tr>\n",
       "    <tr>\n",
       "      <th>21592</th>\n",
       "      <td>2310</td>\n",
       "      <td>2310</td>\n",
       "      <td>5813</td>\n",
       "      <td>1830</td>\n",
       "      <td>7200</td>\n",
       "    </tr>\n",
       "    <tr>\n",
       "      <th>21593</th>\n",
       "      <td>1020</td>\n",
       "      <td>1020</td>\n",
       "      <td>1350</td>\n",
       "      <td>1020</td>\n",
       "      <td>2007</td>\n",
       "    </tr>\n",
       "    <tr>\n",
       "      <th>21594</th>\n",
       "      <td>1600</td>\n",
       "      <td>1600</td>\n",
       "      <td>2388</td>\n",
       "      <td>1410</td>\n",
       "      <td>1287</td>\n",
       "    </tr>\n",
       "    <tr>\n",
       "      <th>21595</th>\n",
       "      <td>1020</td>\n",
       "      <td>1020</td>\n",
       "      <td>1076</td>\n",
       "      <td>1020</td>\n",
       "      <td>1357</td>\n",
       "    </tr>\n",
       "  </tbody>\n",
       "</table>\n",
       "<p>21596 rows × 5 columns</p>\n",
       "</div>"
      ],
      "text/plain": [
       "       sqft_living  sqft_above  sqft_lot  sqft_living15  sqft_lot15\n",
       "0             1180        1180      5650           1340        5650\n",
       "1             2570        2170      7242           1690        7639\n",
       "2              770         770     10000           2720        8062\n",
       "3             1960        1050      5000           1360        5000\n",
       "4             1680        1680      8080           1800        7503\n",
       "...            ...         ...       ...            ...         ...\n",
       "21591         1530        1530      1131           1530        1509\n",
       "21592         2310        2310      5813           1830        7200\n",
       "21593         1020        1020      1350           1020        2007\n",
       "21594         1600        1600      2388           1410        1287\n",
       "21595         1020        1020      1076           1020        1357\n",
       "\n",
       "[21596 rows x 5 columns]"
      ]
     },
     "execution_count": 22,
     "metadata": {},
     "output_type": "execute_result"
    }
   ],
   "source": [
    "df_size = df.filter(['sqft_living', 'sqft_above', 'sqft_lot', 'sqft_living15', 'sqft_lot15'])\n",
    "df_size"
   ]
  },
  {
   "cell_type": "code",
   "execution_count": 23,
   "id": "721ebef7",
   "metadata": {},
   "outputs": [
    {
     "data": {
      "text/html": [
       "<div>\n",
       "<style scoped>\n",
       "    .dataframe tbody tr th:only-of-type {\n",
       "        vertical-align: middle;\n",
       "    }\n",
       "\n",
       "    .dataframe tbody tr th {\n",
       "        vertical-align: top;\n",
       "    }\n",
       "\n",
       "    .dataframe thead th {\n",
       "        text-align: right;\n",
       "    }\n",
       "</style>\n",
       "<table border=\"1\" class=\"dataframe\">\n",
       "  <thead>\n",
       "    <tr style=\"text-align: right;\">\n",
       "      <th></th>\n",
       "      <th>sqft_living</th>\n",
       "      <th>sqft_above</th>\n",
       "      <th>sqft_lot</th>\n",
       "      <th>sqft_living15</th>\n",
       "      <th>sqft_lot15</th>\n",
       "    </tr>\n",
       "  </thead>\n",
       "  <tbody>\n",
       "    <tr>\n",
       "      <th>count</th>\n",
       "      <td>21596.0000</td>\n",
       "      <td>21596.0000</td>\n",
       "      <td>21596.0000</td>\n",
       "      <td>21596.0000</td>\n",
       "      <td>21596.0000</td>\n",
       "    </tr>\n",
       "    <tr>\n",
       "      <th>mean</th>\n",
       "      <td>2080.3432</td>\n",
       "      <td>1788.6315</td>\n",
       "      <td>15099.8301</td>\n",
       "      <td>1986.6507</td>\n",
       "      <td>12758.6566</td>\n",
       "    </tr>\n",
       "    <tr>\n",
       "      <th>std</th>\n",
       "      <td>918.1220</td>\n",
       "      <td>827.7633</td>\n",
       "      <td>41413.5494</td>\n",
       "      <td>685.2318</td>\n",
       "      <td>27275.0183</td>\n",
       "    </tr>\n",
       "    <tr>\n",
       "      <th>min</th>\n",
       "      <td>370.0000</td>\n",
       "      <td>370.0000</td>\n",
       "      <td>520.0000</td>\n",
       "      <td>399.0000</td>\n",
       "      <td>651.0000</td>\n",
       "    </tr>\n",
       "    <tr>\n",
       "      <th>25%</th>\n",
       "      <td>1430.0000</td>\n",
       "      <td>1190.0000</td>\n",
       "      <td>5040.0000</td>\n",
       "      <td>1490.0000</td>\n",
       "      <td>5100.0000</td>\n",
       "    </tr>\n",
       "    <tr>\n",
       "      <th>50%</th>\n",
       "      <td>1910.0000</td>\n",
       "      <td>1560.0000</td>\n",
       "      <td>7619.0000</td>\n",
       "      <td>1840.0000</td>\n",
       "      <td>7620.0000</td>\n",
       "    </tr>\n",
       "    <tr>\n",
       "      <th>75%</th>\n",
       "      <td>2550.0000</td>\n",
       "      <td>2210.0000</td>\n",
       "      <td>10685.5000</td>\n",
       "      <td>2360.0000</td>\n",
       "      <td>10083.0000</td>\n",
       "    </tr>\n",
       "    <tr>\n",
       "      <th>max</th>\n",
       "      <td>13540.0000</td>\n",
       "      <td>9410.0000</td>\n",
       "      <td>1651359.0000</td>\n",
       "      <td>6210.0000</td>\n",
       "      <td>871200.0000</td>\n",
       "    </tr>\n",
       "  </tbody>\n",
       "</table>\n",
       "</div>"
      ],
      "text/plain": [
       "       sqft_living  sqft_above     sqft_lot  sqft_living15  sqft_lot15\n",
       "count   21596.0000  21596.0000   21596.0000     21596.0000  21596.0000\n",
       "mean     2080.3432   1788.6315   15099.8301      1986.6507  12758.6566\n",
       "std       918.1220    827.7633   41413.5494       685.2318  27275.0183\n",
       "min       370.0000    370.0000     520.0000       399.0000    651.0000\n",
       "25%      1430.0000   1190.0000    5040.0000      1490.0000   5100.0000\n",
       "50%      1910.0000   1560.0000    7619.0000      1840.0000   7620.0000\n",
       "75%      2550.0000   2210.0000   10685.5000      2360.0000  10083.0000\n",
       "max     13540.0000   9410.0000 1651359.0000      6210.0000 871200.0000"
      ]
     },
     "execution_count": 23,
     "metadata": {},
     "output_type": "execute_result"
    }
   ],
   "source": [
    "df_size.describe()"
   ]
  },
  {
   "cell_type": "markdown",
   "id": "32be00be",
   "metadata": {},
   "source": [
    "## Data Cleaning"
   ]
  },
  {
   "cell_type": "markdown",
   "id": "598ecf87",
   "metadata": {},
   "source": [
    "### Transform yr_built and yr_renovated"
   ]
  },
  {
   "cell_type": "code",
   "execution_count": 24,
   "id": "47bc25fc",
   "metadata": {},
   "outputs": [],
   "source": [
    "df[\"yr_renovated\"] = np.where (df[\"yr_renovated\"] != 0, 1, df[\"yr_renovated\"])"
   ]
  },
  {
   "cell_type": "code",
   "execution_count": 25,
   "id": "ed23614c",
   "metadata": {},
   "outputs": [
    {
     "data": {
      "text/plain": [
       "0    20682\n",
       "1      914\n",
       "Name: yr_renovated, dtype: int64"
      ]
     },
     "execution_count": 25,
     "metadata": {},
     "output_type": "execute_result"
    }
   ],
   "source": [
    "df[\"yr_renovated\"].value_counts()"
   ]
  },
  {
   "cell_type": "code",
   "execution_count": 26,
   "id": "d63f6f12",
   "metadata": {},
   "outputs": [],
   "source": [
    "df['yr_built']= list(map(lambda x: 2015-x, df['yr_built']))"
   ]
  },
  {
   "cell_type": "code",
   "execution_count": 27,
   "id": "db5baf0f",
   "metadata": {},
   "outputs": [
    {
     "data": {
      "text/plain": [
       "0        60\n",
       "1        64\n",
       "2        82\n",
       "3        50\n",
       "4        28\n",
       "         ..\n",
       "21591     6\n",
       "21592     1\n",
       "21593     6\n",
       "21594    11\n",
       "21595     7\n",
       "Name: yr_built, Length: 21596, dtype: int64"
      ]
     },
     "execution_count": 27,
     "metadata": {},
     "output_type": "execute_result"
    }
   ],
   "source": [
    "df['yr_built']"
   ]
  },
  {
   "cell_type": "code",
   "execution_count": 28,
   "id": "df672b85",
   "metadata": {},
   "outputs": [],
   "source": [
    "df.rename(columns = {'yr_built' : 'age_build'}, inplace=True)"
   ]
  },
  {
   "cell_type": "code",
   "execution_count": 29,
   "id": "faaa8087",
   "metadata": {},
   "outputs": [
    {
     "data": {
      "text/html": [
       "<div>\n",
       "<style scoped>\n",
       "    .dataframe tbody tr th:only-of-type {\n",
       "        vertical-align: middle;\n",
       "    }\n",
       "\n",
       "    .dataframe tbody tr th {\n",
       "        vertical-align: top;\n",
       "    }\n",
       "\n",
       "    .dataframe thead th {\n",
       "        text-align: right;\n",
       "    }\n",
       "</style>\n",
       "<table border=\"1\" class=\"dataframe\">\n",
       "  <thead>\n",
       "    <tr style=\"text-align: right;\">\n",
       "      <th></th>\n",
       "      <th>date</th>\n",
       "      <th>bedrooms</th>\n",
       "      <th>bathrooms</th>\n",
       "      <th>sqft_living</th>\n",
       "      <th>sqft_lot</th>\n",
       "      <th>floors</th>\n",
       "      <th>waterfront</th>\n",
       "      <th>view</th>\n",
       "      <th>condition</th>\n",
       "      <th>grade</th>\n",
       "      <th>sqft_above</th>\n",
       "      <th>sqft_basement</th>\n",
       "      <th>age_build</th>\n",
       "      <th>yr_renovated</th>\n",
       "      <th>zipcode</th>\n",
       "      <th>sqft_living15</th>\n",
       "      <th>sqft_lot15</th>\n",
       "      <th>price</th>\n",
       "    </tr>\n",
       "  </thead>\n",
       "  <tbody>\n",
       "    <tr>\n",
       "      <th>0</th>\n",
       "      <td>2014-10-13</td>\n",
       "      <td>3</td>\n",
       "      <td>1.0000</td>\n",
       "      <td>1180</td>\n",
       "      <td>5650</td>\n",
       "      <td>1.0000</td>\n",
       "      <td>0</td>\n",
       "      <td>0</td>\n",
       "      <td>3</td>\n",
       "      <td>7</td>\n",
       "      <td>1180</td>\n",
       "      <td>0</td>\n",
       "      <td>60</td>\n",
       "      <td>0</td>\n",
       "      <td>98178</td>\n",
       "      <td>1340</td>\n",
       "      <td>5650</td>\n",
       "      <td>221900</td>\n",
       "    </tr>\n",
       "    <tr>\n",
       "      <th>1</th>\n",
       "      <td>2014-12-09</td>\n",
       "      <td>3</td>\n",
       "      <td>2.2500</td>\n",
       "      <td>2570</td>\n",
       "      <td>7242</td>\n",
       "      <td>2.0000</td>\n",
       "      <td>0</td>\n",
       "      <td>0</td>\n",
       "      <td>3</td>\n",
       "      <td>7</td>\n",
       "      <td>2170</td>\n",
       "      <td>400</td>\n",
       "      <td>64</td>\n",
       "      <td>1</td>\n",
       "      <td>98125</td>\n",
       "      <td>1690</td>\n",
       "      <td>7639</td>\n",
       "      <td>538000</td>\n",
       "    </tr>\n",
       "    <tr>\n",
       "      <th>2</th>\n",
       "      <td>2015-02-25</td>\n",
       "      <td>2</td>\n",
       "      <td>1.0000</td>\n",
       "      <td>770</td>\n",
       "      <td>10000</td>\n",
       "      <td>1.0000</td>\n",
       "      <td>0</td>\n",
       "      <td>0</td>\n",
       "      <td>3</td>\n",
       "      <td>6</td>\n",
       "      <td>770</td>\n",
       "      <td>0</td>\n",
       "      <td>82</td>\n",
       "      <td>0</td>\n",
       "      <td>98028</td>\n",
       "      <td>2720</td>\n",
       "      <td>8062</td>\n",
       "      <td>180000</td>\n",
       "    </tr>\n",
       "    <tr>\n",
       "      <th>3</th>\n",
       "      <td>2014-12-09</td>\n",
       "      <td>4</td>\n",
       "      <td>3.0000</td>\n",
       "      <td>1960</td>\n",
       "      <td>5000</td>\n",
       "      <td>1.0000</td>\n",
       "      <td>0</td>\n",
       "      <td>0</td>\n",
       "      <td>5</td>\n",
       "      <td>7</td>\n",
       "      <td>1050</td>\n",
       "      <td>910</td>\n",
       "      <td>50</td>\n",
       "      <td>0</td>\n",
       "      <td>98136</td>\n",
       "      <td>1360</td>\n",
       "      <td>5000</td>\n",
       "      <td>604000</td>\n",
       "    </tr>\n",
       "    <tr>\n",
       "      <th>4</th>\n",
       "      <td>2015-02-18</td>\n",
       "      <td>3</td>\n",
       "      <td>2.0000</td>\n",
       "      <td>1680</td>\n",
       "      <td>8080</td>\n",
       "      <td>1.0000</td>\n",
       "      <td>0</td>\n",
       "      <td>0</td>\n",
       "      <td>3</td>\n",
       "      <td>8</td>\n",
       "      <td>1680</td>\n",
       "      <td>0</td>\n",
       "      <td>28</td>\n",
       "      <td>0</td>\n",
       "      <td>98074</td>\n",
       "      <td>1800</td>\n",
       "      <td>7503</td>\n",
       "      <td>510000</td>\n",
       "    </tr>\n",
       "    <tr>\n",
       "      <th>...</th>\n",
       "      <td>...</td>\n",
       "      <td>...</td>\n",
       "      <td>...</td>\n",
       "      <td>...</td>\n",
       "      <td>...</td>\n",
       "      <td>...</td>\n",
       "      <td>...</td>\n",
       "      <td>...</td>\n",
       "      <td>...</td>\n",
       "      <td>...</td>\n",
       "      <td>...</td>\n",
       "      <td>...</td>\n",
       "      <td>...</td>\n",
       "      <td>...</td>\n",
       "      <td>...</td>\n",
       "      <td>...</td>\n",
       "      <td>...</td>\n",
       "      <td>...</td>\n",
       "    </tr>\n",
       "    <tr>\n",
       "      <th>21591</th>\n",
       "      <td>2014-05-21</td>\n",
       "      <td>3</td>\n",
       "      <td>2.5000</td>\n",
       "      <td>1530</td>\n",
       "      <td>1131</td>\n",
       "      <td>3.0000</td>\n",
       "      <td>0</td>\n",
       "      <td>0</td>\n",
       "      <td>3</td>\n",
       "      <td>8</td>\n",
       "      <td>1530</td>\n",
       "      <td>0</td>\n",
       "      <td>6</td>\n",
       "      <td>0</td>\n",
       "      <td>98103</td>\n",
       "      <td>1530</td>\n",
       "      <td>1509</td>\n",
       "      <td>360000</td>\n",
       "    </tr>\n",
       "    <tr>\n",
       "      <th>21592</th>\n",
       "      <td>2015-02-23</td>\n",
       "      <td>4</td>\n",
       "      <td>2.5000</td>\n",
       "      <td>2310</td>\n",
       "      <td>5813</td>\n",
       "      <td>2.0000</td>\n",
       "      <td>0</td>\n",
       "      <td>0</td>\n",
       "      <td>3</td>\n",
       "      <td>8</td>\n",
       "      <td>2310</td>\n",
       "      <td>0</td>\n",
       "      <td>1</td>\n",
       "      <td>0</td>\n",
       "      <td>98146</td>\n",
       "      <td>1830</td>\n",
       "      <td>7200</td>\n",
       "      <td>400000</td>\n",
       "    </tr>\n",
       "    <tr>\n",
       "      <th>21593</th>\n",
       "      <td>2014-06-23</td>\n",
       "      <td>2</td>\n",
       "      <td>0.7500</td>\n",
       "      <td>1020</td>\n",
       "      <td>1350</td>\n",
       "      <td>2.0000</td>\n",
       "      <td>0</td>\n",
       "      <td>0</td>\n",
       "      <td>3</td>\n",
       "      <td>7</td>\n",
       "      <td>1020</td>\n",
       "      <td>0</td>\n",
       "      <td>6</td>\n",
       "      <td>0</td>\n",
       "      <td>98144</td>\n",
       "      <td>1020</td>\n",
       "      <td>2007</td>\n",
       "      <td>402101</td>\n",
       "    </tr>\n",
       "    <tr>\n",
       "      <th>21594</th>\n",
       "      <td>2015-01-16</td>\n",
       "      <td>3</td>\n",
       "      <td>2.5000</td>\n",
       "      <td>1600</td>\n",
       "      <td>2388</td>\n",
       "      <td>2.0000</td>\n",
       "      <td>0</td>\n",
       "      <td>0</td>\n",
       "      <td>3</td>\n",
       "      <td>8</td>\n",
       "      <td>1600</td>\n",
       "      <td>0</td>\n",
       "      <td>11</td>\n",
       "      <td>0</td>\n",
       "      <td>98027</td>\n",
       "      <td>1410</td>\n",
       "      <td>1287</td>\n",
       "      <td>400000</td>\n",
       "    </tr>\n",
       "    <tr>\n",
       "      <th>21595</th>\n",
       "      <td>2014-10-15</td>\n",
       "      <td>2</td>\n",
       "      <td>0.7500</td>\n",
       "      <td>1020</td>\n",
       "      <td>1076</td>\n",
       "      <td>2.0000</td>\n",
       "      <td>0</td>\n",
       "      <td>0</td>\n",
       "      <td>3</td>\n",
       "      <td>7</td>\n",
       "      <td>1020</td>\n",
       "      <td>0</td>\n",
       "      <td>7</td>\n",
       "      <td>0</td>\n",
       "      <td>98144</td>\n",
       "      <td>1020</td>\n",
       "      <td>1357</td>\n",
       "      <td>325000</td>\n",
       "    </tr>\n",
       "  </tbody>\n",
       "</table>\n",
       "<p>21596 rows × 18 columns</p>\n",
       "</div>"
      ],
      "text/plain": [
       "            date  bedrooms  bathrooms  sqft_living  sqft_lot  floors  \\\n",
       "0     2014-10-13         3     1.0000         1180      5650  1.0000   \n",
       "1     2014-12-09         3     2.2500         2570      7242  2.0000   \n",
       "2     2015-02-25         2     1.0000          770     10000  1.0000   \n",
       "3     2014-12-09         4     3.0000         1960      5000  1.0000   \n",
       "4     2015-02-18         3     2.0000         1680      8080  1.0000   \n",
       "...          ...       ...        ...          ...       ...     ...   \n",
       "21591 2014-05-21         3     2.5000         1530      1131  3.0000   \n",
       "21592 2015-02-23         4     2.5000         2310      5813  2.0000   \n",
       "21593 2014-06-23         2     0.7500         1020      1350  2.0000   \n",
       "21594 2015-01-16         3     2.5000         1600      2388  2.0000   \n",
       "21595 2014-10-15         2     0.7500         1020      1076  2.0000   \n",
       "\n",
       "       waterfront  view  condition  grade  sqft_above  sqft_basement  \\\n",
       "0               0     0          3      7        1180              0   \n",
       "1               0     0          3      7        2170            400   \n",
       "2               0     0          3      6         770              0   \n",
       "3               0     0          5      7        1050            910   \n",
       "4               0     0          3      8        1680              0   \n",
       "...           ...   ...        ...    ...         ...            ...   \n",
       "21591           0     0          3      8        1530              0   \n",
       "21592           0     0          3      8        2310              0   \n",
       "21593           0     0          3      7        1020              0   \n",
       "21594           0     0          3      8        1600              0   \n",
       "21595           0     0          3      7        1020              0   \n",
       "\n",
       "       age_build  yr_renovated  zipcode  sqft_living15  sqft_lot15   price  \n",
       "0             60             0    98178           1340        5650  221900  \n",
       "1             64             1    98125           1690        7639  538000  \n",
       "2             82             0    98028           2720        8062  180000  \n",
       "3             50             0    98136           1360        5000  604000  \n",
       "4             28             0    98074           1800        7503  510000  \n",
       "...          ...           ...      ...            ...         ...     ...  \n",
       "21591          6             0    98103           1530        1509  360000  \n",
       "21592          1             0    98146           1830        7200  400000  \n",
       "21593          6             0    98144           1020        2007  402101  \n",
       "21594         11             0    98027           1410        1287  400000  \n",
       "21595          7             0    98144           1020        1357  325000  \n",
       "\n",
       "[21596 rows x 18 columns]"
      ]
     },
     "execution_count": 29,
     "metadata": {},
     "output_type": "execute_result"
    }
   ],
   "source": [
    "df"
   ]
  },
  {
   "cell_type": "markdown",
   "id": "048f55cd",
   "metadata": {},
   "source": [
    "### Changing columns type into categorical variables"
   ]
  },
  {
   "cell_type": "code",
   "execution_count": 30,
   "id": "9f0b9ddd",
   "metadata": {},
   "outputs": [],
   "source": [
    "df['waterfront'] = pd.Categorical(df['waterfront'])\n",
    "df['view'] = pd.Categorical(df['view'])\n",
    "df['condition'] = pd.Categorical(df['condition'])\n",
    "df['grade'] = pd.Categorical(df['grade'])\n",
    "df['bathrooms'] = pd.Categorical(df['bathrooms'])\n",
    "df['bedrooms'] = pd.Categorical(df['bedrooms'])\n",
    "df['floors'] = pd.Categorical(df['floors'])\n",
    "df['yr_renovated'] = pd.Categorical(df['yr_renovated'])"
   ]
  },
  {
   "cell_type": "code",
   "execution_count": 31,
   "id": "36108e54",
   "metadata": {},
   "outputs": [
    {
     "data": {
      "text/plain": [
       "date             datetime64[ns]\n",
       "bedrooms               category\n",
       "bathrooms              category\n",
       "sqft_living               int64\n",
       "sqft_lot                  int64\n",
       "floors                 category\n",
       "waterfront             category\n",
       "view                   category\n",
       "condition              category\n",
       "grade                  category\n",
       "sqft_above                int64\n",
       "sqft_basement             int64\n",
       "age_build                 int64\n",
       "yr_renovated           category\n",
       "zipcode                   int64\n",
       "sqft_living15             int64\n",
       "sqft_lot15                int64\n",
       "price                     int64\n",
       "dtype: object"
      ]
     },
     "execution_count": 31,
     "metadata": {},
     "output_type": "execute_result"
    }
   ],
   "source": [
    "df.dtypes"
   ]
  },
  {
   "cell_type": "code",
   "execution_count": 32,
   "id": "1aba0ff6",
   "metadata": {},
   "outputs": [
    {
     "data": {
      "text/html": [
       "<div>\n",
       "<style scoped>\n",
       "    .dataframe tbody tr th:only-of-type {\n",
       "        vertical-align: middle;\n",
       "    }\n",
       "\n",
       "    .dataframe tbody tr th {\n",
       "        vertical-align: top;\n",
       "    }\n",
       "\n",
       "    .dataframe thead th {\n",
       "        text-align: right;\n",
       "    }\n",
       "</style>\n",
       "<table border=\"1\" class=\"dataframe\">\n",
       "  <thead>\n",
       "    <tr style=\"text-align: right;\">\n",
       "      <th></th>\n",
       "      <th>bedrooms</th>\n",
       "      <th>bathrooms</th>\n",
       "      <th>floors</th>\n",
       "      <th>waterfront</th>\n",
       "      <th>view</th>\n",
       "      <th>condition</th>\n",
       "      <th>grade</th>\n",
       "      <th>yr_renovated</th>\n",
       "    </tr>\n",
       "  </thead>\n",
       "  <tbody>\n",
       "    <tr>\n",
       "      <th>0</th>\n",
       "      <td>3</td>\n",
       "      <td>1.0000</td>\n",
       "      <td>1.0000</td>\n",
       "      <td>0</td>\n",
       "      <td>0</td>\n",
       "      <td>3</td>\n",
       "      <td>7</td>\n",
       "      <td>0</td>\n",
       "    </tr>\n",
       "    <tr>\n",
       "      <th>1</th>\n",
       "      <td>3</td>\n",
       "      <td>2.2500</td>\n",
       "      <td>2.0000</td>\n",
       "      <td>0</td>\n",
       "      <td>0</td>\n",
       "      <td>3</td>\n",
       "      <td>7</td>\n",
       "      <td>1</td>\n",
       "    </tr>\n",
       "    <tr>\n",
       "      <th>2</th>\n",
       "      <td>2</td>\n",
       "      <td>1.0000</td>\n",
       "      <td>1.0000</td>\n",
       "      <td>0</td>\n",
       "      <td>0</td>\n",
       "      <td>3</td>\n",
       "      <td>6</td>\n",
       "      <td>0</td>\n",
       "    </tr>\n",
       "    <tr>\n",
       "      <th>3</th>\n",
       "      <td>4</td>\n",
       "      <td>3.0000</td>\n",
       "      <td>1.0000</td>\n",
       "      <td>0</td>\n",
       "      <td>0</td>\n",
       "      <td>5</td>\n",
       "      <td>7</td>\n",
       "      <td>0</td>\n",
       "    </tr>\n",
       "    <tr>\n",
       "      <th>4</th>\n",
       "      <td>3</td>\n",
       "      <td>2.0000</td>\n",
       "      <td>1.0000</td>\n",
       "      <td>0</td>\n",
       "      <td>0</td>\n",
       "      <td>3</td>\n",
       "      <td>8</td>\n",
       "      <td>0</td>\n",
       "    </tr>\n",
       "    <tr>\n",
       "      <th>...</th>\n",
       "      <td>...</td>\n",
       "      <td>...</td>\n",
       "      <td>...</td>\n",
       "      <td>...</td>\n",
       "      <td>...</td>\n",
       "      <td>...</td>\n",
       "      <td>...</td>\n",
       "      <td>...</td>\n",
       "    </tr>\n",
       "    <tr>\n",
       "      <th>21591</th>\n",
       "      <td>3</td>\n",
       "      <td>2.5000</td>\n",
       "      <td>3.0000</td>\n",
       "      <td>0</td>\n",
       "      <td>0</td>\n",
       "      <td>3</td>\n",
       "      <td>8</td>\n",
       "      <td>0</td>\n",
       "    </tr>\n",
       "    <tr>\n",
       "      <th>21592</th>\n",
       "      <td>4</td>\n",
       "      <td>2.5000</td>\n",
       "      <td>2.0000</td>\n",
       "      <td>0</td>\n",
       "      <td>0</td>\n",
       "      <td>3</td>\n",
       "      <td>8</td>\n",
       "      <td>0</td>\n",
       "    </tr>\n",
       "    <tr>\n",
       "      <th>21593</th>\n",
       "      <td>2</td>\n",
       "      <td>0.7500</td>\n",
       "      <td>2.0000</td>\n",
       "      <td>0</td>\n",
       "      <td>0</td>\n",
       "      <td>3</td>\n",
       "      <td>7</td>\n",
       "      <td>0</td>\n",
       "    </tr>\n",
       "    <tr>\n",
       "      <th>21594</th>\n",
       "      <td>3</td>\n",
       "      <td>2.5000</td>\n",
       "      <td>2.0000</td>\n",
       "      <td>0</td>\n",
       "      <td>0</td>\n",
       "      <td>3</td>\n",
       "      <td>8</td>\n",
       "      <td>0</td>\n",
       "    </tr>\n",
       "    <tr>\n",
       "      <th>21595</th>\n",
       "      <td>2</td>\n",
       "      <td>0.7500</td>\n",
       "      <td>2.0000</td>\n",
       "      <td>0</td>\n",
       "      <td>0</td>\n",
       "      <td>3</td>\n",
       "      <td>7</td>\n",
       "      <td>0</td>\n",
       "    </tr>\n",
       "  </tbody>\n",
       "</table>\n",
       "<p>21596 rows × 8 columns</p>\n",
       "</div>"
      ],
      "text/plain": [
       "      bedrooms bathrooms floors waterfront view condition grade yr_renovated\n",
       "0            3    1.0000 1.0000          0    0         3     7            0\n",
       "1            3    2.2500 2.0000          0    0         3     7            1\n",
       "2            2    1.0000 1.0000          0    0         3     6            0\n",
       "3            4    3.0000 1.0000          0    0         5     7            0\n",
       "4            3    2.0000 1.0000          0    0         3     8            0\n",
       "...        ...       ...    ...        ...  ...       ...   ...          ...\n",
       "21591        3    2.5000 3.0000          0    0         3     8            0\n",
       "21592        4    2.5000 2.0000          0    0         3     8            0\n",
       "21593        2    0.7500 2.0000          0    0         3     7            0\n",
       "21594        3    2.5000 2.0000          0    0         3     8            0\n",
       "21595        2    0.7500 2.0000          0    0         3     7            0\n",
       "\n",
       "[21596 rows x 8 columns]"
      ]
     },
     "execution_count": 32,
     "metadata": {},
     "output_type": "execute_result"
    }
   ],
   "source": [
    "categorical = df.select_dtypes(include = ['category'])\n",
    "categorical"
   ]
  },
  {
   "cell_type": "markdown",
   "id": "56171e13",
   "metadata": {},
   "source": [
    "### Ordinal columns"
   ]
  },
  {
   "cell_type": "code",
   "execution_count": 33,
   "id": "983fa357",
   "metadata": {},
   "outputs": [],
   "source": [
    "#categorical['age_build'].apply(lambda x: x.toordinal())"
   ]
  },
  {
   "cell_type": "code",
   "execution_count": 34,
   "id": "b14d4f0d",
   "metadata": {},
   "outputs": [],
   "source": [
    "categorical_ord = categorical[[\"waterfront\", \"view\",\"condition\",\"grade\",'bathrooms','bedrooms','floors']]\n",
    "categories = [[\"0\",\"1\"], [\"0\", \"1\", \"2\",\"3\",\"4\"],[\"1\",\"2\",\"3\",\"4\",\"5\"],\n",
    "              [\"1\",\"2\",\"3\",\"4\",\"5\",\"6\",\"7\",\"8\",\"9\",\"10\",\"11\",\"12\",\"13\"], \n",
    "              ['0.5','0.75','1.0','1.25','1.5','1.75','2.0','2.25','2.5','2.75','3.0','3.25','3.5','3.75','4.0','4.25','4.5','4.75','5','5.25','5.5','5.75','6.0','6.25','6.5','6.75','7.0','7.5','7.75','8.0'],\n",
    "             ['1','2','3','4','5','6','7','8','9','10','11'],\n",
    "             ['1.0','1.5','2.0', '2.5','3.0','3.5']]"
   ]
  },
  {
   "cell_type": "code",
   "execution_count": 35,
   "id": "42c63f3a",
   "metadata": {},
   "outputs": [],
   "source": [
    "ordinal_encoder = OrdinalEncoder(categories=categories)\n",
    "categorical_ord_encoded = pd.DataFrame(ordinal_encoder.fit_transform(categorical_ord),columns=categorical_ord.columns)"
   ]
  },
  {
   "cell_type": "code",
   "execution_count": 36,
   "id": "d27a917a",
   "metadata": {},
   "outputs": [
    {
     "data": {
      "text/html": [
       "<div>\n",
       "<style scoped>\n",
       "    .dataframe tbody tr th:only-of-type {\n",
       "        vertical-align: middle;\n",
       "    }\n",
       "\n",
       "    .dataframe tbody tr th {\n",
       "        vertical-align: top;\n",
       "    }\n",
       "\n",
       "    .dataframe thead th {\n",
       "        text-align: right;\n",
       "    }\n",
       "</style>\n",
       "<table border=\"1\" class=\"dataframe\">\n",
       "  <thead>\n",
       "    <tr style=\"text-align: right;\">\n",
       "      <th></th>\n",
       "      <th>waterfront</th>\n",
       "      <th>view</th>\n",
       "      <th>condition</th>\n",
       "      <th>grade</th>\n",
       "      <th>bathrooms</th>\n",
       "      <th>bedrooms</th>\n",
       "      <th>floors</th>\n",
       "    </tr>\n",
       "  </thead>\n",
       "  <tbody>\n",
       "    <tr>\n",
       "      <th>0</th>\n",
       "      <td>0.0000</td>\n",
       "      <td>0.0000</td>\n",
       "      <td>2.0000</td>\n",
       "      <td>6.0000</td>\n",
       "      <td>2.0000</td>\n",
       "      <td>2.0000</td>\n",
       "      <td>0.0000</td>\n",
       "    </tr>\n",
       "    <tr>\n",
       "      <th>1</th>\n",
       "      <td>0.0000</td>\n",
       "      <td>0.0000</td>\n",
       "      <td>2.0000</td>\n",
       "      <td>6.0000</td>\n",
       "      <td>7.0000</td>\n",
       "      <td>2.0000</td>\n",
       "      <td>2.0000</td>\n",
       "    </tr>\n",
       "    <tr>\n",
       "      <th>2</th>\n",
       "      <td>0.0000</td>\n",
       "      <td>0.0000</td>\n",
       "      <td>2.0000</td>\n",
       "      <td>5.0000</td>\n",
       "      <td>2.0000</td>\n",
       "      <td>1.0000</td>\n",
       "      <td>0.0000</td>\n",
       "    </tr>\n",
       "    <tr>\n",
       "      <th>3</th>\n",
       "      <td>0.0000</td>\n",
       "      <td>0.0000</td>\n",
       "      <td>4.0000</td>\n",
       "      <td>6.0000</td>\n",
       "      <td>10.0000</td>\n",
       "      <td>3.0000</td>\n",
       "      <td>0.0000</td>\n",
       "    </tr>\n",
       "    <tr>\n",
       "      <th>4</th>\n",
       "      <td>0.0000</td>\n",
       "      <td>0.0000</td>\n",
       "      <td>2.0000</td>\n",
       "      <td>7.0000</td>\n",
       "      <td>6.0000</td>\n",
       "      <td>2.0000</td>\n",
       "      <td>0.0000</td>\n",
       "    </tr>\n",
       "    <tr>\n",
       "      <th>...</th>\n",
       "      <td>...</td>\n",
       "      <td>...</td>\n",
       "      <td>...</td>\n",
       "      <td>...</td>\n",
       "      <td>...</td>\n",
       "      <td>...</td>\n",
       "      <td>...</td>\n",
       "    </tr>\n",
       "    <tr>\n",
       "      <th>21591</th>\n",
       "      <td>0.0000</td>\n",
       "      <td>0.0000</td>\n",
       "      <td>2.0000</td>\n",
       "      <td>7.0000</td>\n",
       "      <td>8.0000</td>\n",
       "      <td>2.0000</td>\n",
       "      <td>4.0000</td>\n",
       "    </tr>\n",
       "    <tr>\n",
       "      <th>21592</th>\n",
       "      <td>0.0000</td>\n",
       "      <td>0.0000</td>\n",
       "      <td>2.0000</td>\n",
       "      <td>7.0000</td>\n",
       "      <td>8.0000</td>\n",
       "      <td>3.0000</td>\n",
       "      <td>2.0000</td>\n",
       "    </tr>\n",
       "    <tr>\n",
       "      <th>21593</th>\n",
       "      <td>0.0000</td>\n",
       "      <td>0.0000</td>\n",
       "      <td>2.0000</td>\n",
       "      <td>6.0000</td>\n",
       "      <td>1.0000</td>\n",
       "      <td>1.0000</td>\n",
       "      <td>2.0000</td>\n",
       "    </tr>\n",
       "    <tr>\n",
       "      <th>21594</th>\n",
       "      <td>0.0000</td>\n",
       "      <td>0.0000</td>\n",
       "      <td>2.0000</td>\n",
       "      <td>7.0000</td>\n",
       "      <td>8.0000</td>\n",
       "      <td>2.0000</td>\n",
       "      <td>2.0000</td>\n",
       "    </tr>\n",
       "    <tr>\n",
       "      <th>21595</th>\n",
       "      <td>0.0000</td>\n",
       "      <td>0.0000</td>\n",
       "      <td>2.0000</td>\n",
       "      <td>6.0000</td>\n",
       "      <td>1.0000</td>\n",
       "      <td>1.0000</td>\n",
       "      <td>2.0000</td>\n",
       "    </tr>\n",
       "  </tbody>\n",
       "</table>\n",
       "<p>21596 rows × 7 columns</p>\n",
       "</div>"
      ],
      "text/plain": [
       "       waterfront   view  condition  grade  bathrooms  bedrooms  floors\n",
       "0          0.0000 0.0000     2.0000 6.0000     2.0000    2.0000  0.0000\n",
       "1          0.0000 0.0000     2.0000 6.0000     7.0000    2.0000  2.0000\n",
       "2          0.0000 0.0000     2.0000 5.0000     2.0000    1.0000  0.0000\n",
       "3          0.0000 0.0000     4.0000 6.0000    10.0000    3.0000  0.0000\n",
       "4          0.0000 0.0000     2.0000 7.0000     6.0000    2.0000  0.0000\n",
       "...           ...    ...        ...    ...        ...       ...     ...\n",
       "21591      0.0000 0.0000     2.0000 7.0000     8.0000    2.0000  4.0000\n",
       "21592      0.0000 0.0000     2.0000 7.0000     8.0000    3.0000  2.0000\n",
       "21593      0.0000 0.0000     2.0000 6.0000     1.0000    1.0000  2.0000\n",
       "21594      0.0000 0.0000     2.0000 7.0000     8.0000    2.0000  2.0000\n",
       "21595      0.0000 0.0000     2.0000 6.0000     1.0000    1.0000  2.0000\n",
       "\n",
       "[21596 rows x 7 columns]"
      ]
     },
     "execution_count": 36,
     "metadata": {},
     "output_type": "execute_result"
    }
   ],
   "source": [
    "categorical_ord_encoded"
   ]
  },
  {
   "cell_type": "code",
   "execution_count": 37,
   "id": "c7a9871c",
   "metadata": {},
   "outputs": [
    {
     "name": "stdout",
     "output_type": "stream",
     "text": [
      "<class 'pandas.core.frame.DataFrame'>\n",
      "RangeIndex: 21596 entries, 0 to 21595\n",
      "Data columns (total 7 columns):\n",
      " #   Column      Non-Null Count  Dtype  \n",
      "---  ------      --------------  -----  \n",
      " 0   waterfront  21596 non-null  float64\n",
      " 1   view        21596 non-null  float64\n",
      " 2   condition   21596 non-null  float64\n",
      " 3   grade       21596 non-null  float64\n",
      " 4   bathrooms   21596 non-null  float64\n",
      " 5   bedrooms    21596 non-null  float64\n",
      " 6   floors      21596 non-null  float64\n",
      "dtypes: float64(7)\n",
      "memory usage: 1.2 MB\n"
     ]
    }
   ],
   "source": [
    "categorical_ord_encoded.info()"
   ]
  },
  {
   "cell_type": "code",
   "execution_count": 38,
   "id": "213ded17",
   "metadata": {},
   "outputs": [
    {
     "name": "stderr",
     "output_type": "stream",
     "text": [
      "/opt/anaconda3/envs/DA_ENV/lib/python3.9/site-packages/pandas/core/frame.py:4906: SettingWithCopyWarning: \n",
      "A value is trying to be set on a copy of a slice from a DataFrame\n",
      "\n",
      "See the caveats in the documentation: https://pandas.pydata.org/pandas-docs/stable/user_guide/indexing.html#returning-a-view-versus-a-copy\n",
      "  return super().drop(\n"
     ]
    }
   ],
   "source": [
    "categorical.drop([\"waterfront\", \"view\",\"condition\",\"grade\",'bathrooms','bedrooms', 'floors'],axis=1,inplace=True)"
   ]
  },
  {
   "cell_type": "code",
   "execution_count": 39,
   "id": "548fe7dc",
   "metadata": {},
   "outputs": [
    {
     "data": {
      "text/html": [
       "<div>\n",
       "<style scoped>\n",
       "    .dataframe tbody tr th:only-of-type {\n",
       "        vertical-align: middle;\n",
       "    }\n",
       "\n",
       "    .dataframe tbody tr th {\n",
       "        vertical-align: top;\n",
       "    }\n",
       "\n",
       "    .dataframe thead th {\n",
       "        text-align: right;\n",
       "    }\n",
       "</style>\n",
       "<table border=\"1\" class=\"dataframe\">\n",
       "  <thead>\n",
       "    <tr style=\"text-align: right;\">\n",
       "      <th></th>\n",
       "      <th>yr_renovated</th>\n",
       "    </tr>\n",
       "  </thead>\n",
       "  <tbody>\n",
       "    <tr>\n",
       "      <th>0</th>\n",
       "      <td>0</td>\n",
       "    </tr>\n",
       "    <tr>\n",
       "      <th>1</th>\n",
       "      <td>1</td>\n",
       "    </tr>\n",
       "    <tr>\n",
       "      <th>2</th>\n",
       "      <td>0</td>\n",
       "    </tr>\n",
       "    <tr>\n",
       "      <th>3</th>\n",
       "      <td>0</td>\n",
       "    </tr>\n",
       "    <tr>\n",
       "      <th>4</th>\n",
       "      <td>0</td>\n",
       "    </tr>\n",
       "    <tr>\n",
       "      <th>...</th>\n",
       "      <td>...</td>\n",
       "    </tr>\n",
       "    <tr>\n",
       "      <th>21591</th>\n",
       "      <td>0</td>\n",
       "    </tr>\n",
       "    <tr>\n",
       "      <th>21592</th>\n",
       "      <td>0</td>\n",
       "    </tr>\n",
       "    <tr>\n",
       "      <th>21593</th>\n",
       "      <td>0</td>\n",
       "    </tr>\n",
       "    <tr>\n",
       "      <th>21594</th>\n",
       "      <td>0</td>\n",
       "    </tr>\n",
       "    <tr>\n",
       "      <th>21595</th>\n",
       "      <td>0</td>\n",
       "    </tr>\n",
       "  </tbody>\n",
       "</table>\n",
       "<p>21596 rows × 1 columns</p>\n",
       "</div>"
      ],
      "text/plain": [
       "      yr_renovated\n",
       "0                0\n",
       "1                1\n",
       "2                0\n",
       "3                0\n",
       "4                0\n",
       "...            ...\n",
       "21591            0\n",
       "21592            0\n",
       "21593            0\n",
       "21594            0\n",
       "21595            0\n",
       "\n",
       "[21596 rows x 1 columns]"
      ]
     },
     "execution_count": 39,
     "metadata": {},
     "output_type": "execute_result"
    }
   ],
   "source": [
    "categorical"
   ]
  },
  {
   "cell_type": "markdown",
   "id": "2bf7f630",
   "metadata": {},
   "source": []
  },
  {
   "cell_type": "markdown",
   "id": "82458ae2",
   "metadata": {},
   "source": []
  },
  {
   "cell_type": "code",
   "execution_count": null,
   "id": "186ee707",
   "metadata": {},
   "outputs": [],
   "source": []
  },
  {
   "cell_type": "code",
   "execution_count": null,
   "id": "d031fd98",
   "metadata": {},
   "outputs": [],
   "source": []
  },
  {
   "cell_type": "markdown",
   "id": "9cf56afa",
   "metadata": {},
   "source": [
    "Concat ordinal and categorical"
   ]
  },
  {
   "cell_type": "code",
   "execution_count": 40,
   "id": "214e2e7f",
   "metadata": {},
   "outputs": [
    {
     "data": {
      "text/html": [
       "<div>\n",
       "<style scoped>\n",
       "    .dataframe tbody tr th:only-of-type {\n",
       "        vertical-align: middle;\n",
       "    }\n",
       "\n",
       "    .dataframe tbody tr th {\n",
       "        vertical-align: top;\n",
       "    }\n",
       "\n",
       "    .dataframe thead th {\n",
       "        text-align: right;\n",
       "    }\n",
       "</style>\n",
       "<table border=\"1\" class=\"dataframe\">\n",
       "  <thead>\n",
       "    <tr style=\"text-align: right;\">\n",
       "      <th></th>\n",
       "      <th>waterfront</th>\n",
       "      <th>view</th>\n",
       "      <th>condition</th>\n",
       "      <th>grade</th>\n",
       "      <th>bathrooms</th>\n",
       "      <th>bedrooms</th>\n",
       "      <th>floors</th>\n",
       "      <th>yr_renovated</th>\n",
       "    </tr>\n",
       "  </thead>\n",
       "  <tbody>\n",
       "    <tr>\n",
       "      <th>0</th>\n",
       "      <td>0.0000</td>\n",
       "      <td>0.0000</td>\n",
       "      <td>2.0000</td>\n",
       "      <td>6.0000</td>\n",
       "      <td>2.0000</td>\n",
       "      <td>2.0000</td>\n",
       "      <td>0.0000</td>\n",
       "      <td>0</td>\n",
       "    </tr>\n",
       "    <tr>\n",
       "      <th>1</th>\n",
       "      <td>0.0000</td>\n",
       "      <td>0.0000</td>\n",
       "      <td>2.0000</td>\n",
       "      <td>6.0000</td>\n",
       "      <td>7.0000</td>\n",
       "      <td>2.0000</td>\n",
       "      <td>2.0000</td>\n",
       "      <td>1</td>\n",
       "    </tr>\n",
       "    <tr>\n",
       "      <th>2</th>\n",
       "      <td>0.0000</td>\n",
       "      <td>0.0000</td>\n",
       "      <td>2.0000</td>\n",
       "      <td>5.0000</td>\n",
       "      <td>2.0000</td>\n",
       "      <td>1.0000</td>\n",
       "      <td>0.0000</td>\n",
       "      <td>0</td>\n",
       "    </tr>\n",
       "    <tr>\n",
       "      <th>3</th>\n",
       "      <td>0.0000</td>\n",
       "      <td>0.0000</td>\n",
       "      <td>4.0000</td>\n",
       "      <td>6.0000</td>\n",
       "      <td>10.0000</td>\n",
       "      <td>3.0000</td>\n",
       "      <td>0.0000</td>\n",
       "      <td>0</td>\n",
       "    </tr>\n",
       "    <tr>\n",
       "      <th>4</th>\n",
       "      <td>0.0000</td>\n",
       "      <td>0.0000</td>\n",
       "      <td>2.0000</td>\n",
       "      <td>7.0000</td>\n",
       "      <td>6.0000</td>\n",
       "      <td>2.0000</td>\n",
       "      <td>0.0000</td>\n",
       "      <td>0</td>\n",
       "    </tr>\n",
       "    <tr>\n",
       "      <th>...</th>\n",
       "      <td>...</td>\n",
       "      <td>...</td>\n",
       "      <td>...</td>\n",
       "      <td>...</td>\n",
       "      <td>...</td>\n",
       "      <td>...</td>\n",
       "      <td>...</td>\n",
       "      <td>...</td>\n",
       "    </tr>\n",
       "    <tr>\n",
       "      <th>21591</th>\n",
       "      <td>0.0000</td>\n",
       "      <td>0.0000</td>\n",
       "      <td>2.0000</td>\n",
       "      <td>7.0000</td>\n",
       "      <td>8.0000</td>\n",
       "      <td>2.0000</td>\n",
       "      <td>4.0000</td>\n",
       "      <td>0</td>\n",
       "    </tr>\n",
       "    <tr>\n",
       "      <th>21592</th>\n",
       "      <td>0.0000</td>\n",
       "      <td>0.0000</td>\n",
       "      <td>2.0000</td>\n",
       "      <td>7.0000</td>\n",
       "      <td>8.0000</td>\n",
       "      <td>3.0000</td>\n",
       "      <td>2.0000</td>\n",
       "      <td>0</td>\n",
       "    </tr>\n",
       "    <tr>\n",
       "      <th>21593</th>\n",
       "      <td>0.0000</td>\n",
       "      <td>0.0000</td>\n",
       "      <td>2.0000</td>\n",
       "      <td>6.0000</td>\n",
       "      <td>1.0000</td>\n",
       "      <td>1.0000</td>\n",
       "      <td>2.0000</td>\n",
       "      <td>0</td>\n",
       "    </tr>\n",
       "    <tr>\n",
       "      <th>21594</th>\n",
       "      <td>0.0000</td>\n",
       "      <td>0.0000</td>\n",
       "      <td>2.0000</td>\n",
       "      <td>7.0000</td>\n",
       "      <td>8.0000</td>\n",
       "      <td>2.0000</td>\n",
       "      <td>2.0000</td>\n",
       "      <td>0</td>\n",
       "    </tr>\n",
       "    <tr>\n",
       "      <th>21595</th>\n",
       "      <td>0.0000</td>\n",
       "      <td>0.0000</td>\n",
       "      <td>2.0000</td>\n",
       "      <td>6.0000</td>\n",
       "      <td>1.0000</td>\n",
       "      <td>1.0000</td>\n",
       "      <td>2.0000</td>\n",
       "      <td>0</td>\n",
       "    </tr>\n",
       "  </tbody>\n",
       "</table>\n",
       "<p>21596 rows × 8 columns</p>\n",
       "</div>"
      ],
      "text/plain": [
       "       waterfront   view  condition  grade  bathrooms  bedrooms  floors  \\\n",
       "0          0.0000 0.0000     2.0000 6.0000     2.0000    2.0000  0.0000   \n",
       "1          0.0000 0.0000     2.0000 6.0000     7.0000    2.0000  2.0000   \n",
       "2          0.0000 0.0000     2.0000 5.0000     2.0000    1.0000  0.0000   \n",
       "3          0.0000 0.0000     4.0000 6.0000    10.0000    3.0000  0.0000   \n",
       "4          0.0000 0.0000     2.0000 7.0000     6.0000    2.0000  0.0000   \n",
       "...           ...    ...        ...    ...        ...       ...     ...   \n",
       "21591      0.0000 0.0000     2.0000 7.0000     8.0000    2.0000  4.0000   \n",
       "21592      0.0000 0.0000     2.0000 7.0000     8.0000    3.0000  2.0000   \n",
       "21593      0.0000 0.0000     2.0000 6.0000     1.0000    1.0000  2.0000   \n",
       "21594      0.0000 0.0000     2.0000 7.0000     8.0000    2.0000  2.0000   \n",
       "21595      0.0000 0.0000     2.0000 6.0000     1.0000    1.0000  2.0000   \n",
       "\n",
       "      yr_renovated  \n",
       "0                0  \n",
       "1                1  \n",
       "2                0  \n",
       "3                0  \n",
       "4                0  \n",
       "...            ...  \n",
       "21591            0  \n",
       "21592            0  \n",
       "21593            0  \n",
       "21594            0  \n",
       "21595            0  \n",
       "\n",
       "[21596 rows x 8 columns]"
      ]
     },
     "execution_count": 40,
     "metadata": {},
     "output_type": "execute_result"
    }
   ],
   "source": [
    "categorical = pd.concat([categorical_ord_encoded,categorical],axis=1)\n",
    "categorical"
   ]
  },
  {
   "cell_type": "code",
   "execution_count": 41,
   "id": "f02f84f1",
   "metadata": {},
   "outputs": [
    {
     "data": {
      "text/plain": [
       "waterfront      0\n",
       "view            0\n",
       "condition       0\n",
       "grade           0\n",
       "bathrooms       0\n",
       "bedrooms        0\n",
       "floors          0\n",
       "yr_renovated    0\n",
       "dtype: int64"
      ]
     },
     "execution_count": 41,
     "metadata": {},
     "output_type": "execute_result"
    }
   ],
   "source": [
    "categorical.isnull().sum()"
   ]
  },
  {
   "cell_type": "markdown",
   "id": "583fab5f",
   "metadata": {},
   "source": [
    "**Filtering the numerical variables:**"
   ]
  },
  {
   "cell_type": "code",
   "execution_count": 42,
   "id": "6618ad9e",
   "metadata": {},
   "outputs": [
    {
     "data": {
      "text/html": [
       "<div>\n",
       "<style scoped>\n",
       "    .dataframe tbody tr th:only-of-type {\n",
       "        vertical-align: middle;\n",
       "    }\n",
       "\n",
       "    .dataframe tbody tr th {\n",
       "        vertical-align: top;\n",
       "    }\n",
       "\n",
       "    .dataframe thead th {\n",
       "        text-align: right;\n",
       "    }\n",
       "</style>\n",
       "<table border=\"1\" class=\"dataframe\">\n",
       "  <thead>\n",
       "    <tr style=\"text-align: right;\">\n",
       "      <th></th>\n",
       "      <th>sqft_living</th>\n",
       "      <th>sqft_lot</th>\n",
       "      <th>sqft_above</th>\n",
       "      <th>sqft_basement</th>\n",
       "      <th>age_build</th>\n",
       "      <th>zipcode</th>\n",
       "      <th>sqft_living15</th>\n",
       "      <th>sqft_lot15</th>\n",
       "      <th>price</th>\n",
       "    </tr>\n",
       "  </thead>\n",
       "  <tbody>\n",
       "    <tr>\n",
       "      <th>0</th>\n",
       "      <td>1180</td>\n",
       "      <td>5650</td>\n",
       "      <td>1180</td>\n",
       "      <td>0</td>\n",
       "      <td>60</td>\n",
       "      <td>98178</td>\n",
       "      <td>1340</td>\n",
       "      <td>5650</td>\n",
       "      <td>221900</td>\n",
       "    </tr>\n",
       "    <tr>\n",
       "      <th>1</th>\n",
       "      <td>2570</td>\n",
       "      <td>7242</td>\n",
       "      <td>2170</td>\n",
       "      <td>400</td>\n",
       "      <td>64</td>\n",
       "      <td>98125</td>\n",
       "      <td>1690</td>\n",
       "      <td>7639</td>\n",
       "      <td>538000</td>\n",
       "    </tr>\n",
       "    <tr>\n",
       "      <th>2</th>\n",
       "      <td>770</td>\n",
       "      <td>10000</td>\n",
       "      <td>770</td>\n",
       "      <td>0</td>\n",
       "      <td>82</td>\n",
       "      <td>98028</td>\n",
       "      <td>2720</td>\n",
       "      <td>8062</td>\n",
       "      <td>180000</td>\n",
       "    </tr>\n",
       "    <tr>\n",
       "      <th>3</th>\n",
       "      <td>1960</td>\n",
       "      <td>5000</td>\n",
       "      <td>1050</td>\n",
       "      <td>910</td>\n",
       "      <td>50</td>\n",
       "      <td>98136</td>\n",
       "      <td>1360</td>\n",
       "      <td>5000</td>\n",
       "      <td>604000</td>\n",
       "    </tr>\n",
       "    <tr>\n",
       "      <th>4</th>\n",
       "      <td>1680</td>\n",
       "      <td>8080</td>\n",
       "      <td>1680</td>\n",
       "      <td>0</td>\n",
       "      <td>28</td>\n",
       "      <td>98074</td>\n",
       "      <td>1800</td>\n",
       "      <td>7503</td>\n",
       "      <td>510000</td>\n",
       "    </tr>\n",
       "    <tr>\n",
       "      <th>...</th>\n",
       "      <td>...</td>\n",
       "      <td>...</td>\n",
       "      <td>...</td>\n",
       "      <td>...</td>\n",
       "      <td>...</td>\n",
       "      <td>...</td>\n",
       "      <td>...</td>\n",
       "      <td>...</td>\n",
       "      <td>...</td>\n",
       "    </tr>\n",
       "    <tr>\n",
       "      <th>21591</th>\n",
       "      <td>1530</td>\n",
       "      <td>1131</td>\n",
       "      <td>1530</td>\n",
       "      <td>0</td>\n",
       "      <td>6</td>\n",
       "      <td>98103</td>\n",
       "      <td>1530</td>\n",
       "      <td>1509</td>\n",
       "      <td>360000</td>\n",
       "    </tr>\n",
       "    <tr>\n",
       "      <th>21592</th>\n",
       "      <td>2310</td>\n",
       "      <td>5813</td>\n",
       "      <td>2310</td>\n",
       "      <td>0</td>\n",
       "      <td>1</td>\n",
       "      <td>98146</td>\n",
       "      <td>1830</td>\n",
       "      <td>7200</td>\n",
       "      <td>400000</td>\n",
       "    </tr>\n",
       "    <tr>\n",
       "      <th>21593</th>\n",
       "      <td>1020</td>\n",
       "      <td>1350</td>\n",
       "      <td>1020</td>\n",
       "      <td>0</td>\n",
       "      <td>6</td>\n",
       "      <td>98144</td>\n",
       "      <td>1020</td>\n",
       "      <td>2007</td>\n",
       "      <td>402101</td>\n",
       "    </tr>\n",
       "    <tr>\n",
       "      <th>21594</th>\n",
       "      <td>1600</td>\n",
       "      <td>2388</td>\n",
       "      <td>1600</td>\n",
       "      <td>0</td>\n",
       "      <td>11</td>\n",
       "      <td>98027</td>\n",
       "      <td>1410</td>\n",
       "      <td>1287</td>\n",
       "      <td>400000</td>\n",
       "    </tr>\n",
       "    <tr>\n",
       "      <th>21595</th>\n",
       "      <td>1020</td>\n",
       "      <td>1076</td>\n",
       "      <td>1020</td>\n",
       "      <td>0</td>\n",
       "      <td>7</td>\n",
       "      <td>98144</td>\n",
       "      <td>1020</td>\n",
       "      <td>1357</td>\n",
       "      <td>325000</td>\n",
       "    </tr>\n",
       "  </tbody>\n",
       "</table>\n",
       "<p>21596 rows × 9 columns</p>\n",
       "</div>"
      ],
      "text/plain": [
       "       sqft_living  sqft_lot  sqft_above  sqft_basement  age_build  zipcode  \\\n",
       "0             1180      5650        1180              0         60    98178   \n",
       "1             2570      7242        2170            400         64    98125   \n",
       "2              770     10000         770              0         82    98028   \n",
       "3             1960      5000        1050            910         50    98136   \n",
       "4             1680      8080        1680              0         28    98074   \n",
       "...            ...       ...         ...            ...        ...      ...   \n",
       "21591         1530      1131        1530              0          6    98103   \n",
       "21592         2310      5813        2310              0          1    98146   \n",
       "21593         1020      1350        1020              0          6    98144   \n",
       "21594         1600      2388        1600              0         11    98027   \n",
       "21595         1020      1076        1020              0          7    98144   \n",
       "\n",
       "       sqft_living15  sqft_lot15   price  \n",
       "0               1340        5650  221900  \n",
       "1               1690        7639  538000  \n",
       "2               2720        8062  180000  \n",
       "3               1360        5000  604000  \n",
       "4               1800        7503  510000  \n",
       "...              ...         ...     ...  \n",
       "21591           1530        1509  360000  \n",
       "21592           1830        7200  400000  \n",
       "21593           1020        2007  402101  \n",
       "21594           1410        1287  400000  \n",
       "21595           1020        1357  325000  \n",
       "\n",
       "[21596 rows x 9 columns]"
      ]
     },
     "execution_count": 42,
     "metadata": {},
     "output_type": "execute_result"
    }
   ],
   "source": [
    "numerical = df.select_dtypes(include = ['int64', 'float'])\n",
    "numerical"
   ]
  },
  {
   "cell_type": "markdown",
   "id": "005404a0",
   "metadata": {},
   "source": [
    "### Distributions of numeric features"
   ]
  },
  {
   "cell_type": "code",
   "execution_count": 43,
   "id": "c3b6f756",
   "metadata": {},
   "outputs": [
    {
     "data": {
      "image/png": "[encoded data removed]",
      "text/plain": [
       "<Figure size 1440x1440 with 9 Axes>"
      ]
     },
     "metadata": {
      "needs_background": "light"
     },
     "output_type": "display_data"
    }
   ],
   "source": [
    "# Plot histogram grid\n",
    "numerical.hist(figsize=(20,20), xrot=-45)\n",
    "plt.show()"
   ]
  },
  {
   "cell_type": "markdown",
   "id": "a4689492",
   "metadata": {},
   "source": [
    "**Observations**:\n",
    "- no Null value was detected"
   ]
  },
  {
   "cell_type": "markdown",
   "id": "33961786",
   "metadata": {},
   "source": [
    "### Distribution of categorical variables"
   ]
  },
  {
   "cell_type": "code",
   "execution_count": 44,
   "id": "33d1f934",
   "metadata": {},
   "outputs": [
    {
     "name": "stderr",
     "output_type": "stream",
     "text": [
      "/opt/anaconda3/envs/DA_ENV/lib/python3.9/site-packages/seaborn/_decorators.py:36: FutureWarning: Pass the following variable as a keyword arg: x. From version 0.12, the only valid positional argument will be `data`, and passing other arguments without an explicit keyword will result in an error or misinterpretation.\n",
      "  warnings.warn(\n",
      "/opt/anaconda3/envs/DA_ENV/lib/python3.9/site-packages/seaborn/_decorators.py:36: FutureWarning: Pass the following variable as a keyword arg: x. From version 0.12, the only valid positional argument will be `data`, and passing other arguments without an explicit keyword will result in an error or misinterpretation.\n",
      "  warnings.warn(\n",
      "/opt/anaconda3/envs/DA_ENV/lib/python3.9/site-packages/seaborn/_decorators.py:36: FutureWarning: Pass the following variable as a keyword arg: x. From version 0.12, the only valid positional argument will be `data`, and passing other arguments without an explicit keyword will result in an error or misinterpretation.\n",
      "  warnings.warn(\n",
      "/opt/anaconda3/envs/DA_ENV/lib/python3.9/site-packages/seaborn/_decorators.py:36: FutureWarning: Pass the following variable as a keyword arg: x. From version 0.12, the only valid positional argument will be `data`, and passing other arguments without an explicit keyword will result in an error or misinterpretation.\n",
      "  warnings.warn(\n",
      "/opt/anaconda3/envs/DA_ENV/lib/python3.9/site-packages/seaborn/_decorators.py:36: FutureWarning: Pass the following variable as a keyword arg: x. From version 0.12, the only valid positional argument will be `data`, and passing other arguments without an explicit keyword will result in an error or misinterpretation.\n",
      "  warnings.warn(\n",
      "/opt/anaconda3/envs/DA_ENV/lib/python3.9/site-packages/seaborn/_decorators.py:36: FutureWarning: Pass the following variable as a keyword arg: x. From version 0.12, the only valid positional argument will be `data`, and passing other arguments without an explicit keyword will result in an error or misinterpretation.\n",
      "  warnings.warn(\n",
      "/opt/anaconda3/envs/DA_ENV/lib/python3.9/site-packages/seaborn/_decorators.py:36: FutureWarning: Pass the following variable as a keyword arg: x. From version 0.12, the only valid positional argument will be `data`, and passing other arguments without an explicit keyword will result in an error or misinterpretation.\n",
      "  warnings.warn(\n",
      "/opt/anaconda3/envs/DA_ENV/lib/python3.9/site-packages/seaborn/_decorators.py:36: FutureWarning: Pass the following variable as a keyword arg: x. From version 0.12, the only valid positional argument will be `data`, and passing other arguments without an explicit keyword will result in an error or misinterpretation.\n",
      "  warnings.warn(\n"
     ]
    },
    {
     "data": {
      "image/png": "[encoded data removed]",
      "text/plain": [
       "<Figure size 1440x864 with 8 Axes>"
      ]
     },
     "metadata": {
      "needs_background": "light"
     },
     "output_type": "display_data"
    }
   ],
   "source": [
    "plt.figure(figsize=(20,12))\n",
    "for i, column in enumerate(categorical,1):\n",
    "    plt.subplot(3,3,i)\n",
    "    sns.countplot(categorical[column])"
   ]
  },
  {
   "cell_type": "markdown",
   "id": "7e6c647a",
   "metadata": {},
   "source": [
    "**Observations**\n",
    "- majority of properties has no view to waterfront\n",
    "- majority of properties has a very low score in 'view' \n",
    "- most of properties has an average condition\n",
    "- distribution of grade scoring of properties is near to normal"
   ]
  },
  {
   "cell_type": "markdown",
   "id": "4e17efb6",
   "metadata": {},
   "source": [
    "### Correlation of numerical variables (with price)"
   ]
  },
  {
   "cell_type": "code",
   "execution_count": 45,
   "id": "272c2b4b",
   "metadata": {},
   "outputs": [
    {
     "data": {
      "text/plain": [
       "<AxesSubplot:>"
      ]
     },
     "execution_count": 45,
     "metadata": {},
     "output_type": "execute_result"
    },
    {
     "data": {
      "image/png": "[encoded data removed]",
      "text/plain": [
       "<Figure size 1080x1080 with 2 Axes>"
      ]
     },
     "metadata": {
      "needs_background": "light"
     },
     "output_type": "display_data"
    }
   ],
   "source": [
    "corr = numerical.corr()\n",
    "fig, ax = plt.subplots(figsize=(15,15))\n",
    "mask=np.zeros_like(numerical.corr())\n",
    "mask[np.triu_indices_from(mask)]=True\n",
    "sns.heatmap(corr,\n",
    "            cmap='seismic',\n",
    "            mask=mask,\n",
    "            center=0,\n",
    "            annot=True,\n",
    "            ax=ax)"
   ]
  },
  {
   "cell_type": "markdown",
   "id": "64217fe6",
   "metadata": {},
   "source": [
    "**Observations**:\n",
    "- sqft_above > 0.80\n",
    "- (?) sqft_living15 and sqft_living = 0.76\n",
    "- (?) sqft_lot and sqft_lot15 = 0.72"
   ]
  },
  {
   "cell_type": "markdown",
   "id": "a967a6eb",
   "metadata": {},
   "source": [
    "### Correlation of numerical variables (no price)"
   ]
  },
  {
   "cell_type": "code",
   "execution_count": 46,
   "id": "d8b12a19",
   "metadata": {},
   "outputs": [
    {
     "data": {
      "text/html": [
       "<div>\n",
       "<style scoped>\n",
       "    .dataframe tbody tr th:only-of-type {\n",
       "        vertical-align: middle;\n",
       "    }\n",
       "\n",
       "    .dataframe tbody tr th {\n",
       "        vertical-align: top;\n",
       "    }\n",
       "\n",
       "    .dataframe thead th {\n",
       "        text-align: right;\n",
       "    }\n",
       "</style>\n",
       "<table border=\"1\" class=\"dataframe\">\n",
       "  <thead>\n",
       "    <tr style=\"text-align: right;\">\n",
       "      <th></th>\n",
       "      <th>sqft_living</th>\n",
       "      <th>sqft_lot</th>\n",
       "      <th>sqft_above</th>\n",
       "      <th>sqft_basement</th>\n",
       "      <th>age_build</th>\n",
       "      <th>zipcode</th>\n",
       "      <th>sqft_living15</th>\n",
       "      <th>sqft_lot15</th>\n",
       "    </tr>\n",
       "  </thead>\n",
       "  <tbody>\n",
       "    <tr>\n",
       "      <th>0</th>\n",
       "      <td>1180</td>\n",
       "      <td>5650</td>\n",
       "      <td>1180</td>\n",
       "      <td>0</td>\n",
       "      <td>60</td>\n",
       "      <td>98178</td>\n",
       "      <td>1340</td>\n",
       "      <td>5650</td>\n",
       "    </tr>\n",
       "    <tr>\n",
       "      <th>1</th>\n",
       "      <td>2570</td>\n",
       "      <td>7242</td>\n",
       "      <td>2170</td>\n",
       "      <td>400</td>\n",
       "      <td>64</td>\n",
       "      <td>98125</td>\n",
       "      <td>1690</td>\n",
       "      <td>7639</td>\n",
       "    </tr>\n",
       "    <tr>\n",
       "      <th>2</th>\n",
       "      <td>770</td>\n",
       "      <td>10000</td>\n",
       "      <td>770</td>\n",
       "      <td>0</td>\n",
       "      <td>82</td>\n",
       "      <td>98028</td>\n",
       "      <td>2720</td>\n",
       "      <td>8062</td>\n",
       "    </tr>\n",
       "    <tr>\n",
       "      <th>3</th>\n",
       "      <td>1960</td>\n",
       "      <td>5000</td>\n",
       "      <td>1050</td>\n",
       "      <td>910</td>\n",
       "      <td>50</td>\n",
       "      <td>98136</td>\n",
       "      <td>1360</td>\n",
       "      <td>5000</td>\n",
       "    </tr>\n",
       "    <tr>\n",
       "      <th>4</th>\n",
       "      <td>1680</td>\n",
       "      <td>8080</td>\n",
       "      <td>1680</td>\n",
       "      <td>0</td>\n",
       "      <td>28</td>\n",
       "      <td>98074</td>\n",
       "      <td>1800</td>\n",
       "      <td>7503</td>\n",
       "    </tr>\n",
       "    <tr>\n",
       "      <th>...</th>\n",
       "      <td>...</td>\n",
       "      <td>...</td>\n",
       "      <td>...</td>\n",
       "      <td>...</td>\n",
       "      <td>...</td>\n",
       "      <td>...</td>\n",
       "      <td>...</td>\n",
       "      <td>...</td>\n",
       "    </tr>\n",
       "    <tr>\n",
       "      <th>21591</th>\n",
       "      <td>1530</td>\n",
       "      <td>1131</td>\n",
       "      <td>1530</td>\n",
       "      <td>0</td>\n",
       "      <td>6</td>\n",
       "      <td>98103</td>\n",
       "      <td>1530</td>\n",
       "      <td>1509</td>\n",
       "    </tr>\n",
       "    <tr>\n",
       "      <th>21592</th>\n",
       "      <td>2310</td>\n",
       "      <td>5813</td>\n",
       "      <td>2310</td>\n",
       "      <td>0</td>\n",
       "      <td>1</td>\n",
       "      <td>98146</td>\n",
       "      <td>1830</td>\n",
       "      <td>7200</td>\n",
       "    </tr>\n",
       "    <tr>\n",
       "      <th>21593</th>\n",
       "      <td>1020</td>\n",
       "      <td>1350</td>\n",
       "      <td>1020</td>\n",
       "      <td>0</td>\n",
       "      <td>6</td>\n",
       "      <td>98144</td>\n",
       "      <td>1020</td>\n",
       "      <td>2007</td>\n",
       "    </tr>\n",
       "    <tr>\n",
       "      <th>21594</th>\n",
       "      <td>1600</td>\n",
       "      <td>2388</td>\n",
       "      <td>1600</td>\n",
       "      <td>0</td>\n",
       "      <td>11</td>\n",
       "      <td>98027</td>\n",
       "      <td>1410</td>\n",
       "      <td>1287</td>\n",
       "    </tr>\n",
       "    <tr>\n",
       "      <th>21595</th>\n",
       "      <td>1020</td>\n",
       "      <td>1076</td>\n",
       "      <td>1020</td>\n",
       "      <td>0</td>\n",
       "      <td>7</td>\n",
       "      <td>98144</td>\n",
       "      <td>1020</td>\n",
       "      <td>1357</td>\n",
       "    </tr>\n",
       "  </tbody>\n",
       "</table>\n",
       "<p>21596 rows × 8 columns</p>\n",
       "</div>"
      ],
      "text/plain": [
       "       sqft_living  sqft_lot  sqft_above  sqft_basement  age_build  zipcode  \\\n",
       "0             1180      5650        1180              0         60    98178   \n",
       "1             2570      7242        2170            400         64    98125   \n",
       "2              770     10000         770              0         82    98028   \n",
       "3             1960      5000        1050            910         50    98136   \n",
       "4             1680      8080        1680              0         28    98074   \n",
       "...            ...       ...         ...            ...        ...      ...   \n",
       "21591         1530      1131        1530              0          6    98103   \n",
       "21592         2310      5813        2310              0          1    98146   \n",
       "21593         1020      1350        1020              0          6    98144   \n",
       "21594         1600      2388        1600              0         11    98027   \n",
       "21595         1020      1076        1020              0          7    98144   \n",
       "\n",
       "       sqft_living15  sqft_lot15  \n",
       "0               1340        5650  \n",
       "1               1690        7639  \n",
       "2               2720        8062  \n",
       "3               1360        5000  \n",
       "4               1800        7503  \n",
       "...              ...         ...  \n",
       "21591           1530        1509  \n",
       "21592           1830        7200  \n",
       "21593           1020        2007  \n",
       "21594           1410        1287  \n",
       "21595           1020        1357  \n",
       "\n",
       "[21596 rows x 8 columns]"
      ]
     },
     "execution_count": 46,
     "metadata": {},
     "output_type": "execute_result"
    }
   ],
   "source": [
    "numerical_2 = numerical.iloc[:, :-1]\n",
    "numerical_2"
   ]
  },
  {
   "cell_type": "code",
   "execution_count": 47,
   "id": "bc098be4",
   "metadata": {},
   "outputs": [
    {
     "data": {
      "text/plain": [
       "<AxesSubplot:>"
      ]
     },
     "execution_count": 47,
     "metadata": {},
     "output_type": "execute_result"
    },
    {
     "data": {
      "image/png": "[encoded data removed]",
      "text/plain": [
       "<Figure size 1080x1080 with 2 Axes>"
      ]
     },
     "metadata": {
      "needs_background": "light"
     },
     "output_type": "display_data"
    }
   ],
   "source": [
    "corr_2 = numerical_2.corr()\n",
    "fig, ax = plt.subplots(figsize=(15,15))\n",
    "mask = np.zeros_like(numerical_2.corr())\n",
    "mask[np.triu_indices_from(mask)]=True\n",
    "sns.heatmap(corr_2,\n",
    "            cmap='seismic',\n",
    "            mask=mask,\n",
    "            center=0,\n",
    "            annot=True,\n",
    "            ax=ax)"
   ]
  },
  {
   "cell_type": "markdown",
   "id": "85dcb4cb",
   "metadata": {},
   "source": [
    "### Highly Correlated Columns"
   ]
  },
  {
   "cell_type": "code",
   "execution_count": 48,
   "id": "37b137af",
   "metadata": {},
   "outputs": [
    {
     "data": {
      "text/plain": [
       "['sqft_above']"
      ]
     },
     "execution_count": 48,
     "metadata": {},
     "output_type": "execute_result"
    }
   ],
   "source": [
    "corr_matrix = numerical_2.corr().abs()\n",
    "upper_triangle = corr_matrix.where(np.triu(np.ones(corr_matrix.shape),k=1).astype(bool))\n",
    "[column for column in upper_triangle.columns if any(upper_triangle[column] > 0.80)]"
   ]
  },
  {
   "cell_type": "markdown",
   "id": "2be77870",
   "metadata": {},
   "source": [
    "### Drop the highly correlated variables  "
   ]
  },
  {
   "cell_type": "markdown",
   "id": "0d45ed88",
   "metadata": {},
   "source": [
    " sqft_above and sqft_living > 0.80"
   ]
  },
  {
   "cell_type": "code",
   "execution_count": 49,
   "id": "7371fd93",
   "metadata": {},
   "outputs": [
    {
     "name": "stderr",
     "output_type": "stream",
     "text": [
      "/opt/anaconda3/envs/DA_ENV/lib/python3.9/site-packages/pandas/core/frame.py:4906: SettingWithCopyWarning: \n",
      "A value is trying to be set on a copy of a slice from a DataFrame\n",
      "\n",
      "See the caveats in the documentation: https://pandas.pydata.org/pandas-docs/stable/user_guide/indexing.html#returning-a-view-versus-a-copy\n",
      "  return super().drop(\n"
     ]
    }
   ],
   "source": [
    "numerical_2.drop(['sqft_above'],axis=1,inplace=True)"
   ]
  },
  {
   "cell_type": "code",
   "execution_count": 50,
   "id": "e378b152",
   "metadata": {},
   "outputs": [
    {
     "data": {
      "text/html": [
       "<div>\n",
       "<style scoped>\n",
       "    .dataframe tbody tr th:only-of-type {\n",
       "        vertical-align: middle;\n",
       "    }\n",
       "\n",
       "    .dataframe tbody tr th {\n",
       "        vertical-align: top;\n",
       "    }\n",
       "\n",
       "    .dataframe thead th {\n",
       "        text-align: right;\n",
       "    }\n",
       "</style>\n",
       "<table border=\"1\" class=\"dataframe\">\n",
       "  <thead>\n",
       "    <tr style=\"text-align: right;\">\n",
       "      <th></th>\n",
       "      <th>sqft_living</th>\n",
       "      <th>sqft_lot</th>\n",
       "      <th>sqft_basement</th>\n",
       "      <th>age_build</th>\n",
       "      <th>zipcode</th>\n",
       "      <th>sqft_living15</th>\n",
       "      <th>sqft_lot15</th>\n",
       "    </tr>\n",
       "  </thead>\n",
       "  <tbody>\n",
       "    <tr>\n",
       "      <th>0</th>\n",
       "      <td>1180</td>\n",
       "      <td>5650</td>\n",
       "      <td>0</td>\n",
       "      <td>60</td>\n",
       "      <td>98178</td>\n",
       "      <td>1340</td>\n",
       "      <td>5650</td>\n",
       "    </tr>\n",
       "    <tr>\n",
       "      <th>1</th>\n",
       "      <td>2570</td>\n",
       "      <td>7242</td>\n",
       "      <td>400</td>\n",
       "      <td>64</td>\n",
       "      <td>98125</td>\n",
       "      <td>1690</td>\n",
       "      <td>7639</td>\n",
       "    </tr>\n",
       "    <tr>\n",
       "      <th>2</th>\n",
       "      <td>770</td>\n",
       "      <td>10000</td>\n",
       "      <td>0</td>\n",
       "      <td>82</td>\n",
       "      <td>98028</td>\n",
       "      <td>2720</td>\n",
       "      <td>8062</td>\n",
       "    </tr>\n",
       "    <tr>\n",
       "      <th>3</th>\n",
       "      <td>1960</td>\n",
       "      <td>5000</td>\n",
       "      <td>910</td>\n",
       "      <td>50</td>\n",
       "      <td>98136</td>\n",
       "      <td>1360</td>\n",
       "      <td>5000</td>\n",
       "    </tr>\n",
       "    <tr>\n",
       "      <th>4</th>\n",
       "      <td>1680</td>\n",
       "      <td>8080</td>\n",
       "      <td>0</td>\n",
       "      <td>28</td>\n",
       "      <td>98074</td>\n",
       "      <td>1800</td>\n",
       "      <td>7503</td>\n",
       "    </tr>\n",
       "    <tr>\n",
       "      <th>...</th>\n",
       "      <td>...</td>\n",
       "      <td>...</td>\n",
       "      <td>...</td>\n",
       "      <td>...</td>\n",
       "      <td>...</td>\n",
       "      <td>...</td>\n",
       "      <td>...</td>\n",
       "    </tr>\n",
       "    <tr>\n",
       "      <th>21591</th>\n",
       "      <td>1530</td>\n",
       "      <td>1131</td>\n",
       "      <td>0</td>\n",
       "      <td>6</td>\n",
       "      <td>98103</td>\n",
       "      <td>1530</td>\n",
       "      <td>1509</td>\n",
       "    </tr>\n",
       "    <tr>\n",
       "      <th>21592</th>\n",
       "      <td>2310</td>\n",
       "      <td>5813</td>\n",
       "      <td>0</td>\n",
       "      <td>1</td>\n",
       "      <td>98146</td>\n",
       "      <td>1830</td>\n",
       "      <td>7200</td>\n",
       "    </tr>\n",
       "    <tr>\n",
       "      <th>21593</th>\n",
       "      <td>1020</td>\n",
       "      <td>1350</td>\n",
       "      <td>0</td>\n",
       "      <td>6</td>\n",
       "      <td>98144</td>\n",
       "      <td>1020</td>\n",
       "      <td>2007</td>\n",
       "    </tr>\n",
       "    <tr>\n",
       "      <th>21594</th>\n",
       "      <td>1600</td>\n",
       "      <td>2388</td>\n",
       "      <td>0</td>\n",
       "      <td>11</td>\n",
       "      <td>98027</td>\n",
       "      <td>1410</td>\n",
       "      <td>1287</td>\n",
       "    </tr>\n",
       "    <tr>\n",
       "      <th>21595</th>\n",
       "      <td>1020</td>\n",
       "      <td>1076</td>\n",
       "      <td>0</td>\n",
       "      <td>7</td>\n",
       "      <td>98144</td>\n",
       "      <td>1020</td>\n",
       "      <td>1357</td>\n",
       "    </tr>\n",
       "  </tbody>\n",
       "</table>\n",
       "<p>21596 rows × 7 columns</p>\n",
       "</div>"
      ],
      "text/plain": [
       "       sqft_living  sqft_lot  sqft_basement  age_build  zipcode  \\\n",
       "0             1180      5650              0         60    98178   \n",
       "1             2570      7242            400         64    98125   \n",
       "2              770     10000              0         82    98028   \n",
       "3             1960      5000            910         50    98136   \n",
       "4             1680      8080              0         28    98074   \n",
       "...            ...       ...            ...        ...      ...   \n",
       "21591         1530      1131              0          6    98103   \n",
       "21592         2310      5813              0          1    98146   \n",
       "21593         1020      1350              0          6    98144   \n",
       "21594         1600      2388              0         11    98027   \n",
       "21595         1020      1076              0          7    98144   \n",
       "\n",
       "       sqft_living15  sqft_lot15  \n",
       "0               1340        5650  \n",
       "1               1690        7639  \n",
       "2               2720        8062  \n",
       "3               1360        5000  \n",
       "4               1800        7503  \n",
       "...              ...         ...  \n",
       "21591           1530        1509  \n",
       "21592           1830        7200  \n",
       "21593           1020        2007  \n",
       "21594           1410        1287  \n",
       "21595           1020        1357  \n",
       "\n",
       "[21596 rows x 7 columns]"
      ]
     },
     "execution_count": 50,
     "metadata": {},
     "output_type": "execute_result"
    }
   ],
   "source": [
    "numerical_2"
   ]
  },
  {
   "cell_type": "markdown",
   "id": "3f6c5856",
   "metadata": {},
   "source": [
    "### Correlation of categorical variables"
   ]
  },
  {
   "cell_type": "code",
   "execution_count": 51,
   "id": "0d5807fa",
   "metadata": {},
   "outputs": [
    {
     "data": {
      "text/plain": [
       "<AxesSubplot:xlabel='waterfront', ylabel='price'>"
      ]
     },
     "execution_count": 51,
     "metadata": {},
     "output_type": "execute_result"
    },
    {
     "data": {
      "image/png": "[encoded data removed]",
      "text/plain": [
       "<Figure size 432x288 with 1 Axes>"
      ]
     },
     "metadata": {
      "needs_background": "light"
     },
     "output_type": "display_data"
    }
   ],
   "source": [
    "sns.barplot(x = df['waterfront'],y = df['price'])"
   ]
  },
  {
   "cell_type": "code",
   "execution_count": 52,
   "id": "e45e1efd",
   "metadata": {},
   "outputs": [
    {
     "data": {
      "text/plain": [
       "<AxesSubplot:xlabel='view', ylabel='price'>"
      ]
     },
     "execution_count": 52,
     "metadata": {},
     "output_type": "execute_result"
    },
    {
     "data": {
      "image/png": "[encoded data removed]",
      "text/plain": [
       "<Figure size 432x288 with 1 Axes>"
      ]
     },
     "metadata": {
      "needs_background": "light"
     },
     "output_type": "display_data"
    }
   ],
   "source": [
    "sns.barplot(x = df['view'],y = df['price'])"
   ]
  },
  {
   "cell_type": "code",
   "execution_count": 53,
   "id": "b25b0684",
   "metadata": {},
   "outputs": [
    {
     "data": {
      "text/plain": [
       "<AxesSubplot:xlabel='condition', ylabel='price'>"
      ]
     },
     "execution_count": 53,
     "metadata": {},
     "output_type": "execute_result"
    },
    {
     "data": {
      "image/png": "[encoded data removed]",
      "text/plain": [
       "<Figure size 432x288 with 1 Axes>"
      ]
     },
     "metadata": {
      "needs_background": "light"
     },
     "output_type": "display_data"
    }
   ],
   "source": [
    "sns.barplot(x = df['condition'],y = df['price'])"
   ]
  },
  {
   "cell_type": "code",
   "execution_count": 54,
   "id": "35680c34",
   "metadata": {},
   "outputs": [
    {
     "data": {
      "text/plain": [
       "<AxesSubplot:xlabel='grade', ylabel='price'>"
      ]
     },
     "execution_count": 54,
     "metadata": {},
     "output_type": "execute_result"
    },
    {
     "data": {
      "image/png": "[encoded data removed]",
      "text/plain": [
       "<Figure size 432x288 with 1 Axes>"
      ]
     },
     "metadata": {
      "needs_background": "light"
     },
     "output_type": "display_data"
    }
   ],
   "source": [
    "sns.barplot(x = df['grade'],y = df['price'])"
   ]
  },
  {
   "cell_type": "code",
   "execution_count": 55,
   "id": "8aae382f",
   "metadata": {},
   "outputs": [
    {
     "data": {
      "text/plain": [
       "<AxesSubplot:xlabel='bedrooms', ylabel='price'>"
      ]
     },
     "execution_count": 55,
     "metadata": {},
     "output_type": "execute_result"
    },
    {
     "data": {
      "image/png": "[encoded data removed]",
      "text/plain": [
       "<Figure size 432x288 with 1 Axes>"
      ]
     },
     "metadata": {
      "needs_background": "light"
     },
     "output_type": "display_data"
    }
   ],
   "source": [
    "sns.barplot(x = df['bedrooms'],y = df['price'])"
   ]
  },
  {
   "cell_type": "code",
   "execution_count": 56,
   "id": "2a4b3c93",
   "metadata": {},
   "outputs": [
    {
     "data": {
      "image/png": "[encoded data removed]",
      "text/plain": [
       "<Figure size 3600x2160 with 1 Axes>"
      ]
     },
     "metadata": {
      "needs_background": "light"
     },
     "output_type": "display_data"
    }
   ],
   "source": [
    "sns.barplot(x = df['bathrooms'],y = df['price'])\n",
    "plt.gcf().set_size_inches(50,30)"
   ]
  },
  {
   "cell_type": "code",
   "execution_count": 57,
   "id": "68df0454",
   "metadata": {},
   "outputs": [
    {
     "data": {
      "image/png": "[encoded data removed]",
      "text/plain": [
       "<Figure size 3600x2160 with 1 Axes>"
      ]
     },
     "metadata": {
      "needs_background": "light"
     },
     "output_type": "display_data"
    }
   ],
   "source": [
    "sns.barplot(x = df['yr_renovated'],y = df['price'])\n",
    "plt.gcf().set_size_inches(50,30)"
   ]
  },
  {
   "cell_type": "code",
   "execution_count": 58,
   "id": "54d6d88e",
   "metadata": {},
   "outputs": [
    {
     "data": {
      "image/png": "[encoded data removed]",
      "text/plain": [
       "<Figure size 3600x2160 with 1 Axes>"
      ]
     },
     "metadata": {
      "needs_background": "light"
     },
     "output_type": "display_data"
    }
   ],
   "source": [
    "sns.barplot(x = df['age_build'],y = df['price'])\n",
    "plt.gcf().set_size_inches(50,30)"
   ]
  },
  {
   "cell_type": "markdown",
   "id": "dd516edc",
   "metadata": {},
   "source": [
    "#### Bedrooms"
   ]
  },
  {
   "cell_type": "markdown",
   "id": "472355d6",
   "metadata": {},
   "source": [
    "instead of losing data because of outliers, we set the no bedrooms >8 == 9"
   ]
  },
  {
   "cell_type": "code",
   "execution_count": 59,
   "id": "e1694225",
   "metadata": {},
   "outputs": [
    {
     "data": {
      "text/plain": [
       "array([2., 1., 3., 4., 0., 5., 6., 7., 8., 9.])"
      ]
     },
     "execution_count": 59,
     "metadata": {},
     "output_type": "execute_result"
    }
   ],
   "source": [
    "categorical['bedrooms'] = categorical['bedrooms'].replace([11,10],9)\n",
    "categorical['bedrooms'].unique()"
   ]
  },
  {
   "cell_type": "code",
   "execution_count": 60,
   "id": "2676baf8",
   "metadata": {},
   "outputs": [
    {
     "data": {
      "text/plain": [
       "<AxesSubplot:xlabel='bedrooms', ylabel='price'>"
      ]
     },
     "execution_count": 60,
     "metadata": {},
     "output_type": "execute_result"
    },
    {
     "data": {
      "image/png": "[encoded data removed]",
      "text/plain": [
       "<Figure size 432x288 with 1 Axes>"
      ]
     },
     "metadata": {
      "needs_background": "light"
     },
     "output_type": "display_data"
    }
   ],
   "source": [
    "sns.barplot(x = categorical['bedrooms'],y = df['price'])"
   ]
  },
  {
   "cell_type": "code",
   "execution_count": null,
   "id": "da2061de",
   "metadata": {},
   "outputs": [],
   "source": []
  },
  {
   "cell_type": "markdown",
   "id": "8a443704",
   "metadata": {},
   "source": [
    "### Normalize numerical"
   ]
  },
  {
   "cell_type": "markdown",
   "id": "6d5529d1",
   "metadata": {},
   "source": [
    "sqft_living"
   ]
  },
  {
   "cell_type": "code",
   "execution_count": 61,
   "id": "b25b2524",
   "metadata": {},
   "outputs": [
    {
     "name": "stderr",
     "output_type": "stream",
     "text": [
      "/var/folders/x7/r2pcnk8558z12w_v99lrx7z00000gn/T/ipykernel_90964/1664979473.py:2: SettingWithCopyWarning: \n",
      "A value is trying to be set on a copy of a slice from a DataFrame.\n",
      "Try using .loc[row_indexer,col_indexer] = value instead\n",
      "\n",
      "See the caveats in the documentation: https://pandas.pydata.org/pandas-docs/stable/user_guide/indexing.html#returning-a-view-versus-a-copy\n",
      "  numerical_2['sqft_living'] = qt.fit_transform(numerical_2['sqft_living'].to_numpy().reshape(-1,1))\n"
     ]
    },
    {
     "data": {
      "text/plain": [
       "<seaborn.axisgrid.FacetGrid at 0x7f8bde80b5e0>"
      ]
     },
     "execution_count": 61,
     "metadata": {},
     "output_type": "execute_result"
    },
    {
     "data": {
      "image/png": "[encoded data removed]",
      "text/plain": [
       "<Figure size 360x360 with 1 Axes>"
      ]
     },
     "metadata": {
      "needs_background": "light"
     },
     "output_type": "display_data"
    }
   ],
   "source": [
    "qt = QuantileTransformer(output_distribution = 'normal')\n",
    "numerical_2['sqft_living'] = qt.fit_transform(numerical_2['sqft_living'].to_numpy().reshape(-1,1))\n",
    "sns.displot(numerical_2['sqft_living'])"
   ]
  },
  {
   "cell_type": "markdown",
   "id": "7a31722f",
   "metadata": {},
   "source": [
    "sqft_living15"
   ]
  },
  {
   "cell_type": "code",
   "execution_count": 62,
   "id": "b95a7840",
   "metadata": {},
   "outputs": [
    {
     "name": "stderr",
     "output_type": "stream",
     "text": [
      "/var/folders/x7/r2pcnk8558z12w_v99lrx7z00000gn/T/ipykernel_90964/1975453770.py:2: SettingWithCopyWarning: \n",
      "A value is trying to be set on a copy of a slice from a DataFrame.\n",
      "Try using .loc[row_indexer,col_indexer] = value instead\n",
      "\n",
      "See the caveats in the documentation: https://pandas.pydata.org/pandas-docs/stable/user_guide/indexing.html#returning-a-view-versus-a-copy\n",
      "  numerical_2['sqft_living15'] = qt.fit_transform(numerical_2['sqft_living15'].to_numpy().reshape(-1,1))\n"
     ]
    },
    {
     "data": {
      "text/plain": [
       "<seaborn.axisgrid.FacetGrid at 0x7f8bde173c70>"
      ]
     },
     "execution_count": 62,
     "metadata": {},
     "output_type": "execute_result"
    },
    {
     "data": {
      "image/png": "[encoded data removed]",
      "text/plain": [
       "<Figure size 360x360 with 1 Axes>"
      ]
     },
     "metadata": {
      "needs_background": "light"
     },
     "output_type": "display_data"
    }
   ],
   "source": [
    "qt = QuantileTransformer(output_distribution = 'normal')\n",
    "numerical_2['sqft_living15'] = qt.fit_transform(numerical_2['sqft_living15'].to_numpy().reshape(-1,1))\n",
    "sns.displot(numerical_2['sqft_living15'])"
   ]
  },
  {
   "cell_type": "markdown",
   "id": "8c1ae2ec",
   "metadata": {},
   "source": [
    "sqft_lot"
   ]
  },
  {
   "cell_type": "code",
   "execution_count": 63,
   "id": "488323d3",
   "metadata": {},
   "outputs": [
    {
     "name": "stderr",
     "output_type": "stream",
     "text": [
      "/var/folders/x7/r2pcnk8558z12w_v99lrx7z00000gn/T/ipykernel_90964/2662698753.py:2: SettingWithCopyWarning: \n",
      "A value is trying to be set on a copy of a slice from a DataFrame.\n",
      "Try using .loc[row_indexer,col_indexer] = value instead\n",
      "\n",
      "See the caveats in the documentation: https://pandas.pydata.org/pandas-docs/stable/user_guide/indexing.html#returning-a-view-versus-a-copy\n",
      "  numerical_2['sqft_lot'] = qt.fit_transform(numerical_2['sqft_lot'].to_numpy().reshape(-1,1))\n"
     ]
    },
    {
     "data": {
      "text/plain": [
       "<seaborn.axisgrid.FacetGrid at 0x7f8bde719fa0>"
      ]
     },
     "execution_count": 63,
     "metadata": {},
     "output_type": "execute_result"
    },
    {
     "data": {
      "image/png": "[encoded data removed]",
      "text/plain": [
       "<Figure size 360x360 with 1 Axes>"
      ]
     },
     "metadata": {
      "needs_background": "light"
     },
     "output_type": "display_data"
    }
   ],
   "source": [
    "qt = QuantileTransformer(output_distribution = 'normal')\n",
    "numerical_2['sqft_lot'] = qt.fit_transform(numerical_2['sqft_lot'].to_numpy().reshape(-1,1))\n",
    "sns.displot(numerical_2['sqft_lot'])"
   ]
  },
  {
   "cell_type": "markdown",
   "id": "5600efbc",
   "metadata": {},
   "source": [
    "sqft_lot15"
   ]
  },
  {
   "cell_type": "code",
   "execution_count": 64,
   "id": "09f61d41",
   "metadata": {},
   "outputs": [
    {
     "name": "stderr",
     "output_type": "stream",
     "text": [
      "/var/folders/x7/r2pcnk8558z12w_v99lrx7z00000gn/T/ipykernel_90964/4243214181.py:2: SettingWithCopyWarning: \n",
      "A value is trying to be set on a copy of a slice from a DataFrame.\n",
      "Try using .loc[row_indexer,col_indexer] = value instead\n",
      "\n",
      "See the caveats in the documentation: https://pandas.pydata.org/pandas-docs/stable/user_guide/indexing.html#returning-a-view-versus-a-copy\n",
      "  numerical_2['sqft_lot15'] = qt.fit_transform(numerical_2['sqft_lot15'].to_numpy().reshape(-1,1))\n"
     ]
    },
    {
     "data": {
      "text/plain": [
       "<seaborn.axisgrid.FacetGrid at 0x7f8bc4ce0160>"
      ]
     },
     "execution_count": 64,
     "metadata": {},
     "output_type": "execute_result"
    },
    {
     "data": {
      "image/png": "[encoded data removed]",
      "text/plain": [
       "<Figure size 360x360 with 1 Axes>"
      ]
     },
     "metadata": {
      "needs_background": "light"
     },
     "output_type": "display_data"
    }
   ],
   "source": [
    "qt = QuantileTransformer(output_distribution = 'normal')\n",
    "numerical_2['sqft_lot15'] = qt.fit_transform(numerical_2['sqft_lot15'].to_numpy().reshape(-1,1))\n",
    "sns.displot(numerical_2['sqft_lot15'])"
   ]
  },
  {
   "cell_type": "markdown",
   "id": "58a207db",
   "metadata": {},
   "source": [
    "sqft_basement"
   ]
  },
  {
   "cell_type": "code",
   "execution_count": 65,
   "id": "90daf7e1",
   "metadata": {},
   "outputs": [
    {
     "name": "stderr",
     "output_type": "stream",
     "text": [
      "/var/folders/x7/r2pcnk8558z12w_v99lrx7z00000gn/T/ipykernel_90964/1424423749.py:2: SettingWithCopyWarning: \n",
      "A value is trying to be set on a copy of a slice from a DataFrame.\n",
      "Try using .loc[row_indexer,col_indexer] = value instead\n",
      "\n",
      "See the caveats in the documentation: https://pandas.pydata.org/pandas-docs/stable/user_guide/indexing.html#returning-a-view-versus-a-copy\n",
      "  numerical_2['sqft_basement'] = qt.fit_transform(numerical_2['sqft_basement'].to_numpy().reshape(-1,1))\n"
     ]
    },
    {
     "data": {
      "text/plain": [
       "<seaborn.axisgrid.FacetGrid at 0x7f8bc485d550>"
      ]
     },
     "execution_count": 65,
     "metadata": {},
     "output_type": "execute_result"
    },
    {
     "data": {
      "image/png": "[encoded data removed]",
      "text/plain": [
       "<Figure size 360x360 with 1 Axes>"
      ]
     },
     "metadata": {
      "needs_background": "light"
     },
     "output_type": "display_data"
    }
   ],
   "source": [
    "qt = QuantileTransformer(output_distribution = 'normal')\n",
    "numerical_2['sqft_basement'] = qt.fit_transform(numerical_2['sqft_basement'].to_numpy().reshape(-1,1))\n",
    "sns.displot(numerical_2['sqft_basement'])"
   ]
  },
  {
   "cell_type": "code",
   "execution_count": 66,
   "id": "e6bb0acd",
   "metadata": {},
   "outputs": [
    {
     "name": "stderr",
     "output_type": "stream",
     "text": [
      "/var/folders/x7/r2pcnk8558z12w_v99lrx7z00000gn/T/ipykernel_90964/244092561.py:2: SettingWithCopyWarning: \n",
      "A value is trying to be set on a copy of a slice from a DataFrame.\n",
      "Try using .loc[row_indexer,col_indexer] = value instead\n",
      "\n",
      "See the caveats in the documentation: https://pandas.pydata.org/pandas-docs/stable/user_guide/indexing.html#returning-a-view-versus-a-copy\n",
      "  numerical_2['age_build'] = qt.fit_transform(numerical_2['age_build'].to_numpy().reshape(-1,1))\n"
     ]
    },
    {
     "data": {
      "text/plain": [
       "<seaborn.axisgrid.FacetGrid at 0x7f8bc4de1d60>"
      ]
     },
     "execution_count": 66,
     "metadata": {},
     "output_type": "execute_result"
    },
    {
     "data": {
      "image/png": "[encoded data removed]",
      "text/plain": [
       "<Figure size 360x360 with 1 Axes>"
      ]
     },
     "metadata": {
      "needs_background": "light"
     },
     "output_type": "display_data"
    }
   ],
   "source": [
    "qt = QuantileTransformer(output_distribution = 'normal')\n",
    "numerical_2['age_build'] = qt.fit_transform(numerical_2['age_build'].to_numpy().reshape(-1,1))\n",
    "sns.displot(numerical_2['age_build'])"
   ]
  },
  {
   "cell_type": "code",
   "execution_count": 67,
   "id": "26fba5b7",
   "metadata": {},
   "outputs": [
    {
     "data": {
      "text/html": [
       "<div>\n",
       "<style scoped>\n",
       "    .dataframe tbody tr th:only-of-type {\n",
       "        vertical-align: middle;\n",
       "    }\n",
       "\n",
       "    .dataframe tbody tr th {\n",
       "        vertical-align: top;\n",
       "    }\n",
       "\n",
       "    .dataframe thead th {\n",
       "        text-align: right;\n",
       "    }\n",
       "</style>\n",
       "<table border=\"1\" class=\"dataframe\">\n",
       "  <thead>\n",
       "    <tr style=\"text-align: right;\">\n",
       "      <th></th>\n",
       "      <th>sqft_living</th>\n",
       "      <th>sqft_lot</th>\n",
       "      <th>sqft_basement</th>\n",
       "      <th>age_build</th>\n",
       "      <th>zipcode</th>\n",
       "      <th>sqft_living15</th>\n",
       "      <th>sqft_lot15</th>\n",
       "    </tr>\n",
       "  </thead>\n",
       "  <tbody>\n",
       "    <tr>\n",
       "      <th>0</th>\n",
       "      <td>-1.1094</td>\n",
       "      <td>-0.5178</td>\n",
       "      <td>-5.1993</td>\n",
       "      <td>0.5496</td>\n",
       "      <td>98178</td>\n",
       "      <td>-1.0379</td>\n",
       "      <td>-0.5181</td>\n",
       "    </tr>\n",
       "    <tr>\n",
       "      <th>1</th>\n",
       "      <td>0.6943</td>\n",
       "      <td>-0.1155</td>\n",
       "      <td>0.4921</td>\n",
       "      <td>0.6895</td>\n",
       "      <td>98125</td>\n",
       "      <td>-0.2471</td>\n",
       "      <td>0.0075</td>\n",
       "    </tr>\n",
       "    <tr>\n",
       "      <th>2</th>\n",
       "      <td>-2.1317</td>\n",
       "      <td>0.5628</td>\n",
       "      <td>-5.1993</td>\n",
       "      <td>1.1187</td>\n",
       "      <td>98028</td>\n",
       "      <td>1.0641</td>\n",
       "      <td>0.1541</td>\n",
       "    </tr>\n",
       "    <tr>\n",
       "      <th>3</th>\n",
       "      <td>0.0515</td>\n",
       "      <td>-0.7185</td>\n",
       "      <td>1.1895</td>\n",
       "      <td>0.2471</td>\n",
       "      <td>98136</td>\n",
       "      <td>-0.9856</td>\n",
       "      <td>-0.7447</td>\n",
       "    </tr>\n",
       "    <tr>\n",
       "      <th>4</th>\n",
       "      <td>-0.2940</td>\n",
       "      <td>0.1280</td>\n",
       "      <td>-5.1993</td>\n",
       "      <td>-0.3682</td>\n",
       "      <td>98074</td>\n",
       "      <td>-0.0628</td>\n",
       "      <td>-0.0404</td>\n",
       "    </tr>\n",
       "    <tr>\n",
       "      <th>...</th>\n",
       "      <td>...</td>\n",
       "      <td>...</td>\n",
       "      <td>...</td>\n",
       "      <td>...</td>\n",
       "      <td>...</td>\n",
       "      <td>...</td>\n",
       "      <td>...</td>\n",
       "    </tr>\n",
       "    <tr>\n",
       "      <th>21591</th>\n",
       "      <td>-0.5092</td>\n",
       "      <td>-2.1322</td>\n",
       "      <td>-5.1993</td>\n",
       "      <td>-1.5296</td>\n",
       "      <td>98103</td>\n",
       "      <td>-0.5731</td>\n",
       "      <td>-1.8316</td>\n",
       "    </tr>\n",
       "    <tr>\n",
       "      <th>21592</th>\n",
       "      <td>0.4362</td>\n",
       "      <td>-0.4751</td>\n",
       "      <td>-5.1993</td>\n",
       "      <td>-2.1831</td>\n",
       "      <td>98146</td>\n",
       "      <td>-0.0125</td>\n",
       "      <td>-0.1664</td>\n",
       "    </tr>\n",
       "    <tr>\n",
       "      <th>21593</th>\n",
       "      <td>-1.4285</td>\n",
       "      <td>-1.8373</td>\n",
       "      <td>-5.1993</td>\n",
       "      <td>-1.5296</td>\n",
       "      <td>98144</td>\n",
       "      <td>-2.0431</td>\n",
       "      <td>-1.6441</td>\n",
       "    </tr>\n",
       "    <tr>\n",
       "      <th>21594</th>\n",
       "      <td>-0.4061</td>\n",
       "      <td>-1.5155</td>\n",
       "      <td>-5.1993</td>\n",
       "      <td>-1.0083</td>\n",
       "      <td>98027</td>\n",
       "      <td>-0.8625</td>\n",
       "      <td>-2.0680</td>\n",
       "    </tr>\n",
       "    <tr>\n",
       "      <th>21595</th>\n",
       "      <td>-1.4285</td>\n",
       "      <td>-2.2208</td>\n",
       "      <td>-5.1993</td>\n",
       "      <td>-1.4285</td>\n",
       "      <td>98144</td>\n",
       "      <td>-2.0431</td>\n",
       "      <td>-1.9548</td>\n",
       "    </tr>\n",
       "  </tbody>\n",
       "</table>\n",
       "<p>21596 rows × 7 columns</p>\n",
       "</div>"
      ],
      "text/plain": [
       "       sqft_living  sqft_lot  sqft_basement  age_build  zipcode  \\\n",
       "0          -1.1094   -0.5178        -5.1993     0.5496    98178   \n",
       "1           0.6943   -0.1155         0.4921     0.6895    98125   \n",
       "2          -2.1317    0.5628        -5.1993     1.1187    98028   \n",
       "3           0.0515   -0.7185         1.1895     0.2471    98136   \n",
       "4          -0.2940    0.1280        -5.1993    -0.3682    98074   \n",
       "...            ...       ...            ...        ...      ...   \n",
       "21591      -0.5092   -2.1322        -5.1993    -1.5296    98103   \n",
       "21592       0.4362   -0.4751        -5.1993    -2.1831    98146   \n",
       "21593      -1.4285   -1.8373        -5.1993    -1.5296    98144   \n",
       "21594      -0.4061   -1.5155        -5.1993    -1.0083    98027   \n",
       "21595      -1.4285   -2.2208        -5.1993    -1.4285    98144   \n",
       "\n",
       "       sqft_living15  sqft_lot15  \n",
       "0            -1.0379     -0.5181  \n",
       "1            -0.2471      0.0075  \n",
       "2             1.0641      0.1541  \n",
       "3            -0.9856     -0.7447  \n",
       "4            -0.0628     -0.0404  \n",
       "...              ...         ...  \n",
       "21591        -0.5731     -1.8316  \n",
       "21592        -0.0125     -0.1664  \n",
       "21593        -2.0431     -1.6441  \n",
       "21594        -0.8625     -2.0680  \n",
       "21595        -2.0431     -1.9548  \n",
       "\n",
       "[21596 rows x 7 columns]"
      ]
     },
     "execution_count": 67,
     "metadata": {},
     "output_type": "execute_result"
    }
   ],
   "source": [
    "numerical_2"
   ]
  },
  {
   "cell_type": "markdown",
   "id": "621018de",
   "metadata": {},
   "source": [
    "## Trial 1: only numerical varaibles"
   ]
  },
  {
   "cell_type": "markdown",
   "id": "008158a6",
   "metadata": {},
   "source": [
    "#### XY Split"
   ]
  },
  {
   "cell_type": "code",
   "execution_count": 68,
   "id": "ed3ae69a",
   "metadata": {},
   "outputs": [
    {
     "data": {
      "text/plain": [
       "0        221900\n",
       "1        538000\n",
       "2        180000\n",
       "3        604000\n",
       "4        510000\n",
       "          ...  \n",
       "21591    360000\n",
       "21592    400000\n",
       "21593    402101\n",
       "21594    400000\n",
       "21595    325000\n",
       "Name: price, Length: 21596, dtype: int64"
      ]
     },
     "execution_count": 68,
     "metadata": {},
     "output_type": "execute_result"
    }
   ],
   "source": [
    "X=numerical_2\n",
    "X\n",
    "y=numerical.price\n",
    "y"
   ]
  },
  {
   "cell_type": "code",
   "execution_count": 69,
   "id": "35688df6",
   "metadata": {},
   "outputs": [
    {
     "data": {
      "text/html": [
       "<div>\n",
       "<style scoped>\n",
       "    .dataframe tbody tr th:only-of-type {\n",
       "        vertical-align: middle;\n",
       "    }\n",
       "\n",
       "    .dataframe tbody tr th {\n",
       "        vertical-align: top;\n",
       "    }\n",
       "\n",
       "    .dataframe thead th {\n",
       "        text-align: right;\n",
       "    }\n",
       "</style>\n",
       "<table border=\"1\" class=\"dataframe\">\n",
       "  <thead>\n",
       "    <tr style=\"text-align: right;\">\n",
       "      <th></th>\n",
       "      <th>sqft_living</th>\n",
       "      <th>sqft_lot</th>\n",
       "      <th>sqft_basement</th>\n",
       "      <th>age_build</th>\n",
       "      <th>zipcode</th>\n",
       "      <th>sqft_living15</th>\n",
       "      <th>sqft_lot15</th>\n",
       "    </tr>\n",
       "  </thead>\n",
       "  <tbody>\n",
       "    <tr>\n",
       "      <th>0</th>\n",
       "      <td>-1.1094</td>\n",
       "      <td>-0.5178</td>\n",
       "      <td>-5.1993</td>\n",
       "      <td>0.5496</td>\n",
       "      <td>98178</td>\n",
       "      <td>-1.0379</td>\n",
       "      <td>-0.5181</td>\n",
       "    </tr>\n",
       "    <tr>\n",
       "      <th>1</th>\n",
       "      <td>0.6943</td>\n",
       "      <td>-0.1155</td>\n",
       "      <td>0.4921</td>\n",
       "      <td>0.6895</td>\n",
       "      <td>98125</td>\n",
       "      <td>-0.2471</td>\n",
       "      <td>0.0075</td>\n",
       "    </tr>\n",
       "    <tr>\n",
       "      <th>2</th>\n",
       "      <td>-2.1317</td>\n",
       "      <td>0.5628</td>\n",
       "      <td>-5.1993</td>\n",
       "      <td>1.1187</td>\n",
       "      <td>98028</td>\n",
       "      <td>1.0641</td>\n",
       "      <td>0.1541</td>\n",
       "    </tr>\n",
       "    <tr>\n",
       "      <th>3</th>\n",
       "      <td>0.0515</td>\n",
       "      <td>-0.7185</td>\n",
       "      <td>1.1895</td>\n",
       "      <td>0.2471</td>\n",
       "      <td>98136</td>\n",
       "      <td>-0.9856</td>\n",
       "      <td>-0.7447</td>\n",
       "    </tr>\n",
       "    <tr>\n",
       "      <th>4</th>\n",
       "      <td>-0.2940</td>\n",
       "      <td>0.1280</td>\n",
       "      <td>-5.1993</td>\n",
       "      <td>-0.3682</td>\n",
       "      <td>98074</td>\n",
       "      <td>-0.0628</td>\n",
       "      <td>-0.0404</td>\n",
       "    </tr>\n",
       "    <tr>\n",
       "      <th>...</th>\n",
       "      <td>...</td>\n",
       "      <td>...</td>\n",
       "      <td>...</td>\n",
       "      <td>...</td>\n",
       "      <td>...</td>\n",
       "      <td>...</td>\n",
       "      <td>...</td>\n",
       "    </tr>\n",
       "    <tr>\n",
       "      <th>21591</th>\n",
       "      <td>-0.5092</td>\n",
       "      <td>-2.1322</td>\n",
       "      <td>-5.1993</td>\n",
       "      <td>-1.5296</td>\n",
       "      <td>98103</td>\n",
       "      <td>-0.5731</td>\n",
       "      <td>-1.8316</td>\n",
       "    </tr>\n",
       "    <tr>\n",
       "      <th>21592</th>\n",
       "      <td>0.4362</td>\n",
       "      <td>-0.4751</td>\n",
       "      <td>-5.1993</td>\n",
       "      <td>-2.1831</td>\n",
       "      <td>98146</td>\n",
       "      <td>-0.0125</td>\n",
       "      <td>-0.1664</td>\n",
       "    </tr>\n",
       "    <tr>\n",
       "      <th>21593</th>\n",
       "      <td>-1.4285</td>\n",
       "      <td>-1.8373</td>\n",
       "      <td>-5.1993</td>\n",
       "      <td>-1.5296</td>\n",
       "      <td>98144</td>\n",
       "      <td>-2.0431</td>\n",
       "      <td>-1.6441</td>\n",
       "    </tr>\n",
       "    <tr>\n",
       "      <th>21594</th>\n",
       "      <td>-0.4061</td>\n",
       "      <td>-1.5155</td>\n",
       "      <td>-5.1993</td>\n",
       "      <td>-1.0083</td>\n",
       "      <td>98027</td>\n",
       "      <td>-0.8625</td>\n",
       "      <td>-2.0680</td>\n",
       "    </tr>\n",
       "    <tr>\n",
       "      <th>21595</th>\n",
       "      <td>-1.4285</td>\n",
       "      <td>-2.2208</td>\n",
       "      <td>-5.1993</td>\n",
       "      <td>-1.4285</td>\n",
       "      <td>98144</td>\n",
       "      <td>-2.0431</td>\n",
       "      <td>-1.9548</td>\n",
       "    </tr>\n",
       "  </tbody>\n",
       "</table>\n",
       "<p>21596 rows × 7 columns</p>\n",
       "</div>"
      ],
      "text/plain": [
       "       sqft_living  sqft_lot  sqft_basement  age_build  zipcode  \\\n",
       "0          -1.1094   -0.5178        -5.1993     0.5496    98178   \n",
       "1           0.6943   -0.1155         0.4921     0.6895    98125   \n",
       "2          -2.1317    0.5628        -5.1993     1.1187    98028   \n",
       "3           0.0515   -0.7185         1.1895     0.2471    98136   \n",
       "4          -0.2940    0.1280        -5.1993    -0.3682    98074   \n",
       "...            ...       ...            ...        ...      ...   \n",
       "21591      -0.5092   -2.1322        -5.1993    -1.5296    98103   \n",
       "21592       0.4362   -0.4751        -5.1993    -2.1831    98146   \n",
       "21593      -1.4285   -1.8373        -5.1993    -1.5296    98144   \n",
       "21594      -0.4061   -1.5155        -5.1993    -1.0083    98027   \n",
       "21595      -1.4285   -2.2208        -5.1993    -1.4285    98144   \n",
       "\n",
       "       sqft_living15  sqft_lot15  \n",
       "0            -1.0379     -0.5181  \n",
       "1            -0.2471      0.0075  \n",
       "2             1.0641      0.1541  \n",
       "3            -0.9856     -0.7447  \n",
       "4            -0.0628     -0.0404  \n",
       "...              ...         ...  \n",
       "21591        -0.5731     -1.8316  \n",
       "21592        -0.0125     -0.1664  \n",
       "21593        -2.0431     -1.6441  \n",
       "21594        -0.8625     -2.0680  \n",
       "21595        -2.0431     -1.9548  \n",
       "\n",
       "[21596 rows x 7 columns]"
      ]
     },
     "execution_count": 69,
     "metadata": {},
     "output_type": "execute_result"
    }
   ],
   "source": [
    "X=X._get_numeric_data()\n",
    "X"
   ]
  },
  {
   "cell_type": "markdown",
   "id": "d45e6a03",
   "metadata": {},
   "source": [
    "#### Data Splitting"
   ]
  },
  {
   "cell_type": "code",
   "execution_count": 70,
   "id": "ce28fc50",
   "metadata": {},
   "outputs": [],
   "source": [
    "X_train, X_test, y_train, y_test=train_test_split(X, y, test_size=.30,random_state=123)"
   ]
  },
  {
   "cell_type": "markdown",
   "id": "ceccae8c",
   "metadata": {},
   "source": [
    "#### Standardize"
   ]
  },
  {
   "cell_type": "code",
   "execution_count": 71,
   "id": "25c0f764",
   "metadata": {},
   "outputs": [],
   "source": [
    "std_scaler = StandardScaler().fit(X_train) \n",
    "\n",
    "X_train_scaled = std_scaler.transform(X_train)"
   ]
  },
  {
   "cell_type": "code",
   "execution_count": 72,
   "id": "7f0104b2",
   "metadata": {},
   "outputs": [],
   "source": [
    "X_test_scaled=std_scaler.transform(X_test)"
   ]
  },
  {
   "cell_type": "code",
   "execution_count": 73,
   "id": "6cf85e7e",
   "metadata": {},
   "outputs": [
    {
     "name": "stdout",
     "output_type": "stream",
     "text": [
      "[[-0.71707153  0.41865299 -0.80398269 ...  0.52695717 -0.41855798\n",
      "   0.27814248]\n",
      " [ 0.54640315  0.37730395 -0.80398269 ... -1.39808504 -0.88431417\n",
      "  -0.16690314]\n",
      " [ 0.1867116   0.81873396  1.26869464 ... -0.07111419  0.37987618\n",
      "   0.9915377 ]\n",
      " ...\n",
      " [-0.16726225 -0.08728358 -0.80398269 ... -0.74394448 -0.6149564\n",
      "   0.0020762 ]\n",
      " [ 0.00642335  0.49158368  1.15376161 ... -0.8747726  -0.64090562\n",
      "   0.51783934]\n",
      " [-0.82856292 -1.80782357  1.02941601 ...  0.71385448 -0.45577345\n",
      "  -0.81851476]]\n",
      "--------\n",
      "[[ 0.71975034  0.3302575  -0.80398269 ... -0.37014988  0.88311427\n",
      "   0.34810092]\n",
      " [-0.58388885 -1.82944958  1.02323993 ...  1.08764908 -0.52357866\n",
      "  -1.96006164]\n",
      " [-0.50968445 -2.37422485  0.99591801 ...  0.47088798 -0.57161943\n",
      "  -2.07731091]\n",
      " ...\n",
      " [-1.4278584   0.08286582 -0.80398269 ...  0.52695717 -2.11501665\n",
      "  -0.18381468]\n",
      " [-0.21703882 -0.09885053  1.19704374 ...  1.68572045 -0.16316295\n",
      "  -0.01723105]\n",
      " [ 1.42220091 -0.30117319  1.34689479 ...  1.08764908 -0.14795428\n",
      "  -0.29942452]]\n"
     ]
    }
   ],
   "source": [
    "print(X_train_scaled)\n",
    "print(\"--------\")\n",
    "print(X_test_scaled)"
   ]
  },
  {
   "cell_type": "code",
   "execution_count": 74,
   "id": "fee240a6",
   "metadata": {},
   "outputs": [
    {
     "name": "stdout",
     "output_type": "stream",
     "text": [
      "                            OLS Regression Results                            \n",
      "==============================================================================\n",
      "Dep. Variable:                  price   R-squared:                       0.432\n",
      "Model:                            OLS   Adj. R-squared:                  0.432\n",
      "Method:                 Least Squares   F-statistic:                     1641.\n",
      "Date:                Tue, 08 Feb 2022   Prob (F-statistic):               0.00\n",
      "Time:                        18:28:20   Log-Likelihood:            -2.1079e+05\n",
      "No. Observations:               15117   AIC:                         4.216e+05\n",
      "Df Residuals:                   15109   BIC:                         4.217e+05\n",
      "Df Model:                           7                                         \n",
      "Covariance Type:            nonrobust                                         \n",
      "==============================================================================\n",
      "                 coef    std err          t      P>|t|      [0.025      0.975]\n",
      "------------------------------------------------------------------------------\n",
      "const       5.391e+05   2238.648    240.813      0.000    5.35e+05    5.43e+05\n",
      "x1           1.96e+05   3691.405     53.095      0.000    1.89e+05    2.03e+05\n",
      "x2         -3.047e+04   6041.117     -5.043      0.000   -4.23e+04   -1.86e+04\n",
      "x3          3120.7203   2485.231      1.256      0.209   -1750.632    7992.073\n",
      "x4          6.423e+04   2620.331     24.514      0.000    5.91e+04    6.94e+04\n",
      "x5          1.525e+04   2522.171      6.048      0.000    1.03e+04    2.02e+04\n",
      "x6          8.817e+04   3519.612     25.050      0.000    8.13e+04    9.51e+04\n",
      "x7         -9691.2936   5968.452     -1.624      0.104   -2.14e+04    2007.595\n",
      "==============================================================================\n",
      "Omnibus:                    13766.122   Durbin-Watson:                   1.997\n",
      "Prob(Omnibus):                  0.000   Jarque-Bera (JB):          1148599.474\n",
      "Skew:                           4.080   Prob(JB):                         0.00\n",
      "Kurtosis:                      44.916   Cond. No.                         6.21\n",
      "==============================================================================\n",
      "\n",
      "Notes:\n",
      "[1] Standard Errors assume that the covariance matrix of the errors is correctly specified.\n"
     ]
    }
   ],
   "source": [
    "X_train_const_scaled = sm.add_constant(X_train_scaled) # adding a constant\n",
    "\n",
    "model = sm.OLS(y_train, X_train_const_scaled).fit()\n",
    "predictions_train = model.predict(X_train_const_scaled) \n",
    "\n",
    "X_test_const_scaled = sm.add_constant(X_test_scaled) # adding a constant\n",
    "predictions_test = model.predict(X_test_const_scaled) \n",
    "print_model = model.summary()\n",
    "print(print_model)"
   ]
  },
  {
   "cell_type": "markdown",
   "id": "194981a9",
   "metadata": {},
   "source": [
    "#### Model validation"
   ]
  },
  {
   "cell_type": "code",
   "execution_count": 75,
   "id": "12de5b3a",
   "metadata": {},
   "outputs": [
    {
     "data": {
      "text/plain": [
       "LinearRegression()"
      ]
     },
     "execution_count": 75,
     "metadata": {},
     "output_type": "execute_result"
    }
   ],
   "source": [
    "#using sklearn\n",
    "model=LinearRegression()    # model\n",
    "model.fit(X_train_scaled, y_train)   # model train"
   ]
  },
  {
   "cell_type": "code",
   "execution_count": 76,
   "id": "7be95e26",
   "metadata": {},
   "outputs": [
    {
     "data": {
      "text/plain": [
       "array([195996.84685439, -30465.11807035,   3120.72034292,  64234.55138289,\n",
       "        15253.26086292,  88165.5509155 ,  -9691.2935765 ])"
      ]
     },
     "execution_count": 76,
     "metadata": {},
     "output_type": "execute_result"
    }
   ],
   "source": [
    "model.coef_ #gives you per column the slope (alpha)"
   ]
  },
  {
   "cell_type": "code",
   "execution_count": 77,
   "id": "a7bc4bb0",
   "metadata": {},
   "outputs": [
    {
     "data": {
      "text/plain": [
       "539096.3280412784"
      ]
     },
     "execution_count": 77,
     "metadata": {},
     "output_type": "execute_result"
    }
   ],
   "source": [
    "model.intercept_ #gives the optimal slope"
   ]
  },
  {
   "cell_type": "code",
   "execution_count": 78,
   "id": "b67e9558",
   "metadata": {},
   "outputs": [
    {
     "data": {
      "text/plain": [
       "0.4170325348555409"
      ]
     },
     "execution_count": 78,
     "metadata": {},
     "output_type": "execute_result"
    }
   ],
   "source": [
    "R2_test = model.score(X_test_scaled,y_test) # measure R2\n",
    "R2_test"
   ]
  },
  {
   "cell_type": "code",
   "execution_count": 79,
   "id": "fc15a807",
   "metadata": {},
   "outputs": [
    {
     "data": {
      "text/plain": [
       "array([704208.29929444, 391542.87656257, 416906.42891374, ...,\n",
       "       128500.14678724, 534684.63327493, 800098.46222897])"
      ]
     },
     "execution_count": 79,
     "metadata": {},
     "output_type": "execute_result"
    }
   ],
   "source": [
    "# Making prediction\n",
    "y_pred = model.predict(X_test_scaled)\n",
    "y_pred"
   ]
  },
  {
   "cell_type": "code",
   "execution_count": 80,
   "id": "ebab9167",
   "metadata": {},
   "outputs": [
    {
     "data": {
      "text/plain": [
       "14863     392000\n",
       "2277      418000\n",
       "21578     520000\n",
       "18669    1050000\n",
       "21453     249000\n",
       "          ...   \n",
       "12811     291970\n",
       "12288     741000\n",
       "6556      269000\n",
       "16310     180000\n",
       "1050      850000\n",
       "Name: price, Length: 6479, dtype: int64"
      ]
     },
     "execution_count": 80,
     "metadata": {},
     "output_type": "execute_result"
    }
   ],
   "source": [
    "y_test"
   ]
  },
  {
   "cell_type": "code",
   "execution_count": 81,
   "id": "d19b1e97",
   "metadata": {},
   "outputs": [],
   "source": [
    "result=pd.DataFrame({\"y_test\":y_test,\"y_pred\":y_pred})"
   ]
  },
  {
   "cell_type": "code",
   "execution_count": 82,
   "id": "56a47e10",
   "metadata": {},
   "outputs": [
    {
     "data": {
      "text/plain": [
       "[<matplotlib.lines.Line2D at 0x7f8bc542b2e0>]"
      ]
     },
     "execution_count": 82,
     "metadata": {},
     "output_type": "execute_result"
    },
    {
     "data": {
      "image/png": "[encoded data removed]",
      "text/plain": [
       "<Figure size 1008x288 with 3 Axes>"
      ]
     },
     "metadata": {
      "needs_background": "light"
     },
     "output_type": "display_data"
    }
   ],
   "source": [
    "# Make an scatter plot y_pred vs y\n",
    "# What kind of plot you will get if all the all the predictions are ok?\n",
    "# A stright line\n",
    "\n",
    "fig, ax = plt.subplots(1,3,figsize=(14,4))\n",
    "ax[0].plot(y_pred, y_test, 'o')\n",
    "ax[0].set_xlabel(\"y_test\")\n",
    "ax[0].set_ylabel(\"y_pred\")\n",
    "ax[0].set_title(\"Test Set -Predicted vs real\")\n",
    "\n",
    "# Get a histogram of the residuals ie: y - y_pred.  Homoscdasticity\n",
    "# It resembles a normal distribution?\n",
    "ax[1].hist(y_test - y_pred)\n",
    "ax[1].set_xlabel(\"Test y-y_pred\")\n",
    "ax[1].set_title(\"Test Set Residual histogram\")\n",
    "\n",
    "ax[2].plot(y_pred,y_test - y_pred,\"o\")\n",
    "ax[2].set_xlabel(\"predited\")\n",
    "ax[2].set_ylabel(\"residuals\")\n",
    "ax[2].set_title(\"Residuals by Predicted\")\n",
    "ax[2].plot(y_pred,np.zeros(len(y_pred)),linestyle='dashed')"
   ]
  },
  {
   "cell_type": "code",
   "execution_count": 83,
   "id": "e3109aee",
   "metadata": {},
   "outputs": [
    {
     "data": {
      "text/plain": [
       "<AxesSubplot:xlabel='y_pred', ylabel='y_test'>"
      ]
     },
     "execution_count": 83,
     "metadata": {},
     "output_type": "execute_result"
    },
    {
     "data": {
      "image/png": "[encoded data removed]",
      "text/plain": [
       "<Figure size 432x288 with 1 Axes>"
      ]
     },
     "metadata": {
      "needs_background": "light"
     },
     "output_type": "display_data"
    }
   ],
   "source": [
    "sns.regplot(x='y_pred',y='y_test', data=result, scatter_kws={\"color\": \"red\"}, line_kws={\"color\": \"black\"})"
   ]
  },
  {
   "cell_type": "markdown",
   "id": "662da136",
   "metadata": {},
   "source": [
    "#### Error metrics"
   ]
  },
  {
   "cell_type": "code",
   "execution_count": 84,
   "id": "4f21d209",
   "metadata": {},
   "outputs": [
    {
     "name": "stdout",
     "output_type": "stream",
     "text": [
      "80966200252.52847\n",
      "175514.32905277517\n"
     ]
    }
   ],
   "source": [
    "print(mse(y_test,y_pred))\n",
    "print(mae(y_test,y_pred))"
   ]
  },
  {
   "cell_type": "markdown",
   "id": "6fb1364a",
   "metadata": {},
   "source": [
    "#### Features Importance"
   ]
  },
  {
   "cell_type": "code",
   "execution_count": 85,
   "id": "0f999929",
   "metadata": {},
   "outputs": [
    {
     "data": {
      "text/html": [
       "<div>\n",
       "<style scoped>\n",
       "    .dataframe tbody tr th:only-of-type {\n",
       "        vertical-align: middle;\n",
       "    }\n",
       "\n",
       "    .dataframe tbody tr th {\n",
       "        vertical-align: top;\n",
       "    }\n",
       "\n",
       "    .dataframe thead th {\n",
       "        text-align: right;\n",
       "    }\n",
       "</style>\n",
       "<table border=\"1\" class=\"dataframe\">\n",
       "  <thead>\n",
       "    <tr style=\"text-align: right;\">\n",
       "      <th></th>\n",
       "      <th>Attribute</th>\n",
       "      <th>Importance</th>\n",
       "    </tr>\n",
       "  </thead>\n",
       "  <tbody>\n",
       "    <tr>\n",
       "      <th>0</th>\n",
       "      <td>sqft_living</td>\n",
       "      <td>195996.8469</td>\n",
       "    </tr>\n",
       "    <tr>\n",
       "      <th>5</th>\n",
       "      <td>sqft_living15</td>\n",
       "      <td>88165.5509</td>\n",
       "    </tr>\n",
       "    <tr>\n",
       "      <th>3</th>\n",
       "      <td>age_build</td>\n",
       "      <td>64234.5514</td>\n",
       "    </tr>\n",
       "    <tr>\n",
       "      <th>1</th>\n",
       "      <td>sqft_lot</td>\n",
       "      <td>30465.1181</td>\n",
       "    </tr>\n",
       "    <tr>\n",
       "      <th>4</th>\n",
       "      <td>zipcode</td>\n",
       "      <td>15253.2609</td>\n",
       "    </tr>\n",
       "    <tr>\n",
       "      <th>6</th>\n",
       "      <td>sqft_lot15</td>\n",
       "      <td>9691.2936</td>\n",
       "    </tr>\n",
       "    <tr>\n",
       "      <th>2</th>\n",
       "      <td>sqft_basement</td>\n",
       "      <td>3120.7203</td>\n",
       "    </tr>\n",
       "  </tbody>\n",
       "</table>\n",
       "</div>"
      ],
      "text/plain": [
       "       Attribute  Importance\n",
       "0    sqft_living 195996.8469\n",
       "5  sqft_living15  88165.5509\n",
       "3      age_build  64234.5514\n",
       "1       sqft_lot  30465.1181\n",
       "4        zipcode  15253.2609\n",
       "6     sqft_lot15   9691.2936\n",
       "2  sqft_basement   3120.7203"
      ]
     },
     "execution_count": 85,
     "metadata": {},
     "output_type": "execute_result"
    }
   ],
   "source": [
    "features_importances = pd.DataFrame(data={\n",
    "    'Attribute': X_train.columns,\n",
    "    'Importance': abs(model.coef_)\n",
    "})\n",
    "features_importances = features_importances.sort_values(by='Importance', ascending=False)\n",
    "features_importances"
   ]
  },
  {
   "cell_type": "markdown",
   "id": "394840f2",
   "metadata": {},
   "source": [
    "we can notice that the sqft_living and living 15 are the most relevant together with zipcode"
   ]
  },
  {
   "cell_type": "code",
   "execution_count": null,
   "id": "7b3ac61c",
   "metadata": {},
   "outputs": [],
   "source": []
  },
  {
   "cell_type": "markdown",
   "id": "6a94d88d",
   "metadata": {},
   "source": [
    "## Trial 2: Numerical and categorical (with transformed zipcode) "
   ]
  },
  {
   "cell_type": "markdown",
   "id": "2d17ebfa",
   "metadata": {},
   "source": [
    "### Transform zipcode"
   ]
  },
  {
   "cell_type": "code",
   "execution_count": 86,
   "id": "5e04941a",
   "metadata": {},
   "outputs": [
    {
     "data": {
      "text/plain": [
       "zipcode\n",
       "98039   2161300.0000\n",
       "98004   1356523.9905\n",
       "98040   1194873.6383\n",
       "98112   1096239.0074\n",
       "98102    899607.6731\n",
       "            ...     \n",
       "98148    284908.5965\n",
       "98001    281194.8698\n",
       "98032    251296.2400\n",
       "98168    240328.3717\n",
       "98002    234284.0352\n",
       "Name: price, Length: 70, dtype: float64"
      ]
     },
     "execution_count": 86,
     "metadata": {},
     "output_type": "execute_result"
    }
   ],
   "source": [
    "price_zip_mean = df.groupby(['zipcode'])['price'].mean()\n",
    "price_zip_mean.sort_values(ascending=False)"
   ]
  },
  {
   "cell_type": "code",
   "execution_count": 87,
   "id": "c64a8c60",
   "metadata": {},
   "outputs": [
    {
     "data": {
      "text/html": [
       "<div>\n",
       "<style scoped>\n",
       "    .dataframe tbody tr th:only-of-type {\n",
       "        vertical-align: middle;\n",
       "    }\n",
       "\n",
       "    .dataframe tbody tr th {\n",
       "        vertical-align: top;\n",
       "    }\n",
       "\n",
       "    .dataframe thead th {\n",
       "        text-align: right;\n",
       "    }\n",
       "</style>\n",
       "<table border=\"1\" class=\"dataframe\">\n",
       "  <thead>\n",
       "    <tr style=\"text-align: right;\">\n",
       "      <th></th>\n",
       "      <th>zipcode</th>\n",
       "      <th>price</th>\n",
       "    </tr>\n",
       "  </thead>\n",
       "  <tbody>\n",
       "    <tr>\n",
       "      <th>0</th>\n",
       "      <td>98039</td>\n",
       "      <td>2161300.0000</td>\n",
       "    </tr>\n",
       "    <tr>\n",
       "      <th>1</th>\n",
       "      <td>98004</td>\n",
       "      <td>1356523.9905</td>\n",
       "    </tr>\n",
       "    <tr>\n",
       "      <th>2</th>\n",
       "      <td>98040</td>\n",
       "      <td>1194873.6383</td>\n",
       "    </tr>\n",
       "    <tr>\n",
       "      <th>3</th>\n",
       "      <td>98112</td>\n",
       "      <td>1096239.0074</td>\n",
       "    </tr>\n",
       "    <tr>\n",
       "      <th>4</th>\n",
       "      <td>98102</td>\n",
       "      <td>899607.6731</td>\n",
       "    </tr>\n",
       "    <tr>\n",
       "      <th>...</th>\n",
       "      <td>...</td>\n",
       "      <td>...</td>\n",
       "    </tr>\n",
       "    <tr>\n",
       "      <th>65</th>\n",
       "      <td>98148</td>\n",
       "      <td>284908.5965</td>\n",
       "    </tr>\n",
       "    <tr>\n",
       "      <th>66</th>\n",
       "      <td>98001</td>\n",
       "      <td>281194.8698</td>\n",
       "    </tr>\n",
       "    <tr>\n",
       "      <th>67</th>\n",
       "      <td>98032</td>\n",
       "      <td>251296.2400</td>\n",
       "    </tr>\n",
       "    <tr>\n",
       "      <th>68</th>\n",
       "      <td>98168</td>\n",
       "      <td>240328.3717</td>\n",
       "    </tr>\n",
       "    <tr>\n",
       "      <th>69</th>\n",
       "      <td>98002</td>\n",
       "      <td>234284.0352</td>\n",
       "    </tr>\n",
       "  </tbody>\n",
       "</table>\n",
       "<p>70 rows × 2 columns</p>\n",
       "</div>"
      ],
      "text/plain": [
       "    zipcode        price\n",
       "0     98039 2161300.0000\n",
       "1     98004 1356523.9905\n",
       "2     98040 1194873.6383\n",
       "3     98112 1096239.0074\n",
       "4     98102  899607.6731\n",
       "..      ...          ...\n",
       "65    98148  284908.5965\n",
       "66    98001  281194.8698\n",
       "67    98032  251296.2400\n",
       "68    98168  240328.3717\n",
       "69    98002  234284.0352\n",
       "\n",
       "[70 rows x 2 columns]"
      ]
     },
     "execution_count": 87,
     "metadata": {},
     "output_type": "execute_result"
    }
   ],
   "source": [
    "price_zip = df.groupby(['zipcode'])['price'].mean()\n",
    "pz = price_zip.sort_values(ascending=False).reset_index()\n",
    "pz"
   ]
  },
  {
   "cell_type": "code",
   "execution_count": 88,
   "id": "c60f15a8",
   "metadata": {},
   "outputs": [],
   "source": [
    "Q1 = np.percentile(pz['price'], 25)\n",
    "Q2 = np.percentile(pz['price'], 50)\n",
    "Q3 = np.percentile(pz['price'], 75)\n",
    "Q4 = np.percentile(pz['price'], 100)"
   ]
  },
  {
   "cell_type": "code",
   "execution_count": 89,
   "id": "875f789f",
   "metadata": {},
   "outputs": [],
   "source": [
    "pz['quantile_zip'] = \"1\"\n",
    "pz['quantile_zip'] = np.where(pz['price'] >= Q1, \"2\", pz['quantile_zip'])\n",
    "pz['quantile_zip'] = np.where(pz['price'] >= Q2, \"3\", pz['quantile_zip'])\n",
    "pz['quantile_zip'] = np.where(pz['price'] >= Q3, \"4\", pz['quantile_zip'])"
   ]
  },
  {
   "cell_type": "code",
   "execution_count": 90,
   "id": "fe655024",
   "metadata": {},
   "outputs": [],
   "source": [
    "df = pd.merge(df, pz[['zipcode', 'quantile_zip']], on='zipcode', how='inner')"
   ]
  },
  {
   "cell_type": "code",
   "execution_count": 91,
   "id": "80500952",
   "metadata": {},
   "outputs": [
    {
     "data": {
      "text/html": [
       "<div>\n",
       "<style scoped>\n",
       "    .dataframe tbody tr th:only-of-type {\n",
       "        vertical-align: middle;\n",
       "    }\n",
       "\n",
       "    .dataframe tbody tr th {\n",
       "        vertical-align: top;\n",
       "    }\n",
       "\n",
       "    .dataframe thead th {\n",
       "        text-align: right;\n",
       "    }\n",
       "</style>\n",
       "<table border=\"1\" class=\"dataframe\">\n",
       "  <thead>\n",
       "    <tr style=\"text-align: right;\">\n",
       "      <th></th>\n",
       "      <th>date</th>\n",
       "      <th>bedrooms</th>\n",
       "      <th>bathrooms</th>\n",
       "      <th>sqft_living</th>\n",
       "      <th>sqft_lot</th>\n",
       "      <th>floors</th>\n",
       "      <th>waterfront</th>\n",
       "      <th>view</th>\n",
       "      <th>condition</th>\n",
       "      <th>grade</th>\n",
       "      <th>sqft_above</th>\n",
       "      <th>sqft_basement</th>\n",
       "      <th>age_build</th>\n",
       "      <th>yr_renovated</th>\n",
       "      <th>zipcode</th>\n",
       "      <th>sqft_living15</th>\n",
       "      <th>sqft_lot15</th>\n",
       "      <th>price</th>\n",
       "      <th>quantile_zip</th>\n",
       "    </tr>\n",
       "  </thead>\n",
       "  <tbody>\n",
       "    <tr>\n",
       "      <th>0</th>\n",
       "      <td>2014-10-13</td>\n",
       "      <td>3</td>\n",
       "      <td>1.0000</td>\n",
       "      <td>1180</td>\n",
       "      <td>5650</td>\n",
       "      <td>1.0000</td>\n",
       "      <td>0</td>\n",
       "      <td>0</td>\n",
       "      <td>3</td>\n",
       "      <td>7</td>\n",
       "      <td>1180</td>\n",
       "      <td>0</td>\n",
       "      <td>60</td>\n",
       "      <td>0</td>\n",
       "      <td>98178</td>\n",
       "      <td>1340</td>\n",
       "      <td>5650</td>\n",
       "      <td>221900</td>\n",
       "      <td>1</td>\n",
       "    </tr>\n",
       "    <tr>\n",
       "      <th>1</th>\n",
       "      <td>2014-06-23</td>\n",
       "      <td>2</td>\n",
       "      <td>1.0000</td>\n",
       "      <td>880</td>\n",
       "      <td>6780</td>\n",
       "      <td>1.0000</td>\n",
       "      <td>0</td>\n",
       "      <td>0</td>\n",
       "      <td>4</td>\n",
       "      <td>6</td>\n",
       "      <td>880</td>\n",
       "      <td>0</td>\n",
       "      <td>70</td>\n",
       "      <td>0</td>\n",
       "      <td>98178</td>\n",
       "      <td>1190</td>\n",
       "      <td>6780</td>\n",
       "      <td>205425</td>\n",
       "      <td>1</td>\n",
       "    </tr>\n",
       "    <tr>\n",
       "      <th>2</th>\n",
       "      <td>2014-07-17</td>\n",
       "      <td>3</td>\n",
       "      <td>2.2500</td>\n",
       "      <td>2100</td>\n",
       "      <td>8201</td>\n",
       "      <td>1.0000</td>\n",
       "      <td>0</td>\n",
       "      <td>2</td>\n",
       "      <td>3</td>\n",
       "      <td>8</td>\n",
       "      <td>1620</td>\n",
       "      <td>480</td>\n",
       "      <td>48</td>\n",
       "      <td>0</td>\n",
       "      <td>98178</td>\n",
       "      <td>2660</td>\n",
       "      <td>8712</td>\n",
       "      <td>445000</td>\n",
       "      <td>1</td>\n",
       "    </tr>\n",
       "    <tr>\n",
       "      <th>3</th>\n",
       "      <td>2014-09-25</td>\n",
       "      <td>3</td>\n",
       "      <td>1.0000</td>\n",
       "      <td>1300</td>\n",
       "      <td>5898</td>\n",
       "      <td>1.0000</td>\n",
       "      <td>0</td>\n",
       "      <td>0</td>\n",
       "      <td>3</td>\n",
       "      <td>7</td>\n",
       "      <td>1300</td>\n",
       "      <td>0</td>\n",
       "      <td>54</td>\n",
       "      <td>0</td>\n",
       "      <td>98178</td>\n",
       "      <td>1320</td>\n",
       "      <td>7619</td>\n",
       "      <td>236000</td>\n",
       "      <td>1</td>\n",
       "    </tr>\n",
       "    <tr>\n",
       "      <th>4</th>\n",
       "      <td>2015-02-27</td>\n",
       "      <td>2</td>\n",
       "      <td>1.0000</td>\n",
       "      <td>860</td>\n",
       "      <td>5265</td>\n",
       "      <td>1.0000</td>\n",
       "      <td>0</td>\n",
       "      <td>0</td>\n",
       "      <td>3</td>\n",
       "      <td>6</td>\n",
       "      <td>860</td>\n",
       "      <td>0</td>\n",
       "      <td>84</td>\n",
       "      <td>0</td>\n",
       "      <td>98178</td>\n",
       "      <td>1650</td>\n",
       "      <td>8775</td>\n",
       "      <td>170000</td>\n",
       "      <td>1</td>\n",
       "    </tr>\n",
       "    <tr>\n",
       "      <th>...</th>\n",
       "      <td>...</td>\n",
       "      <td>...</td>\n",
       "      <td>...</td>\n",
       "      <td>...</td>\n",
       "      <td>...</td>\n",
       "      <td>...</td>\n",
       "      <td>...</td>\n",
       "      <td>...</td>\n",
       "      <td>...</td>\n",
       "      <td>...</td>\n",
       "      <td>...</td>\n",
       "      <td>...</td>\n",
       "      <td>...</td>\n",
       "      <td>...</td>\n",
       "      <td>...</td>\n",
       "      <td>...</td>\n",
       "      <td>...</td>\n",
       "      <td>...</td>\n",
       "      <td>...</td>\n",
       "    </tr>\n",
       "    <tr>\n",
       "      <th>21591</th>\n",
       "      <td>2014-10-03</td>\n",
       "      <td>4</td>\n",
       "      <td>3.2500</td>\n",
       "      <td>3990</td>\n",
       "      <td>18115</td>\n",
       "      <td>2.0000</td>\n",
       "      <td>0</td>\n",
       "      <td>0</td>\n",
       "      <td>4</td>\n",
       "      <td>11</td>\n",
       "      <td>3990</td>\n",
       "      <td>0</td>\n",
       "      <td>26</td>\n",
       "      <td>0</td>\n",
       "      <td>98039</td>\n",
       "      <td>3450</td>\n",
       "      <td>16087</td>\n",
       "      <td>2720000</td>\n",
       "      <td>4</td>\n",
       "    </tr>\n",
       "    <tr>\n",
       "      <th>21592</th>\n",
       "      <td>2014-07-25</td>\n",
       "      <td>4</td>\n",
       "      <td>3.5000</td>\n",
       "      <td>4065</td>\n",
       "      <td>18713</td>\n",
       "      <td>2.0000</td>\n",
       "      <td>0</td>\n",
       "      <td>0</td>\n",
       "      <td>4</td>\n",
       "      <td>10</td>\n",
       "      <td>4065</td>\n",
       "      <td>0</td>\n",
       "      <td>28</td>\n",
       "      <td>0</td>\n",
       "      <td>98039</td>\n",
       "      <td>3070</td>\n",
       "      <td>18713</td>\n",
       "      <td>1950000</td>\n",
       "      <td>4</td>\n",
       "    </tr>\n",
       "    <tr>\n",
       "      <th>21593</th>\n",
       "      <td>2015-04-21</td>\n",
       "      <td>5</td>\n",
       "      <td>5.2500</td>\n",
       "      <td>3410</td>\n",
       "      <td>8118</td>\n",
       "      <td>2.0000</td>\n",
       "      <td>0</td>\n",
       "      <td>0</td>\n",
       "      <td>3</td>\n",
       "      <td>11</td>\n",
       "      <td>3410</td>\n",
       "      <td>0</td>\n",
       "      <td>9</td>\n",
       "      <td>0</td>\n",
       "      <td>98039</td>\n",
       "      <td>3410</td>\n",
       "      <td>16236</td>\n",
       "      <td>2250000</td>\n",
       "      <td>4</td>\n",
       "    </tr>\n",
       "    <tr>\n",
       "      <th>21594</th>\n",
       "      <td>2014-11-13</td>\n",
       "      <td>5</td>\n",
       "      <td>4.0000</td>\n",
       "      <td>5190</td>\n",
       "      <td>14600</td>\n",
       "      <td>2.0000</td>\n",
       "      <td>0</td>\n",
       "      <td>1</td>\n",
       "      <td>3</td>\n",
       "      <td>11</td>\n",
       "      <td>5190</td>\n",
       "      <td>0</td>\n",
       "      <td>2</td>\n",
       "      <td>0</td>\n",
       "      <td>98039</td>\n",
       "      <td>3840</td>\n",
       "      <td>19250</td>\n",
       "      <td>2900000</td>\n",
       "      <td>4</td>\n",
       "    </tr>\n",
       "    <tr>\n",
       "      <th>21595</th>\n",
       "      <td>2015-02-27</td>\n",
       "      <td>4</td>\n",
       "      <td>3.7500</td>\n",
       "      <td>3790</td>\n",
       "      <td>8797</td>\n",
       "      <td>2.0000</td>\n",
       "      <td>0</td>\n",
       "      <td>0</td>\n",
       "      <td>3</td>\n",
       "      <td>11</td>\n",
       "      <td>3290</td>\n",
       "      <td>500</td>\n",
       "      <td>9</td>\n",
       "      <td>0</td>\n",
       "      <td>98039</td>\n",
       "      <td>2660</td>\n",
       "      <td>12150</td>\n",
       "      <td>1870000</td>\n",
       "      <td>4</td>\n",
       "    </tr>\n",
       "  </tbody>\n",
       "</table>\n",
       "<p>21596 rows × 19 columns</p>\n",
       "</div>"
      ],
      "text/plain": [
       "            date bedrooms bathrooms  sqft_living  sqft_lot floors waterfront  \\\n",
       "0     2014-10-13        3    1.0000         1180      5650 1.0000          0   \n",
       "1     2014-06-23        2    1.0000          880      6780 1.0000          0   \n",
       "2     2014-07-17        3    2.2500         2100      8201 1.0000          0   \n",
       "3     2014-09-25        3    1.0000         1300      5898 1.0000          0   \n",
       "4     2015-02-27        2    1.0000          860      5265 1.0000          0   \n",
       "...          ...      ...       ...          ...       ...    ...        ...   \n",
       "21591 2014-10-03        4    3.2500         3990     18115 2.0000          0   \n",
       "21592 2014-07-25        4    3.5000         4065     18713 2.0000          0   \n",
       "21593 2015-04-21        5    5.2500         3410      8118 2.0000          0   \n",
       "21594 2014-11-13        5    4.0000         5190     14600 2.0000          0   \n",
       "21595 2015-02-27        4    3.7500         3790      8797 2.0000          0   \n",
       "\n",
       "      view condition grade  sqft_above  sqft_basement  age_build yr_renovated  \\\n",
       "0        0         3     7        1180              0         60            0   \n",
       "1        0         4     6         880              0         70            0   \n",
       "2        2         3     8        1620            480         48            0   \n",
       "3        0         3     7        1300              0         54            0   \n",
       "4        0         3     6         860              0         84            0   \n",
       "...    ...       ...   ...         ...            ...        ...          ...   \n",
       "21591    0         4    11        3990              0         26            0   \n",
       "21592    0         4    10        4065              0         28            0   \n",
       "21593    0         3    11        3410              0          9            0   \n",
       "21594    1         3    11        5190              0          2            0   \n",
       "21595    0         3    11        3290            500          9            0   \n",
       "\n",
       "       zipcode  sqft_living15  sqft_lot15    price quantile_zip  \n",
       "0        98178           1340        5650   221900            1  \n",
       "1        98178           1190        6780   205425            1  \n",
       "2        98178           2660        8712   445000            1  \n",
       "3        98178           1320        7619   236000            1  \n",
       "4        98178           1650        8775   170000            1  \n",
       "...        ...            ...         ...      ...          ...  \n",
       "21591    98039           3450       16087  2720000            4  \n",
       "21592    98039           3070       18713  1950000            4  \n",
       "21593    98039           3410       16236  2250000            4  \n",
       "21594    98039           3840       19250  2900000            4  \n",
       "21595    98039           2660       12150  1870000            4  \n",
       "\n",
       "[21596 rows x 19 columns]"
      ]
     },
     "execution_count": 91,
     "metadata": {},
     "output_type": "execute_result"
    }
   ],
   "source": [
    "df"
   ]
  },
  {
   "cell_type": "code",
   "execution_count": null,
   "id": "5165e01b",
   "metadata": {},
   "outputs": [],
   "source": []
  },
  {
   "cell_type": "code",
   "execution_count": null,
   "id": "8e548c5d",
   "metadata": {},
   "outputs": [],
   "source": []
  },
  {
   "cell_type": "code",
   "execution_count": null,
   "id": "40d3d573",
   "metadata": {},
   "outputs": [],
   "source": []
  }
 ],
 "metadata": {
  "kernelspec": {
   "display_name": "Python 3 (ipykernel)",
   "language": "python",
   "name": "python3"
  },
  "language_info": {
   "codemirror_mode": {
    "name": "ipython",
    "version": 3
   },
   "file_extension": ".py",
   "mimetype": "text/x-python",
   "name": "python",
   "nbconvert_exporter": "python",
   "pygments_lexer": "ipython3",
   "version": "3.9.7"
  },
  "toc": {
   "base_numbering": 1,
   "nav_menu": {},
   "number_sections": true,
   "sideBar": true,
   "skip_h1_title": false,
   "title_cell": "Table of Contents",
   "title_sidebar": "Contents",
   "toc_cell": false,
   "toc_position": {},
   "toc_section_display": true,
   "toc_window_display": true
  }
 },
 "nbformat": 4,
 "nbformat_minor": 5
}
